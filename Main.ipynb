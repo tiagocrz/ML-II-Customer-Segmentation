{
 "cells": [
  {
   "cell_type": "markdown",
   "metadata": {},
   "source": [
    "# **Machine Learning II | Project**\n",
    "\n",
    "## Customer Segmentation\n",
    "<b> *[Short description]* </b>\n",
    "<p>\n",
    "\n",
    "*Group 8*\n",
    "\n",
    "*Group members* : Gonçalo Palhoto (20231639), João de Sousa (numero) and Tiago da Cruz (20231682).</p>"
   ]
  },
  {
   "cell_type": "markdown",
   "metadata": {},
   "source": [
    "### **Table of Contents** <a id='table_of_contents'></a>\n",
    "\n",
    "0. [Import libraries](#imports)\n",
    "1. [Import data](#import_data)\n",
    "2. [Data exploration](#data_exploration)\n",
    "3. [Data preprocessing](#data_preprocessing)\n",
    "6. [Feature engineering](#feature_engineering)"
   ]
  },
  {
   "cell_type": "markdown",
   "metadata": {},
   "source": [
    "# 0. Import libraries <a id='imports'></a>\n",
    "[Back to top](#table_of_contents)"
   ]
  },
  {
   "cell_type": "markdown",
   "metadata": {},
   "source": [
    "# 1. Import data <a id='import_data'></a>\n",
    "[Back to top](#table_of_contents)"
   ]
  },
  {
   "cell_type": "markdown",
   "metadata": {},
   "source": [
    "# 2. Data exploration <a id='data_exploration'></a>\n",
    "[Back to top](#table_of_contents)"
   ]
  },
  {
   "cell_type": "markdown",
   "metadata": {},
   "source": [
    "# 3. Data Preprocessing <a id='data_preprocessing'></a>\n",
    "[Back to top](#table_of_contents)"
   ]
  },
  {
   "cell_type": "markdown",
   "metadata": {},
   "source": [
    "# 4. Feature engineering <a id='feature_engineering'></a>\n",
    "[Back to top](#table_of_contents)"
   ]
  }
 ],
 "metadata": {
  "kernelspec": {
   "display_name": "ML_I",
   "language": "python",
   "name": "python3"
  },
  "language_info": {
   "codemirror_mode": {
    "name": "ipython",
    "version": 3
   },
   "file_extension": ".py",
   "mimetype": "text/x-python",
   "name": "python",
   "nbconvert_exporter": "python",
   "pygments_lexer": "ipython3",
   "version": "3.11.9"
  }
 },
 "nbformat": 4,
 "nbformat_minor": 2
}
