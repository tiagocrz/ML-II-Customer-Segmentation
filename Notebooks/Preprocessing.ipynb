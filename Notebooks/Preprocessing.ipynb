{
 "cells": [
  {
   "cell_type": "markdown",
   "id": "227700b6",
   "metadata": {
    "vscode": {
     "languageId": "plaintext"
    }
   },
   "source": [
    "# Preprocessing"
   ]
  },
  {
   "cell_type": "markdown",
   "id": "49ee2cf8",
   "metadata": {},
   "source": [
    "From EDA, we understood that:\n",
    "- We have duplicated rows on customer_basket\n",
    "- When the same items are bought in two different instances, these are attributed different invoices. Hence, invoice_id cannot be the index column\n",
    "- 32% have a missing loyalty_card_number (probably don't have one)\n",
    "- percentage_of_products_bought_promotion is a percentage with negative values\n",
    "#\n",
    "From EDA, we also noted that there are no really highly correlated values, hence nothing should be dropped."
   ]
  },
  {
   "cell_type": "code",
   "execution_count": 1,
   "id": "cb6eb3ef",
   "metadata": {},
   "outputs": [],
   "source": [
    "import numpy as np\n",
    "import pandas as pd\n",
    "from datetime import datetime # to get the current datetime\n",
    "\n",
    "import matplotlib.pyplot as plt # to make plots (histograms, etc...)\n",
    "import seaborn as sns\n",
    "import plotly.express as px\n",
    "import folium\n",
    "import branca.colormap as cm  # for color mapping based on data values\n",
    "\n",
    "import ast # transform the strings into a list\n",
    "\n",
    "from sklearn.preprocessing import RobustScaler\n",
    "from sklearn.impute import KNNImputer\n",
    "from sklearn.model_selection import train_test_split\n",
    "from sklearn.metrics import mean_squared_error\n",
    "from sklearn.neighbors import NearestNeighbors\n",
    "from kneed import KneeLocator # to automatically find the \"knee\" for the dbscan's parameter\n",
    "from sklearn.cluster import DBSCAN\n",
    "from sklearn.decomposition import PCA"
   ]
  },
  {
   "cell_type": "code",
   "execution_count": 2,
   "id": "19f843d4",
   "metadata": {},
   "outputs": [],
   "source": [
    "# Show all columns when displaying a DataFrame\n",
    "pd.set_option('display.max_columns', None)\n",
    "\n",
    "# Optional: Also show more rows if needed\n",
    "pd.set_option('display.max_rows', 100)\n",
    "\n",
    "# shows all columns\n",
    "pd.set_option(\"display.max_columns\", None)\n",
    "\n",
    "# prevents wrapping\n",
    "pd.set_option(\"display.width\", 1000)\n",
    "\n",
    "pd.set_option('display.max_colwidth', None)"
   ]
  },
  {
   "cell_type": "markdown",
   "id": "f9c80bff",
   "metadata": {},
   "source": [
    "### 1. Import and Preview Datasets ###"
   ]
  },
  {
   "cell_type": "code",
   "execution_count": 3,
   "id": "3ce0ff31",
   "metadata": {},
   "outputs": [],
   "source": [
    "customer_basket = pd.read_csv('../data/raw/customer_basket.csv')\n",
    "customer_info = pd.read_csv('../data/raw/customer_info.csv', index_col=[\"customer_id\"])\n",
    "\n",
    "customer_info = customer_info.drop(\"Unnamed: 0\", axis='columns')"
   ]
  },
  {
   "cell_type": "code",
   "execution_count": 4,
   "id": "542c58da",
   "metadata": {},
   "outputs": [
    {
     "data": {
      "text/html": [
       "<div>\n",
       "<style scoped>\n",
       "    .dataframe tbody tr th:only-of-type {\n",
       "        vertical-align: middle;\n",
       "    }\n",
       "\n",
       "    .dataframe tbody tr th {\n",
       "        vertical-align: top;\n",
       "    }\n",
       "\n",
       "    .dataframe thead th {\n",
       "        text-align: right;\n",
       "    }\n",
       "</style>\n",
       "<table border=\"1\" class=\"dataframe\">\n",
       "  <thead>\n",
       "    <tr style=\"text-align: right;\">\n",
       "      <th></th>\n",
       "      <th>invoice_id</th>\n",
       "      <th>list_of_goods</th>\n",
       "      <th>customer_id</th>\n",
       "    </tr>\n",
       "  </thead>\n",
       "  <tbody>\n",
       "    <tr>\n",
       "      <th>0</th>\n",
       "      <td>5062209</td>\n",
       "      <td>['megaman zero 3', 'energy bar', 'pokemon violet', 'airpods', 'fresh bread', 'pancakes', 'brownies', 'energy drink', 'champagne', 'red wine', 'bluetooth headphones', 'protein bar', 'metroid fusion']</td>\n",
       "      <td>4925</td>\n",
       "    </tr>\n",
       "    <tr>\n",
       "      <th>1</th>\n",
       "      <td>4272512</td>\n",
       "      <td>['black beer', 'bramble', 'laptop', 'pokemon violet', 'airpods', 'gadget for tiktok streaming', 'ring light', 'ratchet &amp; clank', 'pancakes', 'energy drink', 'gums', 'protein bar']</td>\n",
       "      <td>19046</td>\n",
       "    </tr>\n",
       "    <tr>\n",
       "      <th>2</th>\n",
       "      <td>7121052</td>\n",
       "      <td>['soup', 'shallot', 'cake', 'fresh bread', 'cream', 'carrots', 'babies food', 'ham', 'cookies', 'salad', 'tomato sauce', 'cooking oil', 'tea']</td>\n",
       "      <td>10318</td>\n",
       "    </tr>\n",
       "    <tr>\n",
       "      <th>3</th>\n",
       "      <td>5847748</td>\n",
       "      <td>['soup', 'cooking oil', 'cereals', 'oil', 'dog food', 'deodorant', 'tomatoes', 'yogurt cake', 'pet food', 'salmon', 'olive oil', 'fresh tuna', 'tea']</td>\n",
       "      <td>27283</td>\n",
       "    </tr>\n",
       "    <tr>\n",
       "      <th>4</th>\n",
       "      <td>6336114</td>\n",
       "      <td>['eggplant', 'mint green tea', 'oil', 'bacon', 'toilet paper', 'shrimp', 'brownies', 'pancakes', 'champagne', 'spinach', 'cologne', 'chicken', 'barbecue sauce', 'fresh tuna']</td>\n",
       "      <td>16072</td>\n",
       "    </tr>\n",
       "  </tbody>\n",
       "</table>\n",
       "</div>"
      ],
      "text/plain": [
       "   invoice_id                                                                                                                                                                                           list_of_goods  customer_id\n",
       "0     5062209  ['megaman zero 3', 'energy bar', 'pokemon violet', 'airpods', 'fresh bread', 'pancakes', 'brownies', 'energy drink', 'champagne', 'red wine', 'bluetooth headphones', 'protein bar', 'metroid fusion']         4925\n",
       "1     4272512                     ['black beer', 'bramble', 'laptop', 'pokemon violet', 'airpods', 'gadget for tiktok streaming', 'ring light', 'ratchet & clank', 'pancakes', 'energy drink', 'gums', 'protein bar']        19046\n",
       "2     7121052                                                          ['soup', 'shallot', 'cake', 'fresh bread', 'cream', 'carrots', 'babies food', 'ham', 'cookies', 'salad', 'tomato sauce', 'cooking oil', 'tea']        10318\n",
       "3     5847748                                                   ['soup', 'cooking oil', 'cereals', 'oil', 'dog food', 'deodorant', 'tomatoes', 'yogurt cake', 'pet food', 'salmon', 'olive oil', 'fresh tuna', 'tea']        27283\n",
       "4     6336114                          ['eggplant', 'mint green tea', 'oil', 'bacon', 'toilet paper', 'shrimp', 'brownies', 'pancakes', 'champagne', 'spinach', 'cologne', 'chicken', 'barbecue sauce', 'fresh tuna']        16072"
      ]
     },
     "execution_count": 4,
     "metadata": {},
     "output_type": "execute_result"
    }
   ],
   "source": [
    "customer_basket.head(5)"
   ]
  },
  {
   "cell_type": "code",
   "execution_count": 5,
   "id": "89f331f6",
   "metadata": {},
   "outputs": [
    {
     "data": {
      "text/html": [
       "<div>\n",
       "<style scoped>\n",
       "    .dataframe tbody tr th:only-of-type {\n",
       "        vertical-align: middle;\n",
       "    }\n",
       "\n",
       "    .dataframe tbody tr th {\n",
       "        vertical-align: top;\n",
       "    }\n",
       "\n",
       "    .dataframe thead th {\n",
       "        text-align: right;\n",
       "    }\n",
       "</style>\n",
       "<table border=\"1\" class=\"dataframe\">\n",
       "  <thead>\n",
       "    <tr style=\"text-align: right;\">\n",
       "      <th></th>\n",
       "      <th>customer_name</th>\n",
       "      <th>customer_gender</th>\n",
       "      <th>customer_birthdate</th>\n",
       "      <th>kids_home</th>\n",
       "      <th>teens_home</th>\n",
       "      <th>number_complaints</th>\n",
       "      <th>distinct_stores_visited</th>\n",
       "      <th>lifetime_spend_groceries</th>\n",
       "      <th>lifetime_spend_electronics</th>\n",
       "      <th>typical_hour</th>\n",
       "      <th>lifetime_spend_vegetables</th>\n",
       "      <th>lifetime_spend_nonalcohol_drinks</th>\n",
       "      <th>lifetime_spend_alcohol_drinks</th>\n",
       "      <th>lifetime_spend_meat</th>\n",
       "      <th>lifetime_spend_fish</th>\n",
       "      <th>lifetime_spend_hygiene</th>\n",
       "      <th>lifetime_spend_videogames</th>\n",
       "      <th>lifetime_spend_petfood</th>\n",
       "      <th>lifetime_total_distinct_products</th>\n",
       "      <th>percentage_of_products_bought_promotion</th>\n",
       "      <th>year_first_transaction</th>\n",
       "      <th>loyalty_card_number</th>\n",
       "      <th>latitude</th>\n",
       "      <th>longitude</th>\n",
       "    </tr>\n",
       "    <tr>\n",
       "      <th>customer_id</th>\n",
       "      <th></th>\n",
       "      <th></th>\n",
       "      <th></th>\n",
       "      <th></th>\n",
       "      <th></th>\n",
       "      <th></th>\n",
       "      <th></th>\n",
       "      <th></th>\n",
       "      <th></th>\n",
       "      <th></th>\n",
       "      <th></th>\n",
       "      <th></th>\n",
       "      <th></th>\n",
       "      <th></th>\n",
       "      <th></th>\n",
       "      <th></th>\n",
       "      <th></th>\n",
       "      <th></th>\n",
       "      <th></th>\n",
       "      <th></th>\n",
       "      <th></th>\n",
       "      <th></th>\n",
       "      <th></th>\n",
       "      <th></th>\n",
       "    </tr>\n",
       "  </thead>\n",
       "  <tbody>\n",
       "    <tr>\n",
       "      <th>29930</th>\n",
       "      <td>April Clark</td>\n",
       "      <td>female</td>\n",
       "      <td>01/15/1972 02:27 PM</td>\n",
       "      <td>2.0</td>\n",
       "      <td>2.0</td>\n",
       "      <td>1.0</td>\n",
       "      <td>4.0</td>\n",
       "      <td>7789.0</td>\n",
       "      <td>5601.0</td>\n",
       "      <td>13.0</td>\n",
       "      <td>726.0</td>\n",
       "      <td>962.0</td>\n",
       "      <td>1213.0</td>\n",
       "      <td>1598.0</td>\n",
       "      <td>1894.0</td>\n",
       "      <td>457.0</td>\n",
       "      <td>412.0</td>\n",
       "      <td>428.0</td>\n",
       "      <td>386.0</td>\n",
       "      <td>0.158741</td>\n",
       "      <td>2018.0</td>\n",
       "      <td>NaN</td>\n",
       "      <td>38.721807</td>\n",
       "      <td>-9.125534</td>\n",
       "    </tr>\n",
       "    <tr>\n",
       "      <th>6813</th>\n",
       "      <td>Bsc. Paul Ketchum</td>\n",
       "      <td>male</td>\n",
       "      <td>07/31/1944 10:53 AM</td>\n",
       "      <td>0.0</td>\n",
       "      <td>1.0</td>\n",
       "      <td>0.0</td>\n",
       "      <td>4.0</td>\n",
       "      <td>8653.0</td>\n",
       "      <td>35.0</td>\n",
       "      <td>14.0</td>\n",
       "      <td>792.0</td>\n",
       "      <td>102.0</td>\n",
       "      <td>104.0</td>\n",
       "      <td>741.0</td>\n",
       "      <td>346.0</td>\n",
       "      <td>394.0</td>\n",
       "      <td>75.0</td>\n",
       "      <td>226.0</td>\n",
       "      <td>73.0</td>\n",
       "      <td>1.227890</td>\n",
       "      <td>2013.0</td>\n",
       "      <td>971840.0</td>\n",
       "      <td>38.734668</td>\n",
       "      <td>-9.163533</td>\n",
       "    </tr>\n",
       "    <tr>\n",
       "      <th>39451</th>\n",
       "      <td>Mary Downing</td>\n",
       "      <td>female</td>\n",
       "      <td>11/13/1989 02:11 PM</td>\n",
       "      <td>2.0</td>\n",
       "      <td>3.0</td>\n",
       "      <td>0.0</td>\n",
       "      <td>7.0</td>\n",
       "      <td>15605.0</td>\n",
       "      <td>4275.0</td>\n",
       "      <td>14.0</td>\n",
       "      <td>1585.0</td>\n",
       "      <td>980.0</td>\n",
       "      <td>1872.0</td>\n",
       "      <td>1323.0</td>\n",
       "      <td>1971.0</td>\n",
       "      <td>920.0</td>\n",
       "      <td>335.0</td>\n",
       "      <td>192.0</td>\n",
       "      <td>319.0</td>\n",
       "      <td>0.101598</td>\n",
       "      <td>2011.0</td>\n",
       "      <td>NaN</td>\n",
       "      <td>38.787126</td>\n",
       "      <td>-9.147077</td>\n",
       "    </tr>\n",
       "    <tr>\n",
       "      <th>21557</th>\n",
       "      <td>Manuel Kueny</td>\n",
       "      <td>male</td>\n",
       "      <td>08/09/1976 06:23 AM</td>\n",
       "      <td>0.0</td>\n",
       "      <td>0.0</td>\n",
       "      <td>1.0</td>\n",
       "      <td>1.0</td>\n",
       "      <td>13440.0</td>\n",
       "      <td>16366.0</td>\n",
       "      <td>14.0</td>\n",
       "      <td>28.0</td>\n",
       "      <td>269.0</td>\n",
       "      <td>1855.0</td>\n",
       "      <td>939.0</td>\n",
       "      <td>785.0</td>\n",
       "      <td>139.0</td>\n",
       "      <td>679.0</td>\n",
       "      <td>270.0</td>\n",
       "      <td>221.0</td>\n",
       "      <td>0.259943</td>\n",
       "      <td>2009.0</td>\n",
       "      <td>NaN</td>\n",
       "      <td>38.741816</td>\n",
       "      <td>-9.159700</td>\n",
       "    </tr>\n",
       "    <tr>\n",
       "      <th>16415</th>\n",
       "      <td>Phd. Curtis Tharp</td>\n",
       "      <td>male</td>\n",
       "      <td>07/11/1966 08:12 AM</td>\n",
       "      <td>1.0</td>\n",
       "      <td>1.0</td>\n",
       "      <td>1.0</td>\n",
       "      <td>5.0</td>\n",
       "      <td>49250.0</td>\n",
       "      <td>3197.0</td>\n",
       "      <td>14.0</td>\n",
       "      <td>258.0</td>\n",
       "      <td>726.0</td>\n",
       "      <td>547.0</td>\n",
       "      <td>983.0</td>\n",
       "      <td>1492.0</td>\n",
       "      <td>1046.0</td>\n",
       "      <td>112.0</td>\n",
       "      <td>144.0</td>\n",
       "      <td>244.0</td>\n",
       "      <td>0.317822</td>\n",
       "      <td>2012.0</td>\n",
       "      <td>925367.0</td>\n",
       "      <td>38.785921</td>\n",
       "      <td>-9.149221</td>\n",
       "    </tr>\n",
       "  </tbody>\n",
       "</table>\n",
       "</div>"
      ],
      "text/plain": [
       "                 customer_name customer_gender   customer_birthdate  kids_home  teens_home  number_complaints  distinct_stores_visited  lifetime_spend_groceries  lifetime_spend_electronics  typical_hour  lifetime_spend_vegetables  lifetime_spend_nonalcohol_drinks  lifetime_spend_alcohol_drinks  lifetime_spend_meat  lifetime_spend_fish  lifetime_spend_hygiene  lifetime_spend_videogames  lifetime_spend_petfood  lifetime_total_distinct_products  percentage_of_products_bought_promotion  year_first_transaction  loyalty_card_number   latitude  longitude\n",
       "customer_id                                                                                                                                                                                                                                                                                                                                                                                                                                                                                                                                                              \n",
       "29930              April Clark          female  01/15/1972 02:27 PM        2.0         2.0                1.0                      4.0                    7789.0                      5601.0          13.0                      726.0                             962.0                         1213.0               1598.0               1894.0                   457.0                      412.0                   428.0                             386.0                                 0.158741                  2018.0                  NaN  38.721807  -9.125534\n",
       "6813         Bsc. Paul Ketchum            male  07/31/1944 10:53 AM        0.0         1.0                0.0                      4.0                    8653.0                        35.0          14.0                      792.0                             102.0                          104.0                741.0                346.0                   394.0                       75.0                   226.0                              73.0                                 1.227890                  2013.0             971840.0  38.734668  -9.163533\n",
       "39451             Mary Downing          female  11/13/1989 02:11 PM        2.0         3.0                0.0                      7.0                   15605.0                      4275.0          14.0                     1585.0                             980.0                         1872.0               1323.0               1971.0                   920.0                      335.0                   192.0                             319.0                                 0.101598                  2011.0                  NaN  38.787126  -9.147077\n",
       "21557             Manuel Kueny            male  08/09/1976 06:23 AM        0.0         0.0                1.0                      1.0                   13440.0                     16366.0          14.0                       28.0                             269.0                         1855.0                939.0                785.0                   139.0                      679.0                   270.0                             221.0                                 0.259943                  2009.0                  NaN  38.741816  -9.159700\n",
       "16415        Phd. Curtis Tharp            male  07/11/1966 08:12 AM        1.0         1.0                1.0                      5.0                   49250.0                      3197.0          14.0                      258.0                             726.0                          547.0                983.0               1492.0                  1046.0                      112.0                   144.0                             244.0                                 0.317822                  2012.0             925367.0  38.785921  -9.149221"
      ]
     },
     "execution_count": 5,
     "metadata": {},
     "output_type": "execute_result"
    }
   ],
   "source": [
    "customer_info.head(5)"
   ]
  },
  {
   "cell_type": "code",
   "execution_count": 6,
   "id": "b3d724ea",
   "metadata": {},
   "outputs": [
    {
     "name": "stdout",
     "output_type": "stream",
     "text": [
      "<class 'pandas.core.frame.DataFrame'>\n",
      "RangeIndex: 100000 entries, 0 to 99999\n",
      "Data columns (total 3 columns):\n",
      " #   Column         Non-Null Count   Dtype \n",
      "---  ------         --------------   ----- \n",
      " 0   invoice_id     100000 non-null  int64 \n",
      " 1   list_of_goods  100000 non-null  object\n",
      " 2   customer_id    100000 non-null  int64 \n",
      "dtypes: int64(2), object(1)\n",
      "memory usage: 2.3+ MB\n"
     ]
    }
   ],
   "source": [
    "customer_basket.info()"
   ]
  },
  {
   "cell_type": "code",
   "execution_count": 7,
   "id": "647ddaeb",
   "metadata": {},
   "outputs": [
    {
     "name": "stdout",
     "output_type": "stream",
     "text": [
      "<class 'pandas.core.frame.DataFrame'>\n",
      "Index: 34060 entries, 29930 to 22050\n",
      "Data columns (total 24 columns):\n",
      " #   Column                                   Non-Null Count  Dtype  \n",
      "---  ------                                   --------------  -----  \n",
      " 0   customer_name                            34060 non-null  object \n",
      " 1   customer_gender                          34060 non-null  object \n",
      " 2   customer_birthdate                       33719 non-null  object \n",
      " 3   kids_home                                33311 non-null  float64\n",
      " 4   teens_home                               33277 non-null  float64\n",
      " 5   number_complaints                        33038 non-null  float64\n",
      " 6   distinct_stores_visited                  33379 non-null  float64\n",
      " 7   lifetime_spend_groceries                 34060 non-null  float64\n",
      " 8   lifetime_spend_electronics               34060 non-null  float64\n",
      " 9   typical_hour                             32698 non-null  float64\n",
      " 10  lifetime_spend_vegetables                33038 non-null  float64\n",
      " 11  lifetime_spend_nonalcohol_drinks         34060 non-null  float64\n",
      " 12  lifetime_spend_alcohol_drinks            33379 non-null  float64\n",
      " 13  lifetime_spend_meat                      34060 non-null  float64\n",
      " 14  lifetime_spend_fish                      32357 non-null  float64\n",
      " 15  lifetime_spend_hygiene                   34060 non-null  float64\n",
      " 16  lifetime_spend_videogames                34060 non-null  float64\n",
      " 17  lifetime_spend_petfood                   34060 non-null  float64\n",
      " 18  lifetime_total_distinct_products         34060 non-null  float64\n",
      " 19  percentage_of_products_bought_promotion  34060 non-null  float64\n",
      " 20  year_first_transaction                   34060 non-null  float64\n",
      " 21  loyalty_card_number                      23152 non-null  float64\n",
      " 22  latitude                                 34060 non-null  float64\n",
      " 23  longitude                                34060 non-null  float64\n",
      "dtypes: float64(21), object(3)\n",
      "memory usage: 6.5+ MB\n"
     ]
    }
   ],
   "source": [
    "customer_info.info()"
   ]
  },
  {
   "cell_type": "markdown",
   "id": "d18d4c76",
   "metadata": {},
   "source": [
    "Because the datasets are rather small and mostly numerical, we don't see the need to adapt the data types "
   ]
  },
  {
   "cell_type": "markdown",
   "id": "f1861d90",
   "metadata": {},
   "source": [
    "### 2. Feature Selection (Part 1)"
   ]
  },
  {
   "cell_type": "markdown",
   "id": "fabe11fe",
   "metadata": {},
   "source": [
    "#### 2.1) Adding an *age* column"
   ]
  },
  {
   "cell_type": "markdown",
   "id": "ddd97598",
   "metadata": {},
   "source": [
    "##### 2.1.1) Altering the customer_birthdate column to datetime format"
   ]
  },
  {
   "cell_type": "code",
   "execution_count": 8,
   "id": "713fe980",
   "metadata": {},
   "outputs": [],
   "source": [
    "customer_info[\"customer_birthdate\"] = pd.to_datetime(customer_info[\"customer_birthdate\"], format=\"%m/%d/%Y %I:%M %p\")"
   ]
  },
  {
   "cell_type": "markdown",
   "id": "d14fa844",
   "metadata": {},
   "source": [
    "##### 2.1.2) Creating the age column throught the differece between the current date and the birth date"
   ]
  },
  {
   "cell_type": "code",
   "execution_count": 9,
   "id": "b68501ea",
   "metadata": {},
   "outputs": [],
   "source": [
    "today = datetime.now()\n",
    "customer_info[\"age\"] = customer_info[\"customer_birthdate\"].apply(lambda x: today.year - x.year - ((today.month, today.day) < (x.month, x.day))) # works because True = 1 and False = 0"
   ]
  },
  {
   "cell_type": "markdown",
   "id": "c50cc8a9",
   "metadata": {},
   "source": [
    "#### 2.2) Removing features"
   ]
  },
  {
   "cell_type": "code",
   "execution_count": 10,
   "id": "1d8678d5",
   "metadata": {},
   "outputs": [
    {
     "data": {
      "text/html": [
       "<div>\n",
       "<style scoped>\n",
       "    .dataframe tbody tr th:only-of-type {\n",
       "        vertical-align: middle;\n",
       "    }\n",
       "\n",
       "    .dataframe tbody tr th {\n",
       "        vertical-align: top;\n",
       "    }\n",
       "\n",
       "    .dataframe thead th {\n",
       "        text-align: right;\n",
       "    }\n",
       "</style>\n",
       "<table border=\"1\" class=\"dataframe\">\n",
       "  <thead>\n",
       "    <tr style=\"text-align: right;\">\n",
       "      <th></th>\n",
       "      <th>customer_name</th>\n",
       "      <th>customer_gender</th>\n",
       "      <th>customer_birthdate</th>\n",
       "      <th>kids_home</th>\n",
       "      <th>teens_home</th>\n",
       "      <th>number_complaints</th>\n",
       "      <th>distinct_stores_visited</th>\n",
       "      <th>lifetime_spend_groceries</th>\n",
       "      <th>lifetime_spend_electronics</th>\n",
       "      <th>typical_hour</th>\n",
       "      <th>lifetime_spend_vegetables</th>\n",
       "      <th>lifetime_spend_nonalcohol_drinks</th>\n",
       "      <th>lifetime_spend_alcohol_drinks</th>\n",
       "      <th>lifetime_spend_meat</th>\n",
       "      <th>lifetime_spend_fish</th>\n",
       "      <th>lifetime_spend_hygiene</th>\n",
       "      <th>lifetime_spend_videogames</th>\n",
       "      <th>lifetime_spend_petfood</th>\n",
       "      <th>lifetime_total_distinct_products</th>\n",
       "      <th>percentage_of_products_bought_promotion</th>\n",
       "      <th>year_first_transaction</th>\n",
       "      <th>loyalty_card_number</th>\n",
       "      <th>latitude</th>\n",
       "      <th>longitude</th>\n",
       "      <th>age</th>\n",
       "    </tr>\n",
       "    <tr>\n",
       "      <th>customer_id</th>\n",
       "      <th></th>\n",
       "      <th></th>\n",
       "      <th></th>\n",
       "      <th></th>\n",
       "      <th></th>\n",
       "      <th></th>\n",
       "      <th></th>\n",
       "      <th></th>\n",
       "      <th></th>\n",
       "      <th></th>\n",
       "      <th></th>\n",
       "      <th></th>\n",
       "      <th></th>\n",
       "      <th></th>\n",
       "      <th></th>\n",
       "      <th></th>\n",
       "      <th></th>\n",
       "      <th></th>\n",
       "      <th></th>\n",
       "      <th></th>\n",
       "      <th></th>\n",
       "      <th></th>\n",
       "      <th></th>\n",
       "      <th></th>\n",
       "      <th></th>\n",
       "    </tr>\n",
       "  </thead>\n",
       "  <tbody>\n",
       "    <tr>\n",
       "      <th>29930</th>\n",
       "      <td>April Clark</td>\n",
       "      <td>female</td>\n",
       "      <td>1972-01-15 14:27:00</td>\n",
       "      <td>2.0</td>\n",
       "      <td>2.0</td>\n",
       "      <td>1.0</td>\n",
       "      <td>4.0</td>\n",
       "      <td>7789.0</td>\n",
       "      <td>5601.0</td>\n",
       "      <td>13.0</td>\n",
       "      <td>726.0</td>\n",
       "      <td>962.0</td>\n",
       "      <td>1213.0</td>\n",
       "      <td>1598.0</td>\n",
       "      <td>1894.0</td>\n",
       "      <td>457.0</td>\n",
       "      <td>412.0</td>\n",
       "      <td>428.0</td>\n",
       "      <td>386.0</td>\n",
       "      <td>0.158741</td>\n",
       "      <td>2018.0</td>\n",
       "      <td>NaN</td>\n",
       "      <td>38.721807</td>\n",
       "      <td>-9.125534</td>\n",
       "      <td>53.0</td>\n",
       "    </tr>\n",
       "    <tr>\n",
       "      <th>6813</th>\n",
       "      <td>Bsc. Paul Ketchum</td>\n",
       "      <td>male</td>\n",
       "      <td>1944-07-31 10:53:00</td>\n",
       "      <td>0.0</td>\n",
       "      <td>1.0</td>\n",
       "      <td>0.0</td>\n",
       "      <td>4.0</td>\n",
       "      <td>8653.0</td>\n",
       "      <td>35.0</td>\n",
       "      <td>14.0</td>\n",
       "      <td>792.0</td>\n",
       "      <td>102.0</td>\n",
       "      <td>104.0</td>\n",
       "      <td>741.0</td>\n",
       "      <td>346.0</td>\n",
       "      <td>394.0</td>\n",
       "      <td>75.0</td>\n",
       "      <td>226.0</td>\n",
       "      <td>73.0</td>\n",
       "      <td>1.227890</td>\n",
       "      <td>2013.0</td>\n",
       "      <td>971840.0</td>\n",
       "      <td>38.734668</td>\n",
       "      <td>-9.163533</td>\n",
       "      <td>80.0</td>\n",
       "    </tr>\n",
       "    <tr>\n",
       "      <th>39451</th>\n",
       "      <td>Mary Downing</td>\n",
       "      <td>female</td>\n",
       "      <td>1989-11-13 14:11:00</td>\n",
       "      <td>2.0</td>\n",
       "      <td>3.0</td>\n",
       "      <td>0.0</td>\n",
       "      <td>7.0</td>\n",
       "      <td>15605.0</td>\n",
       "      <td>4275.0</td>\n",
       "      <td>14.0</td>\n",
       "      <td>1585.0</td>\n",
       "      <td>980.0</td>\n",
       "      <td>1872.0</td>\n",
       "      <td>1323.0</td>\n",
       "      <td>1971.0</td>\n",
       "      <td>920.0</td>\n",
       "      <td>335.0</td>\n",
       "      <td>192.0</td>\n",
       "      <td>319.0</td>\n",
       "      <td>0.101598</td>\n",
       "      <td>2011.0</td>\n",
       "      <td>NaN</td>\n",
       "      <td>38.787126</td>\n",
       "      <td>-9.147077</td>\n",
       "      <td>35.0</td>\n",
       "    </tr>\n",
       "    <tr>\n",
       "      <th>21557</th>\n",
       "      <td>Manuel Kueny</td>\n",
       "      <td>male</td>\n",
       "      <td>1976-08-09 06:23:00</td>\n",
       "      <td>0.0</td>\n",
       "      <td>0.0</td>\n",
       "      <td>1.0</td>\n",
       "      <td>1.0</td>\n",
       "      <td>13440.0</td>\n",
       "      <td>16366.0</td>\n",
       "      <td>14.0</td>\n",
       "      <td>28.0</td>\n",
       "      <td>269.0</td>\n",
       "      <td>1855.0</td>\n",
       "      <td>939.0</td>\n",
       "      <td>785.0</td>\n",
       "      <td>139.0</td>\n",
       "      <td>679.0</td>\n",
       "      <td>270.0</td>\n",
       "      <td>221.0</td>\n",
       "      <td>0.259943</td>\n",
       "      <td>2009.0</td>\n",
       "      <td>NaN</td>\n",
       "      <td>38.741816</td>\n",
       "      <td>-9.159700</td>\n",
       "      <td>48.0</td>\n",
       "    </tr>\n",
       "    <tr>\n",
       "      <th>16415</th>\n",
       "      <td>Phd. Curtis Tharp</td>\n",
       "      <td>male</td>\n",
       "      <td>1966-07-11 08:12:00</td>\n",
       "      <td>1.0</td>\n",
       "      <td>1.0</td>\n",
       "      <td>1.0</td>\n",
       "      <td>5.0</td>\n",
       "      <td>49250.0</td>\n",
       "      <td>3197.0</td>\n",
       "      <td>14.0</td>\n",
       "      <td>258.0</td>\n",
       "      <td>726.0</td>\n",
       "      <td>547.0</td>\n",
       "      <td>983.0</td>\n",
       "      <td>1492.0</td>\n",
       "      <td>1046.0</td>\n",
       "      <td>112.0</td>\n",
       "      <td>144.0</td>\n",
       "      <td>244.0</td>\n",
       "      <td>0.317822</td>\n",
       "      <td>2012.0</td>\n",
       "      <td>925367.0</td>\n",
       "      <td>38.785921</td>\n",
       "      <td>-9.149221</td>\n",
       "      <td>58.0</td>\n",
       "    </tr>\n",
       "  </tbody>\n",
       "</table>\n",
       "</div>"
      ],
      "text/plain": [
       "                 customer_name customer_gender  customer_birthdate  kids_home  teens_home  number_complaints  distinct_stores_visited  lifetime_spend_groceries  lifetime_spend_electronics  typical_hour  lifetime_spend_vegetables  lifetime_spend_nonalcohol_drinks  lifetime_spend_alcohol_drinks  lifetime_spend_meat  lifetime_spend_fish  lifetime_spend_hygiene  lifetime_spend_videogames  lifetime_spend_petfood  lifetime_total_distinct_products  percentage_of_products_bought_promotion  year_first_transaction  loyalty_card_number   latitude  longitude   age\n",
       "customer_id                                                                                                                                                                                                                                                                                                                                                                                                                                                                                                                                                                   \n",
       "29930              April Clark          female 1972-01-15 14:27:00        2.0         2.0                1.0                      4.0                    7789.0                      5601.0          13.0                      726.0                             962.0                         1213.0               1598.0               1894.0                   457.0                      412.0                   428.0                             386.0                                 0.158741                  2018.0                  NaN  38.721807  -9.125534  53.0\n",
       "6813         Bsc. Paul Ketchum            male 1944-07-31 10:53:00        0.0         1.0                0.0                      4.0                    8653.0                        35.0          14.0                      792.0                             102.0                          104.0                741.0                346.0                   394.0                       75.0                   226.0                              73.0                                 1.227890                  2013.0             971840.0  38.734668  -9.163533  80.0\n",
       "39451             Mary Downing          female 1989-11-13 14:11:00        2.0         3.0                0.0                      7.0                   15605.0                      4275.0          14.0                     1585.0                             980.0                         1872.0               1323.0               1971.0                   920.0                      335.0                   192.0                             319.0                                 0.101598                  2011.0                  NaN  38.787126  -9.147077  35.0\n",
       "21557             Manuel Kueny            male 1976-08-09 06:23:00        0.0         0.0                1.0                      1.0                   13440.0                     16366.0          14.0                       28.0                             269.0                         1855.0                939.0                785.0                   139.0                      679.0                   270.0                             221.0                                 0.259943                  2009.0                  NaN  38.741816  -9.159700  48.0\n",
       "16415        Phd. Curtis Tharp            male 1966-07-11 08:12:00        1.0         1.0                1.0                      5.0                   49250.0                      3197.0          14.0                      258.0                             726.0                          547.0                983.0               1492.0                  1046.0                      112.0                   144.0                             244.0                                 0.317822                  2012.0             925367.0  38.785921  -9.149221  58.0"
      ]
     },
     "execution_count": 10,
     "metadata": {},
     "output_type": "execute_result"
    }
   ],
   "source": [
    "customer_info.head()"
   ]
  },
  {
   "cell_type": "markdown",
   "id": "ae3b203a",
   "metadata": {},
   "source": [
    "Columns to remove:\n",
    "- *customer_name* - Since customers are already identified by id, there's no need to save their name;\n",
    "- *customer_birthdate* - Due to the fact that we've already created an *age* column;\n",
    "- *year_first_transaction* - We believe the worth this variable has is already in the *age* column, given the relation that the older people are, the smaller will be the year of the first transation, and no additional value may be extrated;\n",
    "- *loyalty_card_number* - This is a set of digits with no meaning, assigned to customers with loyalty cards. Its only possible purpose would be distinguishing in between customers since the numbers are theoretically unique for each one. However, not all customers have a loyalty card and we already have the *customer_id* column, so this variable has no worth.\n",
    "- *latitude* and *longitude* - these two columns are only used for the map made in the EDA, which showed no visible pattern."
   ]
  },
  {
   "cell_type": "code",
   "execution_count": 11,
   "id": "de597a9b",
   "metadata": {},
   "outputs": [],
   "source": [
    "customer_info = customer_info.drop([\"customer_name\", \"customer_birthdate\", \"year_first_transaction\", \"loyalty_card_number\", \"latitude\", \"longitude\"], axis=1)"
   ]
  },
  {
   "cell_type": "markdown",
   "id": "3105823d",
   "metadata": {},
   "source": [
    "#### 2.3) Assessing highly correlated features"
   ]
  },
  {
   "cell_type": "markdown",
   "id": "83c001af",
   "metadata": {},
   "source": [
    "Sometimes, variables present correlations that justfy removing one of them, as it becomes redundant to keep both. As we saw through our heatmap, some features do have a rather high correlation. However, we don't consider these nearly enough to remove them."
   ]
  },
  {
   "cell_type": "markdown",
   "id": "5724d86b",
   "metadata": {},
   "source": [
    "#### 2.4) Label encoding for the *customer_gender* variable"
   ]
  },
  {
   "cell_type": "code",
   "execution_count": 12,
   "id": "b1d6d82f",
   "metadata": {},
   "outputs": [],
   "source": [
    "customer_info[\"customer_gender\"] = np.where(customer_info[\"customer_gender\"] == \"female\", 0, 1)"
   ]
  },
  {
   "cell_type": "markdown",
   "id": "3b83f928",
   "metadata": {},
   "source": [
    "### 3. Unidimensional Outlier Detection\n",
    "After careful analysis of our EDA, our *lifetime_* variables have all shown a significant amount of outliers along with a considerable skewness. The presence of these two factors in the dataset can negatively affect the performance and reliability of machine learning models. Skewness reflects asymmetry in the distribution of a variable, which may distort the underlying relationships between features and compromise the assumptions of certain algorithms, particularly those that rely on linearity or distance metrics. Outliers further exacerbate this issue by disproportionately influencing key statistical measures such as means, variances, and correlations, potentially leading to biased parameter estimates and reduced model stability. \n",
    "\n",
    "Consequently, addressing skewness and outliers during the preprocessing stage is essential to improve model robustness, enhance predictive accuracy, and ensure more reliable generalization to unseen data. "
   ]
  },
  {
   "cell_type": "code",
   "execution_count": 13,
   "id": "75ede49e",
   "metadata": {},
   "outputs": [],
   "source": [
    "def log_transform_lifetime_features(dataframe):\n",
    "    cols_to_transform = [col for col in dataframe.columns if col.startswith('lifetime_')]\n",
    "    dataframe[cols_to_transform] = dataframe[cols_to_transform].apply(lambda x: np.log1p(x))\n",
    "    return dataframe"
   ]
  },
  {
   "cell_type": "code",
   "execution_count": 14,
   "id": "70605c0f",
   "metadata": {},
   "outputs": [],
   "source": [
    "customer_info = log_transform_lifetime_features(customer_info)"
   ]
  },
  {
   "cell_type": "markdown",
   "id": "8c6272d9",
   "metadata": {},
   "source": [
    "A log transformation was applied to the financial features due to their highly right-skewed distributions. This transformation helps to reduce skewness, stabilize variance, and limit the influence of extreme values."
   ]
  },
  {
   "cell_type": "markdown",
   "id": "0f1925ba",
   "metadata": {},
   "source": [
    "### 4. Scaling\n",
    "We'll be using Robust Scaler to scale our data as it has shown, through the EDA's boxplots and histograms, a high presence of outliers."
   ]
  },
  {
   "cell_type": "code",
   "execution_count": 15,
   "id": "3e6b594e",
   "metadata": {},
   "outputs": [],
   "source": [
    "scaler = RobustScaler()\n",
    "\n",
    "scaled_array = scaler.fit_transform(customer_info)\n",
    "scaled_customer_info = pd.DataFrame(scaled_array, columns=customer_info.columns, index=customer_info.index)\n",
    "customer_info = scaled_customer_info"
   ]
  },
  {
   "cell_type": "markdown",
   "id": "be300011",
   "metadata": {},
   "source": [
    "### 5. Data Cleaning ###\n",
    "Dealing with the duplicates, missing values and noise."
   ]
  },
  {
   "cell_type": "markdown",
   "id": "b39b823c",
   "metadata": {},
   "source": [
    "#### 5.1) Duplicates"
   ]
  },
  {
   "cell_type": "markdown",
   "id": "0fc16637",
   "metadata": {},
   "source": [
    "##### 5.1.1) For customer_basket"
   ]
  },
  {
   "cell_type": "code",
   "execution_count": 16,
   "id": "f91815a3",
   "metadata": {},
   "outputs": [
    {
     "data": {
      "text/plain": [
       "np.int64(0)"
      ]
     },
     "execution_count": 16,
     "metadata": {},
     "output_type": "execute_result"
    }
   ],
   "source": [
    "customer_basket.duplicated().sum()"
   ]
  },
  {
   "cell_type": "markdown",
   "id": "f4647eb7",
   "metadata": {},
   "source": [
    "On a first look, it seems there are no duplicated rows..."
   ]
  },
  {
   "cell_type": "code",
   "execution_count": 17,
   "id": "1486c3de",
   "metadata": {},
   "outputs": [
    {
     "data": {
      "text/plain": [
       "False"
      ]
     },
     "execution_count": 17,
     "metadata": {},
     "output_type": "execute_result"
    }
   ],
   "source": [
    "customer_basket[\"invoice_id\"].is_unique"
   ]
  },
  {
   "cell_type": "code",
   "execution_count": 18,
   "id": "94e7edb5",
   "metadata": {},
   "outputs": [
    {
     "data": {
      "text/plain": [
       "False"
      ]
     },
     "execution_count": 18,
     "metadata": {},
     "output_type": "execute_result"
    }
   ],
   "source": [
    "customer_basket[\"customer_id\"].is_unique"
   ]
  },
  {
   "cell_type": "markdown",
   "id": "7939affd",
   "metadata": {},
   "source": [
    "With this, we may conclude that, although there are no duplicated rows, some refer to the same customer making different purchases (identical *customer_id*), while others reflect different customers buying the same set of items (identical *invoice_id*)."
   ]
  },
  {
   "cell_type": "markdown",
   "id": "b484874f",
   "metadata": {},
   "source": [
    "##### 5.1.2) For customer_info"
   ]
  },
  {
   "cell_type": "code",
   "execution_count": 19,
   "id": "50e10912",
   "metadata": {},
   "outputs": [
    {
     "data": {
      "text/plain": [
       "np.int64(0)"
      ]
     },
     "execution_count": 19,
     "metadata": {},
     "output_type": "execute_result"
    }
   ],
   "source": [
    "customer_basket.duplicated().sum()"
   ]
  },
  {
   "cell_type": "markdown",
   "id": "81dd7509",
   "metadata": {},
   "source": [
    "Here, because we managed to set *customer_id* as an index, and also due to the last block of code showing no repeated rows, we may conclude there aren't any duplicates in the *customer_info* dataset."
   ]
  },
  {
   "cell_type": "markdown",
   "id": "60bb98ed",
   "metadata": {},
   "source": [
    "#### 5.2) Missing Values / Imputation"
   ]
  },
  {
   "cell_type": "markdown",
   "id": "8165c82a",
   "metadata": {},
   "source": [
    "##### 5.2.1) For customer_basket"
   ]
  },
  {
   "cell_type": "code",
   "execution_count": 20,
   "id": "22eff15e",
   "metadata": {},
   "outputs": [
    {
     "data": {
      "text/html": [
       "<div>\n",
       "<style scoped>\n",
       "    .dataframe tbody tr th:only-of-type {\n",
       "        vertical-align: middle;\n",
       "    }\n",
       "\n",
       "    .dataframe tbody tr th {\n",
       "        vertical-align: top;\n",
       "    }\n",
       "\n",
       "    .dataframe thead th {\n",
       "        text-align: right;\n",
       "    }\n",
       "</style>\n",
       "<table border=\"1\" class=\"dataframe\">\n",
       "  <thead>\n",
       "    <tr style=\"text-align: right;\">\n",
       "      <th></th>\n",
       "      <th>Missing Count</th>\n",
       "      <th>Missing %</th>\n",
       "    </tr>\n",
       "  </thead>\n",
       "  <tbody>\n",
       "    <tr>\n",
       "      <th>invoice_id</th>\n",
       "      <td>0</td>\n",
       "      <td>0.0</td>\n",
       "    </tr>\n",
       "    <tr>\n",
       "      <th>list_of_goods</th>\n",
       "      <td>0</td>\n",
       "      <td>0.0</td>\n",
       "    </tr>\n",
       "    <tr>\n",
       "      <th>customer_id</th>\n",
       "      <td>0</td>\n",
       "      <td>0.0</td>\n",
       "    </tr>\n",
       "  </tbody>\n",
       "</table>\n",
       "</div>"
      ],
      "text/plain": [
       "               Missing Count  Missing %\n",
       "invoice_id                 0        0.0\n",
       "list_of_goods              0        0.0\n",
       "customer_id                0        0.0"
      ]
     },
     "execution_count": 20,
     "metadata": {},
     "output_type": "execute_result"
    }
   ],
   "source": [
    "missing_customer_basket = pd.DataFrame({\n",
    "    'Missing Count': customer_basket.isnull().sum(),\n",
    "    'Missing %': round(customer_basket.isnull().mean() * 100, 2)\n",
    "})\n",
    "missing_customer_basket"
   ]
  },
  {
   "cell_type": "markdown",
   "id": "bb8449b6",
   "metadata": {},
   "source": [
    "Great! We have no missing values in the *customer_basket* dataset."
   ]
  },
  {
   "cell_type": "markdown",
   "id": "f1556714",
   "metadata": {},
   "source": [
    "##### 5.2.2) For customer_info"
   ]
  },
  {
   "cell_type": "code",
   "execution_count": 21,
   "id": "5dcbe796",
   "metadata": {},
   "outputs": [
    {
     "data": {
      "text/html": [
       "<div>\n",
       "<style scoped>\n",
       "    .dataframe tbody tr th:only-of-type {\n",
       "        vertical-align: middle;\n",
       "    }\n",
       "\n",
       "    .dataframe tbody tr th {\n",
       "        vertical-align: top;\n",
       "    }\n",
       "\n",
       "    .dataframe thead th {\n",
       "        text-align: right;\n",
       "    }\n",
       "</style>\n",
       "<table border=\"1\" class=\"dataframe\">\n",
       "  <thead>\n",
       "    <tr style=\"text-align: right;\">\n",
       "      <th></th>\n",
       "      <th>Missing Count</th>\n",
       "      <th>Missing %</th>\n",
       "    </tr>\n",
       "  </thead>\n",
       "  <tbody>\n",
       "    <tr>\n",
       "      <th>customer_gender</th>\n",
       "      <td>0</td>\n",
       "      <td>0.0</td>\n",
       "    </tr>\n",
       "    <tr>\n",
       "      <th>kids_home</th>\n",
       "      <td>749</td>\n",
       "      <td>2.2</td>\n",
       "    </tr>\n",
       "    <tr>\n",
       "      <th>teens_home</th>\n",
       "      <td>783</td>\n",
       "      <td>2.3</td>\n",
       "    </tr>\n",
       "    <tr>\n",
       "      <th>number_complaints</th>\n",
       "      <td>1022</td>\n",
       "      <td>3.0</td>\n",
       "    </tr>\n",
       "    <tr>\n",
       "      <th>distinct_stores_visited</th>\n",
       "      <td>681</td>\n",
       "      <td>2.0</td>\n",
       "    </tr>\n",
       "    <tr>\n",
       "      <th>lifetime_spend_groceries</th>\n",
       "      <td>0</td>\n",
       "      <td>0.0</td>\n",
       "    </tr>\n",
       "    <tr>\n",
       "      <th>lifetime_spend_electronics</th>\n",
       "      <td>0</td>\n",
       "      <td>0.0</td>\n",
       "    </tr>\n",
       "    <tr>\n",
       "      <th>typical_hour</th>\n",
       "      <td>1362</td>\n",
       "      <td>4.0</td>\n",
       "    </tr>\n",
       "    <tr>\n",
       "      <th>lifetime_spend_vegetables</th>\n",
       "      <td>1022</td>\n",
       "      <td>3.0</td>\n",
       "    </tr>\n",
       "    <tr>\n",
       "      <th>lifetime_spend_nonalcohol_drinks</th>\n",
       "      <td>0</td>\n",
       "      <td>0.0</td>\n",
       "    </tr>\n",
       "    <tr>\n",
       "      <th>lifetime_spend_alcohol_drinks</th>\n",
       "      <td>681</td>\n",
       "      <td>2.0</td>\n",
       "    </tr>\n",
       "    <tr>\n",
       "      <th>lifetime_spend_meat</th>\n",
       "      <td>0</td>\n",
       "      <td>0.0</td>\n",
       "    </tr>\n",
       "    <tr>\n",
       "      <th>lifetime_spend_fish</th>\n",
       "      <td>1703</td>\n",
       "      <td>5.0</td>\n",
       "    </tr>\n",
       "    <tr>\n",
       "      <th>lifetime_spend_hygiene</th>\n",
       "      <td>0</td>\n",
       "      <td>0.0</td>\n",
       "    </tr>\n",
       "    <tr>\n",
       "      <th>lifetime_spend_videogames</th>\n",
       "      <td>0</td>\n",
       "      <td>0.0</td>\n",
       "    </tr>\n",
       "    <tr>\n",
       "      <th>lifetime_spend_petfood</th>\n",
       "      <td>0</td>\n",
       "      <td>0.0</td>\n",
       "    </tr>\n",
       "    <tr>\n",
       "      <th>lifetime_total_distinct_products</th>\n",
       "      <td>0</td>\n",
       "      <td>0.0</td>\n",
       "    </tr>\n",
       "    <tr>\n",
       "      <th>percentage_of_products_bought_promotion</th>\n",
       "      <td>0</td>\n",
       "      <td>0.0</td>\n",
       "    </tr>\n",
       "    <tr>\n",
       "      <th>age</th>\n",
       "      <td>341</td>\n",
       "      <td>1.0</td>\n",
       "    </tr>\n",
       "  </tbody>\n",
       "</table>\n",
       "</div>"
      ],
      "text/plain": [
       "                                         Missing Count  Missing %\n",
       "customer_gender                                      0        0.0\n",
       "kids_home                                          749        2.2\n",
       "teens_home                                         783        2.3\n",
       "number_complaints                                 1022        3.0\n",
       "distinct_stores_visited                            681        2.0\n",
       "lifetime_spend_groceries                             0        0.0\n",
       "lifetime_spend_electronics                           0        0.0\n",
       "typical_hour                                      1362        4.0\n",
       "lifetime_spend_vegetables                         1022        3.0\n",
       "lifetime_spend_nonalcohol_drinks                     0        0.0\n",
       "lifetime_spend_alcohol_drinks                      681        2.0\n",
       "lifetime_spend_meat                                  0        0.0\n",
       "lifetime_spend_fish                               1703        5.0\n",
       "lifetime_spend_hygiene                               0        0.0\n",
       "lifetime_spend_videogames                            0        0.0\n",
       "lifetime_spend_petfood                               0        0.0\n",
       "lifetime_total_distinct_products                     0        0.0\n",
       "percentage_of_products_bought_promotion              0        0.0\n",
       "age                                                341        1.0"
      ]
     },
     "execution_count": 21,
     "metadata": {},
     "output_type": "execute_result"
    }
   ],
   "source": [
    "missing_customer_info = pd.DataFrame({\n",
    "    'Missing Count': customer_info.isnull().sum(),\n",
    "    'Missing %': round(customer_info.isnull().mean() * 100, 2)\n",
    "})\n",
    "missing_customer_info"
   ]
  },
  {
   "cell_type": "markdown",
   "id": "10206c62",
   "metadata": {},
   "source": [
    "We will use K Nearest Neighbours imputation to replace these missing values. Firstly, we need to find a value for K."
   ]
  },
  {
   "cell_type": "markdown",
   "id": "9bad5114",
   "metadata": {},
   "source": [
    "To evaluate the optimal number of neighbours for KNN imputation, we selected rows where the 'age' variable was not missing and split the data into training and test sets. In the test set, we artificially removed the 'age' values to simulate missingness while keeping the true values for comparison. We then applied KNN imputation with different values of k to the combined dataset and measured the accuracy of the imputed values by calculating the RMSE against the original 'age' values in the test set. This allowed us to identify which k produced the most accurate imputations."
   ]
  },
  {
   "cell_type": "code",
   "execution_count": 22,
   "id": "c9cf083a",
   "metadata": {},
   "outputs": [
    {
     "name": "stdout",
     "output_type": "stream",
     "text": [
      "RMSE for each K: {5: np.float64(0.5659222910829828), 10: np.float64(0.5409149359848832), 15: np.float64(0.5344040004829046)}\n"
     ]
    }
   ],
   "source": [
    "# keep only the rows where 'age' is observed\n",
    "complete_data = customer_info[customer_info['age'].notna()].copy()\n",
    "\n",
    "train_set, test_set = train_test_split(complete_data, test_size=0.2, random_state=42)\n",
    "\n",
    "# storing the true values to compare later\n",
    "true_age = test_set['age'].copy()\n",
    "\n",
    "# artificially set \"age\" to NaN in test set to simulate missingness\n",
    "test_set.loc[:, 'age'] = np.nan\n",
    "\n",
    "simulated_data = pd.concat([train_set, test_set])\n",
    "\n",
    "rmse_per_k = {}\n",
    "\n",
    "for k in [5, 10, 15]:\n",
    "    imputer = KNNImputer(n_neighbors=k)\n",
    "    imputed_array = imputer.fit_transform(simulated_data.select_dtypes(include='number'))\n",
    "    imputed_df = pd.DataFrame(imputed_array, columns=simulated_data.select_dtypes(include='number').columns)\n",
    "\n",
    "    imputed_df.index = simulated_data.index\n",
    "    \n",
    "    # Recover imputed values for the previously missing 'age' in test_set\n",
    "    imputed_age = imputed_df.loc[test_set.index, 'age']\n",
    "    \n",
    "    rmse = np.sqrt(mean_squared_error(true_age, imputed_age))\n",
    "    rmse_per_k[k] = rmse\n",
    "\n",
    "print(\"RMSE for each K:\", rmse_per_k)\n"
   ]
  },
  {
   "cell_type": "code",
   "execution_count": 23,
   "id": "c1e5df56",
   "metadata": {},
   "outputs": [
    {
     "data": {
      "image/png": "[encoded data removed]",
      "text/plain": [
       "<Figure size 640x480 with 1 Axes>"
      ]
     },
     "metadata": {},
     "output_type": "display_data"
    }
   ],
   "source": [
    "imputer = KNNImputer(n_neighbors=5)\n",
    "imputed_array = imputer.fit_transform(simulated_data.select_dtypes(include='number'))\n",
    "imputed_df = pd.DataFrame(imputed_array, columns=simulated_data.select_dtypes(include='number').columns)\n",
    "\n",
    "# Compare original vs imputed\n",
    "sns.kdeplot(customer_info['age'], label='Original', color='blue')\n",
    "sns.kdeplot(imputed_df['age'], label='Imputed', color='green')\n",
    "plt.legend()\n",
    "plt.title('Distribution Comparison')\n",
    "plt.show()\n"
   ]
  },
  {
   "cell_type": "code",
   "execution_count": 24,
   "id": "2b67e280",
   "metadata": {},
   "outputs": [
    {
     "data": {
      "image/png": "[encoded data removed]",
      "text/plain": [
       "<Figure size 640x480 with 1 Axes>"
      ]
     },
     "metadata": {},
     "output_type": "display_data"
    }
   ],
   "source": [
    "imputer = KNNImputer(n_neighbors=10)\n",
    "imputed_array = imputer.fit_transform(simulated_data.select_dtypes(include='number'))\n",
    "imputed_df = pd.DataFrame(imputed_array, columns=simulated_data.select_dtypes(include='number').columns)\n",
    "\n",
    "# Compare original vs imputed\n",
    "sns.kdeplot(customer_info['age'], label='Original', color='blue')\n",
    "sns.kdeplot(imputed_df['age'], label='Imputed', color='green')\n",
    "plt.legend()\n",
    "plt.title('Distribution Comparison')\n",
    "plt.show()\n"
   ]
  },
  {
   "cell_type": "code",
   "execution_count": 25,
   "id": "f0470e87",
   "metadata": {},
   "outputs": [
    {
     "data": {
      "image/png": "[encoded data removed]",
      "text/plain": [
       "<Figure size 640x480 with 1 Axes>"
      ]
     },
     "metadata": {},
     "output_type": "display_data"
    }
   ],
   "source": [
    "imputer = KNNImputer(n_neighbors=15)\n",
    "imputed_array = imputer.fit_transform(simulated_data.select_dtypes(include='number'))\n",
    "imputed_df = pd.DataFrame(imputed_array, columns=simulated_data.select_dtypes(include='number').columns)\n",
    "\n",
    "# Compare original vs imputed\n",
    "sns.kdeplot(customer_info['age'], label='Original', color='blue')\n",
    "sns.kdeplot(imputed_df['age'], label='Imputed', color='green')\n",
    "plt.legend()\n",
    "plt.title('Distribution Comparison')\n",
    "plt.show()\n"
   ]
  },
  {
   "cell_type": "markdown",
   "id": "e4ac1349",
   "metadata": {},
   "source": [
    "Given these results, we chose k=10, as a larger k begins to show signs of underfitting due to the fact that there's a higher and higher number of predicted values in between the ages 50-60, which is where we have the median of *age* (as seen in the EDA)."
   ]
  },
  {
   "cell_type": "code",
   "execution_count": 26,
   "id": "bcb07737",
   "metadata": {},
   "outputs": [],
   "source": [
    "imputer = KNNImputer(n_neighbors=10)\n",
    "customer_info[:] = imputer.fit_transform(customer_info)"
   ]
  },
  {
   "cell_type": "code",
   "execution_count": 27,
   "id": "7b5eafce",
   "metadata": {},
   "outputs": [
    {
     "data": {
      "text/html": [
       "<div>\n",
       "<style scoped>\n",
       "    .dataframe tbody tr th:only-of-type {\n",
       "        vertical-align: middle;\n",
       "    }\n",
       "\n",
       "    .dataframe tbody tr th {\n",
       "        vertical-align: top;\n",
       "    }\n",
       "\n",
       "    .dataframe thead th {\n",
       "        text-align: right;\n",
       "    }\n",
       "</style>\n",
       "<table border=\"1\" class=\"dataframe\">\n",
       "  <thead>\n",
       "    <tr style=\"text-align: right;\">\n",
       "      <th></th>\n",
       "      <th>Missing Count</th>\n",
       "      <th>Missing %</th>\n",
       "    </tr>\n",
       "  </thead>\n",
       "  <tbody>\n",
       "    <tr>\n",
       "      <th>customer_gender</th>\n",
       "      <td>0</td>\n",
       "      <td>0.0</td>\n",
       "    </tr>\n",
       "    <tr>\n",
       "      <th>kids_home</th>\n",
       "      <td>0</td>\n",
       "      <td>0.0</td>\n",
       "    </tr>\n",
       "    <tr>\n",
       "      <th>teens_home</th>\n",
       "      <td>0</td>\n",
       "      <td>0.0</td>\n",
       "    </tr>\n",
       "    <tr>\n",
       "      <th>number_complaints</th>\n",
       "      <td>0</td>\n",
       "      <td>0.0</td>\n",
       "    </tr>\n",
       "    <tr>\n",
       "      <th>distinct_stores_visited</th>\n",
       "      <td>0</td>\n",
       "      <td>0.0</td>\n",
       "    </tr>\n",
       "    <tr>\n",
       "      <th>lifetime_spend_groceries</th>\n",
       "      <td>0</td>\n",
       "      <td>0.0</td>\n",
       "    </tr>\n",
       "    <tr>\n",
       "      <th>lifetime_spend_electronics</th>\n",
       "      <td>0</td>\n",
       "      <td>0.0</td>\n",
       "    </tr>\n",
       "    <tr>\n",
       "      <th>typical_hour</th>\n",
       "      <td>0</td>\n",
       "      <td>0.0</td>\n",
       "    </tr>\n",
       "    <tr>\n",
       "      <th>lifetime_spend_vegetables</th>\n",
       "      <td>0</td>\n",
       "      <td>0.0</td>\n",
       "    </tr>\n",
       "    <tr>\n",
       "      <th>lifetime_spend_nonalcohol_drinks</th>\n",
       "      <td>0</td>\n",
       "      <td>0.0</td>\n",
       "    </tr>\n",
       "    <tr>\n",
       "      <th>lifetime_spend_alcohol_drinks</th>\n",
       "      <td>0</td>\n",
       "      <td>0.0</td>\n",
       "    </tr>\n",
       "    <tr>\n",
       "      <th>lifetime_spend_meat</th>\n",
       "      <td>0</td>\n",
       "      <td>0.0</td>\n",
       "    </tr>\n",
       "    <tr>\n",
       "      <th>lifetime_spend_fish</th>\n",
       "      <td>0</td>\n",
       "      <td>0.0</td>\n",
       "    </tr>\n",
       "    <tr>\n",
       "      <th>lifetime_spend_hygiene</th>\n",
       "      <td>0</td>\n",
       "      <td>0.0</td>\n",
       "    </tr>\n",
       "    <tr>\n",
       "      <th>lifetime_spend_videogames</th>\n",
       "      <td>0</td>\n",
       "      <td>0.0</td>\n",
       "    </tr>\n",
       "    <tr>\n",
       "      <th>lifetime_spend_petfood</th>\n",
       "      <td>0</td>\n",
       "      <td>0.0</td>\n",
       "    </tr>\n",
       "    <tr>\n",
       "      <th>lifetime_total_distinct_products</th>\n",
       "      <td>0</td>\n",
       "      <td>0.0</td>\n",
       "    </tr>\n",
       "    <tr>\n",
       "      <th>percentage_of_products_bought_promotion</th>\n",
       "      <td>0</td>\n",
       "      <td>0.0</td>\n",
       "    </tr>\n",
       "    <tr>\n",
       "      <th>age</th>\n",
       "      <td>0</td>\n",
       "      <td>0.0</td>\n",
       "    </tr>\n",
       "  </tbody>\n",
       "</table>\n",
       "</div>"
      ],
      "text/plain": [
       "                                         Missing Count  Missing %\n",
       "customer_gender                                      0        0.0\n",
       "kids_home                                            0        0.0\n",
       "teens_home                                           0        0.0\n",
       "number_complaints                                    0        0.0\n",
       "distinct_stores_visited                              0        0.0\n",
       "lifetime_spend_groceries                             0        0.0\n",
       "lifetime_spend_electronics                           0        0.0\n",
       "typical_hour                                         0        0.0\n",
       "lifetime_spend_vegetables                            0        0.0\n",
       "lifetime_spend_nonalcohol_drinks                     0        0.0\n",
       "lifetime_spend_alcohol_drinks                        0        0.0\n",
       "lifetime_spend_meat                                  0        0.0\n",
       "lifetime_spend_fish                                  0        0.0\n",
       "lifetime_spend_hygiene                               0        0.0\n",
       "lifetime_spend_videogames                            0        0.0\n",
       "lifetime_spend_petfood                               0        0.0\n",
       "lifetime_total_distinct_products                     0        0.0\n",
       "percentage_of_products_bought_promotion              0        0.0\n",
       "age                                                  0        0.0"
      ]
     },
     "execution_count": 27,
     "metadata": {},
     "output_type": "execute_result"
    }
   ],
   "source": [
    "missing_customer_info = pd.DataFrame({\n",
    "    'Missing Count': customer_info.isnull().sum(),\n",
    "    'Missing %': round(customer_info.isnull().mean() * 100, 2)\n",
    "})\n",
    "missing_customer_info"
   ]
  },
  {
   "cell_type": "markdown",
   "id": "e880d8bc",
   "metadata": {},
   "source": [
    "#### 5.3) Noise\n",
    "\n",
    "As we saw in the EDA, some values are impossible to achieve, namely negative numbers in <i>percentage_of_products_bought_promotion</i>. Thus, we will assume these values to be zero and replace them."
   ]
  },
  {
   "cell_type": "code",
   "execution_count": 28,
   "id": "c43ace3c",
   "metadata": {},
   "outputs": [],
   "source": [
    "# replace the percentage_of_products_bought_promotion below 0 with 0\n",
    "\n",
    "import numpy as np\n",
    "\n",
    "customer_info[\"percentage_of_products_bought_promotion\"] = np.where(\n",
    "    customer_info[\"percentage_of_products_bought_promotion\"] < 0,\n",
    "    0,\n",
    "    customer_info[\"percentage_of_products_bought_promotion\"]\n",
    ")"
   ]
  },
  {
   "cell_type": "markdown",
   "id": "3f116650",
   "metadata": {},
   "source": [
    "### 6. Outlier Detection\n",
    "Using DBSCAN to determine the presence of multidimensional outliers; Analysing the presence of unidimensional outliers."
   ]
  },
  {
   "cell_type": "markdown",
   "id": "6bebc494",
   "metadata": {},
   "source": [
    "#### 6.1) Figuring out the parameters: min_samples\n",
    "As a starting point, we will use the rule of thumb that the minimum number of points is equal to 1 + the number of features."
   ]
  },
  {
   "cell_type": "code",
   "execution_count": 29,
   "id": "34970631",
   "metadata": {},
   "outputs": [
    {
     "data": {
      "text/plain": [
       "20"
      ]
     },
     "execution_count": 29,
     "metadata": {},
     "output_type": "execute_result"
    }
   ],
   "source": [
    "min_samples_value = 1 + customer_info.shape[1]\n",
    "min_samples_value"
   ]
  },
  {
   "cell_type": "markdown",
   "id": "6f86fd2b",
   "metadata": {},
   "source": [
    "#### 6.2) Figuring out the parameters: eps\n",
    "It works like being in a crowded room, with 300 people for instance. Now we want to know, for a person, how large is the radius of the circle we have to draw around them to get the k nearest people.\n",
    "Once we have those 300 distances sorted and plotted, we will see that some, in denser clusters of people, will have very short distances, some will have medium distances, and some, in more sparse groups (or perhaps even outliers), will have larger distances. We then look for the \"elbow\" of the plotted graph."
   ]
  },
  {
   "cell_type": "markdown",
   "id": "b2546a0a",
   "metadata": {},
   "source": [
    "Why do we want the \"elbow\" of the graph? In DBSCAN, the elbow of the k-distance graph shows the point where the distance between points suddenly increases, meaning we're moving from dense regions (clusters) to sparse regions (noise)."
   ]
  },
  {
   "cell_type": "code",
   "execution_count": 30,
   "id": "9c0f623e",
   "metadata": {},
   "outputs": [
    {
     "data": {
      "image/png": "[encoded data removed]",
      "text/plain": [
       "<Figure size 640x480 with 1 Axes>"
      ]
     },
     "metadata": {},
     "output_type": "display_data"
    },
    {
     "name": "stdout",
     "output_type": "stream",
     "text": [
      "Suggested eps from knee point: 3.556\n"
     ]
    }
   ],
   "source": [
    "# compute distances to the 36th nearest neighbor\n",
    "neighbors = NearestNeighbors(n_neighbors=36)\n",
    "neighbors_fit = neighbors.fit(customer_info)\n",
    "distances, _ = neighbors_fit.kneighbors(customer_info)\n",
    "\n",
    "k_distances = np.sort(distances[:, 35])\n",
    "x = np.arange(len(k_distances))\n",
    "\n",
    "# using KneeLocator to find the elbow in the graph\n",
    "knee = KneeLocator(x, k_distances, curve='convex', direction='increasing')\n",
    "eps_value = k_distances[knee.knee]\n",
    "\n",
    "# plotting the k-distance curve and the elbow\n",
    "plt.plot(k_distances, label='k-distance')\n",
    "plt.axhline(y=eps_value, color='red', linestyle='--', label=f'eps = {eps_value:.2f}')\n",
    "plt.xlabel(\"Points sorted by distance\")\n",
    "plt.ylabel(\"36th nearest neighbor distance\")\n",
    "plt.title(\"k-distance plot to find eps\")\n",
    "plt.legend()\n",
    "plt.show()\n",
    "\n",
    "print(f\"Suggested eps from knee point: {eps_value:.3f}\")\n"
   ]
  },
  {
   "cell_type": "markdown",
   "id": "7cd42521",
   "metadata": {},
   "source": [
    "#### 6.3) Running the DBSCAN"
   ]
  },
  {
   "cell_type": "code",
   "execution_count": 31,
   "id": "319588c8",
   "metadata": {},
   "outputs": [
    {
     "name": "stdout",
     "output_type": "stream",
     "text": [
      "3.5561880923067197 20\n"
     ]
    },
    {
     "data": {
      "text/html": [
       "<style>#sk-container-id-1 {\n",
       "  /* Definition of color scheme common for light and dark mode */\n",
       "  --sklearn-color-text: #000;\n",
       "  --sklearn-color-text-muted: #666;\n",
       "  --sklearn-color-line: gray;\n",
       "  /* Definition of color scheme for unfitted estimators */\n",
       "  --sklearn-color-unfitted-level-0: #fff5e6;\n",
       "  --sklearn-color-unfitted-level-1: #f6e4d2;\n",
       "  --sklearn-color-unfitted-level-2: #ffe0b3;\n",
       "  --sklearn-color-unfitted-level-3: chocolate;\n",
       "  /* Definition of color scheme for fitted estimators */\n",
       "  --sklearn-color-fitted-level-0: #f0f8ff;\n",
       "  --sklearn-color-fitted-level-1: #d4ebff;\n",
       "  --sklearn-color-fitted-level-2: #b3dbfd;\n",
       "  --sklearn-color-fitted-level-3: cornflowerblue;\n",
       "\n",
       "  /* Specific color for light theme */\n",
       "  --sklearn-color-text-on-default-background: var(--sg-text-color, var(--theme-code-foreground, var(--jp-content-font-color1, black)));\n",
       "  --sklearn-color-background: var(--sg-background-color, var(--theme-background, var(--jp-layout-color0, white)));\n",
       "  --sklearn-color-border-box: var(--sg-text-color, var(--theme-code-foreground, var(--jp-content-font-color1, black)));\n",
       "  --sklearn-color-icon: #696969;\n",
       "\n",
       "  @media (prefers-color-scheme: dark) {\n",
       "    /* Redefinition of color scheme for dark theme */\n",
       "    --sklearn-color-text-on-default-background: var(--sg-text-color, var(--theme-code-foreground, var(--jp-content-font-color1, white)));\n",
       "    --sklearn-color-background: var(--sg-background-color, var(--theme-background, var(--jp-layout-color0, #111)));\n",
       "    --sklearn-color-border-box: var(--sg-text-color, var(--theme-code-foreground, var(--jp-content-font-color1, white)));\n",
       "    --sklearn-color-icon: #878787;\n",
       "  }\n",
       "}\n",
       "\n",
       "#sk-container-id-1 {\n",
       "  color: var(--sklearn-color-text);\n",
       "}\n",
       "\n",
       "#sk-container-id-1 pre {\n",
       "  padding: 0;\n",
       "}\n",
       "\n",
       "#sk-container-id-1 input.sk-hidden--visually {\n",
       "  border: 0;\n",
       "  clip: rect(1px 1px 1px 1px);\n",
       "  clip: rect(1px, 1px, 1px, 1px);\n",
       "  height: 1px;\n",
       "  margin: -1px;\n",
       "  overflow: hidden;\n",
       "  padding: 0;\n",
       "  position: absolute;\n",
       "  width: 1px;\n",
       "}\n",
       "\n",
       "#sk-container-id-1 div.sk-dashed-wrapped {\n",
       "  border: 1px dashed var(--sklearn-color-line);\n",
       "  margin: 0 0.4em 0.5em 0.4em;\n",
       "  box-sizing: border-box;\n",
       "  padding-bottom: 0.4em;\n",
       "  background-color: var(--sklearn-color-background);\n",
       "}\n",
       "\n",
       "#sk-container-id-1 div.sk-container {\n",
       "  /* jupyter's `normalize.less` sets `[hidden] { display: none; }`\n",
       "     but bootstrap.min.css set `[hidden] { display: none !important; }`\n",
       "     so we also need the `!important` here to be able to override the\n",
       "     default hidden behavior on the sphinx rendered scikit-learn.org.\n",
       "     See: https://github.com/scikit-learn/scikit-learn/issues/21755 */\n",
       "  display: inline-block !important;\n",
       "  position: relative;\n",
       "}\n",
       "\n",
       "#sk-container-id-1 div.sk-text-repr-fallback {\n",
       "  display: none;\n",
       "}\n",
       "\n",
       "div.sk-parallel-item,\n",
       "div.sk-serial,\n",
       "div.sk-item {\n",
       "  /* draw centered vertical line to link estimators */\n",
       "  background-image: linear-gradient(var(--sklearn-color-text-on-default-background), var(--sklearn-color-text-on-default-background));\n",
       "  background-size: 2px 100%;\n",
       "  background-repeat: no-repeat;\n",
       "  background-position: center center;\n",
       "}\n",
       "\n",
       "/* Parallel-specific style estimator block */\n",
       "\n",
       "#sk-container-id-1 div.sk-parallel-item::after {\n",
       "  content: \"\";\n",
       "  width: 100%;\n",
       "  border-bottom: 2px solid var(--sklearn-color-text-on-default-background);\n",
       "  flex-grow: 1;\n",
       "}\n",
       "\n",
       "#sk-container-id-1 div.sk-parallel {\n",
       "  display: flex;\n",
       "  align-items: stretch;\n",
       "  justify-content: center;\n",
       "  background-color: var(--sklearn-color-background);\n",
       "  position: relative;\n",
       "}\n",
       "\n",
       "#sk-container-id-1 div.sk-parallel-item {\n",
       "  display: flex;\n",
       "  flex-direction: column;\n",
       "}\n",
       "\n",
       "#sk-container-id-1 div.sk-parallel-item:first-child::after {\n",
       "  align-self: flex-end;\n",
       "  width: 50%;\n",
       "}\n",
       "\n",
       "#sk-container-id-1 div.sk-parallel-item:last-child::after {\n",
       "  align-self: flex-start;\n",
       "  width: 50%;\n",
       "}\n",
       "\n",
       "#sk-container-id-1 div.sk-parallel-item:only-child::after {\n",
       "  width: 0;\n",
       "}\n",
       "\n",
       "/* Serial-specific style estimator block */\n",
       "\n",
       "#sk-container-id-1 div.sk-serial {\n",
       "  display: flex;\n",
       "  flex-direction: column;\n",
       "  align-items: center;\n",
       "  background-color: var(--sklearn-color-background);\n",
       "  padding-right: 1em;\n",
       "  padding-left: 1em;\n",
       "}\n",
       "\n",
       "\n",
       "/* Toggleable style: style used for estimator/Pipeline/ColumnTransformer box that is\n",
       "clickable and can be expanded/collapsed.\n",
       "- Pipeline and ColumnTransformer use this feature and define the default style\n",
       "- Estimators will overwrite some part of the style using the `sk-estimator` class\n",
       "*/\n",
       "\n",
       "/* Pipeline and ColumnTransformer style (default) */\n",
       "\n",
       "#sk-container-id-1 div.sk-toggleable {\n",
       "  /* Default theme specific background. It is overwritten whether we have a\n",
       "  specific estimator or a Pipeline/ColumnTransformer */\n",
       "  background-color: var(--sklearn-color-background);\n",
       "}\n",
       "\n",
       "/* Toggleable label */\n",
       "#sk-container-id-1 label.sk-toggleable__label {\n",
       "  cursor: pointer;\n",
       "  display: flex;\n",
       "  width: 100%;\n",
       "  margin-bottom: 0;\n",
       "  padding: 0.5em;\n",
       "  box-sizing: border-box;\n",
       "  text-align: center;\n",
       "  align-items: start;\n",
       "  justify-content: space-between;\n",
       "  gap: 0.5em;\n",
       "}\n",
       "\n",
       "#sk-container-id-1 label.sk-toggleable__label .caption {\n",
       "  font-size: 0.6rem;\n",
       "  font-weight: lighter;\n",
       "  color: var(--sklearn-color-text-muted);\n",
       "}\n",
       "\n",
       "#sk-container-id-1 label.sk-toggleable__label-arrow:before {\n",
       "  /* Arrow on the left of the label */\n",
       "  content: \"▸\";\n",
       "  float: left;\n",
       "  margin-right: 0.25em;\n",
       "  color: var(--sklearn-color-icon);\n",
       "}\n",
       "\n",
       "#sk-container-id-1 label.sk-toggleable__label-arrow:hover:before {\n",
       "  color: var(--sklearn-color-text);\n",
       "}\n",
       "\n",
       "/* Toggleable content - dropdown */\n",
       "\n",
       "#sk-container-id-1 div.sk-toggleable__content {\n",
       "  max-height: 0;\n",
       "  max-width: 0;\n",
       "  overflow: hidden;\n",
       "  text-align: left;\n",
       "  /* unfitted */\n",
       "  background-color: var(--sklearn-color-unfitted-level-0);\n",
       "}\n",
       "\n",
       "#sk-container-id-1 div.sk-toggleable__content.fitted {\n",
       "  /* fitted */\n",
       "  background-color: var(--sklearn-color-fitted-level-0);\n",
       "}\n",
       "\n",
       "#sk-container-id-1 div.sk-toggleable__content pre {\n",
       "  margin: 0.2em;\n",
       "  border-radius: 0.25em;\n",
       "  color: var(--sklearn-color-text);\n",
       "  /* unfitted */\n",
       "  background-color: var(--sklearn-color-unfitted-level-0);\n",
       "}\n",
       "\n",
       "#sk-container-id-1 div.sk-toggleable__content.fitted pre {\n",
       "  /* unfitted */\n",
       "  background-color: var(--sklearn-color-fitted-level-0);\n",
       "}\n",
       "\n",
       "#sk-container-id-1 input.sk-toggleable__control:checked~div.sk-toggleable__content {\n",
       "  /* Expand drop-down */\n",
       "  max-height: 200px;\n",
       "  max-width: 100%;\n",
       "  overflow: auto;\n",
       "}\n",
       "\n",
       "#sk-container-id-1 input.sk-toggleable__control:checked~label.sk-toggleable__label-arrow:before {\n",
       "  content: \"▾\";\n",
       "}\n",
       "\n",
       "/* Pipeline/ColumnTransformer-specific style */\n",
       "\n",
       "#sk-container-id-1 div.sk-label input.sk-toggleable__control:checked~label.sk-toggleable__label {\n",
       "  color: var(--sklearn-color-text);\n",
       "  background-color: var(--sklearn-color-unfitted-level-2);\n",
       "}\n",
       "\n",
       "#sk-container-id-1 div.sk-label.fitted input.sk-toggleable__control:checked~label.sk-toggleable__label {\n",
       "  background-color: var(--sklearn-color-fitted-level-2);\n",
       "}\n",
       "\n",
       "/* Estimator-specific style */\n",
       "\n",
       "/* Colorize estimator box */\n",
       "#sk-container-id-1 div.sk-estimator input.sk-toggleable__control:checked~label.sk-toggleable__label {\n",
       "  /* unfitted */\n",
       "  background-color: var(--sklearn-color-unfitted-level-2);\n",
       "}\n",
       "\n",
       "#sk-container-id-1 div.sk-estimator.fitted input.sk-toggleable__control:checked~label.sk-toggleable__label {\n",
       "  /* fitted */\n",
       "  background-color: var(--sklearn-color-fitted-level-2);\n",
       "}\n",
       "\n",
       "#sk-container-id-1 div.sk-label label.sk-toggleable__label,\n",
       "#sk-container-id-1 div.sk-label label {\n",
       "  /* The background is the default theme color */\n",
       "  color: var(--sklearn-color-text-on-default-background);\n",
       "}\n",
       "\n",
       "/* On hover, darken the color of the background */\n",
       "#sk-container-id-1 div.sk-label:hover label.sk-toggleable__label {\n",
       "  color: var(--sklearn-color-text);\n",
       "  background-color: var(--sklearn-color-unfitted-level-2);\n",
       "}\n",
       "\n",
       "/* Label box, darken color on hover, fitted */\n",
       "#sk-container-id-1 div.sk-label.fitted:hover label.sk-toggleable__label.fitted {\n",
       "  color: var(--sklearn-color-text);\n",
       "  background-color: var(--sklearn-color-fitted-level-2);\n",
       "}\n",
       "\n",
       "/* Estimator label */\n",
       "\n",
       "#sk-container-id-1 div.sk-label label {\n",
       "  font-family: monospace;\n",
       "  font-weight: bold;\n",
       "  display: inline-block;\n",
       "  line-height: 1.2em;\n",
       "}\n",
       "\n",
       "#sk-container-id-1 div.sk-label-container {\n",
       "  text-align: center;\n",
       "}\n",
       "\n",
       "/* Estimator-specific */\n",
       "#sk-container-id-1 div.sk-estimator {\n",
       "  font-family: monospace;\n",
       "  border: 1px dotted var(--sklearn-color-border-box);\n",
       "  border-radius: 0.25em;\n",
       "  box-sizing: border-box;\n",
       "  margin-bottom: 0.5em;\n",
       "  /* unfitted */\n",
       "  background-color: var(--sklearn-color-unfitted-level-0);\n",
       "}\n",
       "\n",
       "#sk-container-id-1 div.sk-estimator.fitted {\n",
       "  /* fitted */\n",
       "  background-color: var(--sklearn-color-fitted-level-0);\n",
       "}\n",
       "\n",
       "/* on hover */\n",
       "#sk-container-id-1 div.sk-estimator:hover {\n",
       "  /* unfitted */\n",
       "  background-color: var(--sklearn-color-unfitted-level-2);\n",
       "}\n",
       "\n",
       "#sk-container-id-1 div.sk-estimator.fitted:hover {\n",
       "  /* fitted */\n",
       "  background-color: var(--sklearn-color-fitted-level-2);\n",
       "}\n",
       "\n",
       "/* Specification for estimator info (e.g. \"i\" and \"?\") */\n",
       "\n",
       "/* Common style for \"i\" and \"?\" */\n",
       "\n",
       ".sk-estimator-doc-link,\n",
       "a:link.sk-estimator-doc-link,\n",
       "a:visited.sk-estimator-doc-link {\n",
       "  float: right;\n",
       "  font-size: smaller;\n",
       "  line-height: 1em;\n",
       "  font-family: monospace;\n",
       "  background-color: var(--sklearn-color-background);\n",
       "  border-radius: 1em;\n",
       "  height: 1em;\n",
       "  width: 1em;\n",
       "  text-decoration: none !important;\n",
       "  margin-left: 0.5em;\n",
       "  text-align: center;\n",
       "  /* unfitted */\n",
       "  border: var(--sklearn-color-unfitted-level-1) 1pt solid;\n",
       "  color: var(--sklearn-color-unfitted-level-1);\n",
       "}\n",
       "\n",
       ".sk-estimator-doc-link.fitted,\n",
       "a:link.sk-estimator-doc-link.fitted,\n",
       "a:visited.sk-estimator-doc-link.fitted {\n",
       "  /* fitted */\n",
       "  border: var(--sklearn-color-fitted-level-1) 1pt solid;\n",
       "  color: var(--sklearn-color-fitted-level-1);\n",
       "}\n",
       "\n",
       "/* On hover */\n",
       "div.sk-estimator:hover .sk-estimator-doc-link:hover,\n",
       ".sk-estimator-doc-link:hover,\n",
       "div.sk-label-container:hover .sk-estimator-doc-link:hover,\n",
       ".sk-estimator-doc-link:hover {\n",
       "  /* unfitted */\n",
       "  background-color: var(--sklearn-color-unfitted-level-3);\n",
       "  color: var(--sklearn-color-background);\n",
       "  text-decoration: none;\n",
       "}\n",
       "\n",
       "div.sk-estimator.fitted:hover .sk-estimator-doc-link.fitted:hover,\n",
       ".sk-estimator-doc-link.fitted:hover,\n",
       "div.sk-label-container:hover .sk-estimator-doc-link.fitted:hover,\n",
       ".sk-estimator-doc-link.fitted:hover {\n",
       "  /* fitted */\n",
       "  background-color: var(--sklearn-color-fitted-level-3);\n",
       "  color: var(--sklearn-color-background);\n",
       "  text-decoration: none;\n",
       "}\n",
       "\n",
       "/* Span, style for the box shown on hovering the info icon */\n",
       ".sk-estimator-doc-link span {\n",
       "  display: none;\n",
       "  z-index: 9999;\n",
       "  position: relative;\n",
       "  font-weight: normal;\n",
       "  right: .2ex;\n",
       "  padding: .5ex;\n",
       "  margin: .5ex;\n",
       "  width: min-content;\n",
       "  min-width: 20ex;\n",
       "  max-width: 50ex;\n",
       "  color: var(--sklearn-color-text);\n",
       "  box-shadow: 2pt 2pt 4pt #999;\n",
       "  /* unfitted */\n",
       "  background: var(--sklearn-color-unfitted-level-0);\n",
       "  border: .5pt solid var(--sklearn-color-unfitted-level-3);\n",
       "}\n",
       "\n",
       ".sk-estimator-doc-link.fitted span {\n",
       "  /* fitted */\n",
       "  background: var(--sklearn-color-fitted-level-0);\n",
       "  border: var(--sklearn-color-fitted-level-3);\n",
       "}\n",
       "\n",
       ".sk-estimator-doc-link:hover span {\n",
       "  display: block;\n",
       "}\n",
       "\n",
       "/* \"?\"-specific style due to the `<a>` HTML tag */\n",
       "\n",
       "#sk-container-id-1 a.estimator_doc_link {\n",
       "  float: right;\n",
       "  font-size: 1rem;\n",
       "  line-height: 1em;\n",
       "  font-family: monospace;\n",
       "  background-color: var(--sklearn-color-background);\n",
       "  border-radius: 1rem;\n",
       "  height: 1rem;\n",
       "  width: 1rem;\n",
       "  text-decoration: none;\n",
       "  /* unfitted */\n",
       "  color: var(--sklearn-color-unfitted-level-1);\n",
       "  border: var(--sklearn-color-unfitted-level-1) 1pt solid;\n",
       "}\n",
       "\n",
       "#sk-container-id-1 a.estimator_doc_link.fitted {\n",
       "  /* fitted */\n",
       "  border: var(--sklearn-color-fitted-level-1) 1pt solid;\n",
       "  color: var(--sklearn-color-fitted-level-1);\n",
       "}\n",
       "\n",
       "/* On hover */\n",
       "#sk-container-id-1 a.estimator_doc_link:hover {\n",
       "  /* unfitted */\n",
       "  background-color: var(--sklearn-color-unfitted-level-3);\n",
       "  color: var(--sklearn-color-background);\n",
       "  text-decoration: none;\n",
       "}\n",
       "\n",
       "#sk-container-id-1 a.estimator_doc_link.fitted:hover {\n",
       "  /* fitted */\n",
       "  background-color: var(--sklearn-color-fitted-level-3);\n",
       "}\n",
       "</style><div id=\"sk-container-id-1\" class=\"sk-top-container\"><div class=\"sk-text-repr-fallback\"><pre>DBSCAN(eps=np.float64(3.5561880923067197), min_samples=20)</pre><b>In a Jupyter environment, please rerun this cell to show the HTML representation or trust the notebook. <br />On GitHub, the HTML representation is unable to render, please try loading this page with nbviewer.org.</b></div><div class=\"sk-container\" hidden><div class=\"sk-item\"><div class=\"sk-estimator fitted sk-toggleable\"><input class=\"sk-toggleable__control sk-hidden--visually\" id=\"sk-estimator-id-1\" type=\"checkbox\" checked><label for=\"sk-estimator-id-1\" class=\"sk-toggleable__label fitted sk-toggleable__label-arrow\"><div><div>DBSCAN</div></div><div><a class=\"sk-estimator-doc-link fitted\" rel=\"noreferrer\" target=\"_blank\" href=\"https://scikit-learn.org/1.6/modules/generated/sklearn.cluster.DBSCAN.html\">?<span>Documentation for DBSCAN</span></a><span class=\"sk-estimator-doc-link fitted\">i<span>Fitted</span></span></div></label><div class=\"sk-toggleable__content fitted\"><pre>DBSCAN(eps=np.float64(3.5561880923067197), min_samples=20)</pre></div> </div></div></div></div>"
      ],
      "text/plain": [
       "DBSCAN(eps=np.float64(3.5561880923067197), min_samples=20)"
      ]
     },
     "execution_count": 31,
     "metadata": {},
     "output_type": "execute_result"
    }
   ],
   "source": [
    "print(eps_value, min_samples_value)\n",
    "\n",
    "db = DBSCAN(eps=eps_value, min_samples=min_samples_value)\n",
    "db.fit(customer_info)"
   ]
  },
  {
   "cell_type": "code",
   "execution_count": 32,
   "id": "ad12d296",
   "metadata": {},
   "outputs": [
    {
     "name": "stdout",
     "output_type": "stream",
     "text": [
      "Estimated number of clusters: 1\n",
      "Estimated number of outliers: 18\n"
     ]
    }
   ],
   "source": [
    "labels = db.labels_ # -1 is noise, 0, 1, 2, ... are clusters\n",
    "\n",
    "n_clusters = len(set(labels)) - (1 if -1 in labels else 0) # number of clusters, excluding noise\n",
    "n_outliers = list(labels).count(-1) # number of noise points\n",
    "print(f\"Estimated number of clusters: {n_clusters}\")\n",
    "print(f\"Estimated number of outliers: {n_outliers}\")"
   ]
  },
  {
   "cell_type": "markdown",
   "id": "51aabbd5",
   "metadata": {},
   "source": [
    "It seems our dbscan was no very fruitful, so we'll adapt to a different strategy. Let's expand the range of attempts and combinations of eps and min_sample. We should aim for a maximum of 3% outliers."
   ]
  },
  {
   "cell_type": "code",
   "execution_count": 33,
   "id": "48932eb9",
   "metadata": {},
   "outputs": [
    {
     "name": "stdout",
     "output_type": "stream",
     "text": [
      "1022\n"
     ]
    }
   ],
   "source": [
    "three_percent = round((customer_info.shape[0]*3) / 100)\n",
    "print(three_percent)"
   ]
  },
  {
   "cell_type": "code",
   "execution_count": 34,
   "id": "7e6f30e1",
   "metadata": {},
   "outputs": [
    {
     "name": "stdout",
     "output_type": "stream",
     "text": [
      "2.5 10 1 539\n",
      "3 10 1 87\n",
      "2.5 20 1 664\n",
      "3 20 1 128\n",
      "2.5 30 1 770\n",
      "3 30 1 139\n",
      "2.5 40 1 877\n",
      "3 40 1 156\n",
      "2.5 50 1 970\n",
      "3 50 1 165\n",
      "3 60 1 176\n",
      "3 70 1 191\n",
      "3 80 1 202\n",
      "3 90 1 218\n",
      "3 100 1 230\n"
     ]
    }
   ],
   "source": [
    "for mp in range(10,101, 10):\n",
    "    for eps_ in [1.7,1.9,2,2.2,2.5,3]:\n",
    "        db = DBSCAN(eps=eps_, min_samples=mp)\n",
    "        db.fit(customer_info)\n",
    "\n",
    "        labels = db.labels_  # cluster labels, -1 = outlier\n",
    "\n",
    "        n_clusters = len(set(labels)) - (1 if -1 in labels else 0)\n",
    "        n_outliers = list(labels).count(-1)\n",
    "        \n",
    "        if n_outliers < three_percent:\n",
    "            print(eps_, mp, n_clusters, n_outliers)"
   ]
  },
  {
   "cell_type": "markdown",
   "id": "d04de891",
   "metadata": {},
   "source": [
    "We can see that as we either rise the eps or lower min_samples, the number of outliers decreases, and vice-versa. Thus, we will significantly lower our eps, and adjust the min_samples accordingly, selecting eps = 2.2 and min_samples = 10, which gives us a single cluster with 644 outliers."
   ]
  },
  {
   "cell_type": "code",
   "execution_count": 35,
   "id": "0e040499",
   "metadata": {},
   "outputs": [
    {
     "name": "stdout",
     "output_type": "stream",
     "text": [
      "Estimated number of clusters: 2\n",
      "Estimated number of outliers: 1690\n"
     ]
    }
   ],
   "source": [
    "db = DBSCAN(eps=2.2, min_samples=10)\n",
    "db.fit(customer_info)\n",
    "\n",
    "labels = db.labels_ \n",
    "n_clusters = len(set(labels)) - (1 if -1 in labels else 0) \n",
    "n_outliers = list(labels).count(-1)\n",
    "print(f\"Estimated number of clusters: {n_clusters}\")\n",
    "print(f\"Estimated number of outliers: {n_outliers}\")"
   ]
  },
  {
   "cell_type": "markdown",
   "id": "b81ae904",
   "metadata": {},
   "source": [
    "Now we remove these multidimensional outliers from our dataset."
   ]
  },
  {
   "cell_type": "code",
   "execution_count": 36,
   "id": "9dda4439",
   "metadata": {},
   "outputs": [],
   "source": [
    "# removing the specifical rows that correspond to outliers\n",
    "customer_info['cluster'] = labels\n",
    "customer_info = customer_info[customer_info['cluster'] != -1]\n",
    "\n",
    "# dropping the cluster column for further analysis\n",
    "customer_info = customer_info.drop('cluster', axis=1)"
   ]
  },
  {
   "cell_type": "markdown",
   "id": "7caada45",
   "metadata": {},
   "source": [
    "### 7. Feature Selection (Part 2) - Principal Component Analysis\n",
    "\n",
    "**Principal Component Analysis (PCA)** is a dimensionality reduction technique that transforms correlated features into a smaller set of uncorrelated components. It can help simplify our dataset while highlighting the most important patterns in the data. We chose this technique due to its high interpretability."
   ]
  },
  {
   "cell_type": "code",
   "execution_count": 37,
   "id": "41a9a4c4",
   "metadata": {},
   "outputs": [
    {
     "data": {
      "image/png": "[encoded data removed]",
      "text/plain": [
       "<Figure size 800x500 with 1 Axes>"
      ]
     },
     "metadata": {},
     "output_type": "display_data"
    },
    {
     "name": "stdout",
     "output_type": "stream",
     "text": [
      "PC1: 0.2754 (0.2754 cumulative)\n",
      "PC2: 0.1512 (0.4266 cumulative)\n",
      "PC3: 0.1186 (0.5452 cumulative)\n",
      "PC4: 0.0730 (0.6182 cumulative)\n",
      "PC5: 0.0550 (0.6732 cumulative)\n",
      "PC6: 0.0423 (0.7155 cumulative)\n",
      "PC7: 0.0361 (0.7516 cumulative)\n",
      "PC8: 0.0327 (0.7843 cumulative)\n",
      "PC9: 0.0314 (0.8156 cumulative)\n",
      "PC10: 0.0266 (0.8422 cumulative)\n",
      "PC11: 0.0247 (0.8669 cumulative)\n",
      "PC12: 0.0211 (0.8880 cumulative)\n",
      "PC13: 0.0201 (0.9081 cumulative)\n",
      "PC14: 0.0192 (0.9273 cumulative)\n",
      "PC15: 0.0183 (0.9456 cumulative)\n",
      "PC16: 0.0166 (0.9622 cumulative)\n",
      "PC17: 0.0144 (0.9766 cumulative)\n",
      "PC18: 0.0133 (0.9899 cumulative)\n",
      "PC19: 0.0101 (1.0000 cumulative)\n",
      "\n",
      "PCA Loadings:\n",
      "      customer_gender  kids_home  teens_home  number_complaints  distinct_stores_visited  lifetime_spend_groceries  lifetime_spend_electronics  typical_hour  lifetime_spend_vegetables  lifetime_spend_nonalcohol_drinks  lifetime_spend_alcohol_drinks  lifetime_spend_meat  lifetime_spend_fish  lifetime_spend_hygiene  lifetime_spend_videogames  lifetime_spend_petfood  lifetime_total_distinct_products  percentage_of_products_bought_promotion       age\n",
      "PC1         -0.001025   0.271399    0.215024          -0.024536                -0.041540                  0.204180                    0.193015     -0.061372                  -0.065109                          0.187529                       0.225163             0.671587             0.346441                0.105857                   0.223479                0.118879                          0.231933                                -0.062901  0.029710\n",
      "PC2          0.003081   0.796003    0.212287           0.114011                 0.118205                 -0.130162                   -0.008750     -0.168434                   0.204217                          0.097941                       0.036846            -0.299036            -0.124044                0.172622                  -0.193807               -0.076875                          0.100062                                -0.089992 -0.010003\n",
      "PC3         -0.000616   0.117286    0.170969           0.198660                 0.179962                 -0.155664                   -0.378936     -0.079278                  -0.223628                         -0.290873                      -0.259031             0.446203             0.022085               -0.142023                  -0.398258               -0.011943                         -0.163698                                 0.316360 -0.062857\n",
      "PC4          0.001259  -0.226992    0.113770          -0.240505                 0.428477                  0.103786                   -0.137977      0.011011                   0.251998                          0.041644                      -0.132231             0.000819            -0.029767                0.523549                  -0.176559                0.491568                          0.120734                                 0.047172  0.129761\n",
      "PC5         -0.001535   0.166631   -0.062729           0.132105                -0.189726                 -0.122140                    0.054362     -0.012966                  -0.080542                         -0.032096                       0.017366            -0.099979            -0.044835               -0.367337                   0.060062                0.853482                         -0.089910                                -0.037385 -0.022949\n",
      "PC6         -0.000900  -0.207169   -0.116353           0.779401                -0.131339                  0.127259                    0.058058     -0.143888                  -0.200947                          0.151839                       0.069857            -0.085760             0.036257                0.370077                  -0.184614                0.056577                          0.145186                                -0.010330 -0.078402\n",
      "PC7         -0.003705   0.099901   -0.054755          -0.219627                -0.534595                  0.592756                   -0.163121     -0.123614                   0.173798                         -0.218803                       0.042731            -0.015857             0.028315                0.124954                  -0.299673                0.044252                         -0.173821                                 0.027546 -0.201056\n",
      "PC8         -0.028952  -0.061722    0.081092           0.175826                 0.445673                  0.602142                   -0.014062     -0.170812                   0.121379                          0.116835                       0.000700            -0.093989            -0.039272               -0.543187                  -0.069902               -0.041674                          0.104001                                -0.079160  0.098850\n",
      "PC9         -0.003461   0.335028   -0.358711          -0.016656                 0.243165                  0.332197                    0.016235      0.581236                  -0.399727                         -0.026204                      -0.065081            -0.082714            -0.028739                0.142164                   0.106088                0.027813                         -0.032632                                 0.192170 -0.092772\n",
      "PC10         0.001759   0.047762    0.075305           0.298362                -0.244518                  0.047327                   -0.083064      0.503375                   0.394911                         -0.048595                      -0.149653             0.130059            -0.034080               -0.029347                  -0.016294               -0.036740                         -0.056384                                -0.068993  0.609513\n",
      "PC11         0.019681  -0.142137    0.389143           0.003602                 0.033444                 -0.081155                   -0.032836      0.529180                   0.011116                          0.145770                       0.273211            -0.037879             0.112361               -0.111668                  -0.362722                0.013546                         -0.025481                                -0.318683 -0.427370\n",
      "PC12         0.035535   0.002091   -0.361345          -0.129024                -0.112104                 -0.140942                    0.216156      0.090794                   0.188622                          0.108903                      -0.064316             0.059304             0.082417               -0.209456                  -0.435219               -0.012778                          0.610006                                 0.308268 -0.040551\n",
      "PC13        -0.032893   0.018252   -0.159961           0.273041                 0.146125                 -0.038074                    0.000232      0.074085                   0.604824                         -0.179064                      -0.067311             0.140990             0.017094                0.011760                   0.354208                0.005233                         -0.059179                                 0.145299 -0.545285\n",
      "PC14         0.996019   0.005861   -0.031441           0.018163                 0.034245                  0.018997                    0.001519     -0.021605                   0.021091                         -0.013081                       0.000487             0.004649             0.029668               -0.005118                   0.013927               -0.000214                         -0.048104                                -0.023169  0.001091\n",
      "PC15         0.060571  -0.076193    0.578169           0.011374                -0.226278                  0.116778                   -0.057364      0.100040                  -0.095695                          0.048879                      -0.120229            -0.189571            -0.239841               -0.020742                   0.285432                0.012395                          0.322971                                 0.511428 -0.102919\n",
      "PC16        -0.009926  -0.032560    0.200128           0.021118                 0.088902                  0.046351                    0.810902      0.002144                   0.042713                         -0.149139                      -0.033778             0.007148            -0.045299                0.048073                  -0.212887               -0.002134                         -0.383970                                 0.257261  0.046501\n",
      "PC17        -0.019453   0.005898   -0.015710           0.006166                 0.024182                 -0.056340                   -0.197385     -0.015258                   0.116986                          0.356706                       0.244278            -0.243731             0.591144               -0.039851                   0.003478                0.001539                         -0.318861                                 0.479029  0.118968\n",
      "PC18         0.010766   0.005493   -0.126506          -0.051736                -0.075194                  0.004650                   -0.051557     -0.015584                   0.065328                          0.697639                      -0.043849             0.287095            -0.536423               -0.011805                  -0.068026               -0.005828                         -0.293471                                 0.101316 -0.091333\n",
      "PC19         0.008325  -0.030604   -0.077292           0.029902                 0.100935                 -0.038487                   -0.097296      0.013673                   0.045914                         -0.276270                       0.818059             0.087120            -0.371747                0.010821                  -0.027229                0.012548                          0.047653                                 0.222948  0.156115\n"
     ]
    }
   ],
   "source": [
    "# PCA Analysis\n",
    "# fit PCA\n",
    "pca = PCA()\n",
    "pca.fit(customer_info)\n",
    "\n",
    "# explained variance ratio\n",
    "explained_variance = pca.explained_variance_ratio_\n",
    "\n",
    "# plot cumulative explained variance\n",
    "plt.figure(figsize=(8,5))\n",
    "plt.plot(np.cumsum(explained_variance), marker='o')\n",
    "plt.xlabel('Number of Components')\n",
    "plt.ylabel('Cumulative Explained Variance')\n",
    "plt.title('Explained Variance by PCA Components')\n",
    "plt.grid(True)\n",
    "plt.show()\n",
    "\n",
    "# print explained variance\n",
    "for i, var in enumerate(explained_variance):\n",
    "    print(f\"PC{i+1}: {var:.4f} ({np.cumsum(explained_variance)[i]:.4f} cumulative)\")\n",
    "\n",
    "# get loadings\n",
    "loadings = pca.components_\n",
    "\n",
    "# create loadings dataframe for easier interpretation\n",
    "loadings_df = pd.DataFrame(loadings, columns=customer_info.columns, \n",
    "                            index=[f'PC{i+1}' for i in range(loadings.shape[0])])\n",
    "print(\"\\nPCA Loadings:\")\n",
    "print(loadings_df)\n"
   ]
  },
  {
   "cell_type": "markdown",
   "id": "045e45f6",
   "metadata": {},
   "source": [
    "To assess which features are most important, we used the PCA loadings, which measure how strongly each original feature contributes to each principal component. Since some components explain more variance than others, we first squared the loadings (to focus on their strength regardless of sign), then multiplied them by the proportion of variance each component explains. Finally, we summed these values across all components. This gives an overall score showing how much each feature contributes to the total variability in the dataset."
   ]
  },
  {
   "cell_type": "code",
   "execution_count": 38,
   "id": "90d41154",
   "metadata": {},
   "outputs": [
    {
     "data": {
      "image/png": "[encoded data removed]",
      "text/plain": [
       "<Figure size 1000x600 with 1 Axes>"
      ]
     },
     "metadata": {},
     "output_type": "display_data"
    }
   ],
   "source": [
    "# after fitting PCA\n",
    "loadings = pca.components_\n",
    "\n",
    "# square loadings\n",
    "squared_loadings = loadings**2\n",
    "\n",
    "# multiply each squared loading by variance explained\n",
    "weighted_contributions = squared_loadings * explained_variance[:, np.newaxis] # newaxis to convert the vector to a column vector\n",
    "\n",
    "# sum over components to get total weighted contribution per feature\n",
    "feature_importance = weighted_contributions.sum(axis=0)\n",
    "\n",
    "# build dataframe\n",
    "importance_df = pd.DataFrame({\n",
    "    'Feature': customer_info.columns,\n",
    "    'Weighted Contribution': feature_importance\n",
    "}).sort_values(by='Weighted Contribution', ascending=False)\n",
    "\n",
    "# plot the importance df\n",
    "plt.figure(figsize=(10,6))\n",
    "plt.barh(importance_df['Feature'], importance_df['Weighted Contribution'])\n",
    "plt.xlabel('Weighted Contribution')\n",
    "plt.title('Feature Importance from PCA (Weighted)')\n",
    "plt.gca().invert_yaxis()\n",
    "plt.show()"
   ]
  },
  {
   "cell_type": "markdown",
   "id": "3c870d04",
   "metadata": {},
   "source": [
    "**PCA Analysis and Feature Retention Decision**\n",
    "\n",
    "To assess potential redundancy and feature importance within the customer_info dataset, we applied Principal Component Analysis (PCA). The goal was to evaluate whether some features could be removed prior to clustering, while preserving as much relevant information as possible.\n",
    "\n",
    "The cumulative explained variance plot shows that the first principal component (PC1) explains approximately 23% of the total variance, with diminishing contributions from subsequent components. In total, 10 components are required to explain roughly 82% of the variance, and all 19 components are necessary to reach 100% of explained variance. This indicates that the variance is relatively spread across many components, suggesting no overwhelming dominance of a small subset of features.\n",
    "\n",
    "The loadings matrix further confirms that multiple features contribute significantly to different principal components. While certain variables such as kids_home, lifetime_spend_videogames, lifetime_spend_groceries, and lifetime_spend_electronics show higher weighted contributions, the remaining features also provide relevant information. Importantly, no feature shows an extremely low or negligible contribution that would justify its removal based solely on PCA results.\n",
    "\n",
    "As a result, we conclude that all features contribute valuable information for characterizing customer profiles. Therefore, we will retain all variables for the clustering phase, ensuring that the full multidimensional structure of the data is preserved to capture potentially meaningful customer segments."
   ]
  },
  {
   "cell_type": "markdown",
   "id": "7389ef78",
   "metadata": {},
   "source": [
    "### 8. Data Exportation"
   ]
  },
  {
   "cell_type": "code",
   "execution_count": 39,
   "id": "035d8810",
   "metadata": {},
   "outputs": [
    {
     "name": "stdout",
     "output_type": "stream",
     "text": [
      "File exported successfully to ../data/raw/clean_customer_info.csv\n"
     ]
    }
   ],
   "source": [
    "export_path = '../data/raw/clean_customer_info.csv'\n",
    "customer_info.to_csv(export_path, index=True)\n",
    "\n",
    "print(f\"File exported successfully to {export_path}\")"
   ]
  },
  {
   "cell_type": "code",
   "execution_count": 40,
   "id": "0cdab093",
   "metadata": {},
   "outputs": [
    {
     "data": {
      "text/html": [
       "<div>\n",
       "<style scoped>\n",
       "    .dataframe tbody tr th:only-of-type {\n",
       "        vertical-align: middle;\n",
       "    }\n",
       "\n",
       "    .dataframe tbody tr th {\n",
       "        vertical-align: top;\n",
       "    }\n",
       "\n",
       "    .dataframe thead th {\n",
       "        text-align: right;\n",
       "    }\n",
       "</style>\n",
       "<table border=\"1\" class=\"dataframe\">\n",
       "  <thead>\n",
       "    <tr style=\"text-align: right;\">\n",
       "      <th></th>\n",
       "      <th>customer_gender</th>\n",
       "      <th>kids_home</th>\n",
       "      <th>teens_home</th>\n",
       "      <th>number_complaints</th>\n",
       "      <th>distinct_stores_visited</th>\n",
       "      <th>lifetime_spend_groceries</th>\n",
       "      <th>lifetime_spend_electronics</th>\n",
       "      <th>typical_hour</th>\n",
       "      <th>lifetime_spend_vegetables</th>\n",
       "      <th>lifetime_spend_nonalcohol_drinks</th>\n",
       "      <th>lifetime_spend_alcohol_drinks</th>\n",
       "      <th>lifetime_spend_meat</th>\n",
       "      <th>lifetime_spend_fish</th>\n",
       "      <th>lifetime_spend_hygiene</th>\n",
       "      <th>lifetime_spend_videogames</th>\n",
       "      <th>lifetime_spend_petfood</th>\n",
       "      <th>lifetime_total_distinct_products</th>\n",
       "      <th>percentage_of_products_bought_promotion</th>\n",
       "      <th>age</th>\n",
       "    </tr>\n",
       "    <tr>\n",
       "      <th>customer_id</th>\n",
       "      <th></th>\n",
       "      <th></th>\n",
       "      <th></th>\n",
       "      <th></th>\n",
       "      <th></th>\n",
       "      <th></th>\n",
       "      <th></th>\n",
       "      <th></th>\n",
       "      <th></th>\n",
       "      <th></th>\n",
       "      <th></th>\n",
       "      <th></th>\n",
       "      <th></th>\n",
       "      <th></th>\n",
       "      <th></th>\n",
       "      <th></th>\n",
       "      <th></th>\n",
       "      <th></th>\n",
       "      <th></th>\n",
       "    </tr>\n",
       "  </thead>\n",
       "  <tbody>\n",
       "    <tr>\n",
       "      <th>29930</th>\n",
       "      <td>-1.0</td>\n",
       "      <td>1.0</td>\n",
       "      <td>1.0</td>\n",
       "      <td>0.0</td>\n",
       "      <td>0.5</td>\n",
       "      <td>-0.603317</td>\n",
       "      <td>0.350843</td>\n",
       "      <td>0.000000</td>\n",
       "      <td>0.299376</td>\n",
       "      <td>0.717154</td>\n",
       "      <td>0.411301</td>\n",
       "      <td>0.716551</td>\n",
       "      <td>0.629503</td>\n",
       "      <td>-0.301504</td>\n",
       "      <td>0.254423</td>\n",
       "      <td>0.467872</td>\n",
       "      <td>0.867906</td>\n",
       "      <td>0.000000</td>\n",
       "      <td>-0.032258</td>\n",
       "    </tr>\n",
       "    <tr>\n",
       "      <th>6813</th>\n",
       "      <td>0.0</td>\n",
       "      <td>-1.0</td>\n",
       "      <td>0.0</td>\n",
       "      <td>-1.0</td>\n",
       "      <td>0.5</td>\n",
       "      <td>-0.514208</td>\n",
       "      <td>-2.423571</td>\n",
       "      <td>0.142857</td>\n",
       "      <td>0.354116</td>\n",
       "      <td>-1.414715</td>\n",
       "      <td>-1.445960</td>\n",
       "      <td>-0.272893</td>\n",
       "      <td>-0.466921</td>\n",
       "      <td>-0.438051</td>\n",
       "      <td>-1.433625</td>\n",
       "      <td>-0.486431</td>\n",
       "      <td>-0.384736</td>\n",
       "      <td>2.460565</td>\n",
       "      <td>0.838710</td>\n",
       "    </tr>\n",
       "    <tr>\n",
       "      <th>39451</th>\n",
       "      <td>-1.0</td>\n",
       "      <td>1.0</td>\n",
       "      <td>2.0</td>\n",
       "      <td>-1.0</td>\n",
       "      <td>2.0</td>\n",
       "      <td>-0.014666</td>\n",
       "      <td>0.202372</td>\n",
       "      <td>0.142857</td>\n",
       "      <td>0.790758</td>\n",
       "      <td>0.734816</td>\n",
       "      <td>0.740321</td>\n",
       "      <td>0.473346</td>\n",
       "      <td>0.655227</td>\n",
       "      <td>0.343099</td>\n",
       "      <td>0.048656</td>\n",
       "      <td>-0.729704</td>\n",
       "      <td>0.723964</td>\n",
       "      <td>0.000000</td>\n",
       "      <td>-0.612903</td>\n",
       "    </tr>\n",
       "    <tr>\n",
       "      <th>21557</th>\n",
       "      <td>0.0</td>\n",
       "      <td>-1.0</td>\n",
       "      <td>-1.0</td>\n",
       "      <td>0.0</td>\n",
       "      <td>-1.0</td>\n",
       "      <td>-0.141192</td>\n",
       "      <td>0.940175</td>\n",
       "      <td>0.142857</td>\n",
       "      <td>-1.730063</td>\n",
       "      <td>-0.495624</td>\n",
       "      <td>0.733403</td>\n",
       "      <td>0.031924</td>\n",
       "      <td>0.061145</td>\n",
       "      <td>-1.395136</td>\n",
       "      <td>0.751694</td>\n",
       "      <td>-0.220805</td>\n",
       "      <td>0.447107</td>\n",
       "      <td>0.048761</td>\n",
       "      <td>-0.193548</td>\n",
       "    </tr>\n",
       "    <tr>\n",
       "      <th>16415</th>\n",
       "      <td>0.0</td>\n",
       "      <td>0.0</td>\n",
       "      <td>0.0</td>\n",
       "      <td>0.0</td>\n",
       "      <td>1.0</td>\n",
       "      <td>0.959008</td>\n",
       "      <td>0.042696</td>\n",
       "      <td>0.142857</td>\n",
       "      <td>-0.350786</td>\n",
       "      <td>0.449038</td>\n",
       "      <td>-0.192228</td>\n",
       "      <td>0.090877</td>\n",
       "      <td>0.475513</td>\n",
       "      <td>0.461414</td>\n",
       "      <td>-1.038064</td>\n",
       "      <td>-1.158433</td>\n",
       "      <td>0.521750</td>\n",
       "      <td>0.192977</td>\n",
       "      <td>0.129032</td>\n",
       "    </tr>\n",
       "  </tbody>\n",
       "</table>\n",
       "</div>"
      ],
      "text/plain": [
       "             customer_gender  kids_home  teens_home  number_complaints  distinct_stores_visited  lifetime_spend_groceries  lifetime_spend_electronics  typical_hour  lifetime_spend_vegetables  lifetime_spend_nonalcohol_drinks  lifetime_spend_alcohol_drinks  lifetime_spend_meat  lifetime_spend_fish  lifetime_spend_hygiene  lifetime_spend_videogames  lifetime_spend_petfood  lifetime_total_distinct_products  percentage_of_products_bought_promotion       age\n",
       "customer_id                                                                                                                                                                                                                                                                                                                                                                                                                                                              \n",
       "29930                   -1.0        1.0         1.0                0.0                      0.5                 -0.603317                    0.350843      0.000000                   0.299376                          0.717154                       0.411301             0.716551             0.629503               -0.301504                   0.254423                0.467872                          0.867906                                 0.000000 -0.032258\n",
       "6813                     0.0       -1.0         0.0               -1.0                      0.5                 -0.514208                   -2.423571      0.142857                   0.354116                         -1.414715                      -1.445960            -0.272893            -0.466921               -0.438051                  -1.433625               -0.486431                         -0.384736                                 2.460565  0.838710\n",
       "39451                   -1.0        1.0         2.0               -1.0                      2.0                 -0.014666                    0.202372      0.142857                   0.790758                          0.734816                       0.740321             0.473346             0.655227                0.343099                   0.048656               -0.729704                          0.723964                                 0.000000 -0.612903\n",
       "21557                    0.0       -1.0        -1.0                0.0                     -1.0                 -0.141192                    0.940175      0.142857                  -1.730063                         -0.495624                       0.733403             0.031924             0.061145               -1.395136                   0.751694               -0.220805                          0.447107                                 0.048761 -0.193548\n",
       "16415                    0.0        0.0         0.0                0.0                      1.0                  0.959008                    0.042696      0.142857                  -0.350786                          0.449038                      -0.192228             0.090877             0.475513                0.461414                  -1.038064               -1.158433                          0.521750                                 0.192977  0.129032"
      ]
     },
     "execution_count": 40,
     "metadata": {},
     "output_type": "execute_result"
    }
   ],
   "source": [
    "customer_info.head()"
   ]
  }
 ],
 "metadata": {
  "kernelspec": {
   "display_name": "Python 3",
   "language": "python",
   "name": "python3"
  },
  "language_info": {
   "codemirror_mode": {
    "name": "ipython",
    "version": 3
   },
   "file_extension": ".py",
   "mimetype": "text/x-python",
   "name": "python",
   "nbconvert_exporter": "python",
   "pygments_lexer": "ipython3",
   "version": "3.11.11"
  }
 },
 "nbformat": 4,
 "nbformat_minor": 5
}
