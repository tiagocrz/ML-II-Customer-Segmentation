{
 "cells": [
  {
   "cell_type": "markdown",
   "id": "227700b6",
   "metadata": {
    "vscode": {
     "languageId": "plaintext"
    }
   },
   "source": [
    "# Preprocessing"
   ]
  },
  {
   "cell_type": "markdown",
   "id": "49ee2cf8",
   "metadata": {},
   "source": [
    "From EDA, we understood that:\n",
    "- We have duplicated rows on customer_basket\n",
    "- When the same items are bought in two different instances, these are attributed different invoices. Hence, invoice_id cannot be the index column\n",
    "- 32% have a missing loyalty_card_number (probably don't have one)\n",
    "- percentage_of_products_bought_promotion is a percentage with negative values\n",
    "#\n",
    "From EDA, we also noted that there are no really highly correlated values, hence nothing should be dropped for this reason."
   ]
  },
  {
   "cell_type": "code",
   "execution_count": 3,
   "id": "cb6eb3ef",
   "metadata": {},
   "outputs": [],
   "source": [
    "import numpy as np\n",
    "import pandas as pd\n",
    "from datetime import datetime # to get the current datetime\n",
    "\n",
    "import matplotlib.pyplot as plt # to make plots (histograms, etc...)\n",
    "import seaborn as sns\n",
    "import plotly.express as px\n",
    "\n",
    "import ast # transform the strings into a list\n",
    "\n",
    "from sklearn.preprocessing import RobustScaler\n",
    "from sklearn.impute import KNNImputer\n",
    "from sklearn.model_selection import train_test_split\n",
    "from sklearn.metrics import mean_squared_error\n",
    "from sklearn.neighbors import NearestNeighbors\n",
    "from kneed import KneeLocator # to automatically find the \"knee\" for the dbscan's parameter\n",
    "from sklearn.cluster import DBSCAN\n",
    "from sklearn.decomposition import PCA"
   ]
  },
  {
   "cell_type": "code",
   "execution_count": 4,
   "id": "19f843d4",
   "metadata": {},
   "outputs": [],
   "source": [
    "# Show all columns when displaying a DataFrame\n",
    "pd.set_option('display.max_columns', None)\n",
    "\n",
    "# Optional: Also show more rows if needed\n",
    "pd.set_option('display.max_rows', 100)\n",
    "\n",
    "# shows all columns\n",
    "pd.set_option(\"display.max_columns\", None)\n",
    "\n",
    "# prevents wrapping\n",
    "pd.set_option(\"display.width\", 1000)\n",
    "\n",
    "pd.set_option('display.max_colwidth', None)"
   ]
  },
  {
   "cell_type": "markdown",
   "id": "f9c80bff",
   "metadata": {},
   "source": [
    "### 1. Import and Preview Datasets ###"
   ]
  },
  {
   "cell_type": "code",
   "execution_count": 5,
   "id": "3ce0ff31",
   "metadata": {},
   "outputs": [],
   "source": [
    "customer_basket = pd.read_csv('../data/raw/customer_basket.csv')\n",
    "customer_info = pd.read_csv('../data/raw/customer_info.csv', index_col=[\"customer_id\"])\n",
    "\n",
    "customer_info = customer_info.drop(\"Unnamed: 0\", axis='columns')"
   ]
  },
  {
   "cell_type": "code",
   "execution_count": 6,
   "id": "542c58da",
   "metadata": {},
   "outputs": [
    {
     "data": {
      "text/html": [
       "<div>\n",
       "<style scoped>\n",
       "    .dataframe tbody tr th:only-of-type {\n",
       "        vertical-align: middle;\n",
       "    }\n",
       "\n",
       "    .dataframe tbody tr th {\n",
       "        vertical-align: top;\n",
       "    }\n",
       "\n",
       "    .dataframe thead th {\n",
       "        text-align: right;\n",
       "    }\n",
       "</style>\n",
       "<table border=\"1\" class=\"dataframe\">\n",
       "  <thead>\n",
       "    <tr style=\"text-align: right;\">\n",
       "      <th></th>\n",
       "      <th>invoice_id</th>\n",
       "      <th>list_of_goods</th>\n",
       "      <th>customer_id</th>\n",
       "    </tr>\n",
       "  </thead>\n",
       "  <tbody>\n",
       "    <tr>\n",
       "      <th>0</th>\n",
       "      <td>5062209</td>\n",
       "      <td>['megaman zero 3', 'energy bar', 'pokemon violet', 'airpods', 'fresh bread', 'pancakes', 'brownies', 'energy drink', 'champagne', 'red wine', 'bluetooth headphones', 'protein bar', 'metroid fusion']</td>\n",
       "      <td>4925</td>\n",
       "    </tr>\n",
       "    <tr>\n",
       "      <th>1</th>\n",
       "      <td>4272512</td>\n",
       "      <td>['black beer', 'bramble', 'laptop', 'pokemon violet', 'airpods', 'gadget for tiktok streaming', 'ring light', 'ratchet &amp; clank', 'pancakes', 'energy drink', 'gums', 'protein bar']</td>\n",
       "      <td>19046</td>\n",
       "    </tr>\n",
       "    <tr>\n",
       "      <th>2</th>\n",
       "      <td>7121052</td>\n",
       "      <td>['soup', 'shallot', 'cake', 'fresh bread', 'cream', 'carrots', 'babies food', 'ham', 'cookies', 'salad', 'tomato sauce', 'cooking oil', 'tea']</td>\n",
       "      <td>10318</td>\n",
       "    </tr>\n",
       "    <tr>\n",
       "      <th>3</th>\n",
       "      <td>5847748</td>\n",
       "      <td>['soup', 'cooking oil', 'cereals', 'oil', 'dog food', 'deodorant', 'tomatoes', 'yogurt cake', 'pet food', 'salmon', 'olive oil', 'fresh tuna', 'tea']</td>\n",
       "      <td>27283</td>\n",
       "    </tr>\n",
       "    <tr>\n",
       "      <th>4</th>\n",
       "      <td>6336114</td>\n",
       "      <td>['eggplant', 'mint green tea', 'oil', 'bacon', 'toilet paper', 'shrimp', 'brownies', 'pancakes', 'champagne', 'spinach', 'cologne', 'chicken', 'barbecue sauce', 'fresh tuna']</td>\n",
       "      <td>16072</td>\n",
       "    </tr>\n",
       "  </tbody>\n",
       "</table>\n",
       "</div>"
      ],
      "text/plain": [
       "   invoice_id                                                                                                                                                                                           list_of_goods  customer_id\n",
       "0     5062209  ['megaman zero 3', 'energy bar', 'pokemon violet', 'airpods', 'fresh bread', 'pancakes', 'brownies', 'energy drink', 'champagne', 'red wine', 'bluetooth headphones', 'protein bar', 'metroid fusion']         4925\n",
       "1     4272512                     ['black beer', 'bramble', 'laptop', 'pokemon violet', 'airpods', 'gadget for tiktok streaming', 'ring light', 'ratchet & clank', 'pancakes', 'energy drink', 'gums', 'protein bar']        19046\n",
       "2     7121052                                                          ['soup', 'shallot', 'cake', 'fresh bread', 'cream', 'carrots', 'babies food', 'ham', 'cookies', 'salad', 'tomato sauce', 'cooking oil', 'tea']        10318\n",
       "3     5847748                                                   ['soup', 'cooking oil', 'cereals', 'oil', 'dog food', 'deodorant', 'tomatoes', 'yogurt cake', 'pet food', 'salmon', 'olive oil', 'fresh tuna', 'tea']        27283\n",
       "4     6336114                          ['eggplant', 'mint green tea', 'oil', 'bacon', 'toilet paper', 'shrimp', 'brownies', 'pancakes', 'champagne', 'spinach', 'cologne', 'chicken', 'barbecue sauce', 'fresh tuna']        16072"
      ]
     },
     "execution_count": 6,
     "metadata": {},
     "output_type": "execute_result"
    }
   ],
   "source": [
    "customer_basket.head(5)"
   ]
  },
  {
   "cell_type": "code",
   "execution_count": 7,
   "id": "89f331f6",
   "metadata": {},
   "outputs": [
    {
     "data": {
      "text/html": [
       "<div>\n",
       "<style scoped>\n",
       "    .dataframe tbody tr th:only-of-type {\n",
       "        vertical-align: middle;\n",
       "    }\n",
       "\n",
       "    .dataframe tbody tr th {\n",
       "        vertical-align: top;\n",
       "    }\n",
       "\n",
       "    .dataframe thead th {\n",
       "        text-align: right;\n",
       "    }\n",
       "</style>\n",
       "<table border=\"1\" class=\"dataframe\">\n",
       "  <thead>\n",
       "    <tr style=\"text-align: right;\">\n",
       "      <th></th>\n",
       "      <th>customer_name</th>\n",
       "      <th>customer_gender</th>\n",
       "      <th>customer_birthdate</th>\n",
       "      <th>kids_home</th>\n",
       "      <th>teens_home</th>\n",
       "      <th>number_complaints</th>\n",
       "      <th>distinct_stores_visited</th>\n",
       "      <th>lifetime_spend_groceries</th>\n",
       "      <th>lifetime_spend_electronics</th>\n",
       "      <th>typical_hour</th>\n",
       "      <th>lifetime_spend_vegetables</th>\n",
       "      <th>lifetime_spend_nonalcohol_drinks</th>\n",
       "      <th>lifetime_spend_alcohol_drinks</th>\n",
       "      <th>lifetime_spend_meat</th>\n",
       "      <th>lifetime_spend_fish</th>\n",
       "      <th>lifetime_spend_hygiene</th>\n",
       "      <th>lifetime_spend_videogames</th>\n",
       "      <th>lifetime_spend_petfood</th>\n",
       "      <th>lifetime_total_distinct_products</th>\n",
       "      <th>percentage_of_products_bought_promotion</th>\n",
       "      <th>year_first_transaction</th>\n",
       "      <th>loyalty_card_number</th>\n",
       "      <th>latitude</th>\n",
       "      <th>longitude</th>\n",
       "    </tr>\n",
       "    <tr>\n",
       "      <th>customer_id</th>\n",
       "      <th></th>\n",
       "      <th></th>\n",
       "      <th></th>\n",
       "      <th></th>\n",
       "      <th></th>\n",
       "      <th></th>\n",
       "      <th></th>\n",
       "      <th></th>\n",
       "      <th></th>\n",
       "      <th></th>\n",
       "      <th></th>\n",
       "      <th></th>\n",
       "      <th></th>\n",
       "      <th></th>\n",
       "      <th></th>\n",
       "      <th></th>\n",
       "      <th></th>\n",
       "      <th></th>\n",
       "      <th></th>\n",
       "      <th></th>\n",
       "      <th></th>\n",
       "      <th></th>\n",
       "      <th></th>\n",
       "      <th></th>\n",
       "    </tr>\n",
       "  </thead>\n",
       "  <tbody>\n",
       "    <tr>\n",
       "      <th>29930</th>\n",
       "      <td>April Clark</td>\n",
       "      <td>female</td>\n",
       "      <td>01/15/1972 02:27 PM</td>\n",
       "      <td>2.0</td>\n",
       "      <td>2.0</td>\n",
       "      <td>1.0</td>\n",
       "      <td>4.0</td>\n",
       "      <td>7789.0</td>\n",
       "      <td>5601.0</td>\n",
       "      <td>13.0</td>\n",
       "      <td>726.0</td>\n",
       "      <td>962.0</td>\n",
       "      <td>1213.0</td>\n",
       "      <td>1598.0</td>\n",
       "      <td>1894.0</td>\n",
       "      <td>457.0</td>\n",
       "      <td>412.0</td>\n",
       "      <td>428.0</td>\n",
       "      <td>386.0</td>\n",
       "      <td>0.158741</td>\n",
       "      <td>2018.0</td>\n",
       "      <td>NaN</td>\n",
       "      <td>38.721807</td>\n",
       "      <td>-9.125534</td>\n",
       "    </tr>\n",
       "    <tr>\n",
       "      <th>6813</th>\n",
       "      <td>Bsc. Paul Ketchum</td>\n",
       "      <td>male</td>\n",
       "      <td>07/31/1944 10:53 AM</td>\n",
       "      <td>0.0</td>\n",
       "      <td>1.0</td>\n",
       "      <td>0.0</td>\n",
       "      <td>4.0</td>\n",
       "      <td>8653.0</td>\n",
       "      <td>35.0</td>\n",
       "      <td>14.0</td>\n",
       "      <td>792.0</td>\n",
       "      <td>102.0</td>\n",
       "      <td>104.0</td>\n",
       "      <td>741.0</td>\n",
       "      <td>346.0</td>\n",
       "      <td>394.0</td>\n",
       "      <td>75.0</td>\n",
       "      <td>226.0</td>\n",
       "      <td>73.0</td>\n",
       "      <td>1.227890</td>\n",
       "      <td>2013.0</td>\n",
       "      <td>971840.0</td>\n",
       "      <td>38.734668</td>\n",
       "      <td>-9.163533</td>\n",
       "    </tr>\n",
       "    <tr>\n",
       "      <th>39451</th>\n",
       "      <td>Mary Downing</td>\n",
       "      <td>female</td>\n",
       "      <td>11/13/1989 02:11 PM</td>\n",
       "      <td>2.0</td>\n",
       "      <td>3.0</td>\n",
       "      <td>0.0</td>\n",
       "      <td>7.0</td>\n",
       "      <td>15605.0</td>\n",
       "      <td>4275.0</td>\n",
       "      <td>14.0</td>\n",
       "      <td>1585.0</td>\n",
       "      <td>980.0</td>\n",
       "      <td>1872.0</td>\n",
       "      <td>1323.0</td>\n",
       "      <td>1971.0</td>\n",
       "      <td>920.0</td>\n",
       "      <td>335.0</td>\n",
       "      <td>192.0</td>\n",
       "      <td>319.0</td>\n",
       "      <td>0.101598</td>\n",
       "      <td>2011.0</td>\n",
       "      <td>NaN</td>\n",
       "      <td>38.787126</td>\n",
       "      <td>-9.147077</td>\n",
       "    </tr>\n",
       "    <tr>\n",
       "      <th>21557</th>\n",
       "      <td>Manuel Kueny</td>\n",
       "      <td>male</td>\n",
       "      <td>08/09/1976 06:23 AM</td>\n",
       "      <td>0.0</td>\n",
       "      <td>0.0</td>\n",
       "      <td>1.0</td>\n",
       "      <td>1.0</td>\n",
       "      <td>13440.0</td>\n",
       "      <td>16366.0</td>\n",
       "      <td>14.0</td>\n",
       "      <td>28.0</td>\n",
       "      <td>269.0</td>\n",
       "      <td>1855.0</td>\n",
       "      <td>939.0</td>\n",
       "      <td>785.0</td>\n",
       "      <td>139.0</td>\n",
       "      <td>679.0</td>\n",
       "      <td>270.0</td>\n",
       "      <td>221.0</td>\n",
       "      <td>0.259943</td>\n",
       "      <td>2009.0</td>\n",
       "      <td>NaN</td>\n",
       "      <td>38.741816</td>\n",
       "      <td>-9.159700</td>\n",
       "    </tr>\n",
       "    <tr>\n",
       "      <th>16415</th>\n",
       "      <td>Phd. Curtis Tharp</td>\n",
       "      <td>male</td>\n",
       "      <td>07/11/1966 08:12 AM</td>\n",
       "      <td>1.0</td>\n",
       "      <td>1.0</td>\n",
       "      <td>1.0</td>\n",
       "      <td>5.0</td>\n",
       "      <td>49250.0</td>\n",
       "      <td>3197.0</td>\n",
       "      <td>14.0</td>\n",
       "      <td>258.0</td>\n",
       "      <td>726.0</td>\n",
       "      <td>547.0</td>\n",
       "      <td>983.0</td>\n",
       "      <td>1492.0</td>\n",
       "      <td>1046.0</td>\n",
       "      <td>112.0</td>\n",
       "      <td>144.0</td>\n",
       "      <td>244.0</td>\n",
       "      <td>0.317822</td>\n",
       "      <td>2012.0</td>\n",
       "      <td>925367.0</td>\n",
       "      <td>38.785921</td>\n",
       "      <td>-9.149221</td>\n",
       "    </tr>\n",
       "  </tbody>\n",
       "</table>\n",
       "</div>"
      ],
      "text/plain": [
       "                 customer_name customer_gender   customer_birthdate  kids_home  teens_home  number_complaints  distinct_stores_visited  lifetime_spend_groceries  lifetime_spend_electronics  typical_hour  lifetime_spend_vegetables  lifetime_spend_nonalcohol_drinks  lifetime_spend_alcohol_drinks  lifetime_spend_meat  lifetime_spend_fish  lifetime_spend_hygiene  lifetime_spend_videogames  lifetime_spend_petfood  lifetime_total_distinct_products  percentage_of_products_bought_promotion  year_first_transaction  loyalty_card_number   latitude  longitude\n",
       "customer_id                                                                                                                                                                                                                                                                                                                                                                                                                                                                                                                                                              \n",
       "29930              April Clark          female  01/15/1972 02:27 PM        2.0         2.0                1.0                      4.0                    7789.0                      5601.0          13.0                      726.0                             962.0                         1213.0               1598.0               1894.0                   457.0                      412.0                   428.0                             386.0                                 0.158741                  2018.0                  NaN  38.721807  -9.125534\n",
       "6813         Bsc. Paul Ketchum            male  07/31/1944 10:53 AM        0.0         1.0                0.0                      4.0                    8653.0                        35.0          14.0                      792.0                             102.0                          104.0                741.0                346.0                   394.0                       75.0                   226.0                              73.0                                 1.227890                  2013.0             971840.0  38.734668  -9.163533\n",
       "39451             Mary Downing          female  11/13/1989 02:11 PM        2.0         3.0                0.0                      7.0                   15605.0                      4275.0          14.0                     1585.0                             980.0                         1872.0               1323.0               1971.0                   920.0                      335.0                   192.0                             319.0                                 0.101598                  2011.0                  NaN  38.787126  -9.147077\n",
       "21557             Manuel Kueny            male  08/09/1976 06:23 AM        0.0         0.0                1.0                      1.0                   13440.0                     16366.0          14.0                       28.0                             269.0                         1855.0                939.0                785.0                   139.0                      679.0                   270.0                             221.0                                 0.259943                  2009.0                  NaN  38.741816  -9.159700\n",
       "16415        Phd. Curtis Tharp            male  07/11/1966 08:12 AM        1.0         1.0                1.0                      5.0                   49250.0                      3197.0          14.0                      258.0                             726.0                          547.0                983.0               1492.0                  1046.0                      112.0                   144.0                             244.0                                 0.317822                  2012.0             925367.0  38.785921  -9.149221"
      ]
     },
     "execution_count": 7,
     "metadata": {},
     "output_type": "execute_result"
    }
   ],
   "source": [
    "customer_info.head(5)"
   ]
  },
  {
   "cell_type": "code",
   "execution_count": 8,
   "id": "b3d724ea",
   "metadata": {},
   "outputs": [
    {
     "name": "stdout",
     "output_type": "stream",
     "text": [
      "<class 'pandas.core.frame.DataFrame'>\n",
      "RangeIndex: 100000 entries, 0 to 99999\n",
      "Data columns (total 3 columns):\n",
      " #   Column         Non-Null Count   Dtype \n",
      "---  ------         --------------   ----- \n",
      " 0   invoice_id     100000 non-null  int64 \n",
      " 1   list_of_goods  100000 non-null  object\n",
      " 2   customer_id    100000 non-null  int64 \n",
      "dtypes: int64(2), object(1)\n",
      "memory usage: 2.3+ MB\n"
     ]
    }
   ],
   "source": [
    "customer_basket.info()"
   ]
  },
  {
   "cell_type": "code",
   "execution_count": 9,
   "id": "647ddaeb",
   "metadata": {},
   "outputs": [
    {
     "name": "stdout",
     "output_type": "stream",
     "text": [
      "<class 'pandas.core.frame.DataFrame'>\n",
      "Int64Index: 34060 entries, 29930 to 22050\n",
      "Data columns (total 24 columns):\n",
      " #   Column                                   Non-Null Count  Dtype  \n",
      "---  ------                                   --------------  -----  \n",
      " 0   customer_name                            34060 non-null  object \n",
      " 1   customer_gender                          34060 non-null  object \n",
      " 2   customer_birthdate                       33719 non-null  object \n",
      " 3   kids_home                                33311 non-null  float64\n",
      " 4   teens_home                               33277 non-null  float64\n",
      " 5   number_complaints                        33038 non-null  float64\n",
      " 6   distinct_stores_visited                  33379 non-null  float64\n",
      " 7   lifetime_spend_groceries                 34060 non-null  float64\n",
      " 8   lifetime_spend_electronics               34060 non-null  float64\n",
      " 9   typical_hour                             32698 non-null  float64\n",
      " 10  lifetime_spend_vegetables                33038 non-null  float64\n",
      " 11  lifetime_spend_nonalcohol_drinks         34060 non-null  float64\n",
      " 12  lifetime_spend_alcohol_drinks            33379 non-null  float64\n",
      " 13  lifetime_spend_meat                      34060 non-null  float64\n",
      " 14  lifetime_spend_fish                      32357 non-null  float64\n",
      " 15  lifetime_spend_hygiene                   34060 non-null  float64\n",
      " 16  lifetime_spend_videogames                34060 non-null  float64\n",
      " 17  lifetime_spend_petfood                   34060 non-null  float64\n",
      " 18  lifetime_total_distinct_products         34060 non-null  float64\n",
      " 19  percentage_of_products_bought_promotion  34060 non-null  float64\n",
      " 20  year_first_transaction                   34060 non-null  float64\n",
      " 21  loyalty_card_number                      23152 non-null  float64\n",
      " 22  latitude                                 34060 non-null  float64\n",
      " 23  longitude                                34060 non-null  float64\n",
      "dtypes: float64(21), object(3)\n",
      "memory usage: 6.5+ MB\n"
     ]
    }
   ],
   "source": [
    "customer_info.info()"
   ]
  },
  {
   "cell_type": "markdown",
   "id": "d18d4c76",
   "metadata": {},
   "source": [
    "Because the datasets are rather small and mostly numerical, we don't see the need to adapt the data types "
   ]
  },
  {
   "cell_type": "markdown",
   "id": "f1861d90",
   "metadata": {},
   "source": [
    "### 2. Feature Selection (Part 1)"
   ]
  },
  {
   "cell_type": "markdown",
   "id": "fabe11fe",
   "metadata": {},
   "source": [
    "#### 2.1) Adding an *age* column"
   ]
  },
  {
   "cell_type": "markdown",
   "id": "ddd97598",
   "metadata": {},
   "source": [
    "##### 2.1.1) Altering the customer_birthdate column to datetime format"
   ]
  },
  {
   "cell_type": "code",
   "execution_count": 10,
   "id": "713fe980",
   "metadata": {},
   "outputs": [],
   "source": [
    "customer_info[\"customer_birthdate\"] = pd.to_datetime(customer_info[\"customer_birthdate\"], format=\"%m/%d/%Y %I:%M %p\")"
   ]
  },
  {
   "cell_type": "markdown",
   "id": "d14fa844",
   "metadata": {},
   "source": [
    "##### 2.1.2) Creating the age column throught the differece between the current date and the birth date"
   ]
  },
  {
   "cell_type": "code",
   "execution_count": 11,
   "id": "b68501ea",
   "metadata": {},
   "outputs": [],
   "source": [
    "today = datetime.now()\n",
    "customer_info[\"age\"] = customer_info[\"customer_birthdate\"].apply(lambda x: today.year - x.year - ((today.month, today.day) < (x.month, x.day))) # works because True = 1 and False = 0"
   ]
  },
  {
   "cell_type": "markdown",
   "id": "c50cc8a9",
   "metadata": {},
   "source": [
    "#### 2.2) Removing features"
   ]
  },
  {
   "cell_type": "code",
   "execution_count": 12,
   "id": "1d8678d5",
   "metadata": {},
   "outputs": [
    {
     "data": {
      "text/html": [
       "<div>\n",
       "<style scoped>\n",
       "    .dataframe tbody tr th:only-of-type {\n",
       "        vertical-align: middle;\n",
       "    }\n",
       "\n",
       "    .dataframe tbody tr th {\n",
       "        vertical-align: top;\n",
       "    }\n",
       "\n",
       "    .dataframe thead th {\n",
       "        text-align: right;\n",
       "    }\n",
       "</style>\n",
       "<table border=\"1\" class=\"dataframe\">\n",
       "  <thead>\n",
       "    <tr style=\"text-align: right;\">\n",
       "      <th></th>\n",
       "      <th>customer_name</th>\n",
       "      <th>customer_gender</th>\n",
       "      <th>customer_birthdate</th>\n",
       "      <th>kids_home</th>\n",
       "      <th>teens_home</th>\n",
       "      <th>number_complaints</th>\n",
       "      <th>distinct_stores_visited</th>\n",
       "      <th>lifetime_spend_groceries</th>\n",
       "      <th>lifetime_spend_electronics</th>\n",
       "      <th>typical_hour</th>\n",
       "      <th>lifetime_spend_vegetables</th>\n",
       "      <th>lifetime_spend_nonalcohol_drinks</th>\n",
       "      <th>lifetime_spend_alcohol_drinks</th>\n",
       "      <th>lifetime_spend_meat</th>\n",
       "      <th>lifetime_spend_fish</th>\n",
       "      <th>lifetime_spend_hygiene</th>\n",
       "      <th>lifetime_spend_videogames</th>\n",
       "      <th>lifetime_spend_petfood</th>\n",
       "      <th>lifetime_total_distinct_products</th>\n",
       "      <th>percentage_of_products_bought_promotion</th>\n",
       "      <th>year_first_transaction</th>\n",
       "      <th>loyalty_card_number</th>\n",
       "      <th>latitude</th>\n",
       "      <th>longitude</th>\n",
       "      <th>age</th>\n",
       "    </tr>\n",
       "    <tr>\n",
       "      <th>customer_id</th>\n",
       "      <th></th>\n",
       "      <th></th>\n",
       "      <th></th>\n",
       "      <th></th>\n",
       "      <th></th>\n",
       "      <th></th>\n",
       "      <th></th>\n",
       "      <th></th>\n",
       "      <th></th>\n",
       "      <th></th>\n",
       "      <th></th>\n",
       "      <th></th>\n",
       "      <th></th>\n",
       "      <th></th>\n",
       "      <th></th>\n",
       "      <th></th>\n",
       "      <th></th>\n",
       "      <th></th>\n",
       "      <th></th>\n",
       "      <th></th>\n",
       "      <th></th>\n",
       "      <th></th>\n",
       "      <th></th>\n",
       "      <th></th>\n",
       "      <th></th>\n",
       "    </tr>\n",
       "  </thead>\n",
       "  <tbody>\n",
       "    <tr>\n",
       "      <th>29930</th>\n",
       "      <td>April Clark</td>\n",
       "      <td>female</td>\n",
       "      <td>1972-01-15 14:27:00</td>\n",
       "      <td>2.0</td>\n",
       "      <td>2.0</td>\n",
       "      <td>1.0</td>\n",
       "      <td>4.0</td>\n",
       "      <td>7789.0</td>\n",
       "      <td>5601.0</td>\n",
       "      <td>13.0</td>\n",
       "      <td>726.0</td>\n",
       "      <td>962.0</td>\n",
       "      <td>1213.0</td>\n",
       "      <td>1598.0</td>\n",
       "      <td>1894.0</td>\n",
       "      <td>457.0</td>\n",
       "      <td>412.0</td>\n",
       "      <td>428.0</td>\n",
       "      <td>386.0</td>\n",
       "      <td>0.158741</td>\n",
       "      <td>2018.0</td>\n",
       "      <td>NaN</td>\n",
       "      <td>38.721807</td>\n",
       "      <td>-9.125534</td>\n",
       "      <td>53.0</td>\n",
       "    </tr>\n",
       "    <tr>\n",
       "      <th>6813</th>\n",
       "      <td>Bsc. Paul Ketchum</td>\n",
       "      <td>male</td>\n",
       "      <td>1944-07-31 10:53:00</td>\n",
       "      <td>0.0</td>\n",
       "      <td>1.0</td>\n",
       "      <td>0.0</td>\n",
       "      <td>4.0</td>\n",
       "      <td>8653.0</td>\n",
       "      <td>35.0</td>\n",
       "      <td>14.0</td>\n",
       "      <td>792.0</td>\n",
       "      <td>102.0</td>\n",
       "      <td>104.0</td>\n",
       "      <td>741.0</td>\n",
       "      <td>346.0</td>\n",
       "      <td>394.0</td>\n",
       "      <td>75.0</td>\n",
       "      <td>226.0</td>\n",
       "      <td>73.0</td>\n",
       "      <td>1.227890</td>\n",
       "      <td>2013.0</td>\n",
       "      <td>971840.0</td>\n",
       "      <td>38.734668</td>\n",
       "      <td>-9.163533</td>\n",
       "      <td>80.0</td>\n",
       "    </tr>\n",
       "    <tr>\n",
       "      <th>39451</th>\n",
       "      <td>Mary Downing</td>\n",
       "      <td>female</td>\n",
       "      <td>1989-11-13 14:11:00</td>\n",
       "      <td>2.0</td>\n",
       "      <td>3.0</td>\n",
       "      <td>0.0</td>\n",
       "      <td>7.0</td>\n",
       "      <td>15605.0</td>\n",
       "      <td>4275.0</td>\n",
       "      <td>14.0</td>\n",
       "      <td>1585.0</td>\n",
       "      <td>980.0</td>\n",
       "      <td>1872.0</td>\n",
       "      <td>1323.0</td>\n",
       "      <td>1971.0</td>\n",
       "      <td>920.0</td>\n",
       "      <td>335.0</td>\n",
       "      <td>192.0</td>\n",
       "      <td>319.0</td>\n",
       "      <td>0.101598</td>\n",
       "      <td>2011.0</td>\n",
       "      <td>NaN</td>\n",
       "      <td>38.787126</td>\n",
       "      <td>-9.147077</td>\n",
       "      <td>35.0</td>\n",
       "    </tr>\n",
       "    <tr>\n",
       "      <th>21557</th>\n",
       "      <td>Manuel Kueny</td>\n",
       "      <td>male</td>\n",
       "      <td>1976-08-09 06:23:00</td>\n",
       "      <td>0.0</td>\n",
       "      <td>0.0</td>\n",
       "      <td>1.0</td>\n",
       "      <td>1.0</td>\n",
       "      <td>13440.0</td>\n",
       "      <td>16366.0</td>\n",
       "      <td>14.0</td>\n",
       "      <td>28.0</td>\n",
       "      <td>269.0</td>\n",
       "      <td>1855.0</td>\n",
       "      <td>939.0</td>\n",
       "      <td>785.0</td>\n",
       "      <td>139.0</td>\n",
       "      <td>679.0</td>\n",
       "      <td>270.0</td>\n",
       "      <td>221.0</td>\n",
       "      <td>0.259943</td>\n",
       "      <td>2009.0</td>\n",
       "      <td>NaN</td>\n",
       "      <td>38.741816</td>\n",
       "      <td>-9.159700</td>\n",
       "      <td>48.0</td>\n",
       "    </tr>\n",
       "    <tr>\n",
       "      <th>16415</th>\n",
       "      <td>Phd. Curtis Tharp</td>\n",
       "      <td>male</td>\n",
       "      <td>1966-07-11 08:12:00</td>\n",
       "      <td>1.0</td>\n",
       "      <td>1.0</td>\n",
       "      <td>1.0</td>\n",
       "      <td>5.0</td>\n",
       "      <td>49250.0</td>\n",
       "      <td>3197.0</td>\n",
       "      <td>14.0</td>\n",
       "      <td>258.0</td>\n",
       "      <td>726.0</td>\n",
       "      <td>547.0</td>\n",
       "      <td>983.0</td>\n",
       "      <td>1492.0</td>\n",
       "      <td>1046.0</td>\n",
       "      <td>112.0</td>\n",
       "      <td>144.0</td>\n",
       "      <td>244.0</td>\n",
       "      <td>0.317822</td>\n",
       "      <td>2012.0</td>\n",
       "      <td>925367.0</td>\n",
       "      <td>38.785921</td>\n",
       "      <td>-9.149221</td>\n",
       "      <td>58.0</td>\n",
       "    </tr>\n",
       "  </tbody>\n",
       "</table>\n",
       "</div>"
      ],
      "text/plain": [
       "                 customer_name customer_gender  customer_birthdate  kids_home  teens_home  number_complaints  distinct_stores_visited  lifetime_spend_groceries  lifetime_spend_electronics  typical_hour  lifetime_spend_vegetables  lifetime_spend_nonalcohol_drinks  lifetime_spend_alcohol_drinks  lifetime_spend_meat  lifetime_spend_fish  lifetime_spend_hygiene  lifetime_spend_videogames  lifetime_spend_petfood  lifetime_total_distinct_products  percentage_of_products_bought_promotion  year_first_transaction  loyalty_card_number   latitude  longitude   age\n",
       "customer_id                                                                                                                                                                                                                                                                                                                                                                                                                                                                                                                                                                   \n",
       "29930              April Clark          female 1972-01-15 14:27:00        2.0         2.0                1.0                      4.0                    7789.0                      5601.0          13.0                      726.0                             962.0                         1213.0               1598.0               1894.0                   457.0                      412.0                   428.0                             386.0                                 0.158741                  2018.0                  NaN  38.721807  -9.125534  53.0\n",
       "6813         Bsc. Paul Ketchum            male 1944-07-31 10:53:00        0.0         1.0                0.0                      4.0                    8653.0                        35.0          14.0                      792.0                             102.0                          104.0                741.0                346.0                   394.0                       75.0                   226.0                              73.0                                 1.227890                  2013.0             971840.0  38.734668  -9.163533  80.0\n",
       "39451             Mary Downing          female 1989-11-13 14:11:00        2.0         3.0                0.0                      7.0                   15605.0                      4275.0          14.0                     1585.0                             980.0                         1872.0               1323.0               1971.0                   920.0                      335.0                   192.0                             319.0                                 0.101598                  2011.0                  NaN  38.787126  -9.147077  35.0\n",
       "21557             Manuel Kueny            male 1976-08-09 06:23:00        0.0         0.0                1.0                      1.0                   13440.0                     16366.0          14.0                       28.0                             269.0                         1855.0                939.0                785.0                   139.0                      679.0                   270.0                             221.0                                 0.259943                  2009.0                  NaN  38.741816  -9.159700  48.0\n",
       "16415        Phd. Curtis Tharp            male 1966-07-11 08:12:00        1.0         1.0                1.0                      5.0                   49250.0                      3197.0          14.0                      258.0                             726.0                          547.0                983.0               1492.0                  1046.0                      112.0                   144.0                             244.0                                 0.317822                  2012.0             925367.0  38.785921  -9.149221  58.0"
      ]
     },
     "execution_count": 12,
     "metadata": {},
     "output_type": "execute_result"
    }
   ],
   "source": [
    "customer_info.head()"
   ]
  },
  {
   "cell_type": "markdown",
   "id": "ae3b203a",
   "metadata": {},
   "source": [
    "Columns to remove:\n",
    "- *customer_name* - Since customers are already identified by id, there's no need to save their name;\n",
    "- *customer_birthdate* - Due to the fact that we've already created an *age* column;\n",
    "- *year_first_transaction* - We believe the worth this variable has is already in the *age* column, given the relation that the older people are, the smaller will be the year of the first transation, and no additional value may be extrated;\n",
    "- *loyalty_card_number* - This is a set of digits with no meaning, assigned to customers with loyalty cards. Its only possible purpose would be distinguishing in between customers since the numbers are theoretically unique for each one. However, not all customers have a loyalty card and we already have the *customer_id* column, so this variable has no worth.\n",
    "- *latitude* and *longitude* - these two columns are only used for the map made in the EDA, which showed no visible pattern."
   ]
  },
  {
   "cell_type": "code",
   "execution_count": 13,
   "id": "de597a9b",
   "metadata": {},
   "outputs": [],
   "source": [
    "customer_info = customer_info.drop([\"customer_name\", \"customer_birthdate\", \"year_first_transaction\", \"loyalty_card_number\", \"latitude\", \"longitude\"], axis=1)"
   ]
  },
  {
   "cell_type": "markdown",
   "id": "3105823d",
   "metadata": {},
   "source": [
    "#### 2.3) Assessing highly correlated features"
   ]
  },
  {
   "cell_type": "markdown",
   "id": "83c001af",
   "metadata": {},
   "source": [
    "Sometimes, variables present correlations that justfy removing one of them, as it becomes redundant to keep both. As we saw through our heatmap, some features do have a rather high correlation. However, we don't consider these nearly enough to remove them."
   ]
  },
  {
   "cell_type": "markdown",
   "id": "5724d86b",
   "metadata": {},
   "source": [
    "#### 2.4) Label encoding for the *customer_gender* variable"
   ]
  },
  {
   "cell_type": "code",
   "execution_count": 14,
   "id": "b1d6d82f",
   "metadata": {},
   "outputs": [],
   "source": [
    "customer_info[\"customer_gender\"] = np.where(customer_info[\"customer_gender\"] == \"female\", 0, 1)"
   ]
  },
  {
   "cell_type": "markdown",
   "id": "3b83f928",
   "metadata": {},
   "source": [
    "### 3. Unidimensional Outlier Detection\n",
    "After careful analysis of our EDA, our *lifetime_* variables have all shown a significant amount of outliers along with a considerable skewness. The presence of these two factors in the dataset can negatively affect the performance and reliability of machine learning models. Skewness reflects asymmetry in the distribution of a variable, which may distort the underlying relationships between features and compromise the assumptions of certain algorithms, particularly those that rely on linearity or distance metrics. Outliers further exacerbate this issue by disproportionately influencing key statistical measures such as means, variances, and correlations, potentially leading to biased parameter estimates and reduced model stability. \n",
    "\n",
    "Consequently, addressing skewness and outliers during the preprocessing stage is essential to improve model robustness, enhance predictive accuracy, and ensure more reliable generalization to unseen data. "
   ]
  },
  {
   "cell_type": "code",
   "execution_count": 15,
   "id": "75ede49e",
   "metadata": {},
   "outputs": [],
   "source": [
    "def log_transform_lifetime_features(dataframe):\n",
    "    cols_to_transform = [col for col in dataframe.columns if col.startswith('lifetime_')]\n",
    "    dataframe[cols_to_transform] = dataframe[cols_to_transform].apply(lambda x: np.log1p(x))\n",
    "    return dataframe"
   ]
  },
  {
   "cell_type": "code",
   "execution_count": 16,
   "id": "70605c0f",
   "metadata": {},
   "outputs": [],
   "source": [
    "customer_info = log_transform_lifetime_features(customer_info)"
   ]
  },
  {
   "cell_type": "markdown",
   "id": "8c6272d9",
   "metadata": {},
   "source": [
    "A log transformation was applied to the financial features due to their highly right-skewed distributions. This transformation helps to reduce skewness, stabilize variance, and limit the influence of extreme values."
   ]
  },
  {
   "cell_type": "markdown",
   "id": "be300011",
   "metadata": {},
   "source": [
    "### 4. Data Cleaning ###\n",
    "Dealing with the duplicates, missing values and noise."
   ]
  },
  {
   "cell_type": "markdown",
   "id": "b39b823c",
   "metadata": {},
   "source": [
    "#### 4.1) Duplicates"
   ]
  },
  {
   "cell_type": "markdown",
   "id": "0fc16637",
   "metadata": {},
   "source": [
    "##### 4.1.1) For customer_basket"
   ]
  },
  {
   "cell_type": "code",
   "execution_count": 17,
   "id": "f91815a3",
   "metadata": {},
   "outputs": [
    {
     "data": {
      "text/plain": [
       "0"
      ]
     },
     "execution_count": 17,
     "metadata": {},
     "output_type": "execute_result"
    }
   ],
   "source": [
    "customer_basket.duplicated().sum()"
   ]
  },
  {
   "cell_type": "markdown",
   "id": "f4647eb7",
   "metadata": {},
   "source": [
    "On a first look, it seems there are no duplicated rows..."
   ]
  },
  {
   "cell_type": "code",
   "execution_count": 18,
   "id": "1486c3de",
   "metadata": {},
   "outputs": [
    {
     "data": {
      "text/plain": [
       "False"
      ]
     },
     "execution_count": 18,
     "metadata": {},
     "output_type": "execute_result"
    }
   ],
   "source": [
    "customer_basket[\"invoice_id\"].is_unique"
   ]
  },
  {
   "cell_type": "code",
   "execution_count": 19,
   "id": "94e7edb5",
   "metadata": {},
   "outputs": [
    {
     "data": {
      "text/plain": [
       "False"
      ]
     },
     "execution_count": 19,
     "metadata": {},
     "output_type": "execute_result"
    }
   ],
   "source": [
    "customer_basket[\"customer_id\"].is_unique"
   ]
  },
  {
   "cell_type": "markdown",
   "id": "7939affd",
   "metadata": {},
   "source": [
    "With this, we may conclude that, although there are no duplicated rows, some refer to the same customer making different purchases (identical *customer_id*), while others reflect different customers buying the same set of items (identical *invoice_id*)."
   ]
  },
  {
   "cell_type": "markdown",
   "id": "b484874f",
   "metadata": {},
   "source": [
    "##### 4.1.2) For customer_info"
   ]
  },
  {
   "cell_type": "code",
   "execution_count": 20,
   "id": "50e10912",
   "metadata": {},
   "outputs": [
    {
     "data": {
      "text/plain": [
       "0"
      ]
     },
     "execution_count": 20,
     "metadata": {},
     "output_type": "execute_result"
    }
   ],
   "source": [
    "customer_basket.duplicated().sum()"
   ]
  },
  {
   "cell_type": "markdown",
   "id": "81dd7509",
   "metadata": {},
   "source": [
    "Here, because we managed to set *customer_id* as an index, and also due to the last block of code showing no repeated rows, we may conclude there aren't any duplicates in the *customer_info* dataset."
   ]
  },
  {
   "cell_type": "markdown",
   "id": "60bb98ed",
   "metadata": {},
   "source": [
    "#### 4.2) Missing Values / Imputation"
   ]
  },
  {
   "cell_type": "markdown",
   "id": "8165c82a",
   "metadata": {},
   "source": [
    "##### 4.2.1) For customer_basket"
   ]
  },
  {
   "cell_type": "code",
   "execution_count": 21,
   "id": "22eff15e",
   "metadata": {},
   "outputs": [
    {
     "data": {
      "text/html": [
       "<div>\n",
       "<style scoped>\n",
       "    .dataframe tbody tr th:only-of-type {\n",
       "        vertical-align: middle;\n",
       "    }\n",
       "\n",
       "    .dataframe tbody tr th {\n",
       "        vertical-align: top;\n",
       "    }\n",
       "\n",
       "    .dataframe thead th {\n",
       "        text-align: right;\n",
       "    }\n",
       "</style>\n",
       "<table border=\"1\" class=\"dataframe\">\n",
       "  <thead>\n",
       "    <tr style=\"text-align: right;\">\n",
       "      <th></th>\n",
       "      <th>Missing Count</th>\n",
       "      <th>Missing %</th>\n",
       "    </tr>\n",
       "  </thead>\n",
       "  <tbody>\n",
       "    <tr>\n",
       "      <th>invoice_id</th>\n",
       "      <td>0</td>\n",
       "      <td>0.0</td>\n",
       "    </tr>\n",
       "    <tr>\n",
       "      <th>list_of_goods</th>\n",
       "      <td>0</td>\n",
       "      <td>0.0</td>\n",
       "    </tr>\n",
       "    <tr>\n",
       "      <th>customer_id</th>\n",
       "      <td>0</td>\n",
       "      <td>0.0</td>\n",
       "    </tr>\n",
       "  </tbody>\n",
       "</table>\n",
       "</div>"
      ],
      "text/plain": [
       "               Missing Count  Missing %\n",
       "invoice_id                 0        0.0\n",
       "list_of_goods              0        0.0\n",
       "customer_id                0        0.0"
      ]
     },
     "execution_count": 21,
     "metadata": {},
     "output_type": "execute_result"
    }
   ],
   "source": [
    "missing_customer_basket = pd.DataFrame({\n",
    "    'Missing Count': customer_basket.isnull().sum(),\n",
    "    'Missing %': round(customer_basket.isnull().mean() * 100, 2)\n",
    "})\n",
    "missing_customer_basket"
   ]
  },
  {
   "cell_type": "markdown",
   "id": "bb8449b6",
   "metadata": {},
   "source": [
    "Great! We have no missing values in the *customer_basket* dataset."
   ]
  },
  {
   "cell_type": "markdown",
   "id": "f1556714",
   "metadata": {},
   "source": [
    "##### 4.2.2) For customer_info"
   ]
  },
  {
   "cell_type": "code",
   "execution_count": 22,
   "id": "5dcbe796",
   "metadata": {},
   "outputs": [
    {
     "data": {
      "text/html": [
       "<div>\n",
       "<style scoped>\n",
       "    .dataframe tbody tr th:only-of-type {\n",
       "        vertical-align: middle;\n",
       "    }\n",
       "\n",
       "    .dataframe tbody tr th {\n",
       "        vertical-align: top;\n",
       "    }\n",
       "\n",
       "    .dataframe thead th {\n",
       "        text-align: right;\n",
       "    }\n",
       "</style>\n",
       "<table border=\"1\" class=\"dataframe\">\n",
       "  <thead>\n",
       "    <tr style=\"text-align: right;\">\n",
       "      <th></th>\n",
       "      <th>Missing Count</th>\n",
       "      <th>Missing %</th>\n",
       "    </tr>\n",
       "  </thead>\n",
       "  <tbody>\n",
       "    <tr>\n",
       "      <th>customer_gender</th>\n",
       "      <td>0</td>\n",
       "      <td>0.0</td>\n",
       "    </tr>\n",
       "    <tr>\n",
       "      <th>kids_home</th>\n",
       "      <td>749</td>\n",
       "      <td>2.2</td>\n",
       "    </tr>\n",
       "    <tr>\n",
       "      <th>teens_home</th>\n",
       "      <td>783</td>\n",
       "      <td>2.3</td>\n",
       "    </tr>\n",
       "    <tr>\n",
       "      <th>number_complaints</th>\n",
       "      <td>1022</td>\n",
       "      <td>3.0</td>\n",
       "    </tr>\n",
       "    <tr>\n",
       "      <th>distinct_stores_visited</th>\n",
       "      <td>681</td>\n",
       "      <td>2.0</td>\n",
       "    </tr>\n",
       "    <tr>\n",
       "      <th>lifetime_spend_groceries</th>\n",
       "      <td>0</td>\n",
       "      <td>0.0</td>\n",
       "    </tr>\n",
       "    <tr>\n",
       "      <th>lifetime_spend_electronics</th>\n",
       "      <td>0</td>\n",
       "      <td>0.0</td>\n",
       "    </tr>\n",
       "    <tr>\n",
       "      <th>typical_hour</th>\n",
       "      <td>1362</td>\n",
       "      <td>4.0</td>\n",
       "    </tr>\n",
       "    <tr>\n",
       "      <th>lifetime_spend_vegetables</th>\n",
       "      <td>1022</td>\n",
       "      <td>3.0</td>\n",
       "    </tr>\n",
       "    <tr>\n",
       "      <th>lifetime_spend_nonalcohol_drinks</th>\n",
       "      <td>0</td>\n",
       "      <td>0.0</td>\n",
       "    </tr>\n",
       "    <tr>\n",
       "      <th>lifetime_spend_alcohol_drinks</th>\n",
       "      <td>681</td>\n",
       "      <td>2.0</td>\n",
       "    </tr>\n",
       "    <tr>\n",
       "      <th>lifetime_spend_meat</th>\n",
       "      <td>0</td>\n",
       "      <td>0.0</td>\n",
       "    </tr>\n",
       "    <tr>\n",
       "      <th>lifetime_spend_fish</th>\n",
       "      <td>1703</td>\n",
       "      <td>5.0</td>\n",
       "    </tr>\n",
       "    <tr>\n",
       "      <th>lifetime_spend_hygiene</th>\n",
       "      <td>0</td>\n",
       "      <td>0.0</td>\n",
       "    </tr>\n",
       "    <tr>\n",
       "      <th>lifetime_spend_videogames</th>\n",
       "      <td>0</td>\n",
       "      <td>0.0</td>\n",
       "    </tr>\n",
       "    <tr>\n",
       "      <th>lifetime_spend_petfood</th>\n",
       "      <td>0</td>\n",
       "      <td>0.0</td>\n",
       "    </tr>\n",
       "    <tr>\n",
       "      <th>lifetime_total_distinct_products</th>\n",
       "      <td>0</td>\n",
       "      <td>0.0</td>\n",
       "    </tr>\n",
       "    <tr>\n",
       "      <th>percentage_of_products_bought_promotion</th>\n",
       "      <td>0</td>\n",
       "      <td>0.0</td>\n",
       "    </tr>\n",
       "    <tr>\n",
       "      <th>age</th>\n",
       "      <td>341</td>\n",
       "      <td>1.0</td>\n",
       "    </tr>\n",
       "  </tbody>\n",
       "</table>\n",
       "</div>"
      ],
      "text/plain": [
       "                                         Missing Count  Missing %\n",
       "customer_gender                                      0        0.0\n",
       "kids_home                                          749        2.2\n",
       "teens_home                                         783        2.3\n",
       "number_complaints                                 1022        3.0\n",
       "distinct_stores_visited                            681        2.0\n",
       "lifetime_spend_groceries                             0        0.0\n",
       "lifetime_spend_electronics                           0        0.0\n",
       "typical_hour                                      1362        4.0\n",
       "lifetime_spend_vegetables                         1022        3.0\n",
       "lifetime_spend_nonalcohol_drinks                     0        0.0\n",
       "lifetime_spend_alcohol_drinks                      681        2.0\n",
       "lifetime_spend_meat                                  0        0.0\n",
       "lifetime_spend_fish                               1703        5.0\n",
       "lifetime_spend_hygiene                               0        0.0\n",
       "lifetime_spend_videogames                            0        0.0\n",
       "lifetime_spend_petfood                               0        0.0\n",
       "lifetime_total_distinct_products                     0        0.0\n",
       "percentage_of_products_bought_promotion              0        0.0\n",
       "age                                                341        1.0"
      ]
     },
     "execution_count": 22,
     "metadata": {},
     "output_type": "execute_result"
    }
   ],
   "source": [
    "missing_customer_info = pd.DataFrame({\n",
    "    'Missing Count': customer_info.isnull().sum(),\n",
    "    'Missing %': round(customer_info.isnull().mean() * 100, 2)\n",
    "})\n",
    "missing_customer_info"
   ]
  },
  {
   "cell_type": "markdown",
   "id": "10206c62",
   "metadata": {},
   "source": [
    "We will use K Nearest Neighbours imputation to replace these missing values. Firstly, we need to find a value for K."
   ]
  },
  {
   "cell_type": "markdown",
   "id": "9bad5114",
   "metadata": {},
   "source": [
    "To evaluate the optimal number of neighbours for KNN imputation, we selected rows where the 'age' variable was not missing and split the data into training and test sets. In the test set, we artificially removed the 'age' values to simulate missingness while keeping the true values for comparison. We then applied KNN imputation with different values of k to the combined dataset and measured the accuracy of the imputed values by calculating the RMSE against the original 'age' values in the test set. This allowed us to identify which k produced the most accurate imputations."
   ]
  },
  {
   "cell_type": "code",
   "execution_count": 23,
   "id": "c9cf083a",
   "metadata": {},
   "outputs": [
    {
     "name": "stdout",
     "output_type": "stream",
     "text": [
      "RMSE for each K: {5: 17.724175071612155, 10: 16.75022401188708, 15: 16.53794935736843}\n"
     ]
    }
   ],
   "source": [
    "# keep only the rows where 'age' is observed\n",
    "complete_data = customer_info[customer_info['age'].notna()].copy()\n",
    "\n",
    "train_set, test_set = train_test_split(complete_data, test_size=0.2, random_state=42)\n",
    "\n",
    "# storing the true values to compare later\n",
    "true_age = test_set['age'].copy()\n",
    "\n",
    "# artificially set \"age\" to NaN in test set to simulate missingness\n",
    "test_set.loc[:, 'age'] = np.nan\n",
    "\n",
    "simulated_data = pd.concat([train_set, test_set])\n",
    "\n",
    "rmse_per_k = {}\n",
    "\n",
    "for k in [5, 10, 15]:\n",
    "    imputer = KNNImputer(n_neighbors=k)\n",
    "    imputed_array = imputer.fit_transform(simulated_data.select_dtypes(include='number'))\n",
    "    imputed_df = pd.DataFrame(imputed_array, columns=simulated_data.select_dtypes(include='number').columns)\n",
    "\n",
    "    imputed_df.index = simulated_data.index\n",
    "    \n",
    "    # Recover imputed values for the previously missing 'age' in test_set\n",
    "    imputed_age = imputed_df.loc[test_set.index, 'age']\n",
    "    \n",
    "    rmse = np.sqrt(mean_squared_error(true_age, imputed_age))\n",
    "    rmse_per_k[k] = rmse\n",
    "\n",
    "print(\"RMSE for each K:\", rmse_per_k)\n"
   ]
  },
  {
   "cell_type": "code",
   "execution_count": 24,
   "id": "c1e5df56",
   "metadata": {},
   "outputs": [
    {
     "data": {
      "image/png": "[encoded data removed]",
      "text/plain": [
       "<Figure size 640x480 with 1 Axes>"
      ]
     },
     "metadata": {},
     "output_type": "display_data"
    }
   ],
   "source": [
    "imputer = KNNImputer(n_neighbors=5)\n",
    "imputed_array = imputer.fit_transform(simulated_data.select_dtypes(include='number'))\n",
    "imputed_df = pd.DataFrame(imputed_array, columns=simulated_data.select_dtypes(include='number').columns)\n",
    "\n",
    "# Compare original vs imputed\n",
    "sns.kdeplot(customer_info['age'], label='Original', color='blue')\n",
    "sns.kdeplot(imputed_df['age'], label='Imputed', color='green')\n",
    "plt.legend()\n",
    "plt.title('Distribution Comparison')\n",
    "plt.show()\n"
   ]
  },
  {
   "cell_type": "code",
   "execution_count": 25,
   "id": "2b67e280",
   "metadata": {},
   "outputs": [
    {
     "data": {
      "image/png": "[encoded data removed]",
      "text/plain": [
       "<Figure size 640x480 with 1 Axes>"
      ]
     },
     "metadata": {},
     "output_type": "display_data"
    }
   ],
   "source": [
    "imputer = KNNImputer(n_neighbors=10)\n",
    "imputed_array = imputer.fit_transform(simulated_data.select_dtypes(include='number'))\n",
    "imputed_df = pd.DataFrame(imputed_array, columns=simulated_data.select_dtypes(include='number').columns)\n",
    "\n",
    "# Compare original vs imputed\n",
    "sns.kdeplot(customer_info['age'], label='Original', color='blue')\n",
    "sns.kdeplot(imputed_df['age'], label='Imputed', color='green')\n",
    "plt.legend()\n",
    "plt.title('Distribution Comparison')\n",
    "plt.show()\n"
   ]
  },
  {
   "cell_type": "code",
   "execution_count": 26,
   "id": "f0470e87",
   "metadata": {},
   "outputs": [
    {
     "data": {
      "image/png": "[encoded data removed]",
      "text/plain": [
       "<Figure size 640x480 with 1 Axes>"
      ]
     },
     "metadata": {},
     "output_type": "display_data"
    }
   ],
   "source": [
    "imputer = KNNImputer(n_neighbors=15)\n",
    "imputed_array = imputer.fit_transform(simulated_data.select_dtypes(include='number'))\n",
    "imputed_df = pd.DataFrame(imputed_array, columns=simulated_data.select_dtypes(include='number').columns)\n",
    "\n",
    "# Compare original vs imputed\n",
    "sns.kdeplot(customer_info['age'], label='Original', color='blue')\n",
    "sns.kdeplot(imputed_df['age'], label='Imputed', color='green')\n",
    "plt.legend()\n",
    "plt.title('Distribution Comparison')\n",
    "plt.show()\n"
   ]
  },
  {
   "cell_type": "markdown",
   "id": "e4ac1349",
   "metadata": {},
   "source": [
    "Given these results, we chose k=10, as a larger k begins to show signs of underfitting due to the fact that there's a higher and higher number of predicted values in between the ages 50-60, which is where we have the median of *age* (as seen in the EDA)."
   ]
  },
  {
   "cell_type": "code",
   "execution_count": 27,
   "id": "bcb07737",
   "metadata": {},
   "outputs": [
    {
     "name": "stderr",
     "output_type": "stream",
     "text": [
      "C:\\Users\\User\\AppData\\Local\\Temp\\ipykernel_30068\\1288260230.py:2: DeprecationWarning: In a future version, `df.iloc[:, i] = newvals` will attempt to set the values inplace instead of always setting a new array. To retain the old behavior, use either `df[df.columns[i]] = newvals` or, if columns are non-unique, `df.isetitem(i, newvals)`\n",
      "  customer_info[:] = imputer.fit_transform(customer_info)\n"
     ]
    }
   ],
   "source": [
    "imputer = KNNImputer(n_neighbors=10)\n",
    "customer_info[:] = imputer.fit_transform(customer_info)"
   ]
  },
  {
   "cell_type": "code",
   "execution_count": 28,
   "id": "7b5eafce",
   "metadata": {},
   "outputs": [
    {
     "data": {
      "text/html": [
       "<div>\n",
       "<style scoped>\n",
       "    .dataframe tbody tr th:only-of-type {\n",
       "        vertical-align: middle;\n",
       "    }\n",
       "\n",
       "    .dataframe tbody tr th {\n",
       "        vertical-align: top;\n",
       "    }\n",
       "\n",
       "    .dataframe thead th {\n",
       "        text-align: right;\n",
       "    }\n",
       "</style>\n",
       "<table border=\"1\" class=\"dataframe\">\n",
       "  <thead>\n",
       "    <tr style=\"text-align: right;\">\n",
       "      <th></th>\n",
       "      <th>Missing Count</th>\n",
       "      <th>Missing %</th>\n",
       "    </tr>\n",
       "  </thead>\n",
       "  <tbody>\n",
       "    <tr>\n",
       "      <th>customer_gender</th>\n",
       "      <td>0</td>\n",
       "      <td>0.0</td>\n",
       "    </tr>\n",
       "    <tr>\n",
       "      <th>kids_home</th>\n",
       "      <td>0</td>\n",
       "      <td>0.0</td>\n",
       "    </tr>\n",
       "    <tr>\n",
       "      <th>teens_home</th>\n",
       "      <td>0</td>\n",
       "      <td>0.0</td>\n",
       "    </tr>\n",
       "    <tr>\n",
       "      <th>number_complaints</th>\n",
       "      <td>0</td>\n",
       "      <td>0.0</td>\n",
       "    </tr>\n",
       "    <tr>\n",
       "      <th>distinct_stores_visited</th>\n",
       "      <td>0</td>\n",
       "      <td>0.0</td>\n",
       "    </tr>\n",
       "    <tr>\n",
       "      <th>lifetime_spend_groceries</th>\n",
       "      <td>0</td>\n",
       "      <td>0.0</td>\n",
       "    </tr>\n",
       "    <tr>\n",
       "      <th>lifetime_spend_electronics</th>\n",
       "      <td>0</td>\n",
       "      <td>0.0</td>\n",
       "    </tr>\n",
       "    <tr>\n",
       "      <th>typical_hour</th>\n",
       "      <td>0</td>\n",
       "      <td>0.0</td>\n",
       "    </tr>\n",
       "    <tr>\n",
       "      <th>lifetime_spend_vegetables</th>\n",
       "      <td>0</td>\n",
       "      <td>0.0</td>\n",
       "    </tr>\n",
       "    <tr>\n",
       "      <th>lifetime_spend_nonalcohol_drinks</th>\n",
       "      <td>0</td>\n",
       "      <td>0.0</td>\n",
       "    </tr>\n",
       "    <tr>\n",
       "      <th>lifetime_spend_alcohol_drinks</th>\n",
       "      <td>0</td>\n",
       "      <td>0.0</td>\n",
       "    </tr>\n",
       "    <tr>\n",
       "      <th>lifetime_spend_meat</th>\n",
       "      <td>0</td>\n",
       "      <td>0.0</td>\n",
       "    </tr>\n",
       "    <tr>\n",
       "      <th>lifetime_spend_fish</th>\n",
       "      <td>0</td>\n",
       "      <td>0.0</td>\n",
       "    </tr>\n",
       "    <tr>\n",
       "      <th>lifetime_spend_hygiene</th>\n",
       "      <td>0</td>\n",
       "      <td>0.0</td>\n",
       "    </tr>\n",
       "    <tr>\n",
       "      <th>lifetime_spend_videogames</th>\n",
       "      <td>0</td>\n",
       "      <td>0.0</td>\n",
       "    </tr>\n",
       "    <tr>\n",
       "      <th>lifetime_spend_petfood</th>\n",
       "      <td>0</td>\n",
       "      <td>0.0</td>\n",
       "    </tr>\n",
       "    <tr>\n",
       "      <th>lifetime_total_distinct_products</th>\n",
       "      <td>0</td>\n",
       "      <td>0.0</td>\n",
       "    </tr>\n",
       "    <tr>\n",
       "      <th>percentage_of_products_bought_promotion</th>\n",
       "      <td>0</td>\n",
       "      <td>0.0</td>\n",
       "    </tr>\n",
       "    <tr>\n",
       "      <th>age</th>\n",
       "      <td>0</td>\n",
       "      <td>0.0</td>\n",
       "    </tr>\n",
       "  </tbody>\n",
       "</table>\n",
       "</div>"
      ],
      "text/plain": [
       "                                         Missing Count  Missing %\n",
       "customer_gender                                      0        0.0\n",
       "kids_home                                            0        0.0\n",
       "teens_home                                           0        0.0\n",
       "number_complaints                                    0        0.0\n",
       "distinct_stores_visited                              0        0.0\n",
       "lifetime_spend_groceries                             0        0.0\n",
       "lifetime_spend_electronics                           0        0.0\n",
       "typical_hour                                         0        0.0\n",
       "lifetime_spend_vegetables                            0        0.0\n",
       "lifetime_spend_nonalcohol_drinks                     0        0.0\n",
       "lifetime_spend_alcohol_drinks                        0        0.0\n",
       "lifetime_spend_meat                                  0        0.0\n",
       "lifetime_spend_fish                                  0        0.0\n",
       "lifetime_spend_hygiene                               0        0.0\n",
       "lifetime_spend_videogames                            0        0.0\n",
       "lifetime_spend_petfood                               0        0.0\n",
       "lifetime_total_distinct_products                     0        0.0\n",
       "percentage_of_products_bought_promotion              0        0.0\n",
       "age                                                  0        0.0"
      ]
     },
     "execution_count": 28,
     "metadata": {},
     "output_type": "execute_result"
    }
   ],
   "source": [
    "missing_customer_info = pd.DataFrame({\n",
    "    'Missing Count': customer_info.isnull().sum(),\n",
    "    'Missing %': round(customer_info.isnull().mean() * 100, 2)\n",
    "})\n",
    "missing_customer_info"
   ]
  },
  {
   "cell_type": "markdown",
   "id": "e880d8bc",
   "metadata": {},
   "source": [
    "#### 4.3) Noise\n",
    "\n",
    "As we saw in the EDA, some values are impossible to achieve, namely negative numbers in <i>percentage_of_products_bought_promotion</i>. Thus, we will assume these values to be zero and replace them."
   ]
  },
  {
   "cell_type": "code",
   "execution_count": 29,
   "id": "c43ace3c",
   "metadata": {},
   "outputs": [],
   "source": [
    "# replace the percentage_of_products_bought_promotion below 0 with 0\n",
    "\n",
    "import numpy as np\n",
    "\n",
    "customer_info[\"percentage_of_products_bought_promotion\"] = np.where(\n",
    "    customer_info[\"percentage_of_products_bought_promotion\"] < 0,\n",
    "    0,\n",
    "    customer_info[\"percentage_of_products_bought_promotion\"]\n",
    ")"
   ]
  },
  {
   "cell_type": "markdown",
   "id": "a68e5b3f",
   "metadata": {},
   "source": [
    "### 5. Scaling\n",
    "We'll be using Robust Scaler to scale our data as it has shown, through the EDA's boxplots and histograms, a high presence of outliers."
   ]
  },
  {
   "cell_type": "code",
   "execution_count": 30,
   "id": "2c1ca79f",
   "metadata": {},
   "outputs": [],
   "source": [
    "scaler = RobustScaler()\n",
    "\n",
    "scaled_array = scaler.fit_transform(customer_info)\n",
    "scaled_customer_info = pd.DataFrame(scaled_array, columns=customer_info.columns, index=customer_info.index)\n",
    "customer_info = scaled_customer_info"
   ]
  },
  {
   "cell_type": "markdown",
   "id": "3f116650",
   "metadata": {},
   "source": [
    "### 6. Outlier Detection\n",
    "Using DBSCAN to determine the presence of multidimensional outliers; Analysing the presence of unidimensional outliers."
   ]
  },
  {
   "cell_type": "markdown",
   "id": "6bebc494",
   "metadata": {},
   "source": [
    "#### 6.1) Figuring out the parameters: min_samples\n",
    "As a starting point, we will use the rule of thumb that the minimum number of points is equal to 1 + the number of features."
   ]
  },
  {
   "cell_type": "code",
   "execution_count": 31,
   "id": "34970631",
   "metadata": {},
   "outputs": [
    {
     "data": {
      "text/plain": [
       "20"
      ]
     },
     "execution_count": 31,
     "metadata": {},
     "output_type": "execute_result"
    }
   ],
   "source": [
    "min_samples_value = 1 + customer_info.shape[1]\n",
    "min_samples_value"
   ]
  },
  {
   "cell_type": "markdown",
   "id": "6f86fd2b",
   "metadata": {},
   "source": [
    "#### 6.2) Figuring out the parameters: eps\n",
    "It works like being in a crowded room, with 300 people for instance. Now we want to know, for a person, how large is the radius of the circle we have to draw around them to get the k nearest people.\n",
    "Once we have those 300 distances sorted and plotted, we will see that some, in denser clusters of people, will have very short distances, some will have medium distances, and some, in more sparse groups (or perhaps even outliers), will have larger distances. We then look for the \"elbow\" of the plotted graph."
   ]
  },
  {
   "cell_type": "markdown",
   "id": "b2546a0a",
   "metadata": {},
   "source": [
    "Why do we want the \"elbow\" of the graph? In DBSCAN, the elbow of the k-distance graph shows the point where the distance between points suddenly increases, meaning we're moving from dense regions (clusters) to sparse regions (noise)."
   ]
  },
  {
   "cell_type": "code",
   "execution_count": 32,
   "id": "9c0f623e",
   "metadata": {},
   "outputs": [
    {
     "data": {
      "image/png": "[encoded data removed]",
      "text/plain": [
       "<Figure size 640x480 with 1 Axes>"
      ]
     },
     "metadata": {},
     "output_type": "display_data"
    },
    {
     "name": "stdout",
     "output_type": "stream",
     "text": [
      "Suggested eps from knee point: 3.412\n"
     ]
    }
   ],
   "source": [
    "# compute distances to the 36th nearest neighbor\n",
    "neighbors = NearestNeighbors(n_neighbors=36)\n",
    "neighbors_fit = neighbors.fit(customer_info)\n",
    "distances, _ = neighbors_fit.kneighbors(customer_info)\n",
    "\n",
    "k_distances = np.sort(distances[:, 35])\n",
    "x = np.arange(len(k_distances))\n",
    "\n",
    "# using KneeLocator to find the elbow in the graph\n",
    "knee = KneeLocator(x, k_distances, curve='convex', direction='increasing')\n",
    "eps_value = k_distances[knee.knee]\n",
    "\n",
    "# plotting the k-distance curve and the elbow\n",
    "plt.plot(k_distances, label='k-distance')\n",
    "plt.axhline(y=eps_value, color='red', linestyle='--', label=f'eps = {eps_value:.2f}')\n",
    "plt.xlabel(\"Points sorted by distance\")\n",
    "plt.ylabel(\"36th nearest neighbor distance\")\n",
    "plt.title(\"k-distance plot to find eps\")\n",
    "plt.legend()\n",
    "plt.show()\n",
    "\n",
    "print(f\"Suggested eps from knee point: {eps_value:.3f}\")\n"
   ]
  },
  {
   "cell_type": "markdown",
   "id": "7cd42521",
   "metadata": {},
   "source": [
    "#### 6.3) Running the DBSCAN"
   ]
  },
  {
   "cell_type": "code",
   "execution_count": 33,
   "id": "319588c8",
   "metadata": {},
   "outputs": [
    {
     "name": "stdout",
     "output_type": "stream",
     "text": [
      "3.4117382741474263 20\n"
     ]
    },
    {
     "data": {
      "text/html": [
       "<style>#sk-container-id-1 {color: black;}#sk-container-id-1 pre{padding: 0;}#sk-container-id-1 div.sk-toggleable {background-color: white;}#sk-container-id-1 label.sk-toggleable__label {cursor: pointer;display: block;width: 100%;margin-bottom: 0;padding: 0.3em;box-sizing: border-box;text-align: center;}#sk-container-id-1 label.sk-toggleable__label-arrow:before {content: \"▸\";float: left;margin-right: 0.25em;color: #696969;}#sk-container-id-1 label.sk-toggleable__label-arrow:hover:before {color: black;}#sk-container-id-1 div.sk-estimator:hover label.sk-toggleable__label-arrow:before {color: black;}#sk-container-id-1 div.sk-toggleable__content {max-height: 0;max-width: 0;overflow: hidden;text-align: left;background-color: #f0f8ff;}#sk-container-id-1 div.sk-toggleable__content pre {margin: 0.2em;color: black;border-radius: 0.25em;background-color: #f0f8ff;}#sk-container-id-1 input.sk-toggleable__control:checked~div.sk-toggleable__content {max-height: 200px;max-width: 100%;overflow: auto;}#sk-container-id-1 input.sk-toggleable__control:checked~label.sk-toggleable__label-arrow:before {content: \"▾\";}#sk-container-id-1 div.sk-estimator input.sk-toggleable__control:checked~label.sk-toggleable__label {background-color: #d4ebff;}#sk-container-id-1 div.sk-label input.sk-toggleable__control:checked~label.sk-toggleable__label {background-color: #d4ebff;}#sk-container-id-1 input.sk-hidden--visually {border: 0;clip: rect(1px 1px 1px 1px);clip: rect(1px, 1px, 1px, 1px);height: 1px;margin: -1px;overflow: hidden;padding: 0;position: absolute;width: 1px;}#sk-container-id-1 div.sk-estimator {font-family: monospace;background-color: #f0f8ff;border: 1px dotted black;border-radius: 0.25em;box-sizing: border-box;margin-bottom: 0.5em;}#sk-container-id-1 div.sk-estimator:hover {background-color: #d4ebff;}#sk-container-id-1 div.sk-parallel-item::after {content: \"\";width: 100%;border-bottom: 1px solid gray;flex-grow: 1;}#sk-container-id-1 div.sk-label:hover label.sk-toggleable__label {background-color: #d4ebff;}#sk-container-id-1 div.sk-serial::before {content: \"\";position: absolute;border-left: 1px solid gray;box-sizing: border-box;top: 0;bottom: 0;left: 50%;z-index: 0;}#sk-container-id-1 div.sk-serial {display: flex;flex-direction: column;align-items: center;background-color: white;padding-right: 0.2em;padding-left: 0.2em;position: relative;}#sk-container-id-1 div.sk-item {position: relative;z-index: 1;}#sk-container-id-1 div.sk-parallel {display: flex;align-items: stretch;justify-content: center;background-color: white;position: relative;}#sk-container-id-1 div.sk-item::before, #sk-container-id-1 div.sk-parallel-item::before {content: \"\";position: absolute;border-left: 1px solid gray;box-sizing: border-box;top: 0;bottom: 0;left: 50%;z-index: -1;}#sk-container-id-1 div.sk-parallel-item {display: flex;flex-direction: column;z-index: 1;position: relative;background-color: white;}#sk-container-id-1 div.sk-parallel-item:first-child::after {align-self: flex-end;width: 50%;}#sk-container-id-1 div.sk-parallel-item:last-child::after {align-self: flex-start;width: 50%;}#sk-container-id-1 div.sk-parallel-item:only-child::after {width: 0;}#sk-container-id-1 div.sk-dashed-wrapped {border: 1px dashed gray;margin: 0 0.4em 0.5em 0.4em;box-sizing: border-box;padding-bottom: 0.4em;background-color: white;}#sk-container-id-1 div.sk-label label {font-family: monospace;font-weight: bold;display: inline-block;line-height: 1.2em;}#sk-container-id-1 div.sk-label-container {text-align: center;}#sk-container-id-1 div.sk-container {/* jupyter's `normalize.less` sets `[hidden] { display: none; }` but bootstrap.min.css set `[hidden] { display: none !important; }` so we also need the `!important` here to be able to override the default hidden behavior on the sphinx rendered scikit-learn.org. See: https://github.com/scikit-learn/scikit-learn/issues/21755 */display: inline-block !important;position: relative;}#sk-container-id-1 div.sk-text-repr-fallback {display: none;}</style><div id=\"sk-container-id-1\" class=\"sk-top-container\"><div class=\"sk-text-repr-fallback\"><pre>DBSCAN(eps=3.4117382741474263, min_samples=20)</pre><b>In a Jupyter environment, please rerun this cell to show the HTML representation or trust the notebook. <br />On GitHub, the HTML representation is unable to render, please try loading this page with nbviewer.org.</b></div><div class=\"sk-container\" hidden><div class=\"sk-item\"><div class=\"sk-estimator sk-toggleable\"><input class=\"sk-toggleable__control sk-hidden--visually\" id=\"sk-estimator-id-1\" type=\"checkbox\" checked><label for=\"sk-estimator-id-1\" class=\"sk-toggleable__label sk-toggleable__label-arrow\">DBSCAN</label><div class=\"sk-toggleable__content\"><pre>DBSCAN(eps=3.4117382741474263, min_samples=20)</pre></div></div></div></div></div>"
      ],
      "text/plain": [
       "DBSCAN(eps=3.4117382741474263, min_samples=20)"
      ]
     },
     "execution_count": 33,
     "metadata": {},
     "output_type": "execute_result"
    }
   ],
   "source": [
    "print(eps_value, min_samples_value)\n",
    "\n",
    "db = DBSCAN(eps=eps_value, min_samples=min_samples_value)\n",
    "db.fit(customer_info)"
   ]
  },
  {
   "cell_type": "code",
   "execution_count": 34,
   "id": "ad12d296",
   "metadata": {},
   "outputs": [
    {
     "name": "stdout",
     "output_type": "stream",
     "text": [
      "Estimated number of clusters: 1\n",
      "Estimated number of outliers: 27\n"
     ]
    }
   ],
   "source": [
    "labels = db.labels_ # -1 is noise, 0, 1, 2, ... are clusters\n",
    "\n",
    "n_clusters = len(set(labels)) - (1 if -1 in labels else 0) # number of clusters, excluding noise\n",
    "n_outliers = list(labels).count(-1) # number of noise points\n",
    "print(f\"Estimated number of clusters: {n_clusters}\")\n",
    "print(f\"Estimated number of outliers: {n_outliers}\")"
   ]
  },
  {
   "cell_type": "markdown",
   "id": "51aabbd5",
   "metadata": {},
   "source": [
    "It seems our dbscan was no very fruitful, so we'll adapt to a different strategy. Let's expand the range of attempts and combinations of eps and min_sample. We should aim for a maximum of 3% outliers."
   ]
  },
  {
   "cell_type": "code",
   "execution_count": 35,
   "id": "48932eb9",
   "metadata": {},
   "outputs": [
    {
     "name": "stdout",
     "output_type": "stream",
     "text": [
      "1022\n"
     ]
    }
   ],
   "source": [
    "three_percent = round((customer_info.shape[0]*3) / 100)\n",
    "print(three_percent)"
   ]
  },
  {
   "cell_type": "code",
   "execution_count": 36,
   "id": "7e6f30e1",
   "metadata": {},
   "outputs": [
    {
     "name": "stdout",
     "output_type": "stream",
     "text": [
      "2.5 10 1 588\n",
      "3 10 1 91\n",
      "2.5 20 1 729\n",
      "3 20 1 135\n",
      "2.5 30 1 830\n",
      "3 30 1 148\n",
      "2.5 40 1 943\n",
      "3 40 1 168\n",
      "3 50 1 180\n",
      "3 60 1 193\n",
      "3 70 1 211\n",
      "3 80 1 224\n",
      "3 90 1 234\n",
      "3 100 1 258\n"
     ]
    }
   ],
   "source": [
    "for mp in range(10,101, 10):\n",
    "    for eps_ in [1.7,1.9,2,2.2,2.5,3]:\n",
    "        db = DBSCAN(eps=eps_, min_samples=mp)\n",
    "        db.fit(customer_info)\n",
    "\n",
    "        labels = db.labels_  # cluster labels, -1 = outlier\n",
    "\n",
    "        n_clusters = len(set(labels)) - (1 if -1 in labels else 0)\n",
    "        n_outliers = list(labels).count(-1)\n",
    "        \n",
    "        if n_outliers < three_percent:\n",
    "            print(eps_, mp, n_clusters, n_outliers)"
   ]
  },
  {
   "cell_type": "markdown",
   "id": "d04de891",
   "metadata": {},
   "source": [
    "We can see that as we either rise the eps or lower min_samples, the number of outliers decreases, and vice-versa. Thus, we will significantly lower our eps, and adjust the min_samples accordingly, selecting eps = 2.2 and min_samples = 10, which gives us a single cluster with 644 outliers."
   ]
  },
  {
   "cell_type": "code",
   "execution_count": 37,
   "id": "0e040499",
   "metadata": {},
   "outputs": [
    {
     "name": "stdout",
     "output_type": "stream",
     "text": [
      "Estimated number of clusters: 3\n",
      "Estimated number of outliers: 1817\n"
     ]
    }
   ],
   "source": [
    "db = DBSCAN(eps=2.2, min_samples=10)\n",
    "db.fit(customer_info)\n",
    "\n",
    "labels = db.labels_ \n",
    "n_clusters = len(set(labels)) - (1 if -1 in labels else 0) \n",
    "n_outliers = list(labels).count(-1)\n",
    "print(f\"Estimated number of clusters: {n_clusters}\")\n",
    "print(f\"Estimated number of outliers: {n_outliers}\")"
   ]
  },
  {
   "cell_type": "markdown",
   "id": "b81ae904",
   "metadata": {},
   "source": [
    "Now we remove these multidimensional outliers from our dataset."
   ]
  },
  {
   "cell_type": "code",
   "execution_count": 38,
   "id": "9dda4439",
   "metadata": {},
   "outputs": [],
   "source": [
    "# removing the specifical rows that correspond to outliers\n",
    "customer_info['cluster'] = labels\n",
    "customer_info = customer_info[customer_info['cluster'] != -1]\n",
    "\n",
    "# dropping the cluster column for further analysis\n",
    "customer_info = customer_info.drop('cluster', axis=1)"
   ]
  },
  {
   "cell_type": "markdown",
   "id": "7caada45",
   "metadata": {},
   "source": [
    "### 7. Feature Selection (Part 2) - Principal Component Analysis\n",
    "\n",
    "**Principal Component Analysis (PCA)** is a dimensionality reduction technique that transforms correlated features into a smaller set of uncorrelated components. It can help simplify our dataset while highlighting the most important patterns in the data. We chose this technique due to its high interpretability."
   ]
  },
  {
   "cell_type": "code",
   "execution_count": 39,
   "id": "41a9a4c4",
   "metadata": {},
   "outputs": [
    {
     "data": {
      "image/png": "[encoded data removed]",
      "text/plain": [
       "<Figure size 800x500 with 1 Axes>"
      ]
     },
     "metadata": {},
     "output_type": "display_data"
    },
    {
     "name": "stdout",
     "output_type": "stream",
     "text": [
      "PC1: 0.2726 (0.2726 cumulative)\n",
      "PC2: 0.1500 (0.4226 cumulative)\n",
      "PC3: 0.1238 (0.5464 cumulative)\n",
      "PC4: 0.0717 (0.6181 cumulative)\n",
      "PC5: 0.0540 (0.6721 cumulative)\n",
      "PC6: 0.0417 (0.7137 cumulative)\n",
      "PC7: 0.0356 (0.7493 cumulative)\n",
      "PC8: 0.0324 (0.7817 cumulative)\n",
      "PC9: 0.0316 (0.8133 cumulative)\n",
      "PC10: 0.0265 (0.8398 cumulative)\n",
      "PC11: 0.0259 (0.8657 cumulative)\n",
      "PC12: 0.0218 (0.8875 cumulative)\n",
      "PC13: 0.0200 (0.9075 cumulative)\n",
      "PC14: 0.0194 (0.9269 cumulative)\n",
      "PC15: 0.0189 (0.9458 cumulative)\n",
      "PC16: 0.0164 (0.9622 cumulative)\n",
      "PC17: 0.0146 (0.9769 cumulative)\n",
      "PC18: 0.0131 (0.9899 cumulative)\n",
      "PC19: 0.0101 (1.0000 cumulative)\n",
      "\n",
      "PCA Loadings:\n",
      "      customer_gender  kids_home  teens_home  number_complaints  distinct_stores_visited  lifetime_spend_groceries  lifetime_spend_electronics  typical_hour  lifetime_spend_vegetables  lifetime_spend_nonalcohol_drinks  lifetime_spend_alcohol_drinks  lifetime_spend_meat  lifetime_spend_fish  lifetime_spend_hygiene  lifetime_spend_videogames  lifetime_spend_petfood  lifetime_total_distinct_products  percentage_of_products_bought_promotion       age\n",
      "PC1          0.000989  -0.269394   -0.214439           0.024532                 0.042049                 -0.204272                   -0.192183      0.061174                   0.066550                         -0.186647                      -0.226866            -0.672307            -0.348892               -0.105184                  -0.223014               -0.118695                         -0.231373                                 0.054041 -0.029489\n",
      "PC2          0.003046   0.783164    0.200738           0.098804                 0.104387                 -0.118257                    0.016497     -0.162536                   0.222669                          0.116263                       0.055774            -0.324830            -0.124065                0.179669                  -0.166179               -0.075128                          0.110448                                -0.141864 -0.005837\n",
      "PC3         -0.000344   0.187129    0.179253           0.204349                 0.184410                 -0.161645                   -0.359547     -0.089484                  -0.206167                         -0.268735                      -0.251849             0.402380             0.008797               -0.118835                  -0.393210               -0.021039                         -0.144183                                 0.399781 -0.061192\n",
      "PC4         -0.001350   0.228598   -0.116489           0.241072                -0.433263                 -0.101427                    0.139940     -0.009670                  -0.256712                         -0.039427                       0.136043            -0.005404             0.029693               -0.519208                   0.177295               -0.487329                         -0.120995                                -0.033206 -0.131372\n",
      "PC5          0.001008  -0.164743    0.061405          -0.134431                 0.190860                  0.120224                   -0.049428      0.012832                   0.082221                          0.034989                      -0.017438             0.096404             0.044406                0.363311                  -0.053712               -0.855842                          0.091115                                 0.041068  0.025275\n",
      "PC6         -0.001132  -0.205038   -0.118730           0.774631                -0.124468                  0.128469                    0.061797     -0.141585                  -0.205638                          0.156053                       0.071875            -0.093121             0.035282                0.376402                  -0.179230                0.055545                          0.152262                                 0.005039 -0.078282\n",
      "PC7          0.004066  -0.045336   -0.002819           0.192449                 0.531872                 -0.554646                    0.189571      0.170632                  -0.214013                          0.222754                      -0.049045            -0.015945            -0.036458               -0.091510                   0.342607               -0.034216                          0.184021                                 0.092156  0.191364\n",
      "PC8         -0.022123  -0.249117    0.283248           0.209790                 0.314291                  0.229983                   -0.047604     -0.374946                   0.265980                          0.106368                       0.039473             0.013336            -0.006773               -0.538559                  -0.128252               -0.058793                          0.074758                                -0.317743  0.135447\n",
      "PC9          0.022668  -0.250185    0.267158          -0.037595                -0.378968                 -0.682220                   -0.028445     -0.286651                   0.208019                         -0.041115                       0.056839             0.154116             0.056232                0.184477                  -0.060264               -0.006736                         -0.054514                                -0.236304  0.021470\n",
      "PC10         0.008571   0.043822    0.133789           0.272991                -0.095596                  0.012557                   -0.137098      0.741874                   0.189483                         -0.034283                      -0.031085             0.134362             0.020141               -0.006240                  -0.139238               -0.025368                         -0.146126                                -0.351844  0.324641\n",
      "PC11         0.008798  -0.063203    0.145759          -0.145974                 0.260648                 -0.077327                   -0.053868      0.185974                  -0.373408                          0.063454                       0.259245            -0.048919             0.100300                0.009646                  -0.226196                0.028672                         -0.107089                                -0.410909 -0.621654\n",
      "PC12        -0.041231   0.108121   -0.099556           0.047367                 0.153223                  0.099740                   -0.205203     -0.301996                  -0.315511                         -0.184304                      -0.066347             0.046626            -0.067052                0.234931                   0.359110               -0.000514                         -0.491262                                -0.397544  0.282137\n",
      "PC13         0.046358   0.018348   -0.148687          -0.291824                -0.120454                 -0.038026                    0.048587     -0.079075                  -0.481550                          0.156179                       0.022912            -0.049173             0.042886               -0.072340                  -0.496514               -0.013500                          0.244512                                -0.149675  0.520080\n",
      "PC14        -0.034004  -0.106896    0.762328          -0.043266                -0.187192                  0.159470                   -0.037830      0.074115                  -0.310702                          0.131457                       0.057607            -0.261932            -0.169593                0.041695                   0.167952                0.015889                         -0.089888                                 0.260941  0.127009\n",
      "PC15        -0.996357   0.001294   -0.027046          -0.019438                -0.020116                 -0.034051                    0.003228      0.017433                  -0.004021                          0.007428                       0.001181             0.015674            -0.012349                0.002319                  -0.039969               -0.000694                          0.045640                                -0.011234 -0.000721\n",
      "PC16         0.019899   0.019693   -0.066064          -0.014077                -0.144461                 -0.011264                   -0.738390      0.022446                  -0.072373                          0.082877                      -0.072953            -0.013440            -0.096772               -0.050729                   0.284464                0.002433                          0.536852                                -0.138229 -0.100715\n",
      "PC17        -0.022095   0.010791   -0.114801          -0.004642                 0.039562                 -0.072891                   -0.374179     -0.021657                   0.120046                          0.388949                       0.310656            -0.206527             0.586984               -0.040247                  -0.010646                0.002912                         -0.329116                                 0.252007  0.125968\n",
      "PC18        -0.012153  -0.004087    0.145281           0.052256                 0.066977                 -0.002132                    0.065407      0.015993                  -0.059834                         -0.672048                       0.015494            -0.307202             0.566484                0.008821                   0.079765                0.005056                          0.284253                                -0.038307  0.086579\n",
      "PC19        -0.007150   0.032037    0.082772          -0.027167                -0.104786                  0.037399                    0.107455     -0.014678                  -0.046498                          0.314605                      -0.819958            -0.085444             0.365561               -0.016098                   0.029914               -0.013054                         -0.059107                                -0.153748 -0.155984\n"
     ]
    }
   ],
   "source": [
    "# PCA Analysis\n",
    "# fit PCA\n",
    "pca = PCA()\n",
    "pca.fit(customer_info)\n",
    "\n",
    "# explained variance ratio\n",
    "explained_variance = pca.explained_variance_ratio_\n",
    "\n",
    "# plot cumulative explained variance\n",
    "plt.figure(figsize=(8,5))\n",
    "plt.plot(np.cumsum(explained_variance), marker='o')\n",
    "plt.xlabel('Number of Components')\n",
    "plt.ylabel('Cumulative Explained Variance')\n",
    "plt.title('Explained Variance by PCA Components')\n",
    "plt.grid(True)\n",
    "plt.show()\n",
    "\n",
    "# print explained variance\n",
    "for i, var in enumerate(explained_variance):\n",
    "    print(f\"PC{i+1}: {var:.4f} ({np.cumsum(explained_variance)[i]:.4f} cumulative)\")\n",
    "\n",
    "# get loadings\n",
    "loadings = pca.components_\n",
    "\n",
    "# create loadings dataframe for easier interpretation\n",
    "loadings_df = pd.DataFrame(loadings, columns=customer_info.columns, \n",
    "                            index=[f'PC{i+1}' for i in range(loadings.shape[0])])\n",
    "print(\"\\nPCA Loadings:\")\n",
    "print(loadings_df)\n"
   ]
  },
  {
   "cell_type": "markdown",
   "id": "045e45f6",
   "metadata": {},
   "source": [
    "To assess which features are most important, we used the PCA loadings, which measure how strongly each original feature contributes to each principal component. Since some components explain more variance than others, we first squared the loadings (to focus on their strength regardless of sign), then multiplied them by the proportion of variance each component explains. Finally, we summed these values across all components. This gives an overall score showing how much each feature contributes to the total variability in the dataset."
   ]
  },
  {
   "cell_type": "code",
   "execution_count": 40,
   "id": "90d41154",
   "metadata": {},
   "outputs": [
    {
     "data": {
      "image/png": "[encoded data removed]",
      "text/plain": [
       "<Figure size 1000x600 with 1 Axes>"
      ]
     },
     "metadata": {},
     "output_type": "display_data"
    }
   ],
   "source": [
    "# after fitting PCA\n",
    "loadings = pca.components_\n",
    "\n",
    "# square loadings\n",
    "squared_loadings = loadings**2\n",
    "\n",
    "# multiply each squared loading by variance explained\n",
    "weighted_contributions = squared_loadings * explained_variance[:, np.newaxis] # newaxis to convert the vector to a column vector\n",
    "\n",
    "# sum over components to get total weighted contribution per feature\n",
    "feature_importance = weighted_contributions.sum(axis=0)\n",
    "\n",
    "# build dataframe\n",
    "importance_df = pd.DataFrame({\n",
    "    'Feature': customer_info.columns,\n",
    "    'Weighted Contribution': feature_importance\n",
    "}).sort_values(by='Weighted Contribution', ascending=False)\n",
    "\n",
    "# plot the importance df\n",
    "plt.figure(figsize=(10,6))\n",
    "plt.barh(importance_df['Feature'], importance_df['Weighted Contribution'])\n",
    "plt.xlabel('Weighted Contribution')\n",
    "plt.title('Feature Importance from PCA (Weighted)')\n",
    "plt.gca().invert_yaxis()\n",
    "plt.show()"
   ]
  },
  {
   "cell_type": "markdown",
   "id": "3c870d04",
   "metadata": {},
   "source": [
    "**PCA Analysis and Feature Retention Decision**\n",
    "\n",
    "To assess potential redundancy and feature importance within the customer_info dataset, we applied Principal Component Analysis (PCA). The goal was to evaluate whether some features could be removed prior to clustering, while preserving as much relevant information as possible.\n",
    "\n",
    "The cumulative explained variance plot shows that the first principal component (PC1) explains approximately 23% of the total variance, with diminishing contributions from subsequent components. In total, 10 components are required to explain roughly 82% of the variance, and all 19 components are necessary to reach 100% of explained variance. This indicates that the variance is relatively spread across many components, suggesting no overwhelming dominance of a small subset of features.\n",
    "\n",
    "The loadings matrix further confirms that multiple features contribute significantly to different principal components. While certain variables such as kids_home, lifetime_spend_videogames, lifetime_spend_groceries, and lifetime_spend_electronics show higher weighted contributions, the remaining features also provide relevant information. Importantly, no feature shows an extremely low or negligible contribution that would justify its removal based solely on PCA results.\n",
    "\n",
    "As a result, we conclude that all features contribute valuable information for characterizing customer profiles. Therefore, we will retain all variables for the clustering phase, ensuring that the full multidimensional structure of the data is preserved to capture potentially meaningful customer segments."
   ]
  },
  {
   "cell_type": "markdown",
   "id": "7389ef78",
   "metadata": {},
   "source": [
    "### 8. Data Exportation"
   ]
  },
  {
   "cell_type": "code",
   "execution_count": 41,
   "id": "035d8810",
   "metadata": {},
   "outputs": [
    {
     "name": "stdout",
     "output_type": "stream",
     "text": [
      "File exported successfully to ../data/raw/cleaner_customer_info.csv\n"
     ]
    }
   ],
   "source": [
    "export_path = '../data/raw/cleaner_customer_info.csv'\n",
    "customer_info.to_csv(export_path, index=True)\n",
    "\n",
    "print(f\"File exported successfully to {export_path}\")"
   ]
  },
  {
   "cell_type": "code",
   "execution_count": 42,
   "id": "0cdab093",
   "metadata": {},
   "outputs": [
    {
     "data": {
      "text/html": [
       "<div>\n",
       "<style scoped>\n",
       "    .dataframe tbody tr th:only-of-type {\n",
       "        vertical-align: middle;\n",
       "    }\n",
       "\n",
       "    .dataframe tbody tr th {\n",
       "        vertical-align: top;\n",
       "    }\n",
       "\n",
       "    .dataframe thead th {\n",
       "        text-align: right;\n",
       "    }\n",
       "</style>\n",
       "<table border=\"1\" class=\"dataframe\">\n",
       "  <thead>\n",
       "    <tr style=\"text-align: right;\">\n",
       "      <th></th>\n",
       "      <th>customer_gender</th>\n",
       "      <th>kids_home</th>\n",
       "      <th>teens_home</th>\n",
       "      <th>number_complaints</th>\n",
       "      <th>distinct_stores_visited</th>\n",
       "      <th>lifetime_spend_groceries</th>\n",
       "      <th>lifetime_spend_electronics</th>\n",
       "      <th>typical_hour</th>\n",
       "      <th>lifetime_spend_vegetables</th>\n",
       "      <th>lifetime_spend_nonalcohol_drinks</th>\n",
       "      <th>lifetime_spend_alcohol_drinks</th>\n",
       "      <th>lifetime_spend_meat</th>\n",
       "      <th>lifetime_spend_fish</th>\n",
       "      <th>lifetime_spend_hygiene</th>\n",
       "      <th>lifetime_spend_videogames</th>\n",
       "      <th>lifetime_spend_petfood</th>\n",
       "      <th>lifetime_total_distinct_products</th>\n",
       "      <th>percentage_of_products_bought_promotion</th>\n",
       "      <th>age</th>\n",
       "    </tr>\n",
       "    <tr>\n",
       "      <th>customer_id</th>\n",
       "      <th></th>\n",
       "      <th></th>\n",
       "      <th></th>\n",
       "      <th></th>\n",
       "      <th></th>\n",
       "      <th></th>\n",
       "      <th></th>\n",
       "      <th></th>\n",
       "      <th></th>\n",
       "      <th></th>\n",
       "      <th></th>\n",
       "      <th></th>\n",
       "      <th></th>\n",
       "      <th></th>\n",
       "      <th></th>\n",
       "      <th></th>\n",
       "      <th></th>\n",
       "      <th></th>\n",
       "      <th></th>\n",
       "    </tr>\n",
       "  </thead>\n",
       "  <tbody>\n",
       "    <tr>\n",
       "      <th>29930</th>\n",
       "      <td>-1.0</td>\n",
       "      <td>1.0</td>\n",
       "      <td>1.0</td>\n",
       "      <td>0.0</td>\n",
       "      <td>0.5</td>\n",
       "      <td>-0.603317</td>\n",
       "      <td>0.350843</td>\n",
       "      <td>0.000000</td>\n",
       "      <td>0.305798</td>\n",
       "      <td>0.717154</td>\n",
       "      <td>0.414729</td>\n",
       "      <td>0.716551</td>\n",
       "      <td>0.632479</td>\n",
       "      <td>-0.301504</td>\n",
       "      <td>0.254423</td>\n",
       "      <td>0.467872</td>\n",
       "      <td>0.867906</td>\n",
       "      <td>-0.203400</td>\n",
       "      <td>-0.032258</td>\n",
       "    </tr>\n",
       "    <tr>\n",
       "      <th>6813</th>\n",
       "      <td>0.0</td>\n",
       "      <td>-1.0</td>\n",
       "      <td>0.0</td>\n",
       "      <td>-1.0</td>\n",
       "      <td>0.5</td>\n",
       "      <td>-0.514208</td>\n",
       "      <td>-2.423571</td>\n",
       "      <td>0.142857</td>\n",
       "      <td>0.361195</td>\n",
       "      <td>-1.414715</td>\n",
       "      <td>-1.458012</td>\n",
       "      <td>-0.272893</td>\n",
       "      <td>-0.470710</td>\n",
       "      <td>-0.438051</td>\n",
       "      <td>-1.433625</td>\n",
       "      <td>-0.486431</td>\n",
       "      <td>-0.384736</td>\n",
       "      <td>2.460565</td>\n",
       "      <td>0.838710</td>\n",
       "    </tr>\n",
       "    <tr>\n",
       "      <th>39451</th>\n",
       "      <td>-1.0</td>\n",
       "      <td>1.0</td>\n",
       "      <td>2.0</td>\n",
       "      <td>-1.0</td>\n",
       "      <td>2.0</td>\n",
       "      <td>-0.014666</td>\n",
       "      <td>0.202372</td>\n",
       "      <td>0.142857</td>\n",
       "      <td>0.803079</td>\n",
       "      <td>0.734816</td>\n",
       "      <td>0.746491</td>\n",
       "      <td>0.473346</td>\n",
       "      <td>0.658361</td>\n",
       "      <td>0.343099</td>\n",
       "      <td>0.048656</td>\n",
       "      <td>-0.729704</td>\n",
       "      <td>0.723964</td>\n",
       "      <td>-0.345781</td>\n",
       "      <td>-0.612903</td>\n",
       "    </tr>\n",
       "    <tr>\n",
       "      <th>21557</th>\n",
       "      <td>0.0</td>\n",
       "      <td>-1.0</td>\n",
       "      <td>-1.0</td>\n",
       "      <td>0.0</td>\n",
       "      <td>-1.0</td>\n",
       "      <td>-0.141192</td>\n",
       "      <td>0.940175</td>\n",
       "      <td>0.142857</td>\n",
       "      <td>-1.748007</td>\n",
       "      <td>-0.495624</td>\n",
       "      <td>0.739515</td>\n",
       "      <td>0.031924</td>\n",
       "      <td>0.060614</td>\n",
       "      <td>-1.395136</td>\n",
       "      <td>0.751694</td>\n",
       "      <td>-0.220805</td>\n",
       "      <td>0.447107</td>\n",
       "      <td>0.048761</td>\n",
       "      <td>-0.193548</td>\n",
       "    </tr>\n",
       "    <tr>\n",
       "      <th>16415</th>\n",
       "      <td>0.0</td>\n",
       "      <td>0.0</td>\n",
       "      <td>0.0</td>\n",
       "      <td>0.0</td>\n",
       "      <td>1.0</td>\n",
       "      <td>0.959008</td>\n",
       "      <td>0.042696</td>\n",
       "      <td>0.142857</td>\n",
       "      <td>-0.352170</td>\n",
       "      <td>0.449038</td>\n",
       "      <td>-0.193830</td>\n",
       "      <td>0.090877</td>\n",
       "      <td>0.477538</td>\n",
       "      <td>0.461414</td>\n",
       "      <td>-1.038064</td>\n",
       "      <td>-1.158433</td>\n",
       "      <td>0.521750</td>\n",
       "      <td>0.192977</td>\n",
       "      <td>0.129032</td>\n",
       "    </tr>\n",
       "  </tbody>\n",
       "</table>\n",
       "</div>"
      ],
      "text/plain": [
       "             customer_gender  kids_home  teens_home  number_complaints  distinct_stores_visited  lifetime_spend_groceries  lifetime_spend_electronics  typical_hour  lifetime_spend_vegetables  lifetime_spend_nonalcohol_drinks  lifetime_spend_alcohol_drinks  lifetime_spend_meat  lifetime_spend_fish  lifetime_spend_hygiene  lifetime_spend_videogames  lifetime_spend_petfood  lifetime_total_distinct_products  percentage_of_products_bought_promotion       age\n",
       "customer_id                                                                                                                                                                                                                                                                                                                                                                                                                                                              \n",
       "29930                   -1.0        1.0         1.0                0.0                      0.5                 -0.603317                    0.350843      0.000000                   0.305798                          0.717154                       0.414729             0.716551             0.632479               -0.301504                   0.254423                0.467872                          0.867906                                -0.203400 -0.032258\n",
       "6813                     0.0       -1.0         0.0               -1.0                      0.5                 -0.514208                   -2.423571      0.142857                   0.361195                         -1.414715                      -1.458012            -0.272893            -0.470710               -0.438051                  -1.433625               -0.486431                         -0.384736                                 2.460565  0.838710\n",
       "39451                   -1.0        1.0         2.0               -1.0                      2.0                 -0.014666                    0.202372      0.142857                   0.803079                          0.734816                       0.746491             0.473346             0.658361                0.343099                   0.048656               -0.729704                          0.723964                                -0.345781 -0.612903\n",
       "21557                    0.0       -1.0        -1.0                0.0                     -1.0                 -0.141192                    0.940175      0.142857                  -1.748007                         -0.495624                       0.739515             0.031924             0.060614               -1.395136                   0.751694               -0.220805                          0.447107                                 0.048761 -0.193548\n",
       "16415                    0.0        0.0         0.0                0.0                      1.0                  0.959008                    0.042696      0.142857                  -0.352170                          0.449038                      -0.193830             0.090877             0.477538                0.461414                  -1.038064               -1.158433                          0.521750                                 0.192977  0.129032"
      ]
     },
     "execution_count": 42,
     "metadata": {},
     "output_type": "execute_result"
    }
   ],
   "source": [
    "customer_info.head()"
   ]
  }
 ],
 "metadata": {
  "kernelspec": {
   "display_name": "base",
   "language": "python",
   "name": "python3"
  },
  "language_info": {
   "codemirror_mode": {
    "name": "ipython",
    "version": 3
   },
   "file_extension": ".py",
   "mimetype": "text/x-python",
   "name": "python",
   "nbconvert_exporter": "python",
   "pygments_lexer": "ipython3",
   "version": "3.11.4"
  }
 },
 "nbformat": 4,
 "nbformat_minor": 5
}
