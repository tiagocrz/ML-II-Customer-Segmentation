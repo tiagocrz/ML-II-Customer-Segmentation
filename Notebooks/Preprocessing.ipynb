{
 "cells": [
  {
   "cell_type": "markdown",
   "id": "227700b6",
   "metadata": {
    "vscode": {
     "languageId": "plaintext"
    }
   },
   "source": [
    "# Preprocessing"
   ]
  },
  {
   "cell_type": "markdown",
   "id": "49ee2cf8",
   "metadata": {},
   "source": [
    "From EDA, we understood that:\n",
    "- We have duplicated rows on customer_basket\n",
    "- When the same items are bought in two different instances, these are attributed different invoices. Hence, invoice_id cannot be the index column\n",
    "- 32% have a missing loyalty_card_number (probably don't have one)\n",
    "- percentage_of_products_bought_promotion is a percentage with negative values\n",
    "#\n",
    "From EDA, we also noted that there are no really highly correlated values, hence nothing should be dropped."
   ]
  },
  {
   "cell_type": "code",
   "execution_count": 33,
   "id": "cb6eb3ef",
   "metadata": {},
   "outputs": [],
   "source": [
    "import numpy as np\n",
    "import pandas as pd\n",
    "from datetime import datetime # to get the current datetime\n",
    "\n",
    "import matplotlib.pyplot as plt # to make plots (histograms, etc...)\n",
    "import seaborn as sns\n",
    "import plotly.express as px\n",
    "import folium\n",
    "import branca.colormap as cm  # for color mapping based on data values\n",
    "\n",
    "import ast # transform the strings into a list\n",
    "\n",
    "from sklearn.preprocessing import RobustScaler\n",
    "from sklearn.impute import KNNImputer\n",
    "from sklearn.model_selection import train_test_split\n",
    "from sklearn.metrics import mean_squared_error\n",
    "from sklearn.neighbors import NearestNeighbors\n",
    "from kneed import KneeLocator # to automatically find the \"knee\" for the dbscan's parameter\n",
    "from sklearn.cluster import DBSCAN\n",
    "from sklearn.decomposition import PCA"
   ]
  },
  {
   "cell_type": "code",
   "execution_count": 5,
   "id": "19f843d4",
   "metadata": {},
   "outputs": [],
   "source": [
    "# Show all columns when displaying a DataFrame\n",
    "pd.set_option('display.max_columns', None)\n",
    "\n",
    "# Optional: Also show more rows if needed\n",
    "pd.set_option('display.max_rows', 100)\n",
    "\n",
    "# shows all columns\n",
    "pd.set_option(\"display.max_columns\", None)\n",
    "\n",
    "# prevents wrapping\n",
    "pd.set_option(\"display.width\", 1000)\n",
    "\n",
    "pd.set_option('display.max_colwidth', None)"
   ]
  },
  {
   "cell_type": "markdown",
   "id": "f9c80bff",
   "metadata": {},
   "source": [
    "### 1. Import and Preview Datasets ###"
   ]
  },
  {
   "cell_type": "code",
   "execution_count": 6,
   "id": "3ce0ff31",
   "metadata": {},
   "outputs": [],
   "source": [
    "customer_basket = pd.read_csv('../data/raw/customer_basket.csv')\n",
    "customer_info = pd.read_csv('../data/raw/customer_info.csv', index_col=[\"customer_id\"])\n",
    "\n",
    "customer_info = customer_info.drop(\"Unnamed: 0\", axis='columns')"
   ]
  },
  {
   "cell_type": "code",
   "execution_count": 7,
   "id": "542c58da",
   "metadata": {},
   "outputs": [
    {
     "data": {
      "text/html": [
       "<div>\n",
       "<style scoped>\n",
       "    .dataframe tbody tr th:only-of-type {\n",
       "        vertical-align: middle;\n",
       "    }\n",
       "\n",
       "    .dataframe tbody tr th {\n",
       "        vertical-align: top;\n",
       "    }\n",
       "\n",
       "    .dataframe thead th {\n",
       "        text-align: right;\n",
       "    }\n",
       "</style>\n",
       "<table border=\"1\" class=\"dataframe\">\n",
       "  <thead>\n",
       "    <tr style=\"text-align: right;\">\n",
       "      <th></th>\n",
       "      <th>invoice_id</th>\n",
       "      <th>list_of_goods</th>\n",
       "      <th>customer_id</th>\n",
       "    </tr>\n",
       "  </thead>\n",
       "  <tbody>\n",
       "    <tr>\n",
       "      <th>0</th>\n",
       "      <td>5062209</td>\n",
       "      <td>['megaman zero 3', 'energy bar', 'pokemon violet', 'airpods', 'fresh bread', 'pancakes', 'brownies', 'energy drink', 'champagne', 'red wine', 'bluetooth headphones', 'protein bar', 'metroid fusion']</td>\n",
       "      <td>4925</td>\n",
       "    </tr>\n",
       "    <tr>\n",
       "      <th>1</th>\n",
       "      <td>4272512</td>\n",
       "      <td>['black beer', 'bramble', 'laptop', 'pokemon violet', 'airpods', 'gadget for tiktok streaming', 'ring light', 'ratchet &amp; clank', 'pancakes', 'energy drink', 'gums', 'protein bar']</td>\n",
       "      <td>19046</td>\n",
       "    </tr>\n",
       "    <tr>\n",
       "      <th>2</th>\n",
       "      <td>7121052</td>\n",
       "      <td>['soup', 'shallot', 'cake', 'fresh bread', 'cream', 'carrots', 'babies food', 'ham', 'cookies', 'salad', 'tomato sauce', 'cooking oil', 'tea']</td>\n",
       "      <td>10318</td>\n",
       "    </tr>\n",
       "    <tr>\n",
       "      <th>3</th>\n",
       "      <td>5847748</td>\n",
       "      <td>['soup', 'cooking oil', 'cereals', 'oil', 'dog food', 'deodorant', 'tomatoes', 'yogurt cake', 'pet food', 'salmon', 'olive oil', 'fresh tuna', 'tea']</td>\n",
       "      <td>27283</td>\n",
       "    </tr>\n",
       "    <tr>\n",
       "      <th>4</th>\n",
       "      <td>6336114</td>\n",
       "      <td>['eggplant', 'mint green tea', 'oil', 'bacon', 'toilet paper', 'shrimp', 'brownies', 'pancakes', 'champagne', 'spinach', 'cologne', 'chicken', 'barbecue sauce', 'fresh tuna']</td>\n",
       "      <td>16072</td>\n",
       "    </tr>\n",
       "  </tbody>\n",
       "</table>\n",
       "</div>"
      ],
      "text/plain": [
       "   invoice_id                                                                                                                                                                                           list_of_goods  customer_id\n",
       "0     5062209  ['megaman zero 3', 'energy bar', 'pokemon violet', 'airpods', 'fresh bread', 'pancakes', 'brownies', 'energy drink', 'champagne', 'red wine', 'bluetooth headphones', 'protein bar', 'metroid fusion']         4925\n",
       "1     4272512                     ['black beer', 'bramble', 'laptop', 'pokemon violet', 'airpods', 'gadget for tiktok streaming', 'ring light', 'ratchet & clank', 'pancakes', 'energy drink', 'gums', 'protein bar']        19046\n",
       "2     7121052                                                          ['soup', 'shallot', 'cake', 'fresh bread', 'cream', 'carrots', 'babies food', 'ham', 'cookies', 'salad', 'tomato sauce', 'cooking oil', 'tea']        10318\n",
       "3     5847748                                                   ['soup', 'cooking oil', 'cereals', 'oil', 'dog food', 'deodorant', 'tomatoes', 'yogurt cake', 'pet food', 'salmon', 'olive oil', 'fresh tuna', 'tea']        27283\n",
       "4     6336114                          ['eggplant', 'mint green tea', 'oil', 'bacon', 'toilet paper', 'shrimp', 'brownies', 'pancakes', 'champagne', 'spinach', 'cologne', 'chicken', 'barbecue sauce', 'fresh tuna']        16072"
      ]
     },
     "execution_count": 7,
     "metadata": {},
     "output_type": "execute_result"
    }
   ],
   "source": [
    "customer_basket.head(5)"
   ]
  },
  {
   "cell_type": "code",
   "execution_count": 8,
   "id": "89f331f6",
   "metadata": {},
   "outputs": [
    {
     "data": {
      "text/html": [
       "<div>\n",
       "<style scoped>\n",
       "    .dataframe tbody tr th:only-of-type {\n",
       "        vertical-align: middle;\n",
       "    }\n",
       "\n",
       "    .dataframe tbody tr th {\n",
       "        vertical-align: top;\n",
       "    }\n",
       "\n",
       "    .dataframe thead th {\n",
       "        text-align: right;\n",
       "    }\n",
       "</style>\n",
       "<table border=\"1\" class=\"dataframe\">\n",
       "  <thead>\n",
       "    <tr style=\"text-align: right;\">\n",
       "      <th></th>\n",
       "      <th>customer_name</th>\n",
       "      <th>customer_gender</th>\n",
       "      <th>customer_birthdate</th>\n",
       "      <th>kids_home</th>\n",
       "      <th>teens_home</th>\n",
       "      <th>number_complaints</th>\n",
       "      <th>distinct_stores_visited</th>\n",
       "      <th>lifetime_spend_groceries</th>\n",
       "      <th>lifetime_spend_electronics</th>\n",
       "      <th>typical_hour</th>\n",
       "      <th>lifetime_spend_vegetables</th>\n",
       "      <th>lifetime_spend_nonalcohol_drinks</th>\n",
       "      <th>lifetime_spend_alcohol_drinks</th>\n",
       "      <th>lifetime_spend_meat</th>\n",
       "      <th>lifetime_spend_fish</th>\n",
       "      <th>lifetime_spend_hygiene</th>\n",
       "      <th>lifetime_spend_videogames</th>\n",
       "      <th>lifetime_spend_petfood</th>\n",
       "      <th>lifetime_total_distinct_products</th>\n",
       "      <th>percentage_of_products_bought_promotion</th>\n",
       "      <th>year_first_transaction</th>\n",
       "      <th>loyalty_card_number</th>\n",
       "      <th>latitude</th>\n",
       "      <th>longitude</th>\n",
       "    </tr>\n",
       "    <tr>\n",
       "      <th>customer_id</th>\n",
       "      <th></th>\n",
       "      <th></th>\n",
       "      <th></th>\n",
       "      <th></th>\n",
       "      <th></th>\n",
       "      <th></th>\n",
       "      <th></th>\n",
       "      <th></th>\n",
       "      <th></th>\n",
       "      <th></th>\n",
       "      <th></th>\n",
       "      <th></th>\n",
       "      <th></th>\n",
       "      <th></th>\n",
       "      <th></th>\n",
       "      <th></th>\n",
       "      <th></th>\n",
       "      <th></th>\n",
       "      <th></th>\n",
       "      <th></th>\n",
       "      <th></th>\n",
       "      <th></th>\n",
       "      <th></th>\n",
       "      <th></th>\n",
       "    </tr>\n",
       "  </thead>\n",
       "  <tbody>\n",
       "    <tr>\n",
       "      <th>29930</th>\n",
       "      <td>April Clark</td>\n",
       "      <td>female</td>\n",
       "      <td>01/15/1972 02:27 PM</td>\n",
       "      <td>2.0</td>\n",
       "      <td>2.0</td>\n",
       "      <td>1.0</td>\n",
       "      <td>4.0</td>\n",
       "      <td>7789.0</td>\n",
       "      <td>5601.0</td>\n",
       "      <td>13.0</td>\n",
       "      <td>726.0</td>\n",
       "      <td>962.0</td>\n",
       "      <td>1213.0</td>\n",
       "      <td>1598.0</td>\n",
       "      <td>1894.0</td>\n",
       "      <td>457.0</td>\n",
       "      <td>412.0</td>\n",
       "      <td>428.0</td>\n",
       "      <td>386.0</td>\n",
       "      <td>0.158741</td>\n",
       "      <td>2018.0</td>\n",
       "      <td>NaN</td>\n",
       "      <td>38.721807</td>\n",
       "      <td>-9.125534</td>\n",
       "    </tr>\n",
       "    <tr>\n",
       "      <th>6813</th>\n",
       "      <td>Bsc. Paul Ketchum</td>\n",
       "      <td>male</td>\n",
       "      <td>07/31/1944 10:53 AM</td>\n",
       "      <td>0.0</td>\n",
       "      <td>1.0</td>\n",
       "      <td>0.0</td>\n",
       "      <td>4.0</td>\n",
       "      <td>8653.0</td>\n",
       "      <td>35.0</td>\n",
       "      <td>14.0</td>\n",
       "      <td>792.0</td>\n",
       "      <td>102.0</td>\n",
       "      <td>104.0</td>\n",
       "      <td>741.0</td>\n",
       "      <td>346.0</td>\n",
       "      <td>394.0</td>\n",
       "      <td>75.0</td>\n",
       "      <td>226.0</td>\n",
       "      <td>73.0</td>\n",
       "      <td>1.227890</td>\n",
       "      <td>2013.0</td>\n",
       "      <td>971840.0</td>\n",
       "      <td>38.734668</td>\n",
       "      <td>-9.163533</td>\n",
       "    </tr>\n",
       "    <tr>\n",
       "      <th>39451</th>\n",
       "      <td>Mary Downing</td>\n",
       "      <td>female</td>\n",
       "      <td>11/13/1989 02:11 PM</td>\n",
       "      <td>2.0</td>\n",
       "      <td>3.0</td>\n",
       "      <td>0.0</td>\n",
       "      <td>7.0</td>\n",
       "      <td>15605.0</td>\n",
       "      <td>4275.0</td>\n",
       "      <td>14.0</td>\n",
       "      <td>1585.0</td>\n",
       "      <td>980.0</td>\n",
       "      <td>1872.0</td>\n",
       "      <td>1323.0</td>\n",
       "      <td>1971.0</td>\n",
       "      <td>920.0</td>\n",
       "      <td>335.0</td>\n",
       "      <td>192.0</td>\n",
       "      <td>319.0</td>\n",
       "      <td>0.101598</td>\n",
       "      <td>2011.0</td>\n",
       "      <td>NaN</td>\n",
       "      <td>38.787126</td>\n",
       "      <td>-9.147077</td>\n",
       "    </tr>\n",
       "    <tr>\n",
       "      <th>21557</th>\n",
       "      <td>Manuel Kueny</td>\n",
       "      <td>male</td>\n",
       "      <td>08/09/1976 06:23 AM</td>\n",
       "      <td>0.0</td>\n",
       "      <td>0.0</td>\n",
       "      <td>1.0</td>\n",
       "      <td>1.0</td>\n",
       "      <td>13440.0</td>\n",
       "      <td>16366.0</td>\n",
       "      <td>14.0</td>\n",
       "      <td>28.0</td>\n",
       "      <td>269.0</td>\n",
       "      <td>1855.0</td>\n",
       "      <td>939.0</td>\n",
       "      <td>785.0</td>\n",
       "      <td>139.0</td>\n",
       "      <td>679.0</td>\n",
       "      <td>270.0</td>\n",
       "      <td>221.0</td>\n",
       "      <td>0.259943</td>\n",
       "      <td>2009.0</td>\n",
       "      <td>NaN</td>\n",
       "      <td>38.741816</td>\n",
       "      <td>-9.159700</td>\n",
       "    </tr>\n",
       "    <tr>\n",
       "      <th>16415</th>\n",
       "      <td>Phd. Curtis Tharp</td>\n",
       "      <td>male</td>\n",
       "      <td>07/11/1966 08:12 AM</td>\n",
       "      <td>1.0</td>\n",
       "      <td>1.0</td>\n",
       "      <td>1.0</td>\n",
       "      <td>5.0</td>\n",
       "      <td>49250.0</td>\n",
       "      <td>3197.0</td>\n",
       "      <td>14.0</td>\n",
       "      <td>258.0</td>\n",
       "      <td>726.0</td>\n",
       "      <td>547.0</td>\n",
       "      <td>983.0</td>\n",
       "      <td>1492.0</td>\n",
       "      <td>1046.0</td>\n",
       "      <td>112.0</td>\n",
       "      <td>144.0</td>\n",
       "      <td>244.0</td>\n",
       "      <td>0.317822</td>\n",
       "      <td>2012.0</td>\n",
       "      <td>925367.0</td>\n",
       "      <td>38.785921</td>\n",
       "      <td>-9.149221</td>\n",
       "    </tr>\n",
       "  </tbody>\n",
       "</table>\n",
       "</div>"
      ],
      "text/plain": [
       "                 customer_name customer_gender   customer_birthdate  kids_home  teens_home  number_complaints  distinct_stores_visited  lifetime_spend_groceries  lifetime_spend_electronics  typical_hour  lifetime_spend_vegetables  lifetime_spend_nonalcohol_drinks  lifetime_spend_alcohol_drinks  lifetime_spend_meat  lifetime_spend_fish  lifetime_spend_hygiene  lifetime_spend_videogames  lifetime_spend_petfood  lifetime_total_distinct_products  percentage_of_products_bought_promotion  year_first_transaction  loyalty_card_number   latitude  longitude\n",
       "customer_id                                                                                                                                                                                                                                                                                                                                                                                                                                                                                                                                                              \n",
       "29930              April Clark          female  01/15/1972 02:27 PM        2.0         2.0                1.0                      4.0                    7789.0                      5601.0          13.0                      726.0                             962.0                         1213.0               1598.0               1894.0                   457.0                      412.0                   428.0                             386.0                                 0.158741                  2018.0                  NaN  38.721807  -9.125534\n",
       "6813         Bsc. Paul Ketchum            male  07/31/1944 10:53 AM        0.0         1.0                0.0                      4.0                    8653.0                        35.0          14.0                      792.0                             102.0                          104.0                741.0                346.0                   394.0                       75.0                   226.0                              73.0                                 1.227890                  2013.0             971840.0  38.734668  -9.163533\n",
       "39451             Mary Downing          female  11/13/1989 02:11 PM        2.0         3.0                0.0                      7.0                   15605.0                      4275.0          14.0                     1585.0                             980.0                         1872.0               1323.0               1971.0                   920.0                      335.0                   192.0                             319.0                                 0.101598                  2011.0                  NaN  38.787126  -9.147077\n",
       "21557             Manuel Kueny            male  08/09/1976 06:23 AM        0.0         0.0                1.0                      1.0                   13440.0                     16366.0          14.0                       28.0                             269.0                         1855.0                939.0                785.0                   139.0                      679.0                   270.0                             221.0                                 0.259943                  2009.0                  NaN  38.741816  -9.159700\n",
       "16415        Phd. Curtis Tharp            male  07/11/1966 08:12 AM        1.0         1.0                1.0                      5.0                   49250.0                      3197.0          14.0                      258.0                             726.0                          547.0                983.0               1492.0                  1046.0                      112.0                   144.0                             244.0                                 0.317822                  2012.0             925367.0  38.785921  -9.149221"
      ]
     },
     "execution_count": 8,
     "metadata": {},
     "output_type": "execute_result"
    }
   ],
   "source": [
    "customer_info.head(5)"
   ]
  },
  {
   "cell_type": "code",
   "execution_count": 9,
   "id": "b3d724ea",
   "metadata": {},
   "outputs": [
    {
     "name": "stdout",
     "output_type": "stream",
     "text": [
      "<class 'pandas.core.frame.DataFrame'>\n",
      "RangeIndex: 100000 entries, 0 to 99999\n",
      "Data columns (total 3 columns):\n",
      " #   Column         Non-Null Count   Dtype \n",
      "---  ------         --------------   ----- \n",
      " 0   invoice_id     100000 non-null  int64 \n",
      " 1   list_of_goods  100000 non-null  object\n",
      " 2   customer_id    100000 non-null  int64 \n",
      "dtypes: int64(2), object(1)\n",
      "memory usage: 2.3+ MB\n"
     ]
    }
   ],
   "source": [
    "customer_basket.info()"
   ]
  },
  {
   "cell_type": "code",
   "execution_count": 10,
   "id": "647ddaeb",
   "metadata": {},
   "outputs": [
    {
     "name": "stdout",
     "output_type": "stream",
     "text": [
      "<class 'pandas.core.frame.DataFrame'>\n",
      "Index: 34060 entries, 29930 to 22050\n",
      "Data columns (total 24 columns):\n",
      " #   Column                                   Non-Null Count  Dtype  \n",
      "---  ------                                   --------------  -----  \n",
      " 0   customer_name                            34060 non-null  object \n",
      " 1   customer_gender                          34060 non-null  object \n",
      " 2   customer_birthdate                       33719 non-null  object \n",
      " 3   kids_home                                33311 non-null  float64\n",
      " 4   teens_home                               33277 non-null  float64\n",
      " 5   number_complaints                        33038 non-null  float64\n",
      " 6   distinct_stores_visited                  33379 non-null  float64\n",
      " 7   lifetime_spend_groceries                 34060 non-null  float64\n",
      " 8   lifetime_spend_electronics               34060 non-null  float64\n",
      " 9   typical_hour                             32698 non-null  float64\n",
      " 10  lifetime_spend_vegetables                33038 non-null  float64\n",
      " 11  lifetime_spend_nonalcohol_drinks         34060 non-null  float64\n",
      " 12  lifetime_spend_alcohol_drinks            33379 non-null  float64\n",
      " 13  lifetime_spend_meat                      34060 non-null  float64\n",
      " 14  lifetime_spend_fish                      32357 non-null  float64\n",
      " 15  lifetime_spend_hygiene                   34060 non-null  float64\n",
      " 16  lifetime_spend_videogames                34060 non-null  float64\n",
      " 17  lifetime_spend_petfood                   34060 non-null  float64\n",
      " 18  lifetime_total_distinct_products         34060 non-null  float64\n",
      " 19  percentage_of_products_bought_promotion  34060 non-null  float64\n",
      " 20  year_first_transaction                   34060 non-null  float64\n",
      " 21  loyalty_card_number                      23152 non-null  float64\n",
      " 22  latitude                                 34060 non-null  float64\n",
      " 23  longitude                                34060 non-null  float64\n",
      "dtypes: float64(21), object(3)\n",
      "memory usage: 6.5+ MB\n"
     ]
    }
   ],
   "source": [
    "customer_info.info()"
   ]
  },
  {
   "cell_type": "markdown",
   "id": "d18d4c76",
   "metadata": {},
   "source": [
    "Because the datasets are rather small and mostly numerical, we don't see the need to adapt the data types "
   ]
  },
  {
   "cell_type": "markdown",
   "id": "f1861d90",
   "metadata": {},
   "source": [
    "### 2. Feature Selection (Part 1)"
   ]
  },
  {
   "cell_type": "markdown",
   "id": "fabe11fe",
   "metadata": {},
   "source": [
    "#### 2.1) Adding an *age* column"
   ]
  },
  {
   "cell_type": "markdown",
   "id": "ddd97598",
   "metadata": {},
   "source": [
    "##### 2.1.1) Altering the customer_birthdate column to datetime format"
   ]
  },
  {
   "cell_type": "code",
   "execution_count": 11,
   "id": "713fe980",
   "metadata": {},
   "outputs": [],
   "source": [
    "customer_info[\"customer_birthdate\"] = pd.to_datetime(customer_info[\"customer_birthdate\"], format=\"%m/%d/%Y %I:%M %p\")"
   ]
  },
  {
   "cell_type": "markdown",
   "id": "d14fa844",
   "metadata": {},
   "source": [
    "##### 2.1.2) Creating the age column throught the differece between the current date and the birth date"
   ]
  },
  {
   "cell_type": "code",
   "execution_count": 12,
   "id": "b68501ea",
   "metadata": {},
   "outputs": [],
   "source": [
    "today = datetime.now()\n",
    "customer_info[\"age\"] = customer_info[\"customer_birthdate\"].apply(lambda x: today.year - x.year - ((today.month, today.day) < (x.month, x.day))) # works because True = 1 and False = 0"
   ]
  },
  {
   "cell_type": "markdown",
   "id": "c50cc8a9",
   "metadata": {},
   "source": [
    "#### 2.2) Removing features"
   ]
  },
  {
   "cell_type": "code",
   "execution_count": 13,
   "id": "1d8678d5",
   "metadata": {},
   "outputs": [
    {
     "data": {
      "text/html": [
       "<div>\n",
       "<style scoped>\n",
       "    .dataframe tbody tr th:only-of-type {\n",
       "        vertical-align: middle;\n",
       "    }\n",
       "\n",
       "    .dataframe tbody tr th {\n",
       "        vertical-align: top;\n",
       "    }\n",
       "\n",
       "    .dataframe thead th {\n",
       "        text-align: right;\n",
       "    }\n",
       "</style>\n",
       "<table border=\"1\" class=\"dataframe\">\n",
       "  <thead>\n",
       "    <tr style=\"text-align: right;\">\n",
       "      <th></th>\n",
       "      <th>customer_name</th>\n",
       "      <th>customer_gender</th>\n",
       "      <th>customer_birthdate</th>\n",
       "      <th>kids_home</th>\n",
       "      <th>teens_home</th>\n",
       "      <th>number_complaints</th>\n",
       "      <th>distinct_stores_visited</th>\n",
       "      <th>lifetime_spend_groceries</th>\n",
       "      <th>lifetime_spend_electronics</th>\n",
       "      <th>typical_hour</th>\n",
       "      <th>lifetime_spend_vegetables</th>\n",
       "      <th>lifetime_spend_nonalcohol_drinks</th>\n",
       "      <th>lifetime_spend_alcohol_drinks</th>\n",
       "      <th>lifetime_spend_meat</th>\n",
       "      <th>lifetime_spend_fish</th>\n",
       "      <th>lifetime_spend_hygiene</th>\n",
       "      <th>lifetime_spend_videogames</th>\n",
       "      <th>lifetime_spend_petfood</th>\n",
       "      <th>lifetime_total_distinct_products</th>\n",
       "      <th>percentage_of_products_bought_promotion</th>\n",
       "      <th>year_first_transaction</th>\n",
       "      <th>loyalty_card_number</th>\n",
       "      <th>latitude</th>\n",
       "      <th>longitude</th>\n",
       "      <th>age</th>\n",
       "    </tr>\n",
       "    <tr>\n",
       "      <th>customer_id</th>\n",
       "      <th></th>\n",
       "      <th></th>\n",
       "      <th></th>\n",
       "      <th></th>\n",
       "      <th></th>\n",
       "      <th></th>\n",
       "      <th></th>\n",
       "      <th></th>\n",
       "      <th></th>\n",
       "      <th></th>\n",
       "      <th></th>\n",
       "      <th></th>\n",
       "      <th></th>\n",
       "      <th></th>\n",
       "      <th></th>\n",
       "      <th></th>\n",
       "      <th></th>\n",
       "      <th></th>\n",
       "      <th></th>\n",
       "      <th></th>\n",
       "      <th></th>\n",
       "      <th></th>\n",
       "      <th></th>\n",
       "      <th></th>\n",
       "      <th></th>\n",
       "    </tr>\n",
       "  </thead>\n",
       "  <tbody>\n",
       "    <tr>\n",
       "      <th>29930</th>\n",
       "      <td>April Clark</td>\n",
       "      <td>female</td>\n",
       "      <td>1972-01-15 14:27:00</td>\n",
       "      <td>2.0</td>\n",
       "      <td>2.0</td>\n",
       "      <td>1.0</td>\n",
       "      <td>4.0</td>\n",
       "      <td>7789.0</td>\n",
       "      <td>5601.0</td>\n",
       "      <td>13.0</td>\n",
       "      <td>726.0</td>\n",
       "      <td>962.0</td>\n",
       "      <td>1213.0</td>\n",
       "      <td>1598.0</td>\n",
       "      <td>1894.0</td>\n",
       "      <td>457.0</td>\n",
       "      <td>412.0</td>\n",
       "      <td>428.0</td>\n",
       "      <td>386.0</td>\n",
       "      <td>0.158741</td>\n",
       "      <td>2018.0</td>\n",
       "      <td>NaN</td>\n",
       "      <td>38.721807</td>\n",
       "      <td>-9.125534</td>\n",
       "      <td>53.0</td>\n",
       "    </tr>\n",
       "    <tr>\n",
       "      <th>6813</th>\n",
       "      <td>Bsc. Paul Ketchum</td>\n",
       "      <td>male</td>\n",
       "      <td>1944-07-31 10:53:00</td>\n",
       "      <td>0.0</td>\n",
       "      <td>1.0</td>\n",
       "      <td>0.0</td>\n",
       "      <td>4.0</td>\n",
       "      <td>8653.0</td>\n",
       "      <td>35.0</td>\n",
       "      <td>14.0</td>\n",
       "      <td>792.0</td>\n",
       "      <td>102.0</td>\n",
       "      <td>104.0</td>\n",
       "      <td>741.0</td>\n",
       "      <td>346.0</td>\n",
       "      <td>394.0</td>\n",
       "      <td>75.0</td>\n",
       "      <td>226.0</td>\n",
       "      <td>73.0</td>\n",
       "      <td>1.227890</td>\n",
       "      <td>2013.0</td>\n",
       "      <td>971840.0</td>\n",
       "      <td>38.734668</td>\n",
       "      <td>-9.163533</td>\n",
       "      <td>80.0</td>\n",
       "    </tr>\n",
       "    <tr>\n",
       "      <th>39451</th>\n",
       "      <td>Mary Downing</td>\n",
       "      <td>female</td>\n",
       "      <td>1989-11-13 14:11:00</td>\n",
       "      <td>2.0</td>\n",
       "      <td>3.0</td>\n",
       "      <td>0.0</td>\n",
       "      <td>7.0</td>\n",
       "      <td>15605.0</td>\n",
       "      <td>4275.0</td>\n",
       "      <td>14.0</td>\n",
       "      <td>1585.0</td>\n",
       "      <td>980.0</td>\n",
       "      <td>1872.0</td>\n",
       "      <td>1323.0</td>\n",
       "      <td>1971.0</td>\n",
       "      <td>920.0</td>\n",
       "      <td>335.0</td>\n",
       "      <td>192.0</td>\n",
       "      <td>319.0</td>\n",
       "      <td>0.101598</td>\n",
       "      <td>2011.0</td>\n",
       "      <td>NaN</td>\n",
       "      <td>38.787126</td>\n",
       "      <td>-9.147077</td>\n",
       "      <td>35.0</td>\n",
       "    </tr>\n",
       "    <tr>\n",
       "      <th>21557</th>\n",
       "      <td>Manuel Kueny</td>\n",
       "      <td>male</td>\n",
       "      <td>1976-08-09 06:23:00</td>\n",
       "      <td>0.0</td>\n",
       "      <td>0.0</td>\n",
       "      <td>1.0</td>\n",
       "      <td>1.0</td>\n",
       "      <td>13440.0</td>\n",
       "      <td>16366.0</td>\n",
       "      <td>14.0</td>\n",
       "      <td>28.0</td>\n",
       "      <td>269.0</td>\n",
       "      <td>1855.0</td>\n",
       "      <td>939.0</td>\n",
       "      <td>785.0</td>\n",
       "      <td>139.0</td>\n",
       "      <td>679.0</td>\n",
       "      <td>270.0</td>\n",
       "      <td>221.0</td>\n",
       "      <td>0.259943</td>\n",
       "      <td>2009.0</td>\n",
       "      <td>NaN</td>\n",
       "      <td>38.741816</td>\n",
       "      <td>-9.159700</td>\n",
       "      <td>48.0</td>\n",
       "    </tr>\n",
       "    <tr>\n",
       "      <th>16415</th>\n",
       "      <td>Phd. Curtis Tharp</td>\n",
       "      <td>male</td>\n",
       "      <td>1966-07-11 08:12:00</td>\n",
       "      <td>1.0</td>\n",
       "      <td>1.0</td>\n",
       "      <td>1.0</td>\n",
       "      <td>5.0</td>\n",
       "      <td>49250.0</td>\n",
       "      <td>3197.0</td>\n",
       "      <td>14.0</td>\n",
       "      <td>258.0</td>\n",
       "      <td>726.0</td>\n",
       "      <td>547.0</td>\n",
       "      <td>983.0</td>\n",
       "      <td>1492.0</td>\n",
       "      <td>1046.0</td>\n",
       "      <td>112.0</td>\n",
       "      <td>144.0</td>\n",
       "      <td>244.0</td>\n",
       "      <td>0.317822</td>\n",
       "      <td>2012.0</td>\n",
       "      <td>925367.0</td>\n",
       "      <td>38.785921</td>\n",
       "      <td>-9.149221</td>\n",
       "      <td>58.0</td>\n",
       "    </tr>\n",
       "  </tbody>\n",
       "</table>\n",
       "</div>"
      ],
      "text/plain": [
       "                 customer_name customer_gender  customer_birthdate  kids_home  teens_home  number_complaints  distinct_stores_visited  lifetime_spend_groceries  lifetime_spend_electronics  typical_hour  lifetime_spend_vegetables  lifetime_spend_nonalcohol_drinks  lifetime_spend_alcohol_drinks  lifetime_spend_meat  lifetime_spend_fish  lifetime_spend_hygiene  lifetime_spend_videogames  lifetime_spend_petfood  lifetime_total_distinct_products  percentage_of_products_bought_promotion  year_first_transaction  loyalty_card_number   latitude  longitude   age\n",
       "customer_id                                                                                                                                                                                                                                                                                                                                                                                                                                                                                                                                                                   \n",
       "29930              April Clark          female 1972-01-15 14:27:00        2.0         2.0                1.0                      4.0                    7789.0                      5601.0          13.0                      726.0                             962.0                         1213.0               1598.0               1894.0                   457.0                      412.0                   428.0                             386.0                                 0.158741                  2018.0                  NaN  38.721807  -9.125534  53.0\n",
       "6813         Bsc. Paul Ketchum            male 1944-07-31 10:53:00        0.0         1.0                0.0                      4.0                    8653.0                        35.0          14.0                      792.0                             102.0                          104.0                741.0                346.0                   394.0                       75.0                   226.0                              73.0                                 1.227890                  2013.0             971840.0  38.734668  -9.163533  80.0\n",
       "39451             Mary Downing          female 1989-11-13 14:11:00        2.0         3.0                0.0                      7.0                   15605.0                      4275.0          14.0                     1585.0                             980.0                         1872.0               1323.0               1971.0                   920.0                      335.0                   192.0                             319.0                                 0.101598                  2011.0                  NaN  38.787126  -9.147077  35.0\n",
       "21557             Manuel Kueny            male 1976-08-09 06:23:00        0.0         0.0                1.0                      1.0                   13440.0                     16366.0          14.0                       28.0                             269.0                         1855.0                939.0                785.0                   139.0                      679.0                   270.0                             221.0                                 0.259943                  2009.0                  NaN  38.741816  -9.159700  48.0\n",
       "16415        Phd. Curtis Tharp            male 1966-07-11 08:12:00        1.0         1.0                1.0                      5.0                   49250.0                      3197.0          14.0                      258.0                             726.0                          547.0                983.0               1492.0                  1046.0                      112.0                   144.0                             244.0                                 0.317822                  2012.0             925367.0  38.785921  -9.149221  58.0"
      ]
     },
     "execution_count": 13,
     "metadata": {},
     "output_type": "execute_result"
    }
   ],
   "source": [
    "customer_info.head()"
   ]
  },
  {
   "cell_type": "markdown",
   "id": "ae3b203a",
   "metadata": {},
   "source": [
    "Columns to remove:\n",
    "- *customer_name* - Since customers are already identified by id, there's no need to save their name;\n",
    "- *customer_birthdate* - Due to the fact that we've already created an *age* column;\n",
    "- *year_first_transaction* - We believe the worth this variable has is already in the *age* column, given the relation that the older people are, the smaller will be the year of the first transation, and no additional value may be extrated;\n",
    "- *loyalty_card_number* - This is a set of digits with no meaning, assigned to customers with loyalty cards. Its only possible purpose would be distinguishing in between customers since the numbers are theoretically unique for each one. However, not all customers have a loyalty card and we already have the *customer_id* column, so this variable has no worth.\n",
    "- *latitude* and *longitude* - these two columns are only used for the map made in the EDA, which showed no visible pattern."
   ]
  },
  {
   "cell_type": "code",
   "execution_count": 14,
   "id": "de597a9b",
   "metadata": {},
   "outputs": [],
   "source": [
    "customer_info = customer_info.drop([\"customer_name\", \"customer_birthdate\", \"year_first_transaction\", \"loyalty_card_number\", \"latitude\", \"longitude\"], axis=1)"
   ]
  },
  {
   "cell_type": "markdown",
   "id": "3105823d",
   "metadata": {},
   "source": [
    "#### 2.3) Assessing highly correlated features"
   ]
  },
  {
   "cell_type": "markdown",
   "id": "83c001af",
   "metadata": {},
   "source": [
    "Sometimes, variables present correlations that justfy removing one of them, as it becomes redundant to keep both. As we saw through our heatmap, some features do have a rather high correlation. However, we don't consider these nearly enough to remove them."
   ]
  },
  {
   "cell_type": "markdown",
   "id": "5724d86b",
   "metadata": {},
   "source": [
    "#### 2.4) Label encoding for the *customer_gender* variable"
   ]
  },
  {
   "cell_type": "code",
   "execution_count": 15,
   "id": "b1d6d82f",
   "metadata": {},
   "outputs": [],
   "source": [
    "customer_info[\"customer_gender\"] = np.where(customer_info[\"customer_gender\"] == \"female\", 0, 1)"
   ]
  },
  {
   "cell_type": "markdown",
   "id": "3b83f928",
   "metadata": {},
   "source": [
    "### 3. Unidimensional Outlier Detection"
   ]
  },
  {
   "cell_type": "markdown",
   "id": "0f1925ba",
   "metadata": {},
   "source": [
    "### 4. Scaling\n",
    "We'll be using Robust Scaler to scale our data as it has shown, through the EDA's boxplots and histograms, a high presence of outliers"
   ]
  },
  {
   "cell_type": "code",
   "execution_count": 16,
   "id": "3e6b594e",
   "metadata": {},
   "outputs": [],
   "source": [
    "scaler = RobustScaler()\n",
    "\n",
    "scaled_array = scaler.fit_transform(customer_info)\n",
    "scaled_customer_info = pd.DataFrame(scaled_array, columns=customer_info.columns, index=customer_info.index)\n",
    "customer_info = scaled_customer_info"
   ]
  },
  {
   "cell_type": "markdown",
   "id": "be300011",
   "metadata": {},
   "source": [
    "### 5. Data Cleaning ###\n",
    "Dealing with the duplicates, missing values and noise"
   ]
  },
  {
   "cell_type": "markdown",
   "id": "b39b823c",
   "metadata": {},
   "source": [
    "#### 5.1) Duplicates"
   ]
  },
  {
   "cell_type": "markdown",
   "id": "0fc16637",
   "metadata": {},
   "source": [
    "##### 5.1.1) For customer_basket"
   ]
  },
  {
   "cell_type": "code",
   "execution_count": 17,
   "id": "f91815a3",
   "metadata": {},
   "outputs": [
    {
     "data": {
      "text/plain": [
       "np.int64(0)"
      ]
     },
     "execution_count": 17,
     "metadata": {},
     "output_type": "execute_result"
    }
   ],
   "source": [
    "customer_basket.duplicated().sum()"
   ]
  },
  {
   "cell_type": "markdown",
   "id": "f4647eb7",
   "metadata": {},
   "source": [
    "On a first look, it seems there are no duplicated rows..."
   ]
  },
  {
   "cell_type": "code",
   "execution_count": 18,
   "id": "1486c3de",
   "metadata": {},
   "outputs": [
    {
     "data": {
      "text/plain": [
       "False"
      ]
     },
     "execution_count": 18,
     "metadata": {},
     "output_type": "execute_result"
    }
   ],
   "source": [
    "customer_basket[\"invoice_id\"].is_unique"
   ]
  },
  {
   "cell_type": "code",
   "execution_count": 19,
   "id": "94e7edb5",
   "metadata": {},
   "outputs": [
    {
     "data": {
      "text/plain": [
       "False"
      ]
     },
     "execution_count": 19,
     "metadata": {},
     "output_type": "execute_result"
    }
   ],
   "source": [
    "customer_basket[\"customer_id\"].is_unique"
   ]
  },
  {
   "cell_type": "markdown",
   "id": "7939affd",
   "metadata": {},
   "source": [
    "With this, we may conclude that, although there are no duplicated rows, some refer to the same customer making different purchases (identical *customer_id*), while others reflect different customers buying the same set of items (identical *invoice_id*)."
   ]
  },
  {
   "cell_type": "markdown",
   "id": "b484874f",
   "metadata": {},
   "source": [
    "##### 5.1.2) For customer_info"
   ]
  },
  {
   "cell_type": "code",
   "execution_count": 20,
   "id": "50e10912",
   "metadata": {},
   "outputs": [
    {
     "data": {
      "text/plain": [
       "np.int64(0)"
      ]
     },
     "execution_count": 20,
     "metadata": {},
     "output_type": "execute_result"
    }
   ],
   "source": [
    "customer_basket.duplicated().sum()"
   ]
  },
  {
   "cell_type": "markdown",
   "id": "81dd7509",
   "metadata": {},
   "source": [
    "Here, because we managed to set *customer_id* as an index, and also due to the last block of code showing no repeated rows, we may conclude there aren't any duplicates in the *customer_info* dataset"
   ]
  },
  {
   "cell_type": "markdown",
   "id": "60bb98ed",
   "metadata": {},
   "source": [
    "#### 5.2) Missing Values / Imputation"
   ]
  },
  {
   "cell_type": "markdown",
   "id": "8165c82a",
   "metadata": {},
   "source": [
    "##### 5.2.1) For customer_basket"
   ]
  },
  {
   "cell_type": "code",
   "execution_count": 21,
   "id": "22eff15e",
   "metadata": {},
   "outputs": [
    {
     "data": {
      "text/html": [
       "<div>\n",
       "<style scoped>\n",
       "    .dataframe tbody tr th:only-of-type {\n",
       "        vertical-align: middle;\n",
       "    }\n",
       "\n",
       "    .dataframe tbody tr th {\n",
       "        vertical-align: top;\n",
       "    }\n",
       "\n",
       "    .dataframe thead th {\n",
       "        text-align: right;\n",
       "    }\n",
       "</style>\n",
       "<table border=\"1\" class=\"dataframe\">\n",
       "  <thead>\n",
       "    <tr style=\"text-align: right;\">\n",
       "      <th></th>\n",
       "      <th>Missing Count</th>\n",
       "      <th>Missing %</th>\n",
       "    </tr>\n",
       "  </thead>\n",
       "  <tbody>\n",
       "    <tr>\n",
       "      <th>invoice_id</th>\n",
       "      <td>0</td>\n",
       "      <td>0.0</td>\n",
       "    </tr>\n",
       "    <tr>\n",
       "      <th>list_of_goods</th>\n",
       "      <td>0</td>\n",
       "      <td>0.0</td>\n",
       "    </tr>\n",
       "    <tr>\n",
       "      <th>customer_id</th>\n",
       "      <td>0</td>\n",
       "      <td>0.0</td>\n",
       "    </tr>\n",
       "  </tbody>\n",
       "</table>\n",
       "</div>"
      ],
      "text/plain": [
       "               Missing Count  Missing %\n",
       "invoice_id                 0        0.0\n",
       "list_of_goods              0        0.0\n",
       "customer_id                0        0.0"
      ]
     },
     "execution_count": 21,
     "metadata": {},
     "output_type": "execute_result"
    }
   ],
   "source": [
    "missing_customer_basket = pd.DataFrame({\n",
    "    'Missing Count': customer_basket.isnull().sum(),\n",
    "    'Missing %': round(customer_basket.isnull().mean() * 100, 2)\n",
    "})\n",
    "missing_customer_basket"
   ]
  },
  {
   "cell_type": "markdown",
   "id": "bb8449b6",
   "metadata": {},
   "source": [
    "Great! We have no missing values in the *customer_basket* dataset."
   ]
  },
  {
   "cell_type": "markdown",
   "id": "f1556714",
   "metadata": {},
   "source": [
    "##### 5.2.2) For customer_info"
   ]
  },
  {
   "cell_type": "code",
   "execution_count": 22,
   "id": "5dcbe796",
   "metadata": {},
   "outputs": [
    {
     "data": {
      "text/html": [
       "<div>\n",
       "<style scoped>\n",
       "    .dataframe tbody tr th:only-of-type {\n",
       "        vertical-align: middle;\n",
       "    }\n",
       "\n",
       "    .dataframe tbody tr th {\n",
       "        vertical-align: top;\n",
       "    }\n",
       "\n",
       "    .dataframe thead th {\n",
       "        text-align: right;\n",
       "    }\n",
       "</style>\n",
       "<table border=\"1\" class=\"dataframe\">\n",
       "  <thead>\n",
       "    <tr style=\"text-align: right;\">\n",
       "      <th></th>\n",
       "      <th>Missing Count</th>\n",
       "      <th>Missing %</th>\n",
       "    </tr>\n",
       "  </thead>\n",
       "  <tbody>\n",
       "    <tr>\n",
       "      <th>customer_gender</th>\n",
       "      <td>0</td>\n",
       "      <td>0.0</td>\n",
       "    </tr>\n",
       "    <tr>\n",
       "      <th>kids_home</th>\n",
       "      <td>749</td>\n",
       "      <td>2.2</td>\n",
       "    </tr>\n",
       "    <tr>\n",
       "      <th>teens_home</th>\n",
       "      <td>783</td>\n",
       "      <td>2.3</td>\n",
       "    </tr>\n",
       "    <tr>\n",
       "      <th>number_complaints</th>\n",
       "      <td>1022</td>\n",
       "      <td>3.0</td>\n",
       "    </tr>\n",
       "    <tr>\n",
       "      <th>distinct_stores_visited</th>\n",
       "      <td>681</td>\n",
       "      <td>2.0</td>\n",
       "    </tr>\n",
       "    <tr>\n",
       "      <th>lifetime_spend_groceries</th>\n",
       "      <td>0</td>\n",
       "      <td>0.0</td>\n",
       "    </tr>\n",
       "    <tr>\n",
       "      <th>lifetime_spend_electronics</th>\n",
       "      <td>0</td>\n",
       "      <td>0.0</td>\n",
       "    </tr>\n",
       "    <tr>\n",
       "      <th>typical_hour</th>\n",
       "      <td>1362</td>\n",
       "      <td>4.0</td>\n",
       "    </tr>\n",
       "    <tr>\n",
       "      <th>lifetime_spend_vegetables</th>\n",
       "      <td>1022</td>\n",
       "      <td>3.0</td>\n",
       "    </tr>\n",
       "    <tr>\n",
       "      <th>lifetime_spend_nonalcohol_drinks</th>\n",
       "      <td>0</td>\n",
       "      <td>0.0</td>\n",
       "    </tr>\n",
       "    <tr>\n",
       "      <th>lifetime_spend_alcohol_drinks</th>\n",
       "      <td>681</td>\n",
       "      <td>2.0</td>\n",
       "    </tr>\n",
       "    <tr>\n",
       "      <th>lifetime_spend_meat</th>\n",
       "      <td>0</td>\n",
       "      <td>0.0</td>\n",
       "    </tr>\n",
       "    <tr>\n",
       "      <th>lifetime_spend_fish</th>\n",
       "      <td>1703</td>\n",
       "      <td>5.0</td>\n",
       "    </tr>\n",
       "    <tr>\n",
       "      <th>lifetime_spend_hygiene</th>\n",
       "      <td>0</td>\n",
       "      <td>0.0</td>\n",
       "    </tr>\n",
       "    <tr>\n",
       "      <th>lifetime_spend_videogames</th>\n",
       "      <td>0</td>\n",
       "      <td>0.0</td>\n",
       "    </tr>\n",
       "    <tr>\n",
       "      <th>lifetime_spend_petfood</th>\n",
       "      <td>0</td>\n",
       "      <td>0.0</td>\n",
       "    </tr>\n",
       "    <tr>\n",
       "      <th>lifetime_total_distinct_products</th>\n",
       "      <td>0</td>\n",
       "      <td>0.0</td>\n",
       "    </tr>\n",
       "    <tr>\n",
       "      <th>percentage_of_products_bought_promotion</th>\n",
       "      <td>0</td>\n",
       "      <td>0.0</td>\n",
       "    </tr>\n",
       "    <tr>\n",
       "      <th>age</th>\n",
       "      <td>341</td>\n",
       "      <td>1.0</td>\n",
       "    </tr>\n",
       "  </tbody>\n",
       "</table>\n",
       "</div>"
      ],
      "text/plain": [
       "                                         Missing Count  Missing %\n",
       "customer_gender                                      0        0.0\n",
       "kids_home                                          749        2.2\n",
       "teens_home                                         783        2.3\n",
       "number_complaints                                 1022        3.0\n",
       "distinct_stores_visited                            681        2.0\n",
       "lifetime_spend_groceries                             0        0.0\n",
       "lifetime_spend_electronics                           0        0.0\n",
       "typical_hour                                      1362        4.0\n",
       "lifetime_spend_vegetables                         1022        3.0\n",
       "lifetime_spend_nonalcohol_drinks                     0        0.0\n",
       "lifetime_spend_alcohol_drinks                      681        2.0\n",
       "lifetime_spend_meat                                  0        0.0\n",
       "lifetime_spend_fish                               1703        5.0\n",
       "lifetime_spend_hygiene                               0        0.0\n",
       "lifetime_spend_videogames                            0        0.0\n",
       "lifetime_spend_petfood                               0        0.0\n",
       "lifetime_total_distinct_products                     0        0.0\n",
       "percentage_of_products_bought_promotion              0        0.0\n",
       "age                                                341        1.0"
      ]
     },
     "execution_count": 22,
     "metadata": {},
     "output_type": "execute_result"
    }
   ],
   "source": [
    "missing_customer_info = pd.DataFrame({\n",
    "    'Missing Count': customer_info.isnull().sum(),\n",
    "    'Missing %': round(customer_info.isnull().mean() * 100, 2)\n",
    "})\n",
    "missing_customer_info"
   ]
  },
  {
   "cell_type": "markdown",
   "id": "10206c62",
   "metadata": {},
   "source": [
    "We will use K Nearest Neighbours imputation to replace these missing values. Firstly, we need to find a value for K."
   ]
  },
  {
   "cell_type": "markdown",
   "id": "9bad5114",
   "metadata": {},
   "source": [
    "To evaluate the optimal number of neighbours for KNN imputation, we selected rows where the 'age' variable was not missing and split the data into training and test sets. In the test set, we artificially removed the 'age' values to simulate missingness while keeping the true values for comparison. We then applied KNN imputation with different values of k to the combined dataset and measured the accuracy of the imputed values by calculating the RMSE against the original 'age' values in the test set. This allowed us to identify which k produced the most accurate imputations."
   ]
  },
  {
   "cell_type": "code",
   "execution_count": 23,
   "id": "c9cf083a",
   "metadata": {},
   "outputs": [
    {
     "name": "stdout",
     "output_type": "stream",
     "text": [
      "RMSE for each K: {5: np.float64(0.564048453033348), 10: np.float64(0.540679705226091), 15: np.float64(0.5334008014589632)}\n"
     ]
    }
   ],
   "source": [
    "# keep only the rows where 'age' is observed\n",
    "complete_data = customer_info[customer_info['age'].notna()].copy()\n",
    "\n",
    "train_set, test_set = train_test_split(complete_data, test_size=0.2, random_state=42)\n",
    "\n",
    "# storing the true values to compare later\n",
    "true_age = test_set['age'].copy()\n",
    "\n",
    "# artificially set \"age\" to NaN in test set to simulate missingness\n",
    "test_set.loc[:, 'age'] = np.nan\n",
    "\n",
    "simulated_data = pd.concat([train_set, test_set])\n",
    "\n",
    "rmse_per_k = {}\n",
    "\n",
    "for k in [5, 10, 15]:\n",
    "    imputer = KNNImputer(n_neighbors=k)\n",
    "    imputed_array = imputer.fit_transform(simulated_data.select_dtypes(include='number'))\n",
    "    imputed_df = pd.DataFrame(imputed_array, columns=simulated_data.select_dtypes(include='number').columns)\n",
    "\n",
    "    imputed_df.index = simulated_data.index\n",
    "    \n",
    "    # Recover imputed values for the previously missing 'age' in test_set\n",
    "    imputed_age = imputed_df.loc[test_set.index, 'age']\n",
    "    \n",
    "    rmse = np.sqrt(mean_squared_error(true_age, imputed_age))\n",
    "    rmse_per_k[k] = rmse\n",
    "\n",
    "print(\"RMSE for each K:\", rmse_per_k)\n"
   ]
  },
  {
   "cell_type": "code",
   "execution_count": 24,
   "id": "c1e5df56",
   "metadata": {},
   "outputs": [
    {
     "data": {
      "image/png": "[encoded data removed]",
      "text/plain": [
       "<Figure size 640x480 with 1 Axes>"
      ]
     },
     "metadata": {},
     "output_type": "display_data"
    }
   ],
   "source": [
    "imputer = KNNImputer(n_neighbors=5)\n",
    "imputed_array = imputer.fit_transform(simulated_data.select_dtypes(include='number'))\n",
    "imputed_df = pd.DataFrame(imputed_array, columns=simulated_data.select_dtypes(include='number').columns)\n",
    "\n",
    "# Compare original vs imputed\n",
    "sns.kdeplot(customer_info['age'], label='Original', color='blue')\n",
    "sns.kdeplot(imputed_df['age'], label='Imputed', color='green')\n",
    "plt.legend()\n",
    "plt.title('Distribution Comparison')\n",
    "plt.show()\n"
   ]
  },
  {
   "cell_type": "code",
   "execution_count": 25,
   "id": "2b67e280",
   "metadata": {},
   "outputs": [
    {
     "data": {
      "image/png": "[encoded data removed]",
      "text/plain": [
       "<Figure size 640x480 with 1 Axes>"
      ]
     },
     "metadata": {},
     "output_type": "display_data"
    }
   ],
   "source": [
    "imputer = KNNImputer(n_neighbors=10)\n",
    "imputed_array = imputer.fit_transform(simulated_data.select_dtypes(include='number'))\n",
    "imputed_df = pd.DataFrame(imputed_array, columns=simulated_data.select_dtypes(include='number').columns)\n",
    "\n",
    "# Compare original vs imputed\n",
    "sns.kdeplot(customer_info['age'], label='Original', color='blue')\n",
    "sns.kdeplot(imputed_df['age'], label='Imputed', color='green')\n",
    "plt.legend()\n",
    "plt.title('Distribution Comparison')\n",
    "plt.show()\n"
   ]
  },
  {
   "cell_type": "code",
   "execution_count": 26,
   "id": "f0470e87",
   "metadata": {},
   "outputs": [
    {
     "data": {
      "image/png": "[encoded data removed]",
      "text/plain": [
       "<Figure size 640x480 with 1 Axes>"
      ]
     },
     "metadata": {},
     "output_type": "display_data"
    }
   ],
   "source": [
    "imputer = KNNImputer(n_neighbors=15)\n",
    "imputed_array = imputer.fit_transform(simulated_data.select_dtypes(include='number'))\n",
    "imputed_df = pd.DataFrame(imputed_array, columns=simulated_data.select_dtypes(include='number').columns)\n",
    "\n",
    "# Compare original vs imputed\n",
    "sns.kdeplot(customer_info['age'], label='Original', color='blue')\n",
    "sns.kdeplot(imputed_df['age'], label='Imputed', color='green')\n",
    "plt.legend()\n",
    "plt.title('Distribution Comparison')\n",
    "plt.show()\n"
   ]
  },
  {
   "cell_type": "markdown",
   "id": "e4ac1349",
   "metadata": {},
   "source": [
    "Given these results, we chose k=10, as a larger k begins to show signs of underfitting due to the fact that there's a higher and higher number of predicted values in between the ages 50-60, which is where we have the median of *age* (as seen in the EDA)"
   ]
  },
  {
   "cell_type": "code",
   "execution_count": 27,
   "id": "bcb07737",
   "metadata": {},
   "outputs": [],
   "source": [
    "imputer = KNNImputer(n_neighbors=10)\n",
    "customer_info[:] = imputer.fit_transform(customer_info)"
   ]
  },
  {
   "cell_type": "code",
   "execution_count": 28,
   "id": "7b5eafce",
   "metadata": {},
   "outputs": [
    {
     "data": {
      "text/html": [
       "<div>\n",
       "<style scoped>\n",
       "    .dataframe tbody tr th:only-of-type {\n",
       "        vertical-align: middle;\n",
       "    }\n",
       "\n",
       "    .dataframe tbody tr th {\n",
       "        vertical-align: top;\n",
       "    }\n",
       "\n",
       "    .dataframe thead th {\n",
       "        text-align: right;\n",
       "    }\n",
       "</style>\n",
       "<table border=\"1\" class=\"dataframe\">\n",
       "  <thead>\n",
       "    <tr style=\"text-align: right;\">\n",
       "      <th></th>\n",
       "      <th>Missing Count</th>\n",
       "      <th>Missing %</th>\n",
       "    </tr>\n",
       "  </thead>\n",
       "  <tbody>\n",
       "    <tr>\n",
       "      <th>customer_gender</th>\n",
       "      <td>0</td>\n",
       "      <td>0.0</td>\n",
       "    </tr>\n",
       "    <tr>\n",
       "      <th>kids_home</th>\n",
       "      <td>0</td>\n",
       "      <td>0.0</td>\n",
       "    </tr>\n",
       "    <tr>\n",
       "      <th>teens_home</th>\n",
       "      <td>0</td>\n",
       "      <td>0.0</td>\n",
       "    </tr>\n",
       "    <tr>\n",
       "      <th>number_complaints</th>\n",
       "      <td>0</td>\n",
       "      <td>0.0</td>\n",
       "    </tr>\n",
       "    <tr>\n",
       "      <th>distinct_stores_visited</th>\n",
       "      <td>0</td>\n",
       "      <td>0.0</td>\n",
       "    </tr>\n",
       "    <tr>\n",
       "      <th>lifetime_spend_groceries</th>\n",
       "      <td>0</td>\n",
       "      <td>0.0</td>\n",
       "    </tr>\n",
       "    <tr>\n",
       "      <th>lifetime_spend_electronics</th>\n",
       "      <td>0</td>\n",
       "      <td>0.0</td>\n",
       "    </tr>\n",
       "    <tr>\n",
       "      <th>typical_hour</th>\n",
       "      <td>0</td>\n",
       "      <td>0.0</td>\n",
       "    </tr>\n",
       "    <tr>\n",
       "      <th>lifetime_spend_vegetables</th>\n",
       "      <td>0</td>\n",
       "      <td>0.0</td>\n",
       "    </tr>\n",
       "    <tr>\n",
       "      <th>lifetime_spend_nonalcohol_drinks</th>\n",
       "      <td>0</td>\n",
       "      <td>0.0</td>\n",
       "    </tr>\n",
       "    <tr>\n",
       "      <th>lifetime_spend_alcohol_drinks</th>\n",
       "      <td>0</td>\n",
       "      <td>0.0</td>\n",
       "    </tr>\n",
       "    <tr>\n",
       "      <th>lifetime_spend_meat</th>\n",
       "      <td>0</td>\n",
       "      <td>0.0</td>\n",
       "    </tr>\n",
       "    <tr>\n",
       "      <th>lifetime_spend_fish</th>\n",
       "      <td>0</td>\n",
       "      <td>0.0</td>\n",
       "    </tr>\n",
       "    <tr>\n",
       "      <th>lifetime_spend_hygiene</th>\n",
       "      <td>0</td>\n",
       "      <td>0.0</td>\n",
       "    </tr>\n",
       "    <tr>\n",
       "      <th>lifetime_spend_videogames</th>\n",
       "      <td>0</td>\n",
       "      <td>0.0</td>\n",
       "    </tr>\n",
       "    <tr>\n",
       "      <th>lifetime_spend_petfood</th>\n",
       "      <td>0</td>\n",
       "      <td>0.0</td>\n",
       "    </tr>\n",
       "    <tr>\n",
       "      <th>lifetime_total_distinct_products</th>\n",
       "      <td>0</td>\n",
       "      <td>0.0</td>\n",
       "    </tr>\n",
       "    <tr>\n",
       "      <th>percentage_of_products_bought_promotion</th>\n",
       "      <td>0</td>\n",
       "      <td>0.0</td>\n",
       "    </tr>\n",
       "    <tr>\n",
       "      <th>age</th>\n",
       "      <td>0</td>\n",
       "      <td>0.0</td>\n",
       "    </tr>\n",
       "  </tbody>\n",
       "</table>\n",
       "</div>"
      ],
      "text/plain": [
       "                                         Missing Count  Missing %\n",
       "customer_gender                                      0        0.0\n",
       "kids_home                                            0        0.0\n",
       "teens_home                                           0        0.0\n",
       "number_complaints                                    0        0.0\n",
       "distinct_stores_visited                              0        0.0\n",
       "lifetime_spend_groceries                             0        0.0\n",
       "lifetime_spend_electronics                           0        0.0\n",
       "typical_hour                                         0        0.0\n",
       "lifetime_spend_vegetables                            0        0.0\n",
       "lifetime_spend_nonalcohol_drinks                     0        0.0\n",
       "lifetime_spend_alcohol_drinks                        0        0.0\n",
       "lifetime_spend_meat                                  0        0.0\n",
       "lifetime_spend_fish                                  0        0.0\n",
       "lifetime_spend_hygiene                               0        0.0\n",
       "lifetime_spend_videogames                            0        0.0\n",
       "lifetime_spend_petfood                               0        0.0\n",
       "lifetime_total_distinct_products                     0        0.0\n",
       "percentage_of_products_bought_promotion              0        0.0\n",
       "age                                                  0        0.0"
      ]
     },
     "execution_count": 28,
     "metadata": {},
     "output_type": "execute_result"
    }
   ],
   "source": [
    "missing_customer_info = pd.DataFrame({\n",
    "    'Missing Count': customer_info.isnull().sum(),\n",
    "    'Missing %': round(customer_info.isnull().mean() * 100, 2)\n",
    "})\n",
    "missing_customer_info"
   ]
  },
  {
   "cell_type": "markdown",
   "id": "e880d8bc",
   "metadata": {},
   "source": [
    "#### 5.3) Noise\n",
    "\n",
    "As we saw in the EDA, some values are impossible to achieve, namely negative numbers in <i>percentage_of_products_bought_promotion</i>. Thus, we will assume these values to be zero and replace them."
   ]
  },
  {
   "cell_type": "code",
   "execution_count": 29,
   "id": "c43ace3c",
   "metadata": {},
   "outputs": [],
   "source": [
    "# replace the percentage_of_products_bought_promotion below 0 with 0\n",
    "\n",
    "import numpy as np\n",
    "\n",
    "customer_info[\"percentage_of_products_bought_promotion\"] = np.where(\n",
    "    customer_info[\"percentage_of_products_bought_promotion\"] < 0,\n",
    "    0,\n",
    "    customer_info[\"percentage_of_products_bought_promotion\"]\n",
    ")"
   ]
  },
  {
   "cell_type": "markdown",
   "id": "3f116650",
   "metadata": {},
   "source": [
    "### 6. Outlier Detection\n",
    "Using DBSCAN to determine the presence of multidimensional outliers; Analysing the presence of unidimensional outliers."
   ]
  },
  {
   "cell_type": "markdown",
   "id": "6bebc494",
   "metadata": {},
   "source": [
    "#### 6.1) Figuring out the parameters: min_samples\n",
    "As a starting point, we will use the rule of thumb that the minimum number of points is equal to 1 + the number of features"
   ]
  },
  {
   "cell_type": "code",
   "execution_count": 30,
   "id": "34970631",
   "metadata": {},
   "outputs": [
    {
     "data": {
      "text/plain": [
       "20"
      ]
     },
     "execution_count": 30,
     "metadata": {},
     "output_type": "execute_result"
    }
   ],
   "source": [
    "min_samples_value = 1 + customer_info.shape[1]\n",
    "min_samples_value"
   ]
  },
  {
   "cell_type": "markdown",
   "id": "6f86fd2b",
   "metadata": {},
   "source": [
    "#### 6.2) Figuring out the parameters: eps\n",
    "It works like being in a crowded room, with 300 people for instance. Now we want to know, for a person, how large is the radius of the circle we have to draw around them to get the k nearest people.\n",
    "Once we have those 300 distances sorted and plotted, we will see that some, in denser clusters of people, will have very short distances, some will have medium distances, and some, in more sparse groups (or perhaps even outliers), will have larger distances. We then look for the \"elbow\" of the plotted graph."
   ]
  },
  {
   "cell_type": "markdown",
   "id": "b2546a0a",
   "metadata": {},
   "source": [
    "Why do we want the \"elbow\" of the graph? In DBSCAN, the elbow of the k-distance graph shows the point where the distance between points suddenly increases, meaning we're moving from dense regions (clusters) to sparse regions (noise)."
   ]
  },
  {
   "cell_type": "code",
   "execution_count": 31,
   "id": "9c0f623e",
   "metadata": {},
   "outputs": [
    {
     "data": {
      "image/png": "[encoded data removed]",
      "text/plain": [
       "<Figure size 640x480 with 1 Axes>"
      ]
     },
     "metadata": {},
     "output_type": "display_data"
    },
    {
     "name": "stdout",
     "output_type": "stream",
     "text": [
      "Suggested eps from knee point: 3.101\n"
     ]
    }
   ],
   "source": [
    "# compute distances to the 36th nearest neighbor\n",
    "neighbors = NearestNeighbors(n_neighbors=36)\n",
    "neighbors_fit = neighbors.fit(customer_info)\n",
    "distances, _ = neighbors_fit.kneighbors(customer_info)\n",
    "\n",
    "k_distances = np.sort(distances[:, 35])\n",
    "x = np.arange(len(k_distances))\n",
    "\n",
    "# using KneeLocator to find the elbow in the graph\n",
    "knee = KneeLocator(x, k_distances, curve='convex', direction='increasing')\n",
    "eps_value = k_distances[knee.knee]\n",
    "\n",
    "# plotting the k-distance curve and the elbow\n",
    "plt.plot(k_distances, label='k-distance')\n",
    "plt.axhline(y=eps_value, color='red', linestyle='--', label=f'eps = {eps_value:.2f}')\n",
    "plt.xlabel(\"Points sorted by distance\")\n",
    "plt.ylabel(\"36th nearest neighbor distance\")\n",
    "plt.title(\"k-distance plot to find eps\")\n",
    "plt.legend()\n",
    "plt.show()\n",
    "\n",
    "print(f\"Suggested eps from knee point: {eps_value:.3f}\")\n"
   ]
  },
  {
   "cell_type": "markdown",
   "id": "7cd42521",
   "metadata": {},
   "source": [
    "#### 6.3) Running the DBSCAN"
   ]
  },
  {
   "cell_type": "code",
   "execution_count": null,
   "id": "319588c8",
   "metadata": {},
   "outputs": [
    {
     "name": "stdout",
     "output_type": "stream",
     "text": [
      "3.101036129027549 20\n",
      "[0 0 0 ... 0 0 0]\n"
     ]
    }
   ],
   "source": [
    "print(eps_value, min_samples_value)\n",
    "\n",
    "db = DBSCAN(eps=eps_value, min_samples=min_samples_value)\n",
    "db.fit(customer_info)"
   ]
  },
  {
   "cell_type": "code",
   "execution_count": 40,
   "id": "ad12d296",
   "metadata": {},
   "outputs": [
    {
     "name": "stdout",
     "output_type": "stream",
     "text": [
      "Estimated number of clusters: 1\n",
      "Estimated number of outliers: 17\n"
     ]
    }
   ],
   "source": [
    "labels = db.labels_ # -1 is noise, 0, 1, 2, ... are clusters\n",
    "\n",
    "n_clusters = len(set(labels)) - (1 if -1 in labels else 0) # number of clusters, excluding noise\n",
    "n_outliers = list(labels).count(-1) # number of noise points\n",
    "print(f\"Estimated number of clusters: {n_clusters}\")\n",
    "print(f\"Estimated number of outliers: {n_outliers}\")"
   ]
  },
  {
   "cell_type": "markdown",
   "id": "51aabbd5",
   "metadata": {},
   "source": [
    "It seems our dbscan was no very fruitful, so we'll adapt to a different strategy. Let's expand the range of attempts and combinations of eps and min_sample. We should aim for 3% outliers max."
   ]
  },
  {
   "cell_type": "code",
   "execution_count": 50,
   "id": "48932eb9",
   "metadata": {},
   "outputs": [
    {
     "name": "stdout",
     "output_type": "stream",
     "text": [
      "1022\n"
     ]
    }
   ],
   "source": [
    "three_percent = round((customer_info.shape[0]*3) / 100)\n",
    "print(three_percent)"
   ]
  },
  {
   "cell_type": "code",
   "execution_count": 51,
   "id": "7e6f30e1",
   "metadata": {},
   "outputs": [
    {
     "name": "stdout",
     "output_type": "stream",
     "text": [
      "2.2 10 1 644\n",
      "2.5 10 3 153\n",
      "3 10 1 19\n",
      "2.2 20 1 844\n",
      "2.5 20 1 211\n",
      "3 20 1 29\n",
      "2.5 30 1 244\n",
      "3 30 1 76\n",
      "2.5 40 1 275\n",
      "3 40 1 77\n",
      "2.5 50 1 298\n",
      "3 50 1 81\n",
      "2.5 60 1 314\n",
      "3 60 1 93\n",
      "2.5 70 1 333\n",
      "3 70 1 95\n",
      "2.5 80 1 357\n",
      "3 80 1 97\n",
      "2.5 90 1 386\n",
      "3 90 1 100\n",
      "2.5 100 1 402\n",
      "3 100 1 101\n"
     ]
    }
   ],
   "source": [
    "for mp in range(10,101, 10):\n",
    "    for eps_ in [1.7,1.9,2,2.2,2.5,3]:\n",
    "        db = DBSCAN(eps=eps_, min_samples=mp)\n",
    "        db.fit(customer_info)\n",
    "\n",
    "        labels = db.labels_  # cluster labels, -1 = outlier\n",
    "\n",
    "        n_clusters = len(set(labels)) - (1 if -1 in labels else 0)\n",
    "        n_outliers = list(labels).count(-1)\n",
    "        \n",
    "        if n_outliers < three_percent:\n",
    "            print(eps_, mp, n_clusters, n_outliers)"
   ]
  },
  {
   "cell_type": "markdown",
   "id": "d04de891",
   "metadata": {},
   "source": [
    "We can see that as we either rise the eps or lower min_samples, the number of outliers decreases, and vice-versa. Thus, we will significantly lower our eps, and adjust the min_samples accordingly, selecting eps = 2.2 and min_samples = 10, which gives us a single cluster with 644 outliers."
   ]
  },
  {
   "cell_type": "code",
   "execution_count": 52,
   "id": "0e040499",
   "metadata": {},
   "outputs": [
    {
     "name": "stdout",
     "output_type": "stream",
     "text": [
      "Estimated number of clusters: 1\n",
      "Estimated number of outliers: 644\n"
     ]
    }
   ],
   "source": [
    "db = DBSCAN(eps=2.2, min_samples=10)\n",
    "db.fit(customer_info)\n",
    "\n",
    "labels = db.labels_ \n",
    "n_clusters = len(set(labels)) - (1 if -1 in labels else 0) \n",
    "n_outliers = list(labels).count(-1)\n",
    "print(f\"Estimated number of clusters: {n_clusters}\")\n",
    "print(f\"Estimated number of outliers: {n_outliers}\")"
   ]
  },
  {
   "cell_type": "markdown",
   "id": "b81ae904",
   "metadata": {},
   "source": [
    "Now we remove these multidimensional outliers from our dataset."
   ]
  },
  {
   "cell_type": "code",
   "execution_count": 53,
   "id": "9dda4439",
   "metadata": {},
   "outputs": [],
   "source": [
    "# removing the specifical rows that correspond to outliers\n",
    "customer_info['cluster'] = labels\n",
    "customer_info = customer_info[customer_info['cluster'] != -1]\n",
    "\n",
    "# dropping the cluster column for further analysis\n",
    "customer_info = customer_info.drop('cluster', axis=1)"
   ]
  },
  {
   "cell_type": "markdown",
   "id": "7caada45",
   "metadata": {},
   "source": [
    "### 7. Feature Selection (Part 2) - Principal Component Analysis\n",
    "\n",
    "**Principal Component Analysis (PCA)** is a dimensionality reduction technique that transforms correlated features into a smaller set of uncorrelated components. It can help simplify our dataset while highlighting the most important patterns in the data. We chose this technique due to its high interpretability."
   ]
  },
  {
   "cell_type": "code",
   "execution_count": 76,
   "id": "41a9a4c4",
   "metadata": {},
   "outputs": [
    {
     "data": {
      "image/png": "[encoded data removed]",
      "text/plain": [
       "<Figure size 800x500 with 1 Axes>"
      ]
     },
     "metadata": {},
     "output_type": "display_data"
    },
    {
     "name": "stdout",
     "output_type": "stream",
     "text": [
      "PC1: 0.2323 (0.2323 cumulative)\n",
      "PC2: 0.1881 (0.4203 cumulative)\n",
      "PC3: 0.0918 (0.5121 cumulative)\n",
      "PC4: 0.0762 (0.5883 cumulative)\n",
      "PC5: 0.0504 (0.6387 cumulative)\n",
      "PC6: 0.0471 (0.6858 cumulative)\n",
      "PC7: 0.0423 (0.7281 cumulative)\n",
      "PC8: 0.0366 (0.7647 cumulative)\n",
      "PC9: 0.0335 (0.7982 cumulative)\n",
      "PC10: 0.0311 (0.8293 cumulative)\n",
      "PC11: 0.0274 (0.8568 cumulative)\n",
      "PC12: 0.0234 (0.8802 cumulative)\n",
      "PC13: 0.0222 (0.9024 cumulative)\n",
      "PC14: 0.0206 (0.9230 cumulative)\n",
      "PC15: 0.0194 (0.9424 cumulative)\n",
      "PC16: 0.0186 (0.9610 cumulative)\n",
      "PC17: 0.0144 (0.9753 cumulative)\n",
      "PC18: 0.0138 (0.9891 cumulative)\n",
      "PC19: 0.0109 (1.0000 cumulative)\n",
      "\n",
      "PCA Loadings:\n",
      "      customer_gender  kids_home  teens_home  number_complaints  distinct_stores_visited  lifetime_spend_groceries  lifetime_spend_electronics  typical_hour  lifetime_spend_vegetables  lifetime_spend_nonalcohol_drinks  lifetime_spend_alcohol_drinks  lifetime_spend_meat  lifetime_spend_fish  lifetime_spend_hygiene  lifetime_spend_videogames  lifetime_spend_petfood  lifetime_total_distinct_products  percentage_of_products_bought_promotion       age\n",
      "PC1         -0.000510   0.448214    0.247512          -0.047726                -0.070005                  0.263043                    0.247399     -0.090981                  -0.044436                          0.280717                       0.286803             0.360661             0.287507                0.159093                   0.244084                0.134107                          0.289568                                -0.165824  0.044711\n",
      "PC2          0.002613   0.623567    0.228121           0.153288                 0.210596                 -0.276937                   -0.304687     -0.159295                   0.066071                          0.006836                      -0.079437            -0.045878            -0.107708                0.078452                  -0.505192               -0.038796                          0.065080                                 0.061769 -0.031749\n",
      "PC3         -0.001193  -0.352968    0.109001          -0.283338                 0.340392                  0.455237                   -0.293373      0.035172                   0.139470                          0.045240                      -0.016147             0.132667             0.115556                0.351459                  -0.378029                0.190577                          0.095774                                 0.036312  0.082979\n",
      "PC4          0.005174   0.173186   -0.216826          -0.288860                -0.122366                  0.029275                    0.071662      0.050956                   0.724387                          0.077724                       0.066709            -0.303579            -0.071447                0.091574                  -0.001882               -0.130730                         -0.034598                                -0.391211  0.061226\n",
      "PC5         -0.007231   0.138471   -0.107172           0.310728                -0.492026                  0.635899                   -0.174331     -0.140188                  -0.031089                         -0.173404                       0.025679            -0.081930             0.055824               -0.081144                  -0.212735               -0.116436                         -0.162566                                 0.011161 -0.206786\n",
      "PC6         -0.000754  -0.157844   -0.189917           0.579861                 0.134405                  0.024661                    0.154117     -0.017545                  -0.066081                          0.288860                      -0.100369            -0.186079            -0.063867                0.503468                   0.004648               -0.292799                          0.250020                                -0.128086  0.072870\n",
      "PC7          0.000846  -0.076872   -0.064881           0.336910                -0.149539                 -0.127118                   -0.004769     -0.122721                   0.147193                          0.025768                      -0.032935            -0.106958            -0.034139                0.040842                  -0.015420                0.873420                         -0.027904                                -0.137326  0.048398\n",
      "PC8         -0.006150   0.420871   -0.371711          -0.046643                 0.370884                  0.337399                    0.115038      0.433661                  -0.170796                         -0.046705                      -0.172517            -0.201264            -0.153932               -0.022751                   0.148525                0.222065                         -0.048678                                 0.171416  0.028918\n",
      "PC9         -0.032058  -0.047519    0.153247           0.270854                 0.480816                  0.264529                    0.052812     -0.400337                   0.214837                         -0.040931                      -0.055194             0.019424            -0.054878               -0.468698                   0.172046               -0.085183                         -0.118854                                -0.127723  0.307263\n",
      "PC10         0.002763  -0.027784    0.273180           0.329720                -0.092166                 -0.025375                   -0.243144      0.725063                   0.120624                          0.014274                       0.077044             0.164519             0.088259               -0.151029                  -0.020089               -0.065865                         -0.090842                                -0.192070  0.306043\n",
      "PC11        -0.022868   0.086417   -0.099378          -0.095129                -0.325858                  0.002432                    0.118815     -0.126786                   0.017492                         -0.116203                      -0.214670             0.093898            -0.037399                0.136008                  -0.081455               -0.030089                          0.041616                                 0.339482  0.789668\n",
      "PC12        -0.020148  -0.106654    0.043196           0.062151                -0.007822                  0.036817                    0.650796      0.175331                   0.143226                          0.025777                      -0.032050             0.056531             0.012388               -0.322853                  -0.543003                0.024006                          0.263220                                 0.124058 -0.130021\n",
      "PC13         0.997763  -0.002393   -0.000612          -0.001486                 0.001726                  0.019921                    0.012035     -0.014521                  -0.016675                          0.022096                      -0.011837            -0.012066            -0.002606               -0.033919                  -0.017448               -0.000792                          0.003388                                -0.006441  0.033725\n",
      "PC14         0.039432   0.039052    0.321194           0.158671                 0.093327                 -0.003404                    0.316414      0.051376                   0.313421                         -0.405124                      -0.027738             0.110251             0.015020                0.428315                   0.163146               -0.013764                         -0.401450                                 0.275207 -0.185553\n",
      "PC15        -0.014091  -0.052736    0.610623          -0.119735                -0.182225                  0.185188                    0.010396      0.048046                  -0.040644                          0.263979                      -0.140391            -0.447568            -0.425096               -0.016097                   0.157761                0.044175                          0.134185                                 0.149706 -0.017867\n",
      "PC16         0.017001  -0.020563   -0.171036           0.153852                -0.024171                 -0.023759                   -0.278626      0.025148                   0.452776                          0.234186                       0.021705             0.135710             0.075126               -0.145460                   0.242024               -0.014964                          0.304848                                 0.614976 -0.177434\n",
      "PC17        -0.014302   0.000330    0.042067          -0.000083                 0.069460                 -0.055387                    0.073276     -0.016534                  -0.069934                          0.345484                       0.296182            -0.468774             0.546087               -0.031229                  -0.116800                0.002732                         -0.390015                                 0.263761  0.135093\n",
      "PC18        -0.009089   0.004171   -0.115634          -0.024041                -0.050450                  0.023645                    0.066478     -0.022868                   0.011282                          0.589212                      -0.059459             0.416382            -0.384267                0.013052                  -0.118355               -0.004910                         -0.537097                                 0.030217 -0.049481\n",
      "PC19         0.006926  -0.043958   -0.087155           0.057239                 0.063574                  0.012996                    0.001973     -0.006405                  -0.039863                         -0.158088                       0.834686            -0.034031            -0.458711                0.044597                  -0.072056                0.012759                          0.058036                                 0.137249  0.135967\n"
     ]
    }
   ],
   "source": [
    "# PCA Analysis\n",
    "# fit PCA\n",
    "pca = PCA()\n",
    "pca.fit(customer_info)\n",
    "\n",
    "# explained variance ratio\n",
    "explained_variance = pca.explained_variance_ratio_\n",
    "\n",
    "# plot cumulative explained variance\n",
    "plt.figure(figsize=(8,5))\n",
    "plt.plot(np.cumsum(explained_variance), marker='o')\n",
    "plt.xlabel('Number of Components')\n",
    "plt.ylabel('Cumulative Explained Variance')\n",
    "plt.title('Explained Variance by PCA Components')\n",
    "plt.grid(True)\n",
    "plt.show()\n",
    "\n",
    "# print explained variance\n",
    "for i, var in enumerate(explained_variance):\n",
    "    print(f\"PC{i+1}: {var:.4f} ({np.cumsum(explained_variance)[i]:.4f} cumulative)\")\n",
    "\n",
    "# get loadings\n",
    "loadings = pca.components_\n",
    "\n",
    "# create loadings dataframe for easier interpretation\n",
    "loadings_df = pd.DataFrame(loadings, columns=customer_info.columns, \n",
    "                            index=[f'PC{i+1}' for i in range(loadings.shape[0])])\n",
    "print(\"\\nPCA Loadings:\")\n",
    "print(loadings_df)\n"
   ]
  },
  {
   "cell_type": "markdown",
   "id": "045e45f6",
   "metadata": {},
   "source": [
    "To assess which features are most important, we used the PCA loadings, which measure how strongly each original feature contributes to each principal component. Since some components explain more variance than others, we first squared the loadings (to focus on their strength regardless of sign), then multiplied them by the proportion of variance each component explains. Finally, we summed these values across all components. This gives an overall score showing how much each feature contributes to the total variability in the dataset."
   ]
  },
  {
   "cell_type": "code",
   "execution_count": 77,
   "id": "90d41154",
   "metadata": {},
   "outputs": [
    {
     "data": {
      "image/png": "[encoded data removed]",
      "text/plain": [
       "<Figure size 1000x600 with 1 Axes>"
      ]
     },
     "metadata": {},
     "output_type": "display_data"
    }
   ],
   "source": [
    "# after fitting PCA\n",
    "loadings = pca.components_\n",
    "\n",
    "# square loadings\n",
    "squared_loadings = loadings**2\n",
    "\n",
    "# multiply each squared loading by variance explained\n",
    "weighted_contributions = squared_loadings * explained_variance[:, np.newaxis] # newaxis to convert the vector to a column vector\n",
    "\n",
    "# sum over components to get total weighted contribution per feature\n",
    "feature_importance = weighted_contributions.sum(axis=0)\n",
    "\n",
    "# build dataframe\n",
    "importance_df = pd.DataFrame({\n",
    "    'Feature': customer_info.columns,\n",
    "    'Weighted Contribution': feature_importance\n",
    "}).sort_values(by='Weighted Contribution', ascending=False)\n",
    "\n",
    "# plot the importance df\n",
    "plt.figure(figsize=(10,6))\n",
    "plt.barh(importance_df['Feature'], importance_df['Weighted Contribution'])\n",
    "plt.xlabel('Weighted Contribution')\n",
    "plt.title('Feature Importance from PCA (Weighted)')\n",
    "plt.gca().invert_yaxis()\n",
    "plt.show()"
   ]
  },
  {
   "cell_type": "markdown",
   "id": "3c870d04",
   "metadata": {},
   "source": [
    "**PCA Analysis and Feature Retention Decision**\n",
    "\n",
    "To assess potential redundancy and feature importance within the customer_info dataset, we applied Principal Component Analysis (PCA). The goal was to evaluate whether some features could be removed prior to clustering, while preserving as much relevant information as possible.\n",
    "\n",
    "The cumulative explained variance plot shows that the first principal component (PC1) explains approximately 23% of the total variance, with diminishing contributions from subsequent components. In total, 10 components are required to explain roughly 82% of the variance, and all 19 components are necessary to reach 100% of explained variance. This indicates that the variance is relatively spread across many components, suggesting no overwhelming dominance of a small subset of features.\n",
    "\n",
    "The loadings matrix further confirms that multiple features contribute significantly to different principal components. While certain variables such as kids_home, lifetime_spend_videogames, lifetime_spend_groceries, and lifetime_spend_electronics show higher weighted contributions, the remaining features also provide relevant information. Importantly, no feature shows an extremely low or negligible contribution that would justify its removal based solely on PCA results.\n",
    "\n",
    "As a result, we conclude that all features contribute valuable information for characterizing customer profiles. Therefore, we will retain all variables for the clustering phase, ensuring that the full multidimensional structure of the data is preserved to capture potentially meaningful customer segments."
   ]
  },
  {
   "cell_type": "markdown",
   "id": "e9651dff",
   "metadata": {},
   "source": [
    "## STUFF TO DO ##\n",
    "\n",
    "- We have duplicate rows on customer_basket\n",
    "\n",
    "- Regarding the customer_basket dataset, when the same items are bought in two different instances, these are attributed different invoices. Thus we cannot make invoice_id our index column\n",
    "\n",
    "- 32% of customers have a missing value at loyalty_card_number, meaning they probably don't have one.\n",
    "\n",
    "- percentage_of_products_bought_promotion is a percentage, yet has negative values (DONE)\n",
    "\n",
    "- Permanently drop the **customer_name**, **loyalty_card_number** and the **year_first_transaction** columns, as they're either irrelevant, or correlated with other variables"
   ]
  },
  {
   "cell_type": "markdown",
   "id": "26f97f12",
   "metadata": {},
   "source": [
    "1. Import and preview Datasets (DONE)\n",
    "\n",
    "2. Feature Selection (Part 1) (DONE)\n",
    "- We will add and then remove columns \n",
    "- We will evaluate whether highly correlated variables will be kept \n",
    "- label encoding for the **customer_gender** variable \n",
    "\n",
    "3. Univariate Outlier Detection\n",
    "\n",
    "4. Scaling (DONE)\n",
    "\n",
    "5. Data Cleaning (DONE)\n",
    "- Duplicates in customer_basket will not be deleted\n",
    "- Missing values on customer_info\n",
    "\n",
    "6. Multivariate Outlier Detection (DONE)\n",
    "- DBSCAN\n",
    "\n",
    "7. Feature Selection (Part 2) (DONE)\n",
    "- PCA\n",
    "\n",
    "8. Data exportation"
   ]
  }
 ],
 "metadata": {
  "kernelspec": {
   "display_name": "ml1",
   "language": "python",
   "name": "python3"
  },
  "language_info": {
   "codemirror_mode": {
    "name": "ipython",
    "version": 3
   },
   "file_extension": ".py",
   "mimetype": "text/x-python",
   "name": "python",
   "nbconvert_exporter": "python",
   "pygments_lexer": "ipython3",
   "version": "3.11.9"
  }
 },
 "nbformat": 4,
 "nbformat_minor": 5
}
