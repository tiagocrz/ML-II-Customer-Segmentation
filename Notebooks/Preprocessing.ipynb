{
 "cells": [
  {
   "cell_type": "markdown",
   "id": "227700b6",
   "metadata": {
    "vscode": {
     "languageId": "plaintext"
    }
   },
   "source": [
    "# Preprocessing"
   ]
  },
  {
   "cell_type": "markdown",
   "id": "49ee2cf8",
   "metadata": {},
   "source": [
    "From EDA, we understood that:\n",
    "- We have duplicated rows on customer_basket\n",
    "- When the same items are bought in two different instances, these are attributed different invoices. Hence, invoice_id cannot be the index column\n",
    "- 32% have a missing loyalty_card_number (probably don't have one)\n",
    "- percentage_of_products_bought_promotion is a percentage with negative values\n",
    "#\n",
    "From EDA, we also noted that there are no really highly correlated values, hence nothing should be dropped for this reason."
   ]
  },
  {
   "cell_type": "code",
   "execution_count": 195,
   "id": "cb6eb3ef",
   "metadata": {},
   "outputs": [],
   "source": [
    "import numpy as np\n",
    "import pandas as pd\n",
    "from datetime import datetime # to get the current datetime\n",
    "\n",
    "import matplotlib.pyplot as plt # to make plots (histograms, etc...)\n",
    "import seaborn as sns\n",
    "import plotly.express as px\n",
    "\n",
    "import ast # transform the strings into a list\n",
    "\n",
    "from sklearn.preprocessing import RobustScaler\n",
    "from sklearn.impute import KNNImputer\n",
    "from sklearn.model_selection import train_test_split\n",
    "from sklearn.metrics import mean_squared_error\n",
    "from sklearn.neighbors import NearestNeighbors\n",
    "from kneed import KneeLocator # to automatically find the \"knee\" for the dbscan's parameter\n",
    "from sklearn.cluster import DBSCAN\n",
    "from sklearn.decomposition import PCA"
   ]
  },
  {
   "cell_type": "code",
   "execution_count": 196,
   "id": "19f843d4",
   "metadata": {},
   "outputs": [],
   "source": [
    "# Show all columns when displaying a DataFrame\n",
    "pd.set_option('display.max_columns', None)\n",
    "\n",
    "# Optional: Also show more rows if needed\n",
    "pd.set_option('display.max_rows', 100)\n",
    "\n",
    "# shows all columns\n",
    "pd.set_option(\"display.max_columns\", None)\n",
    "\n",
    "# prevents wrapping\n",
    "pd.set_option(\"display.width\", 1000)\n",
    "\n",
    "pd.set_option('display.max_colwidth', None)"
   ]
  },
  {
   "cell_type": "markdown",
   "id": "f9c80bff",
   "metadata": {},
   "source": [
    "### 1. Import and Preview Datasets ###"
   ]
  },
  {
   "cell_type": "code",
   "execution_count": 197,
   "id": "3ce0ff31",
   "metadata": {},
   "outputs": [],
   "source": [
    "customer_basket = pd.read_csv('../data/raw/customer_basket.csv')\n",
    "customer_info = pd.read_csv('../data/raw/customer_info.csv', index_col=[\"customer_id\"])\n",
    "\n",
    "customer_info = customer_info.drop([\"Unnamed: 0\", \"customer_name\"], axis='columns')"
   ]
  },
  {
   "cell_type": "code",
   "execution_count": 198,
   "id": "542c58da",
   "metadata": {},
   "outputs": [
    {
     "data": {
      "text/html": [
       "<div>\n",
       "<style scoped>\n",
       "    .dataframe tbody tr th:only-of-type {\n",
       "        vertical-align: middle;\n",
       "    }\n",
       "\n",
       "    .dataframe tbody tr th {\n",
       "        vertical-align: top;\n",
       "    }\n",
       "\n",
       "    .dataframe thead th {\n",
       "        text-align: right;\n",
       "    }\n",
       "</style>\n",
       "<table border=\"1\" class=\"dataframe\">\n",
       "  <thead>\n",
       "    <tr style=\"text-align: right;\">\n",
       "      <th></th>\n",
       "      <th>invoice_id</th>\n",
       "      <th>list_of_goods</th>\n",
       "      <th>customer_id</th>\n",
       "    </tr>\n",
       "  </thead>\n",
       "  <tbody>\n",
       "    <tr>\n",
       "      <th>0</th>\n",
       "      <td>5062209</td>\n",
       "      <td>['megaman zero 3', 'energy bar', 'pokemon violet', 'airpods', 'fresh bread', 'pancakes', 'brownies', 'energy drink', 'champagne', 'red wine', 'bluetooth headphones', 'protein bar', 'metroid fusion']</td>\n",
       "      <td>4925</td>\n",
       "    </tr>\n",
       "    <tr>\n",
       "      <th>1</th>\n",
       "      <td>4272512</td>\n",
       "      <td>['black beer', 'bramble', 'laptop', 'pokemon violet', 'airpods', 'gadget for tiktok streaming', 'ring light', 'ratchet &amp; clank', 'pancakes', 'energy drink', 'gums', 'protein bar']</td>\n",
       "      <td>19046</td>\n",
       "    </tr>\n",
       "    <tr>\n",
       "      <th>2</th>\n",
       "      <td>7121052</td>\n",
       "      <td>['soup', 'shallot', 'cake', 'fresh bread', 'cream', 'carrots', 'babies food', 'ham', 'cookies', 'salad', 'tomato sauce', 'cooking oil', 'tea']</td>\n",
       "      <td>10318</td>\n",
       "    </tr>\n",
       "    <tr>\n",
       "      <th>3</th>\n",
       "      <td>5847748</td>\n",
       "      <td>['soup', 'cooking oil', 'cereals', 'oil', 'dog food', 'deodorant', 'tomatoes', 'yogurt cake', 'pet food', 'salmon', 'olive oil', 'fresh tuna', 'tea']</td>\n",
       "      <td>27283</td>\n",
       "    </tr>\n",
       "    <tr>\n",
       "      <th>4</th>\n",
       "      <td>6336114</td>\n",
       "      <td>['eggplant', 'mint green tea', 'oil', 'bacon', 'toilet paper', 'shrimp', 'brownies', 'pancakes', 'champagne', 'spinach', 'cologne', 'chicken', 'barbecue sauce', 'fresh tuna']</td>\n",
       "      <td>16072</td>\n",
       "    </tr>\n",
       "  </tbody>\n",
       "</table>\n",
       "</div>"
      ],
      "text/plain": [
       "   invoice_id                                                                                                                                                                                           list_of_goods  customer_id\n",
       "0     5062209  ['megaman zero 3', 'energy bar', 'pokemon violet', 'airpods', 'fresh bread', 'pancakes', 'brownies', 'energy drink', 'champagne', 'red wine', 'bluetooth headphones', 'protein bar', 'metroid fusion']         4925\n",
       "1     4272512                     ['black beer', 'bramble', 'laptop', 'pokemon violet', 'airpods', 'gadget for tiktok streaming', 'ring light', 'ratchet & clank', 'pancakes', 'energy drink', 'gums', 'protein bar']        19046\n",
       "2     7121052                                                          ['soup', 'shallot', 'cake', 'fresh bread', 'cream', 'carrots', 'babies food', 'ham', 'cookies', 'salad', 'tomato sauce', 'cooking oil', 'tea']        10318\n",
       "3     5847748                                                   ['soup', 'cooking oil', 'cereals', 'oil', 'dog food', 'deodorant', 'tomatoes', 'yogurt cake', 'pet food', 'salmon', 'olive oil', 'fresh tuna', 'tea']        27283\n",
       "4     6336114                          ['eggplant', 'mint green tea', 'oil', 'bacon', 'toilet paper', 'shrimp', 'brownies', 'pancakes', 'champagne', 'spinach', 'cologne', 'chicken', 'barbecue sauce', 'fresh tuna']        16072"
      ]
     },
     "execution_count": 198,
     "metadata": {},
     "output_type": "execute_result"
    }
   ],
   "source": [
    "customer_basket.head(5)"
   ]
  },
  {
   "cell_type": "code",
   "execution_count": 199,
   "id": "89f331f6",
   "metadata": {},
   "outputs": [
    {
     "data": {
      "text/html": [
       "<div>\n",
       "<style scoped>\n",
       "    .dataframe tbody tr th:only-of-type {\n",
       "        vertical-align: middle;\n",
       "    }\n",
       "\n",
       "    .dataframe tbody tr th {\n",
       "        vertical-align: top;\n",
       "    }\n",
       "\n",
       "    .dataframe thead th {\n",
       "        text-align: right;\n",
       "    }\n",
       "</style>\n",
       "<table border=\"1\" class=\"dataframe\">\n",
       "  <thead>\n",
       "    <tr style=\"text-align: right;\">\n",
       "      <th></th>\n",
       "      <th>customer_gender</th>\n",
       "      <th>customer_birthdate</th>\n",
       "      <th>kids_home</th>\n",
       "      <th>teens_home</th>\n",
       "      <th>number_complaints</th>\n",
       "      <th>distinct_stores_visited</th>\n",
       "      <th>lifetime_spend_groceries</th>\n",
       "      <th>lifetime_spend_electronics</th>\n",
       "      <th>typical_hour</th>\n",
       "      <th>lifetime_spend_vegetables</th>\n",
       "      <th>lifetime_spend_nonalcohol_drinks</th>\n",
       "      <th>lifetime_spend_alcohol_drinks</th>\n",
       "      <th>lifetime_spend_meat</th>\n",
       "      <th>lifetime_spend_fish</th>\n",
       "      <th>lifetime_spend_hygiene</th>\n",
       "      <th>lifetime_spend_videogames</th>\n",
       "      <th>lifetime_spend_petfood</th>\n",
       "      <th>lifetime_total_distinct_products</th>\n",
       "      <th>percentage_of_products_bought_promotion</th>\n",
       "      <th>year_first_transaction</th>\n",
       "      <th>loyalty_card_number</th>\n",
       "      <th>latitude</th>\n",
       "      <th>longitude</th>\n",
       "    </tr>\n",
       "    <tr>\n",
       "      <th>customer_id</th>\n",
       "      <th></th>\n",
       "      <th></th>\n",
       "      <th></th>\n",
       "      <th></th>\n",
       "      <th></th>\n",
       "      <th></th>\n",
       "      <th></th>\n",
       "      <th></th>\n",
       "      <th></th>\n",
       "      <th></th>\n",
       "      <th></th>\n",
       "      <th></th>\n",
       "      <th></th>\n",
       "      <th></th>\n",
       "      <th></th>\n",
       "      <th></th>\n",
       "      <th></th>\n",
       "      <th></th>\n",
       "      <th></th>\n",
       "      <th></th>\n",
       "      <th></th>\n",
       "      <th></th>\n",
       "      <th></th>\n",
       "    </tr>\n",
       "  </thead>\n",
       "  <tbody>\n",
       "    <tr>\n",
       "      <th>29930</th>\n",
       "      <td>female</td>\n",
       "      <td>01/15/1972 02:27 PM</td>\n",
       "      <td>2.0</td>\n",
       "      <td>2.0</td>\n",
       "      <td>1.0</td>\n",
       "      <td>4.0</td>\n",
       "      <td>7789.0</td>\n",
       "      <td>5601.0</td>\n",
       "      <td>13.0</td>\n",
       "      <td>726.0</td>\n",
       "      <td>962.0</td>\n",
       "      <td>1213.0</td>\n",
       "      <td>1598.0</td>\n",
       "      <td>1894.0</td>\n",
       "      <td>457.0</td>\n",
       "      <td>412.0</td>\n",
       "      <td>428.0</td>\n",
       "      <td>386.0</td>\n",
       "      <td>0.158741</td>\n",
       "      <td>2018.0</td>\n",
       "      <td>NaN</td>\n",
       "      <td>38.721807</td>\n",
       "      <td>-9.125534</td>\n",
       "    </tr>\n",
       "    <tr>\n",
       "      <th>6813</th>\n",
       "      <td>male</td>\n",
       "      <td>07/31/1944 10:53 AM</td>\n",
       "      <td>0.0</td>\n",
       "      <td>1.0</td>\n",
       "      <td>0.0</td>\n",
       "      <td>4.0</td>\n",
       "      <td>8653.0</td>\n",
       "      <td>35.0</td>\n",
       "      <td>14.0</td>\n",
       "      <td>792.0</td>\n",
       "      <td>102.0</td>\n",
       "      <td>104.0</td>\n",
       "      <td>741.0</td>\n",
       "      <td>346.0</td>\n",
       "      <td>394.0</td>\n",
       "      <td>75.0</td>\n",
       "      <td>226.0</td>\n",
       "      <td>73.0</td>\n",
       "      <td>1.227890</td>\n",
       "      <td>2013.0</td>\n",
       "      <td>971840.0</td>\n",
       "      <td>38.734668</td>\n",
       "      <td>-9.163533</td>\n",
       "    </tr>\n",
       "    <tr>\n",
       "      <th>39451</th>\n",
       "      <td>female</td>\n",
       "      <td>11/13/1989 02:11 PM</td>\n",
       "      <td>2.0</td>\n",
       "      <td>3.0</td>\n",
       "      <td>0.0</td>\n",
       "      <td>7.0</td>\n",
       "      <td>15605.0</td>\n",
       "      <td>4275.0</td>\n",
       "      <td>14.0</td>\n",
       "      <td>1585.0</td>\n",
       "      <td>980.0</td>\n",
       "      <td>1872.0</td>\n",
       "      <td>1323.0</td>\n",
       "      <td>1971.0</td>\n",
       "      <td>920.0</td>\n",
       "      <td>335.0</td>\n",
       "      <td>192.0</td>\n",
       "      <td>319.0</td>\n",
       "      <td>0.101598</td>\n",
       "      <td>2011.0</td>\n",
       "      <td>NaN</td>\n",
       "      <td>38.787126</td>\n",
       "      <td>-9.147077</td>\n",
       "    </tr>\n",
       "    <tr>\n",
       "      <th>21557</th>\n",
       "      <td>male</td>\n",
       "      <td>08/09/1976 06:23 AM</td>\n",
       "      <td>0.0</td>\n",
       "      <td>0.0</td>\n",
       "      <td>1.0</td>\n",
       "      <td>1.0</td>\n",
       "      <td>13440.0</td>\n",
       "      <td>16366.0</td>\n",
       "      <td>14.0</td>\n",
       "      <td>28.0</td>\n",
       "      <td>269.0</td>\n",
       "      <td>1855.0</td>\n",
       "      <td>939.0</td>\n",
       "      <td>785.0</td>\n",
       "      <td>139.0</td>\n",
       "      <td>679.0</td>\n",
       "      <td>270.0</td>\n",
       "      <td>221.0</td>\n",
       "      <td>0.259943</td>\n",
       "      <td>2009.0</td>\n",
       "      <td>NaN</td>\n",
       "      <td>38.741816</td>\n",
       "      <td>-9.159700</td>\n",
       "    </tr>\n",
       "    <tr>\n",
       "      <th>16415</th>\n",
       "      <td>male</td>\n",
       "      <td>07/11/1966 08:12 AM</td>\n",
       "      <td>1.0</td>\n",
       "      <td>1.0</td>\n",
       "      <td>1.0</td>\n",
       "      <td>5.0</td>\n",
       "      <td>49250.0</td>\n",
       "      <td>3197.0</td>\n",
       "      <td>14.0</td>\n",
       "      <td>258.0</td>\n",
       "      <td>726.0</td>\n",
       "      <td>547.0</td>\n",
       "      <td>983.0</td>\n",
       "      <td>1492.0</td>\n",
       "      <td>1046.0</td>\n",
       "      <td>112.0</td>\n",
       "      <td>144.0</td>\n",
       "      <td>244.0</td>\n",
       "      <td>0.317822</td>\n",
       "      <td>2012.0</td>\n",
       "      <td>925367.0</td>\n",
       "      <td>38.785921</td>\n",
       "      <td>-9.149221</td>\n",
       "    </tr>\n",
       "  </tbody>\n",
       "</table>\n",
       "</div>"
      ],
      "text/plain": [
       "            customer_gender   customer_birthdate  kids_home  teens_home  number_complaints  distinct_stores_visited  lifetime_spend_groceries  lifetime_spend_electronics  typical_hour  lifetime_spend_vegetables  lifetime_spend_nonalcohol_drinks  lifetime_spend_alcohol_drinks  lifetime_spend_meat  lifetime_spend_fish  lifetime_spend_hygiene  lifetime_spend_videogames  lifetime_spend_petfood  lifetime_total_distinct_products  percentage_of_products_bought_promotion  year_first_transaction  loyalty_card_number   latitude  longitude\n",
       "customer_id                                                                                                                                                                                                                                                                                                                                                                                                                                                                                                                                           \n",
       "29930                female  01/15/1972 02:27 PM        2.0         2.0                1.0                      4.0                    7789.0                      5601.0          13.0                      726.0                             962.0                         1213.0               1598.0               1894.0                   457.0                      412.0                   428.0                             386.0                                 0.158741                  2018.0                  NaN  38.721807  -9.125534\n",
       "6813                   male  07/31/1944 10:53 AM        0.0         1.0                0.0                      4.0                    8653.0                        35.0          14.0                      792.0                             102.0                          104.0                741.0                346.0                   394.0                       75.0                   226.0                              73.0                                 1.227890                  2013.0             971840.0  38.734668  -9.163533\n",
       "39451                female  11/13/1989 02:11 PM        2.0         3.0                0.0                      7.0                   15605.0                      4275.0          14.0                     1585.0                             980.0                         1872.0               1323.0               1971.0                   920.0                      335.0                   192.0                             319.0                                 0.101598                  2011.0                  NaN  38.787126  -9.147077\n",
       "21557                  male  08/09/1976 06:23 AM        0.0         0.0                1.0                      1.0                   13440.0                     16366.0          14.0                       28.0                             269.0                         1855.0                939.0                785.0                   139.0                      679.0                   270.0                             221.0                                 0.259943                  2009.0                  NaN  38.741816  -9.159700\n",
       "16415                  male  07/11/1966 08:12 AM        1.0         1.0                1.0                      5.0                   49250.0                      3197.0          14.0                      258.0                             726.0                          547.0                983.0               1492.0                  1046.0                      112.0                   144.0                             244.0                                 0.317822                  2012.0             925367.0  38.785921  -9.149221"
      ]
     },
     "execution_count": 199,
     "metadata": {},
     "output_type": "execute_result"
    }
   ],
   "source": [
    "customer_info.head(5)"
   ]
  },
  {
   "cell_type": "code",
   "execution_count": 200,
   "id": "b3d724ea",
   "metadata": {},
   "outputs": [
    {
     "name": "stdout",
     "output_type": "stream",
     "text": [
      "<class 'pandas.core.frame.DataFrame'>\n",
      "RangeIndex: 100000 entries, 0 to 99999\n",
      "Data columns (total 3 columns):\n",
      " #   Column         Non-Null Count   Dtype \n",
      "---  ------         --------------   ----- \n",
      " 0   invoice_id     100000 non-null  int64 \n",
      " 1   list_of_goods  100000 non-null  object\n",
      " 2   customer_id    100000 non-null  int64 \n",
      "dtypes: int64(2), object(1)\n",
      "memory usage: 2.3+ MB\n"
     ]
    }
   ],
   "source": [
    "customer_basket.info()"
   ]
  },
  {
   "cell_type": "code",
   "execution_count": 201,
   "id": "647ddaeb",
   "metadata": {},
   "outputs": [
    {
     "name": "stdout",
     "output_type": "stream",
     "text": [
      "<class 'pandas.core.frame.DataFrame'>\n",
      "Int64Index: 34060 entries, 29930 to 22050\n",
      "Data columns (total 23 columns):\n",
      " #   Column                                   Non-Null Count  Dtype  \n",
      "---  ------                                   --------------  -----  \n",
      " 0   customer_gender                          34060 non-null  object \n",
      " 1   customer_birthdate                       33719 non-null  object \n",
      " 2   kids_home                                33311 non-null  float64\n",
      " 3   teens_home                               33277 non-null  float64\n",
      " 4   number_complaints                        33038 non-null  float64\n",
      " 5   distinct_stores_visited                  33379 non-null  float64\n",
      " 6   lifetime_spend_groceries                 34060 non-null  float64\n",
      " 7   lifetime_spend_electronics               34060 non-null  float64\n",
      " 8   typical_hour                             32698 non-null  float64\n",
      " 9   lifetime_spend_vegetables                33038 non-null  float64\n",
      " 10  lifetime_spend_nonalcohol_drinks         34060 non-null  float64\n",
      " 11  lifetime_spend_alcohol_drinks            33379 non-null  float64\n",
      " 12  lifetime_spend_meat                      34060 non-null  float64\n",
      " 13  lifetime_spend_fish                      32357 non-null  float64\n",
      " 14  lifetime_spend_hygiene                   34060 non-null  float64\n",
      " 15  lifetime_spend_videogames                34060 non-null  float64\n",
      " 16  lifetime_spend_petfood                   34060 non-null  float64\n",
      " 17  lifetime_total_distinct_products         34060 non-null  float64\n",
      " 18  percentage_of_products_bought_promotion  34060 non-null  float64\n",
      " 19  year_first_transaction                   34060 non-null  float64\n",
      " 20  loyalty_card_number                      23152 non-null  float64\n",
      " 21  latitude                                 34060 non-null  float64\n",
      " 22  longitude                                34060 non-null  float64\n",
      "dtypes: float64(21), object(2)\n",
      "memory usage: 6.2+ MB\n"
     ]
    }
   ],
   "source": [
    "customer_info.info()"
   ]
  },
  {
   "cell_type": "markdown",
   "id": "d18d4c76",
   "metadata": {},
   "source": [
    "Because the datasets are rather small and mostly numerical, we don't see the need to adapt the data types "
   ]
  },
  {
   "cell_type": "markdown",
   "id": "f1861d90",
   "metadata": {},
   "source": [
    "### 2. Feature Selection (Part 1)"
   ]
  },
  {
   "cell_type": "markdown",
   "id": "fabe11fe",
   "metadata": {},
   "source": [
    "#### 2.1) Adding an *age* column"
   ]
  },
  {
   "cell_type": "markdown",
   "id": "ddd97598",
   "metadata": {},
   "source": [
    "##### 2.1.1) Altering the customer_birthdate column to datetime format"
   ]
  },
  {
   "cell_type": "code",
   "execution_count": 202,
   "id": "713fe980",
   "metadata": {},
   "outputs": [],
   "source": [
    "customer_info[\"customer_birthdate\"] = pd.to_datetime(customer_info[\"customer_birthdate\"], format=\"%m/%d/%Y %I:%M %p\")"
   ]
  },
  {
   "cell_type": "markdown",
   "id": "d14fa844",
   "metadata": {},
   "source": [
    "##### 2.1.2) Creating the age column throught the differece between the current date and the birth date"
   ]
  },
  {
   "cell_type": "code",
   "execution_count": 203,
   "id": "b68501ea",
   "metadata": {},
   "outputs": [],
   "source": [
    "today = datetime.now()\n",
    "customer_info[\"age\"] = customer_info[\"customer_birthdate\"].apply(lambda x: today.year - x.year - ((today.month, today.day) < (x.month, x.day))) # works because True = 1 and False = 0"
   ]
  },
  {
   "cell_type": "markdown",
   "id": "8857f2d5",
   "metadata": {},
   "source": [
    "We can now drop the *customer_birthdate* column, as it is useless."
   ]
  },
  {
   "cell_type": "code",
   "execution_count": 204,
   "id": "1d9b0eed",
   "metadata": {},
   "outputs": [],
   "source": [
    "customer_info = customer_info.drop(columns=[\"customer_birthdate\"])"
   ]
  },
  {
   "cell_type": "markdown",
   "id": "3105823d",
   "metadata": {},
   "source": [
    "#### 2.2) Assessing highly correlated features"
   ]
  },
  {
   "cell_type": "markdown",
   "id": "83c001af",
   "metadata": {},
   "source": [
    "Sometimes, variables present correlations that justfy removing one of them, as it becomes redundant to keep both. As we saw through our heatmap, some features do have a rather high correlation. However, we don't consider these nearly enough to remove them."
   ]
  },
  {
   "cell_type": "markdown",
   "id": "5724d86b",
   "metadata": {},
   "source": [
    "#### 2.3) Label encoding for the *customer_gender* variable"
   ]
  },
  {
   "cell_type": "code",
   "execution_count": 205,
   "id": "b1d6d82f",
   "metadata": {},
   "outputs": [],
   "source": [
    "customer_info[\"customer_gender\"] = np.where(customer_info[\"customer_gender\"] == \"female\", 0, 1)"
   ]
  },
  {
   "cell_type": "markdown",
   "id": "d4528c76",
   "metadata": {},
   "source": [
    "#### 2.4) Transforming *loyalty_card_number* into a binary variable: 1 - has a loyalty card; 0 - does not have a loyalty card"
   ]
  },
  {
   "cell_type": "code",
   "execution_count": 206,
   "id": "1cc2beaa",
   "metadata": {},
   "outputs": [],
   "source": [
    "customer_info['loyalty_card_number'] = customer_info['loyalty_card_number'].notna().astype(int) # notna() returns True if the value is not NaN, and False otherwise. We convert it to int to get 1 for True and 0 for False."
   ]
  },
  {
   "cell_type": "markdown",
   "id": "be300011",
   "metadata": {},
   "source": [
    "### 3. Data Cleaning ###\n",
    "Dealing with the duplicates, missing values and noise."
   ]
  },
  {
   "cell_type": "markdown",
   "id": "b39b823c",
   "metadata": {},
   "source": [
    "#### 3.1) Duplicates"
   ]
  },
  {
   "cell_type": "markdown",
   "id": "0fc16637",
   "metadata": {},
   "source": [
    "##### 3.1.1) For customer_basket"
   ]
  },
  {
   "cell_type": "code",
   "execution_count": 207,
   "id": "f91815a3",
   "metadata": {},
   "outputs": [
    {
     "data": {
      "text/plain": [
       "0"
      ]
     },
     "execution_count": 207,
     "metadata": {},
     "output_type": "execute_result"
    }
   ],
   "source": [
    "customer_basket.duplicated().sum()"
   ]
  },
  {
   "cell_type": "markdown",
   "id": "f4647eb7",
   "metadata": {},
   "source": [
    "On a first look, it seems there are no duplicated rows..."
   ]
  },
  {
   "cell_type": "code",
   "execution_count": 208,
   "id": "1486c3de",
   "metadata": {},
   "outputs": [
    {
     "data": {
      "text/plain": [
       "False"
      ]
     },
     "execution_count": 208,
     "metadata": {},
     "output_type": "execute_result"
    }
   ],
   "source": [
    "customer_basket[\"invoice_id\"].is_unique"
   ]
  },
  {
   "cell_type": "code",
   "execution_count": 209,
   "id": "94e7edb5",
   "metadata": {},
   "outputs": [
    {
     "data": {
      "text/plain": [
       "False"
      ]
     },
     "execution_count": 209,
     "metadata": {},
     "output_type": "execute_result"
    }
   ],
   "source": [
    "customer_basket[\"customer_id\"].is_unique"
   ]
  },
  {
   "cell_type": "markdown",
   "id": "7939affd",
   "metadata": {},
   "source": [
    "With this, we may conclude that, although there are no duplicated rows, some refer to the same customer making different purchases (identical *customer_id*), while others reflect different customers buying the same set of items (identical *invoice_id*)."
   ]
  },
  {
   "cell_type": "markdown",
   "id": "b484874f",
   "metadata": {},
   "source": [
    "##### 3.1.2) For customer_info"
   ]
  },
  {
   "cell_type": "code",
   "execution_count": 210,
   "id": "50e10912",
   "metadata": {},
   "outputs": [
    {
     "data": {
      "text/plain": [
       "0"
      ]
     },
     "execution_count": 210,
     "metadata": {},
     "output_type": "execute_result"
    }
   ],
   "source": [
    "customer_basket.duplicated().sum()"
   ]
  },
  {
   "cell_type": "markdown",
   "id": "81dd7509",
   "metadata": {},
   "source": [
    "Here, because we managed to set *customer_id* as an index, and also due to the last block of code showing no repeated rows, we may conclude there aren't any duplicates in the *customer_info* dataset."
   ]
  },
  {
   "cell_type": "markdown",
   "id": "60bb98ed",
   "metadata": {},
   "source": [
    "#### 3.2) Missing Values / Imputation"
   ]
  },
  {
   "cell_type": "markdown",
   "id": "8165c82a",
   "metadata": {},
   "source": [
    "##### 3.2.1) For customer_basket"
   ]
  },
  {
   "cell_type": "code",
   "execution_count": 211,
   "id": "22eff15e",
   "metadata": {},
   "outputs": [
    {
     "data": {
      "text/html": [
       "<div>\n",
       "<style scoped>\n",
       "    .dataframe tbody tr th:only-of-type {\n",
       "        vertical-align: middle;\n",
       "    }\n",
       "\n",
       "    .dataframe tbody tr th {\n",
       "        vertical-align: top;\n",
       "    }\n",
       "\n",
       "    .dataframe thead th {\n",
       "        text-align: right;\n",
       "    }\n",
       "</style>\n",
       "<table border=\"1\" class=\"dataframe\">\n",
       "  <thead>\n",
       "    <tr style=\"text-align: right;\">\n",
       "      <th></th>\n",
       "      <th>Missing Count</th>\n",
       "      <th>Missing %</th>\n",
       "    </tr>\n",
       "  </thead>\n",
       "  <tbody>\n",
       "    <tr>\n",
       "      <th>invoice_id</th>\n",
       "      <td>0</td>\n",
       "      <td>0.0</td>\n",
       "    </tr>\n",
       "    <tr>\n",
       "      <th>list_of_goods</th>\n",
       "      <td>0</td>\n",
       "      <td>0.0</td>\n",
       "    </tr>\n",
       "    <tr>\n",
       "      <th>customer_id</th>\n",
       "      <td>0</td>\n",
       "      <td>0.0</td>\n",
       "    </tr>\n",
       "  </tbody>\n",
       "</table>\n",
       "</div>"
      ],
      "text/plain": [
       "               Missing Count  Missing %\n",
       "invoice_id                 0        0.0\n",
       "list_of_goods              0        0.0\n",
       "customer_id                0        0.0"
      ]
     },
     "execution_count": 211,
     "metadata": {},
     "output_type": "execute_result"
    }
   ],
   "source": [
    "missing_customer_basket = pd.DataFrame({\n",
    "    'Missing Count': customer_basket.isnull().sum(),\n",
    "    'Missing %': round(customer_basket.isnull().mean() * 100, 2)\n",
    "})\n",
    "missing_customer_basket"
   ]
  },
  {
   "cell_type": "markdown",
   "id": "bb8449b6",
   "metadata": {},
   "source": [
    "Great! We have no missing values in the *customer_basket* dataset."
   ]
  },
  {
   "cell_type": "markdown",
   "id": "f1556714",
   "metadata": {},
   "source": [
    "##### 3.2.2) For customer_info"
   ]
  },
  {
   "cell_type": "code",
   "execution_count": 212,
   "id": "5dcbe796",
   "metadata": {},
   "outputs": [
    {
     "data": {
      "text/html": [
       "<div>\n",
       "<style scoped>\n",
       "    .dataframe tbody tr th:only-of-type {\n",
       "        vertical-align: middle;\n",
       "    }\n",
       "\n",
       "    .dataframe tbody tr th {\n",
       "        vertical-align: top;\n",
       "    }\n",
       "\n",
       "    .dataframe thead th {\n",
       "        text-align: right;\n",
       "    }\n",
       "</style>\n",
       "<table border=\"1\" class=\"dataframe\">\n",
       "  <thead>\n",
       "    <tr style=\"text-align: right;\">\n",
       "      <th></th>\n",
       "      <th>Missing Count</th>\n",
       "      <th>Missing %</th>\n",
       "    </tr>\n",
       "  </thead>\n",
       "  <tbody>\n",
       "    <tr>\n",
       "      <th>customer_gender</th>\n",
       "      <td>0</td>\n",
       "      <td>0.0</td>\n",
       "    </tr>\n",
       "    <tr>\n",
       "      <th>kids_home</th>\n",
       "      <td>749</td>\n",
       "      <td>2.2</td>\n",
       "    </tr>\n",
       "    <tr>\n",
       "      <th>teens_home</th>\n",
       "      <td>783</td>\n",
       "      <td>2.3</td>\n",
       "    </tr>\n",
       "    <tr>\n",
       "      <th>number_complaints</th>\n",
       "      <td>1022</td>\n",
       "      <td>3.0</td>\n",
       "    </tr>\n",
       "    <tr>\n",
       "      <th>distinct_stores_visited</th>\n",
       "      <td>681</td>\n",
       "      <td>2.0</td>\n",
       "    </tr>\n",
       "    <tr>\n",
       "      <th>lifetime_spend_groceries</th>\n",
       "      <td>0</td>\n",
       "      <td>0.0</td>\n",
       "    </tr>\n",
       "    <tr>\n",
       "      <th>lifetime_spend_electronics</th>\n",
       "      <td>0</td>\n",
       "      <td>0.0</td>\n",
       "    </tr>\n",
       "    <tr>\n",
       "      <th>typical_hour</th>\n",
       "      <td>1362</td>\n",
       "      <td>4.0</td>\n",
       "    </tr>\n",
       "    <tr>\n",
       "      <th>lifetime_spend_vegetables</th>\n",
       "      <td>1022</td>\n",
       "      <td>3.0</td>\n",
       "    </tr>\n",
       "    <tr>\n",
       "      <th>lifetime_spend_nonalcohol_drinks</th>\n",
       "      <td>0</td>\n",
       "      <td>0.0</td>\n",
       "    </tr>\n",
       "    <tr>\n",
       "      <th>lifetime_spend_alcohol_drinks</th>\n",
       "      <td>681</td>\n",
       "      <td>2.0</td>\n",
       "    </tr>\n",
       "    <tr>\n",
       "      <th>lifetime_spend_meat</th>\n",
       "      <td>0</td>\n",
       "      <td>0.0</td>\n",
       "    </tr>\n",
       "    <tr>\n",
       "      <th>lifetime_spend_fish</th>\n",
       "      <td>1703</td>\n",
       "      <td>5.0</td>\n",
       "    </tr>\n",
       "    <tr>\n",
       "      <th>lifetime_spend_hygiene</th>\n",
       "      <td>0</td>\n",
       "      <td>0.0</td>\n",
       "    </tr>\n",
       "    <tr>\n",
       "      <th>lifetime_spend_videogames</th>\n",
       "      <td>0</td>\n",
       "      <td>0.0</td>\n",
       "    </tr>\n",
       "    <tr>\n",
       "      <th>lifetime_spend_petfood</th>\n",
       "      <td>0</td>\n",
       "      <td>0.0</td>\n",
       "    </tr>\n",
       "    <tr>\n",
       "      <th>lifetime_total_distinct_products</th>\n",
       "      <td>0</td>\n",
       "      <td>0.0</td>\n",
       "    </tr>\n",
       "    <tr>\n",
       "      <th>percentage_of_products_bought_promotion</th>\n",
       "      <td>0</td>\n",
       "      <td>0.0</td>\n",
       "    </tr>\n",
       "    <tr>\n",
       "      <th>year_first_transaction</th>\n",
       "      <td>0</td>\n",
       "      <td>0.0</td>\n",
       "    </tr>\n",
       "    <tr>\n",
       "      <th>loyalty_card_number</th>\n",
       "      <td>0</td>\n",
       "      <td>0.0</td>\n",
       "    </tr>\n",
       "    <tr>\n",
       "      <th>latitude</th>\n",
       "      <td>0</td>\n",
       "      <td>0.0</td>\n",
       "    </tr>\n",
       "    <tr>\n",
       "      <th>longitude</th>\n",
       "      <td>0</td>\n",
       "      <td>0.0</td>\n",
       "    </tr>\n",
       "    <tr>\n",
       "      <th>age</th>\n",
       "      <td>341</td>\n",
       "      <td>1.0</td>\n",
       "    </tr>\n",
       "  </tbody>\n",
       "</table>\n",
       "</div>"
      ],
      "text/plain": [
       "                                         Missing Count  Missing %\n",
       "customer_gender                                      0        0.0\n",
       "kids_home                                          749        2.2\n",
       "teens_home                                         783        2.3\n",
       "number_complaints                                 1022        3.0\n",
       "distinct_stores_visited                            681        2.0\n",
       "lifetime_spend_groceries                             0        0.0\n",
       "lifetime_spend_electronics                           0        0.0\n",
       "typical_hour                                      1362        4.0\n",
       "lifetime_spend_vegetables                         1022        3.0\n",
       "lifetime_spend_nonalcohol_drinks                     0        0.0\n",
       "lifetime_spend_alcohol_drinks                      681        2.0\n",
       "lifetime_spend_meat                                  0        0.0\n",
       "lifetime_spend_fish                               1703        5.0\n",
       "lifetime_spend_hygiene                               0        0.0\n",
       "lifetime_spend_videogames                            0        0.0\n",
       "lifetime_spend_petfood                               0        0.0\n",
       "lifetime_total_distinct_products                     0        0.0\n",
       "percentage_of_products_bought_promotion              0        0.0\n",
       "year_first_transaction                               0        0.0\n",
       "loyalty_card_number                                  0        0.0\n",
       "latitude                                             0        0.0\n",
       "longitude                                            0        0.0\n",
       "age                                                341        1.0"
      ]
     },
     "execution_count": 212,
     "metadata": {},
     "output_type": "execute_result"
    }
   ],
   "source": [
    "missing_customer_info = pd.DataFrame({\n",
    "    'Missing Count': customer_info.isnull().sum(),\n",
    "    'Missing %': round(customer_info.isnull().mean() * 100, 2)\n",
    "})\n",
    "missing_customer_info"
   ]
  },
  {
   "cell_type": "markdown",
   "id": "10206c62",
   "metadata": {},
   "source": [
    "We will use K Nearest Neighbours imputation to replace these missing values. Firstly, we need to find a value for K."
   ]
  },
  {
   "cell_type": "markdown",
   "id": "9bad5114",
   "metadata": {},
   "source": [
    "To evaluate the optimal number of neighbours for KNN imputation, we selected rows where the 'age' variable was not missing and split the data into training and test sets. In the test set, we artificially removed the 'age' values to simulate missingness while keeping the true values for comparison. We then applied KNN imputation with different values of k to the combined dataset and measured the accuracy of the imputed values by calculating the RMSE against the original 'age' values in the test set. This allowed us to identify which k produced the most accurate imputations."
   ]
  },
  {
   "cell_type": "code",
   "execution_count": 213,
   "id": "c9cf083a",
   "metadata": {},
   "outputs": [
    {
     "name": "stdout",
     "output_type": "stream",
     "text": [
      "RMSE for each K: {5: 17.689292121316278, 10: 16.910930663903027, 15: 16.710424625242908}\n"
     ]
    }
   ],
   "source": [
    "# keep only the rows where 'age' is observed\n",
    "complete_data = customer_info[customer_info['age'].notna()].copy()\n",
    "\n",
    "train_set, test_set = train_test_split(complete_data, test_size=0.2, random_state=42)\n",
    "\n",
    "# storing the true values to compare later\n",
    "true_age = test_set['age'].copy()\n",
    "\n",
    "# artificially set \"age\" to NaN in test set to simulate missingness\n",
    "test_set.loc[:, 'age'] = np.nan\n",
    "\n",
    "simulated_data = pd.concat([train_set, test_set])\n",
    "\n",
    "rmse_per_k = {}\n",
    "\n",
    "for k in [5, 10, 15]:\n",
    "    imputer = KNNImputer(n_neighbors=k)\n",
    "    imputed_array = imputer.fit_transform(simulated_data.select_dtypes(include='number'))\n",
    "    imputed_df = pd.DataFrame(imputed_array, columns=simulated_data.select_dtypes(include='number').columns)\n",
    "\n",
    "    imputed_df.index = simulated_data.index\n",
    "    \n",
    "    # Recover imputed values for the previously missing 'age' in test_set\n",
    "    imputed_age = imputed_df.loc[test_set.index, 'age']\n",
    "    \n",
    "    rmse = np.sqrt(mean_squared_error(true_age, imputed_age))\n",
    "    rmse_per_k[k] = rmse\n",
    "\n",
    "print(\"RMSE for each K:\", rmse_per_k)\n"
   ]
  },
  {
   "cell_type": "code",
   "execution_count": 214,
   "id": "c1e5df56",
   "metadata": {},
   "outputs": [
    {
     "data": {
      "image/png": "[encoded data removed]",
      "text/plain": [
       "<Figure size 640x480 with 1 Axes>"
      ]
     },
     "metadata": {},
     "output_type": "display_data"
    }
   ],
   "source": [
    "imputer = KNNImputer(n_neighbors=5)\n",
    "imputed_array = imputer.fit_transform(simulated_data.select_dtypes(include='number'))\n",
    "imputed_df = pd.DataFrame(imputed_array, columns=simulated_data.select_dtypes(include='number').columns)\n",
    "\n",
    "# Compare original vs imputed\n",
    "sns.kdeplot(customer_info['age'], label='Original', color='blue')\n",
    "sns.kdeplot(imputed_df['age'], label='Imputed', color='green')\n",
    "plt.legend()\n",
    "plt.title('Distribution Comparison')\n",
    "plt.show()\n"
   ]
  },
  {
   "cell_type": "code",
   "execution_count": 215,
   "id": "2b67e280",
   "metadata": {},
   "outputs": [
    {
     "data": {
      "image/png": "[encoded data removed]",
      "text/plain": [
       "<Figure size 640x480 with 1 Axes>"
      ]
     },
     "metadata": {},
     "output_type": "display_data"
    }
   ],
   "source": [
    "imputer = KNNImputer(n_neighbors=10)\n",
    "imputed_array = imputer.fit_transform(simulated_data.select_dtypes(include='number'))\n",
    "imputed_df = pd.DataFrame(imputed_array, columns=simulated_data.select_dtypes(include='number').columns)\n",
    "\n",
    "# Compare original vs imputed\n",
    "sns.kdeplot(customer_info['age'], label='Original', color='blue')\n",
    "sns.kdeplot(imputed_df['age'], label='Imputed', color='green')\n",
    "plt.legend()\n",
    "plt.title('Distribution Comparison')\n",
    "plt.show()\n"
   ]
  },
  {
   "cell_type": "code",
   "execution_count": 216,
   "id": "f0470e87",
   "metadata": {},
   "outputs": [
    {
     "data": {
      "image/png": "[encoded data removed]",
      "text/plain": [
       "<Figure size 640x480 with 1 Axes>"
      ]
     },
     "metadata": {},
     "output_type": "display_data"
    }
   ],
   "source": [
    "imputer = KNNImputer(n_neighbors=15)\n",
    "imputed_array = imputer.fit_transform(simulated_data.select_dtypes(include='number'))\n",
    "imputed_df = pd.DataFrame(imputed_array, columns=simulated_data.select_dtypes(include='number').columns)\n",
    "\n",
    "# Compare original vs imputed\n",
    "sns.kdeplot(customer_info['age'], label='Original', color='blue')\n",
    "sns.kdeplot(imputed_df['age'], label='Imputed', color='green')\n",
    "plt.legend()\n",
    "plt.title('Distribution Comparison')\n",
    "plt.show()\n"
   ]
  },
  {
   "cell_type": "markdown",
   "id": "e4ac1349",
   "metadata": {},
   "source": [
    "Given these results, we chose k=10, as a larger k begins to show signs of underfitting due to the fact that there's a higher and higher number of predicted values in between the ages 50-60, which is where we have the median of *age* (as seen in the EDA)."
   ]
  },
  {
   "cell_type": "code",
   "execution_count": 217,
   "id": "bcb07737",
   "metadata": {},
   "outputs": [
    {
     "name": "stderr",
     "output_type": "stream",
     "text": [
      "C:\\Users\\User\\AppData\\Local\\Temp\\ipykernel_30068\\1288260230.py:2: DeprecationWarning: In a future version, `df.iloc[:, i] = newvals` will attempt to set the values inplace instead of always setting a new array. To retain the old behavior, use either `df[df.columns[i]] = newvals` or, if columns are non-unique, `df.isetitem(i, newvals)`\n",
      "  customer_info[:] = imputer.fit_transform(customer_info)\n"
     ]
    }
   ],
   "source": [
    "imputer = KNNImputer(n_neighbors=10)\n",
    "customer_info[:] = imputer.fit_transform(customer_info)"
   ]
  },
  {
   "cell_type": "code",
   "execution_count": 218,
   "id": "7b5eafce",
   "metadata": {},
   "outputs": [
    {
     "data": {
      "text/html": [
       "<div>\n",
       "<style scoped>\n",
       "    .dataframe tbody tr th:only-of-type {\n",
       "        vertical-align: middle;\n",
       "    }\n",
       "\n",
       "    .dataframe tbody tr th {\n",
       "        vertical-align: top;\n",
       "    }\n",
       "\n",
       "    .dataframe thead th {\n",
       "        text-align: right;\n",
       "    }\n",
       "</style>\n",
       "<table border=\"1\" class=\"dataframe\">\n",
       "  <thead>\n",
       "    <tr style=\"text-align: right;\">\n",
       "      <th></th>\n",
       "      <th>Missing Count</th>\n",
       "      <th>Missing %</th>\n",
       "    </tr>\n",
       "  </thead>\n",
       "  <tbody>\n",
       "    <tr>\n",
       "      <th>customer_gender</th>\n",
       "      <td>0</td>\n",
       "      <td>0.0</td>\n",
       "    </tr>\n",
       "    <tr>\n",
       "      <th>kids_home</th>\n",
       "      <td>0</td>\n",
       "      <td>0.0</td>\n",
       "    </tr>\n",
       "    <tr>\n",
       "      <th>teens_home</th>\n",
       "      <td>0</td>\n",
       "      <td>0.0</td>\n",
       "    </tr>\n",
       "    <tr>\n",
       "      <th>number_complaints</th>\n",
       "      <td>0</td>\n",
       "      <td>0.0</td>\n",
       "    </tr>\n",
       "    <tr>\n",
       "      <th>distinct_stores_visited</th>\n",
       "      <td>0</td>\n",
       "      <td>0.0</td>\n",
       "    </tr>\n",
       "    <tr>\n",
       "      <th>lifetime_spend_groceries</th>\n",
       "      <td>0</td>\n",
       "      <td>0.0</td>\n",
       "    </tr>\n",
       "    <tr>\n",
       "      <th>lifetime_spend_electronics</th>\n",
       "      <td>0</td>\n",
       "      <td>0.0</td>\n",
       "    </tr>\n",
       "    <tr>\n",
       "      <th>typical_hour</th>\n",
       "      <td>0</td>\n",
       "      <td>0.0</td>\n",
       "    </tr>\n",
       "    <tr>\n",
       "      <th>lifetime_spend_vegetables</th>\n",
       "      <td>0</td>\n",
       "      <td>0.0</td>\n",
       "    </tr>\n",
       "    <tr>\n",
       "      <th>lifetime_spend_nonalcohol_drinks</th>\n",
       "      <td>0</td>\n",
       "      <td>0.0</td>\n",
       "    </tr>\n",
       "    <tr>\n",
       "      <th>lifetime_spend_alcohol_drinks</th>\n",
       "      <td>0</td>\n",
       "      <td>0.0</td>\n",
       "    </tr>\n",
       "    <tr>\n",
       "      <th>lifetime_spend_meat</th>\n",
       "      <td>0</td>\n",
       "      <td>0.0</td>\n",
       "    </tr>\n",
       "    <tr>\n",
       "      <th>lifetime_spend_fish</th>\n",
       "      <td>0</td>\n",
       "      <td>0.0</td>\n",
       "    </tr>\n",
       "    <tr>\n",
       "      <th>lifetime_spend_hygiene</th>\n",
       "      <td>0</td>\n",
       "      <td>0.0</td>\n",
       "    </tr>\n",
       "    <tr>\n",
       "      <th>lifetime_spend_videogames</th>\n",
       "      <td>0</td>\n",
       "      <td>0.0</td>\n",
       "    </tr>\n",
       "    <tr>\n",
       "      <th>lifetime_spend_petfood</th>\n",
       "      <td>0</td>\n",
       "      <td>0.0</td>\n",
       "    </tr>\n",
       "    <tr>\n",
       "      <th>lifetime_total_distinct_products</th>\n",
       "      <td>0</td>\n",
       "      <td>0.0</td>\n",
       "    </tr>\n",
       "    <tr>\n",
       "      <th>percentage_of_products_bought_promotion</th>\n",
       "      <td>0</td>\n",
       "      <td>0.0</td>\n",
       "    </tr>\n",
       "    <tr>\n",
       "      <th>year_first_transaction</th>\n",
       "      <td>0</td>\n",
       "      <td>0.0</td>\n",
       "    </tr>\n",
       "    <tr>\n",
       "      <th>loyalty_card_number</th>\n",
       "      <td>0</td>\n",
       "      <td>0.0</td>\n",
       "    </tr>\n",
       "    <tr>\n",
       "      <th>latitude</th>\n",
       "      <td>0</td>\n",
       "      <td>0.0</td>\n",
       "    </tr>\n",
       "    <tr>\n",
       "      <th>longitude</th>\n",
       "      <td>0</td>\n",
       "      <td>0.0</td>\n",
       "    </tr>\n",
       "    <tr>\n",
       "      <th>age</th>\n",
       "      <td>0</td>\n",
       "      <td>0.0</td>\n",
       "    </tr>\n",
       "  </tbody>\n",
       "</table>\n",
       "</div>"
      ],
      "text/plain": [
       "                                         Missing Count  Missing %\n",
       "customer_gender                                      0        0.0\n",
       "kids_home                                            0        0.0\n",
       "teens_home                                           0        0.0\n",
       "number_complaints                                    0        0.0\n",
       "distinct_stores_visited                              0        0.0\n",
       "lifetime_spend_groceries                             0        0.0\n",
       "lifetime_spend_electronics                           0        0.0\n",
       "typical_hour                                         0        0.0\n",
       "lifetime_spend_vegetables                            0        0.0\n",
       "lifetime_spend_nonalcohol_drinks                     0        0.0\n",
       "lifetime_spend_alcohol_drinks                        0        0.0\n",
       "lifetime_spend_meat                                  0        0.0\n",
       "lifetime_spend_fish                                  0        0.0\n",
       "lifetime_spend_hygiene                               0        0.0\n",
       "lifetime_spend_videogames                            0        0.0\n",
       "lifetime_spend_petfood                               0        0.0\n",
       "lifetime_total_distinct_products                     0        0.0\n",
       "percentage_of_products_bought_promotion              0        0.0\n",
       "year_first_transaction                               0        0.0\n",
       "loyalty_card_number                                  0        0.0\n",
       "latitude                                             0        0.0\n",
       "longitude                                            0        0.0\n",
       "age                                                  0        0.0"
      ]
     },
     "execution_count": 218,
     "metadata": {},
     "output_type": "execute_result"
    }
   ],
   "source": [
    "missing_customer_info = pd.DataFrame({\n",
    "    'Missing Count': customer_info.isnull().sum(),\n",
    "    'Missing %': round(customer_info.isnull().mean() * 100, 2)\n",
    "})\n",
    "missing_customer_info"
   ]
  },
  {
   "cell_type": "markdown",
   "id": "e880d8bc",
   "metadata": {},
   "source": [
    "#### 3.3) Noise\n",
    "\n",
    "As we saw in the EDA, some values are impossible to achieve, namely negative numbers in <i>percentage_of_products_bought_promotion</i>. Thus, we will assume these values to be zero and replace them."
   ]
  },
  {
   "cell_type": "code",
   "execution_count": 219,
   "id": "c43ace3c",
   "metadata": {},
   "outputs": [],
   "source": [
    "# replace the percentage_of_products_bought_promotion below 0 with 0\n",
    "\n",
    "import numpy as np\n",
    "\n",
    "customer_info[\"percentage_of_products_bought_promotion\"] = np.where(\n",
    "    customer_info[\"percentage_of_products_bought_promotion\"] < 0,\n",
    "    0,\n",
    "    customer_info[\"percentage_of_products_bought_promotion\"]\n",
    ")"
   ]
  },
  {
   "cell_type": "code",
   "execution_count": 220,
   "id": "8c55be6a",
   "metadata": {},
   "outputs": [
    {
     "name": "stdout",
     "output_type": "stream",
     "text": [
      "File exported successfully to ../data/raw/non_scaled_non_missing_customer_info.csv\n"
     ]
    }
   ],
   "source": [
    "export_path = '../data/raw/non_scaled_non_missing_customer_info.csv'\n",
    "customer_info.to_csv(export_path, index=True)\n",
    "\n",
    "print(f\"File exported successfully to {export_path}\")"
   ]
  },
  {
   "cell_type": "code",
   "execution_count": 221,
   "id": "aaca2b0c",
   "metadata": {},
   "outputs": [
    {
     "data": {
      "text/html": [
       "<div>\n",
       "<style scoped>\n",
       "    .dataframe tbody tr th:only-of-type {\n",
       "        vertical-align: middle;\n",
       "    }\n",
       "\n",
       "    .dataframe tbody tr th {\n",
       "        vertical-align: top;\n",
       "    }\n",
       "\n",
       "    .dataframe thead th {\n",
       "        text-align: right;\n",
       "    }\n",
       "</style>\n",
       "<table border=\"1\" class=\"dataframe\">\n",
       "  <thead>\n",
       "    <tr style=\"text-align: right;\">\n",
       "      <th></th>\n",
       "      <th>customer_gender</th>\n",
       "      <th>kids_home</th>\n",
       "      <th>teens_home</th>\n",
       "      <th>number_complaints</th>\n",
       "      <th>distinct_stores_visited</th>\n",
       "      <th>lifetime_spend_groceries</th>\n",
       "      <th>lifetime_spend_electronics</th>\n",
       "      <th>typical_hour</th>\n",
       "      <th>lifetime_spend_vegetables</th>\n",
       "      <th>lifetime_spend_nonalcohol_drinks</th>\n",
       "      <th>lifetime_spend_alcohol_drinks</th>\n",
       "      <th>lifetime_spend_meat</th>\n",
       "      <th>lifetime_spend_fish</th>\n",
       "      <th>lifetime_spend_hygiene</th>\n",
       "      <th>lifetime_spend_videogames</th>\n",
       "      <th>lifetime_spend_petfood</th>\n",
       "      <th>lifetime_total_distinct_products</th>\n",
       "      <th>percentage_of_products_bought_promotion</th>\n",
       "      <th>year_first_transaction</th>\n",
       "      <th>loyalty_card_number</th>\n",
       "      <th>latitude</th>\n",
       "      <th>longitude</th>\n",
       "      <th>age</th>\n",
       "    </tr>\n",
       "    <tr>\n",
       "      <th>customer_id</th>\n",
       "      <th></th>\n",
       "      <th></th>\n",
       "      <th></th>\n",
       "      <th></th>\n",
       "      <th></th>\n",
       "      <th></th>\n",
       "      <th></th>\n",
       "      <th></th>\n",
       "      <th></th>\n",
       "      <th></th>\n",
       "      <th></th>\n",
       "      <th></th>\n",
       "      <th></th>\n",
       "      <th></th>\n",
       "      <th></th>\n",
       "      <th></th>\n",
       "      <th></th>\n",
       "      <th></th>\n",
       "      <th></th>\n",
       "      <th></th>\n",
       "      <th></th>\n",
       "      <th></th>\n",
       "      <th></th>\n",
       "    </tr>\n",
       "  </thead>\n",
       "  <tbody>\n",
       "    <tr>\n",
       "      <th>29930</th>\n",
       "      <td>0.0</td>\n",
       "      <td>2.0</td>\n",
       "      <td>2.0</td>\n",
       "      <td>1.0</td>\n",
       "      <td>4.0</td>\n",
       "      <td>7789.0</td>\n",
       "      <td>5601.0</td>\n",
       "      <td>13.0</td>\n",
       "      <td>726.0</td>\n",
       "      <td>962.0</td>\n",
       "      <td>1213.0</td>\n",
       "      <td>1598.0</td>\n",
       "      <td>1894.0</td>\n",
       "      <td>457.0</td>\n",
       "      <td>412.0</td>\n",
       "      <td>428.0</td>\n",
       "      <td>386.0</td>\n",
       "      <td>0.158741</td>\n",
       "      <td>2018.0</td>\n",
       "      <td>0.0</td>\n",
       "      <td>38.721807</td>\n",
       "      <td>-9.125534</td>\n",
       "      <td>53.0</td>\n",
       "    </tr>\n",
       "    <tr>\n",
       "      <th>6813</th>\n",
       "      <td>1.0</td>\n",
       "      <td>0.0</td>\n",
       "      <td>1.0</td>\n",
       "      <td>0.0</td>\n",
       "      <td>4.0</td>\n",
       "      <td>8653.0</td>\n",
       "      <td>35.0</td>\n",
       "      <td>14.0</td>\n",
       "      <td>792.0</td>\n",
       "      <td>102.0</td>\n",
       "      <td>104.0</td>\n",
       "      <td>741.0</td>\n",
       "      <td>346.0</td>\n",
       "      <td>394.0</td>\n",
       "      <td>75.0</td>\n",
       "      <td>226.0</td>\n",
       "      <td>73.0</td>\n",
       "      <td>1.227890</td>\n",
       "      <td>2013.0</td>\n",
       "      <td>1.0</td>\n",
       "      <td>38.734668</td>\n",
       "      <td>-9.163533</td>\n",
       "      <td>80.0</td>\n",
       "    </tr>\n",
       "    <tr>\n",
       "      <th>39451</th>\n",
       "      <td>0.0</td>\n",
       "      <td>2.0</td>\n",
       "      <td>3.0</td>\n",
       "      <td>0.0</td>\n",
       "      <td>7.0</td>\n",
       "      <td>15605.0</td>\n",
       "      <td>4275.0</td>\n",
       "      <td>14.0</td>\n",
       "      <td>1585.0</td>\n",
       "      <td>980.0</td>\n",
       "      <td>1872.0</td>\n",
       "      <td>1323.0</td>\n",
       "      <td>1971.0</td>\n",
       "      <td>920.0</td>\n",
       "      <td>335.0</td>\n",
       "      <td>192.0</td>\n",
       "      <td>319.0</td>\n",
       "      <td>0.101598</td>\n",
       "      <td>2011.0</td>\n",
       "      <td>0.0</td>\n",
       "      <td>38.787126</td>\n",
       "      <td>-9.147077</td>\n",
       "      <td>35.0</td>\n",
       "    </tr>\n",
       "    <tr>\n",
       "      <th>21557</th>\n",
       "      <td>1.0</td>\n",
       "      <td>0.0</td>\n",
       "      <td>0.0</td>\n",
       "      <td>1.0</td>\n",
       "      <td>1.0</td>\n",
       "      <td>13440.0</td>\n",
       "      <td>16366.0</td>\n",
       "      <td>14.0</td>\n",
       "      <td>28.0</td>\n",
       "      <td>269.0</td>\n",
       "      <td>1855.0</td>\n",
       "      <td>939.0</td>\n",
       "      <td>785.0</td>\n",
       "      <td>139.0</td>\n",
       "      <td>679.0</td>\n",
       "      <td>270.0</td>\n",
       "      <td>221.0</td>\n",
       "      <td>0.259943</td>\n",
       "      <td>2009.0</td>\n",
       "      <td>0.0</td>\n",
       "      <td>38.741816</td>\n",
       "      <td>-9.159700</td>\n",
       "      <td>48.0</td>\n",
       "    </tr>\n",
       "    <tr>\n",
       "      <th>16415</th>\n",
       "      <td>1.0</td>\n",
       "      <td>1.0</td>\n",
       "      <td>1.0</td>\n",
       "      <td>1.0</td>\n",
       "      <td>5.0</td>\n",
       "      <td>49250.0</td>\n",
       "      <td>3197.0</td>\n",
       "      <td>14.0</td>\n",
       "      <td>258.0</td>\n",
       "      <td>726.0</td>\n",
       "      <td>547.0</td>\n",
       "      <td>983.0</td>\n",
       "      <td>1492.0</td>\n",
       "      <td>1046.0</td>\n",
       "      <td>112.0</td>\n",
       "      <td>144.0</td>\n",
       "      <td>244.0</td>\n",
       "      <td>0.317822</td>\n",
       "      <td>2012.0</td>\n",
       "      <td>1.0</td>\n",
       "      <td>38.785921</td>\n",
       "      <td>-9.149221</td>\n",
       "      <td>58.0</td>\n",
       "    </tr>\n",
       "    <tr>\n",
       "      <th>...</th>\n",
       "      <td>...</td>\n",
       "      <td>...</td>\n",
       "      <td>...</td>\n",
       "      <td>...</td>\n",
       "      <td>...</td>\n",
       "      <td>...</td>\n",
       "      <td>...</td>\n",
       "      <td>...</td>\n",
       "      <td>...</td>\n",
       "      <td>...</td>\n",
       "      <td>...</td>\n",
       "      <td>...</td>\n",
       "      <td>...</td>\n",
       "      <td>...</td>\n",
       "      <td>...</td>\n",
       "      <td>...</td>\n",
       "      <td>...</td>\n",
       "      <td>...</td>\n",
       "      <td>...</td>\n",
       "      <td>...</td>\n",
       "      <td>...</td>\n",
       "      <td>...</td>\n",
       "      <td>...</td>\n",
       "    </tr>\n",
       "    <tr>\n",
       "      <th>37071</th>\n",
       "      <td>0.0</td>\n",
       "      <td>1.0</td>\n",
       "      <td>1.0</td>\n",
       "      <td>0.0</td>\n",
       "      <td>2.0</td>\n",
       "      <td>62321.0</td>\n",
       "      <td>5250.0</td>\n",
       "      <td>16.0</td>\n",
       "      <td>813.0</td>\n",
       "      <td>528.0</td>\n",
       "      <td>1524.0</td>\n",
       "      <td>687.0</td>\n",
       "      <td>1687.0</td>\n",
       "      <td>1048.0</td>\n",
       "      <td>379.0</td>\n",
       "      <td>258.0</td>\n",
       "      <td>163.0</td>\n",
       "      <td>0.162331</td>\n",
       "      <td>2018.0</td>\n",
       "      <td>0.0</td>\n",
       "      <td>38.750813</td>\n",
       "      <td>-9.103808</td>\n",
       "      <td>26.0</td>\n",
       "    </tr>\n",
       "    <tr>\n",
       "      <th>27422</th>\n",
       "      <td>1.0</td>\n",
       "      <td>1.0</td>\n",
       "      <td>1.0</td>\n",
       "      <td>0.0</td>\n",
       "      <td>3.0</td>\n",
       "      <td>16084.0</td>\n",
       "      <td>3796.0</td>\n",
       "      <td>13.0</td>\n",
       "      <td>502.0</td>\n",
       "      <td>748.0</td>\n",
       "      <td>694.0</td>\n",
       "      <td>1200.0</td>\n",
       "      <td>568.0</td>\n",
       "      <td>949.0</td>\n",
       "      <td>263.0</td>\n",
       "      <td>319.0</td>\n",
       "      <td>379.0</td>\n",
       "      <td>0.614179</td>\n",
       "      <td>2019.0</td>\n",
       "      <td>1.0</td>\n",
       "      <td>38.745020</td>\n",
       "      <td>-9.169168</td>\n",
       "      <td>40.0</td>\n",
       "    </tr>\n",
       "    <tr>\n",
       "      <th>39540</th>\n",
       "      <td>0.0</td>\n",
       "      <td>1.0</td>\n",
       "      <td>0.0</td>\n",
       "      <td>1.0</td>\n",
       "      <td>2.0</td>\n",
       "      <td>14631.0</td>\n",
       "      <td>8784.0</td>\n",
       "      <td>17.0</td>\n",
       "      <td>402.0</td>\n",
       "      <td>262.0</td>\n",
       "      <td>484.0</td>\n",
       "      <td>509.0</td>\n",
       "      <td>1472.0</td>\n",
       "      <td>368.0</td>\n",
       "      <td>804.0</td>\n",
       "      <td>110.0</td>\n",
       "      <td>228.0</td>\n",
       "      <td>0.535617</td>\n",
       "      <td>2018.0</td>\n",
       "      <td>0.0</td>\n",
       "      <td>38.767834</td>\n",
       "      <td>-9.172368</td>\n",
       "      <td>24.0</td>\n",
       "    </tr>\n",
       "    <tr>\n",
       "      <th>18367</th>\n",
       "      <td>0.0</td>\n",
       "      <td>1.0</td>\n",
       "      <td>1.0</td>\n",
       "      <td>1.0</td>\n",
       "      <td>4.0</td>\n",
       "      <td>37420.0</td>\n",
       "      <td>4702.0</td>\n",
       "      <td>9.0</td>\n",
       "      <td>195.0</td>\n",
       "      <td>485.0</td>\n",
       "      <td>1021.2</td>\n",
       "      <td>1231.0</td>\n",
       "      <td>904.0</td>\n",
       "      <td>1088.0</td>\n",
       "      <td>401.0</td>\n",
       "      <td>376.0</td>\n",
       "      <td>151.0</td>\n",
       "      <td>0.435014</td>\n",
       "      <td>2015.0</td>\n",
       "      <td>1.0</td>\n",
       "      <td>38.732462</td>\n",
       "      <td>-9.156155</td>\n",
       "      <td>64.0</td>\n",
       "    </tr>\n",
       "    <tr>\n",
       "      <th>22050</th>\n",
       "      <td>1.0</td>\n",
       "      <td>2.0</td>\n",
       "      <td>1.0</td>\n",
       "      <td>2.0</td>\n",
       "      <td>1.0</td>\n",
       "      <td>8208.0</td>\n",
       "      <td>38.0</td>\n",
       "      <td>8.0</td>\n",
       "      <td>78.0</td>\n",
       "      <td>43.0</td>\n",
       "      <td>852.0</td>\n",
       "      <td>589.0</td>\n",
       "      <td>618.0</td>\n",
       "      <td>309.0</td>\n",
       "      <td>110.0</td>\n",
       "      <td>471.0</td>\n",
       "      <td>85.0</td>\n",
       "      <td>0.535108</td>\n",
       "      <td>2016.0</td>\n",
       "      <td>0.0</td>\n",
       "      <td>38.747424</td>\n",
       "      <td>-9.155726</td>\n",
       "      <td>32.0</td>\n",
       "    </tr>\n",
       "  </tbody>\n",
       "</table>\n",
       "<p>34060 rows × 23 columns</p>\n",
       "</div>"
      ],
      "text/plain": [
       "             customer_gender  kids_home  teens_home  number_complaints  distinct_stores_visited  lifetime_spend_groceries  lifetime_spend_electronics  typical_hour  lifetime_spend_vegetables  lifetime_spend_nonalcohol_drinks  lifetime_spend_alcohol_drinks  lifetime_spend_meat  lifetime_spend_fish  lifetime_spend_hygiene  lifetime_spend_videogames  lifetime_spend_petfood  lifetime_total_distinct_products  percentage_of_products_bought_promotion  year_first_transaction  loyalty_card_number   latitude  longitude   age\n",
       "customer_id                                                                                                                                                                                                                                                                                                                                                                                                                                                                                                                             \n",
       "29930                    0.0        2.0         2.0                1.0                      4.0                    7789.0                      5601.0          13.0                      726.0                             962.0                         1213.0               1598.0               1894.0                   457.0                      412.0                   428.0                             386.0                                 0.158741                  2018.0                  0.0  38.721807  -9.125534  53.0\n",
       "6813                     1.0        0.0         1.0                0.0                      4.0                    8653.0                        35.0          14.0                      792.0                             102.0                          104.0                741.0                346.0                   394.0                       75.0                   226.0                              73.0                                 1.227890                  2013.0                  1.0  38.734668  -9.163533  80.0\n",
       "39451                    0.0        2.0         3.0                0.0                      7.0                   15605.0                      4275.0          14.0                     1585.0                             980.0                         1872.0               1323.0               1971.0                   920.0                      335.0                   192.0                             319.0                                 0.101598                  2011.0                  0.0  38.787126  -9.147077  35.0\n",
       "21557                    1.0        0.0         0.0                1.0                      1.0                   13440.0                     16366.0          14.0                       28.0                             269.0                         1855.0                939.0                785.0                   139.0                      679.0                   270.0                             221.0                                 0.259943                  2009.0                  0.0  38.741816  -9.159700  48.0\n",
       "16415                    1.0        1.0         1.0                1.0                      5.0                   49250.0                      3197.0          14.0                      258.0                             726.0                          547.0                983.0               1492.0                  1046.0                      112.0                   144.0                             244.0                                 0.317822                  2012.0                  1.0  38.785921  -9.149221  58.0\n",
       "...                      ...        ...         ...                ...                      ...                       ...                         ...           ...                        ...                               ...                            ...                  ...                  ...                     ...                        ...                     ...                               ...                                      ...                     ...                  ...        ...        ...   ...\n",
       "37071                    0.0        1.0         1.0                0.0                      2.0                   62321.0                      5250.0          16.0                      813.0                             528.0                         1524.0                687.0               1687.0                  1048.0                      379.0                   258.0                             163.0                                 0.162331                  2018.0                  0.0  38.750813  -9.103808  26.0\n",
       "27422                    1.0        1.0         1.0                0.0                      3.0                   16084.0                      3796.0          13.0                      502.0                             748.0                          694.0               1200.0                568.0                   949.0                      263.0                   319.0                             379.0                                 0.614179                  2019.0                  1.0  38.745020  -9.169168  40.0\n",
       "39540                    0.0        1.0         0.0                1.0                      2.0                   14631.0                      8784.0          17.0                      402.0                             262.0                          484.0                509.0               1472.0                   368.0                      804.0                   110.0                             228.0                                 0.535617                  2018.0                  0.0  38.767834  -9.172368  24.0\n",
       "18367                    0.0        1.0         1.0                1.0                      4.0                   37420.0                      4702.0           9.0                      195.0                             485.0                         1021.2               1231.0                904.0                  1088.0                      401.0                   376.0                             151.0                                 0.435014                  2015.0                  1.0  38.732462  -9.156155  64.0\n",
       "22050                    1.0        2.0         1.0                2.0                      1.0                    8208.0                        38.0           8.0                       78.0                              43.0                          852.0                589.0                618.0                   309.0                      110.0                   471.0                              85.0                                 0.535108                  2016.0                  0.0  38.747424  -9.155726  32.0\n",
       "\n",
       "[34060 rows x 23 columns]"
      ]
     },
     "execution_count": 221,
     "metadata": {},
     "output_type": "execute_result"
    }
   ],
   "source": [
    "customer_info"
   ]
  },
  {
   "cell_type": "markdown",
   "id": "67f0f701",
   "metadata": {},
   "source": [
    "### 4. Feature Selection (Part 2)\n",
    "Columns to remove:\n",
    "- *year_first_transaction* - We believe the worth this variable has is already in the *age* column, given the relation that the older people are, the smaller will be the year of the first transation, and no additional value may be extrated;\n",
    "- *loyalty_card_number* - This was a set of digits with no meaning, assigned to customers with loyalty cards. It may serve some purpose in the future when identifying, in the clusters, who has a loyalty card and who does not.\n",
    "- *latitude* and *longitude* - these two columns are only used for the map made in the EDA, which showed no visible pattern."
   ]
  },
  {
   "cell_type": "code",
   "execution_count": 222,
   "id": "7c600855",
   "metadata": {},
   "outputs": [],
   "source": [
    "customer_info = customer_info.drop([\"year_first_transaction\", \"loyalty_card_number\", \"latitude\", \"longitude\"], axis=1)"
   ]
  },
  {
   "cell_type": "markdown",
   "id": "49019f94",
   "metadata": {},
   "source": [
    "### 5. Unidimensional Outlier Detection\n",
    "After careful analysis of our EDA, our *lifetime_* variables have all shown a significant amount of outliers along with a considerable skewness. The presence of these two factors in the dataset can negatively affect the performance and reliability of machine learning models. Skewness reflects asymmetry in the distribution of a variable, which may distort the underlying relationships between features and compromise the assumptions of certain algorithms, particularly those that rely on linearity or distance metrics. Outliers further exacerbate this issue by disproportionately influencing key statistical measures such as means, variances, and correlations, potentially leading to biased parameter estimates and reduced model stability. \n",
    "\n",
    "Consequently, addressing skewness and outliers during the preprocessing stage is essential to improve model robustness, enhance predictive accuracy, and ensure more reliable generalization to unseen data. "
   ]
  },
  {
   "cell_type": "code",
   "execution_count": 223,
   "id": "aa4f14a8",
   "metadata": {},
   "outputs": [],
   "source": [
    "def log_transform_lifetime_features(dataframe):\n",
    "    cols_to_transform = [col for col in dataframe.columns if col.startswith('lifetime_')]\n",
    "    dataframe[cols_to_transform] = dataframe[cols_to_transform].apply(lambda x: np.log1p(x))\n",
    "    return dataframe\n",
    "\n",
    "customer_info = log_transform_lifetime_features(customer_info)"
   ]
  },
  {
   "cell_type": "markdown",
   "id": "fd073424",
   "metadata": {},
   "source": [
    "A log transformation was applied to the financial features due to their highly right-skewed distributions. This transformation helps to reduce skewness, stabilize variance, and limit the influence of extreme values."
   ]
  },
  {
   "cell_type": "markdown",
   "id": "a68e5b3f",
   "metadata": {},
   "source": [
    "### 6. Scaling\n",
    "We'll be using Robust Scaler to scale our data as it has shown, through the EDA's boxplots and histograms, a high presence of outliers."
   ]
  },
  {
   "cell_type": "code",
   "execution_count": 224,
   "id": "2c1ca79f",
   "metadata": {},
   "outputs": [],
   "source": [
    "scaler = RobustScaler()\n",
    "\n",
    "scaled_array = scaler.fit_transform(customer_info)\n",
    "scaled_customer_info = pd.DataFrame(scaled_array, columns=customer_info.columns, index=customer_info.index)\n",
    "customer_info = scaled_customer_info"
   ]
  },
  {
   "cell_type": "markdown",
   "id": "3f116650",
   "metadata": {},
   "source": [
    "### 7. Outlier Detection\n",
    "Using DBSCAN to determine the presence of multidimensional outliers; Analysing the presence of unidimensional outliers."
   ]
  },
  {
   "cell_type": "markdown",
   "id": "6bebc494",
   "metadata": {},
   "source": [
    "#### 7.1) Figuring out the parameters: min_samples\n",
    "As a starting point, we will use the rule of thumb that the minimum number of points is equal to 1 + the number of features."
   ]
  },
  {
   "cell_type": "code",
   "execution_count": 225,
   "id": "34970631",
   "metadata": {},
   "outputs": [
    {
     "data": {
      "text/plain": [
       "20"
      ]
     },
     "execution_count": 225,
     "metadata": {},
     "output_type": "execute_result"
    }
   ],
   "source": [
    "min_samples_value = 1 + customer_info.shape[1]\n",
    "min_samples_value"
   ]
  },
  {
   "cell_type": "markdown",
   "id": "6f86fd2b",
   "metadata": {},
   "source": [
    "#### 7.2) Figuring out the parameters: eps\n",
    "It works like being in a crowded room, with 300 people for instance. Now we want to know, for a person, how large is the radius of the circle we have to draw around them to get the k nearest people.\n",
    "Once we have those 300 distances sorted and plotted, we will see that some, in denser clusters of people, will have very short distances, some will have medium distances, and some, in more sparse groups (or perhaps even outliers), will have larger distances. We then look for the \"elbow\" of the plotted graph."
   ]
  },
  {
   "cell_type": "markdown",
   "id": "b2546a0a",
   "metadata": {},
   "source": [
    "Why do we want the \"elbow\" of the graph? In DBSCAN, the elbow of the k-distance graph shows the point where the distance between points suddenly increases, meaning we're moving from dense regions (clusters) to sparse regions (noise)."
   ]
  },
  {
   "cell_type": "code",
   "execution_count": 226,
   "id": "9c0f623e",
   "metadata": {},
   "outputs": [
    {
     "data": {
      "image/png": "[encoded data removed]",
      "text/plain": [
       "<Figure size 640x480 with 1 Axes>"
      ]
     },
     "metadata": {},
     "output_type": "display_data"
    },
    {
     "name": "stdout",
     "output_type": "stream",
     "text": [
      "Suggested eps from knee point: 3.818\n"
     ]
    }
   ],
   "source": [
    "# compute distances to the 36th nearest neighbor\n",
    "neighbors = NearestNeighbors(n_neighbors=36)\n",
    "neighbors_fit = neighbors.fit(customer_info)\n",
    "distances, _ = neighbors_fit.kneighbors(customer_info)\n",
    "\n",
    "k_distances = np.sort(distances[:, 35])\n",
    "x = np.arange(len(k_distances))\n",
    "\n",
    "# using KneeLocator to find the elbow in the graph\n",
    "knee = KneeLocator(x, k_distances, curve='convex', direction='increasing')\n",
    "eps_value = k_distances[knee.knee]\n",
    "\n",
    "# plotting the k-distance curve and the elbow\n",
    "plt.plot(k_distances, label='k-distance')\n",
    "plt.axhline(y=eps_value, color='red', linestyle='--', label=f'eps = {eps_value:.2f}')\n",
    "plt.xlabel(\"Points sorted by distance\")\n",
    "plt.ylabel(\"36th nearest neighbor distance\")\n",
    "plt.title(\"k-distance plot to find eps\")\n",
    "plt.legend()\n",
    "plt.show()\n",
    "\n",
    "print(f\"Suggested eps from knee point: {eps_value:.3f}\")\n"
   ]
  },
  {
   "cell_type": "markdown",
   "id": "7cd42521",
   "metadata": {},
   "source": [
    "#### 7.3) Running the DBSCAN"
   ]
  },
  {
   "cell_type": "code",
   "execution_count": 227,
   "id": "319588c8",
   "metadata": {},
   "outputs": [
    {
     "name": "stdout",
     "output_type": "stream",
     "text": [
      "3.8175908802462692 20\n"
     ]
    },
    {
     "data": {
      "text/html": [
       "<style>#sk-container-id-4 {color: black;}#sk-container-id-4 pre{padding: 0;}#sk-container-id-4 div.sk-toggleable {background-color: white;}#sk-container-id-4 label.sk-toggleable__label {cursor: pointer;display: block;width: 100%;margin-bottom: 0;padding: 0.3em;box-sizing: border-box;text-align: center;}#sk-container-id-4 label.sk-toggleable__label-arrow:before {content: \"▸\";float: left;margin-right: 0.25em;color: #696969;}#sk-container-id-4 label.sk-toggleable__label-arrow:hover:before {color: black;}#sk-container-id-4 div.sk-estimator:hover label.sk-toggleable__label-arrow:before {color: black;}#sk-container-id-4 div.sk-toggleable__content {max-height: 0;max-width: 0;overflow: hidden;text-align: left;background-color: #f0f8ff;}#sk-container-id-4 div.sk-toggleable__content pre {margin: 0.2em;color: black;border-radius: 0.25em;background-color: #f0f8ff;}#sk-container-id-4 input.sk-toggleable__control:checked~div.sk-toggleable__content {max-height: 200px;max-width: 100%;overflow: auto;}#sk-container-id-4 input.sk-toggleable__control:checked~label.sk-toggleable__label-arrow:before {content: \"▾\";}#sk-container-id-4 div.sk-estimator input.sk-toggleable__control:checked~label.sk-toggleable__label {background-color: #d4ebff;}#sk-container-id-4 div.sk-label input.sk-toggleable__control:checked~label.sk-toggleable__label {background-color: #d4ebff;}#sk-container-id-4 input.sk-hidden--visually {border: 0;clip: rect(1px 1px 1px 1px);clip: rect(1px, 1px, 1px, 1px);height: 1px;margin: -1px;overflow: hidden;padding: 0;position: absolute;width: 1px;}#sk-container-id-4 div.sk-estimator {font-family: monospace;background-color: #f0f8ff;border: 1px dotted black;border-radius: 0.25em;box-sizing: border-box;margin-bottom: 0.5em;}#sk-container-id-4 div.sk-estimator:hover {background-color: #d4ebff;}#sk-container-id-4 div.sk-parallel-item::after {content: \"\";width: 100%;border-bottom: 1px solid gray;flex-grow: 1;}#sk-container-id-4 div.sk-label:hover label.sk-toggleable__label {background-color: #d4ebff;}#sk-container-id-4 div.sk-serial::before {content: \"\";position: absolute;border-left: 1px solid gray;box-sizing: border-box;top: 0;bottom: 0;left: 50%;z-index: 0;}#sk-container-id-4 div.sk-serial {display: flex;flex-direction: column;align-items: center;background-color: white;padding-right: 0.2em;padding-left: 0.2em;position: relative;}#sk-container-id-4 div.sk-item {position: relative;z-index: 1;}#sk-container-id-4 div.sk-parallel {display: flex;align-items: stretch;justify-content: center;background-color: white;position: relative;}#sk-container-id-4 div.sk-item::before, #sk-container-id-4 div.sk-parallel-item::before {content: \"\";position: absolute;border-left: 1px solid gray;box-sizing: border-box;top: 0;bottom: 0;left: 50%;z-index: -1;}#sk-container-id-4 div.sk-parallel-item {display: flex;flex-direction: column;z-index: 1;position: relative;background-color: white;}#sk-container-id-4 div.sk-parallel-item:first-child::after {align-self: flex-end;width: 50%;}#sk-container-id-4 div.sk-parallel-item:last-child::after {align-self: flex-start;width: 50%;}#sk-container-id-4 div.sk-parallel-item:only-child::after {width: 0;}#sk-container-id-4 div.sk-dashed-wrapped {border: 1px dashed gray;margin: 0 0.4em 0.5em 0.4em;box-sizing: border-box;padding-bottom: 0.4em;background-color: white;}#sk-container-id-4 div.sk-label label {font-family: monospace;font-weight: bold;display: inline-block;line-height: 1.2em;}#sk-container-id-4 div.sk-label-container {text-align: center;}#sk-container-id-4 div.sk-container {/* jupyter's `normalize.less` sets `[hidden] { display: none; }` but bootstrap.min.css set `[hidden] { display: none !important; }` so we also need the `!important` here to be able to override the default hidden behavior on the sphinx rendered scikit-learn.org. See: https://github.com/scikit-learn/scikit-learn/issues/21755 */display: inline-block !important;position: relative;}#sk-container-id-4 div.sk-text-repr-fallback {display: none;}</style><div id=\"sk-container-id-4\" class=\"sk-top-container\"><div class=\"sk-text-repr-fallback\"><pre>DBSCAN(eps=3.8175908802462692, min_samples=20)</pre><b>In a Jupyter environment, please rerun this cell to show the HTML representation or trust the notebook. <br />On GitHub, the HTML representation is unable to render, please try loading this page with nbviewer.org.</b></div><div class=\"sk-container\" hidden><div class=\"sk-item\"><div class=\"sk-estimator sk-toggleable\"><input class=\"sk-toggleable__control sk-hidden--visually\" id=\"sk-estimator-id-4\" type=\"checkbox\" checked><label for=\"sk-estimator-id-4\" class=\"sk-toggleable__label sk-toggleable__label-arrow\">DBSCAN</label><div class=\"sk-toggleable__content\"><pre>DBSCAN(eps=3.8175908802462692, min_samples=20)</pre></div></div></div></div></div>"
      ],
      "text/plain": [
       "DBSCAN(eps=3.8175908802462692, min_samples=20)"
      ]
     },
     "execution_count": 227,
     "metadata": {},
     "output_type": "execute_result"
    }
   ],
   "source": [
    "print(eps_value, min_samples_value)\n",
    "\n",
    "db = DBSCAN(eps=eps_value, min_samples=min_samples_value)\n",
    "db.fit(customer_info)"
   ]
  },
  {
   "cell_type": "code",
   "execution_count": 228,
   "id": "ad12d296",
   "metadata": {},
   "outputs": [
    {
     "name": "stdout",
     "output_type": "stream",
     "text": [
      "Estimated number of clusters: 1\n",
      "Estimated number of outliers: 11\n"
     ]
    }
   ],
   "source": [
    "labels = db.labels_ # -1 is noise, 0, 1, 2, ... are clusters\n",
    "\n",
    "n_clusters = len(set(labels)) - (1 if -1 in labels else 0) # number of clusters, excluding noise\n",
    "n_outliers = list(labels).count(-1) # number of noise points\n",
    "print(f\"Estimated number of clusters: {n_clusters}\")\n",
    "print(f\"Estimated number of outliers: {n_outliers}\")"
   ]
  },
  {
   "cell_type": "markdown",
   "id": "51aabbd5",
   "metadata": {},
   "source": [
    "It seems our dbscan was no very fruitful, so we'll adapt to a different strategy. Let's expand the range of attempts and combinations of eps and min_sample. We should aim for a maximum of 3% outliers."
   ]
  },
  {
   "cell_type": "code",
   "execution_count": 229,
   "id": "48932eb9",
   "metadata": {},
   "outputs": [
    {
     "name": "stdout",
     "output_type": "stream",
     "text": [
      "1022\n"
     ]
    }
   ],
   "source": [
    "three_percent = round((customer_info.shape[0]*3) / 100)\n",
    "print(three_percent)"
   ]
  },
  {
   "cell_type": "code",
   "execution_count": 230,
   "id": "7e6f30e1",
   "metadata": {},
   "outputs": [
    {
     "name": "stdout",
     "output_type": "stream",
     "text": [
      "2.5 10 1 593\n",
      "3 10 1 92\n",
      "2.5 20 1 733\n",
      "3 20 1 136\n",
      "2.5 30 1 833\n",
      "3 30 1 148\n",
      "2.5 40 1 952\n",
      "3 40 1 169\n",
      "3 50 1 180\n",
      "3 60 1 194\n",
      "3 70 1 212\n",
      "3 80 1 226\n",
      "3 90 1 236\n",
      "3 100 1 261\n"
     ]
    }
   ],
   "source": [
    "for mp in range(10,101, 10):\n",
    "    for eps_ in [1.7,1.9,2,2.2,2.5,3]:\n",
    "        db = DBSCAN(eps=eps_, min_samples=mp)\n",
    "        db.fit(customer_info)\n",
    "\n",
    "        labels = db.labels_  # cluster labels, -1 = outlier\n",
    "\n",
    "        n_clusters = len(set(labels)) - (1 if -1 in labels else 0)\n",
    "        n_outliers = list(labels).count(-1)\n",
    "        \n",
    "        if n_outliers < three_percent:\n",
    "            print(eps_, mp, n_clusters, n_outliers)"
   ]
  },
  {
   "cell_type": "markdown",
   "id": "d04de891",
   "metadata": {},
   "source": [
    "We can see that as we either rise the eps or lower min_samples, the number of outliers decreases, and vice-versa. Thus, we will significantly lower our eps, and adjust the min_samples accordingly, selecting eps = 2.5 and min_samples = 20, which gives us a single cluster with 588 outliers."
   ]
  },
  {
   "cell_type": "code",
   "execution_count": 231,
   "id": "0e040499",
   "metadata": {},
   "outputs": [
    {
     "name": "stdout",
     "output_type": "stream",
     "text": [
      "Estimated number of clusters: 1\n",
      "Estimated number of outliers: 733\n"
     ]
    }
   ],
   "source": [
    "db = DBSCAN(eps=2.5, min_samples=20)\n",
    "db.fit(customer_info)\n",
    "\n",
    "labels = db.labels_ \n",
    "n_clusters = len(set(labels)) - (1 if -1 in labels else 0) \n",
    "n_outliers = list(labels).count(-1)\n",
    "print(f\"Estimated number of clusters: {n_clusters}\")\n",
    "print(f\"Estimated number of outliers: {n_outliers}\")"
   ]
  },
  {
   "cell_type": "markdown",
   "id": "b81ae904",
   "metadata": {},
   "source": [
    "Now we remove these multidimensional outliers from our dataset."
   ]
  },
  {
   "cell_type": "code",
   "execution_count": 232,
   "id": "9dda4439",
   "metadata": {},
   "outputs": [],
   "source": [
    "# removing the specifical rows that correspond to outliers\n",
    "customer_info['cluster'] = labels\n",
    "customer_info = customer_info[customer_info['cluster'] != -1]\n",
    "\n",
    "# dropping the cluster column for further analysis\n",
    "customer_info = customer_info.drop('cluster', axis=1)"
   ]
  },
  {
   "cell_type": "markdown",
   "id": "7caada45",
   "metadata": {},
   "source": [
    "### 8. Feature Selection (Part 2) - Principal Component Analysis\n",
    "\n",
    "**Principal Component Analysis (PCA)** is a dimensionality reduction technique that transforms correlated features into a smaller set of uncorrelated components. It can help simplify our dataset while highlighting the most important patterns in the data. We chose this technique due to its high interpretability."
   ]
  },
  {
   "cell_type": "code",
   "execution_count": 233,
   "id": "41a9a4c4",
   "metadata": {},
   "outputs": [
    {
     "data": {
      "image/png": "[encoded data removed]",
      "text/plain": [
       "<Figure size 800x500 with 1 Axes>"
      ]
     },
     "metadata": {},
     "output_type": "display_data"
    },
    {
     "name": "stdout",
     "output_type": "stream",
     "text": [
      "PC1: 0.2656 (0.2656 cumulative)\n",
      "PC2: 0.1467 (0.4123 cumulative)\n",
      "PC3: 0.1243 (0.5366 cumulative)\n",
      "PC4: 0.0725 (0.6091 cumulative)\n",
      "PC5: 0.0569 (0.6659 cumulative)\n",
      "PC6: 0.0417 (0.7077 cumulative)\n",
      "PC7: 0.0363 (0.7440 cumulative)\n",
      "PC8: 0.0331 (0.7771 cumulative)\n",
      "PC9: 0.0321 (0.8092 cumulative)\n",
      "PC10: 0.0266 (0.8358 cumulative)\n",
      "PC11: 0.0259 (0.8617 cumulative)\n",
      "PC12: 0.0225 (0.8842 cumulative)\n",
      "PC13: 0.0204 (0.9046 cumulative)\n",
      "PC14: 0.0197 (0.9243 cumulative)\n",
      "PC15: 0.0185 (0.9428 cumulative)\n",
      "PC16: 0.0172 (0.9600 cumulative)\n",
      "PC17: 0.0154 (0.9755 cumulative)\n",
      "PC18: 0.0139 (0.9894 cumulative)\n",
      "PC19: 0.0106 (1.0000 cumulative)\n",
      "\n",
      "PCA Loadings:\n",
      "      customer_gender  kids_home  teens_home  number_complaints  distinct_stores_visited  lifetime_spend_groceries  lifetime_spend_electronics  typical_hour  lifetime_spend_vegetables  lifetime_spend_nonalcohol_drinks  lifetime_spend_alcohol_drinks  lifetime_spend_meat  lifetime_spend_fish  lifetime_spend_hygiene  lifetime_spend_videogames  lifetime_spend_petfood  lifetime_total_distinct_products  percentage_of_products_bought_promotion       age\n",
      "PC1          0.001247  -0.274616   -0.210539           0.025212                 0.044933                 -0.209193                   -0.200851      0.061467                   0.060002                         -0.194150                      -0.233160            -0.655119            -0.350124               -0.112540                  -0.231278               -0.120826                         -0.237774                                 0.064527 -0.029037\n",
      "PC2          0.002430   0.758351    0.186134           0.083339                 0.095724                 -0.110030                    0.038000     -0.152353                   0.238942                          0.135799                       0.073024            -0.363246            -0.130553                0.196339                  -0.143000               -0.070834                          0.118384                                -0.171705 -0.002983\n",
      "PC3          0.000007   0.251401    0.202424           0.197093                 0.191974                 -0.169130                   -0.354612     -0.098873                  -0.187253                         -0.253414                      -0.239989             0.397328             0.008428               -0.105647                  -0.405629               -0.030376                         -0.132010                                 0.379548 -0.055423\n",
      "PC4         -0.001668   0.223775   -0.103979           0.208808                -0.390003                 -0.099942                    0.139404     -0.010192                  -0.236425                         -0.034857                       0.124360             0.003302             0.032340               -0.497452                   0.185024               -0.577834                         -0.104334                                -0.026300 -0.114393\n",
      "PC5         -0.002620  -0.189367    0.065372          -0.151933                 0.218862                  0.141823                   -0.064049      0.017294                   0.113350                          0.037449                      -0.035483             0.097599             0.040201                0.424269                  -0.070962               -0.798728                          0.105229                                 0.043126  0.042065\n",
      "PC6          0.001389   0.179415    0.131824          -0.758732                 0.185089                 -0.149046                   -0.051700      0.132475                   0.227238                         -0.124110                      -0.076909             0.091175            -0.036698               -0.384926                   0.195973               -0.050109                         -0.122543                                -0.011868  0.105854\n",
      "PC7          0.007240  -0.094105    0.021963           0.194177                 0.405991                 -0.696843                    0.179911      0.115587                  -0.201448                          0.204257                      -0.036160             0.011748            -0.024790                0.046037                   0.327025               -0.023424                          0.173085                                 0.078946  0.163070\n",
      "PC8         -0.018807  -0.187603    0.190396           0.278488                 0.482065                  0.323728                   -0.019993     -0.201437                   0.149729                          0.181460                       0.023217            -0.036932            -0.018013               -0.554278                  -0.094934               -0.054549                          0.145597                                -0.232419  0.143108\n",
      "PC9          0.012717  -0.303029    0.322862           0.009407                -0.350629                 -0.473824                   -0.076307     -0.361818                   0.325884                         -0.034137                       0.087654             0.163469             0.068619                0.015716                  -0.184076               -0.022970                         -0.059679                                -0.366348  0.024244\n",
      "PC10        -0.013675  -0.039819   -0.138109          -0.140100                -0.039979                  0.027918                    0.138186     -0.767491                   0.072052                         -0.012842                      -0.094938            -0.087208            -0.066999               -0.023850                   0.216858                0.010199                          0.195860                                 0.486024 -0.016297\n",
      "PC11         0.005289  -0.075709    0.071358          -0.288024                 0.261164                 -0.063656                    0.008506     -0.207099                  -0.462087                          0.071715                       0.250288            -0.114881             0.079857                0.015629                  -0.145653                0.021383                         -0.036050                                -0.205449 -0.651657\n",
      "PC12        -0.026468   0.078598    0.030158           0.103569                 0.151730                  0.132706                   -0.203605     -0.303626                  -0.227461                         -0.184948                      -0.078175             0.035548            -0.106994                0.219389                   0.454157               -0.000239                         -0.535019                                -0.336267  0.220753\n",
      "PC13         0.019006   0.049579   -0.220214          -0.273104                -0.107062                 -0.025923                    0.023129     -0.155762                  -0.487416                          0.113589                      -0.026250            -0.017706             0.011490               -0.023934                  -0.400048               -0.015015                          0.174445                                -0.200737  0.594975\n",
      "PC14         0.007810  -0.120156    0.755652          -0.065339                -0.233463                  0.135362                   -0.038364      0.097705                  -0.288419                          0.178807                       0.063192            -0.249031            -0.179650                0.010496                   0.098777                0.010436                         -0.020114                                 0.284143  0.147707\n",
      "PC15         0.997800   0.000632   -0.000781           0.012905                 0.021939                  0.021339                    0.020375     -0.016946                   0.011885                         -0.002423                      -0.005966            -0.006791             0.023717               -0.003902                   0.010321               -0.003351                         -0.039339                                 0.009980  0.004232\n",
      "PC16         0.042906   0.024682   -0.072905          -0.008802                -0.146140                 -0.011030                   -0.711565      0.027685                  -0.075522                          0.020629                      -0.085553             0.003419            -0.127421               -0.036227                   0.288537                0.006422                          0.554716                                -0.165493 -0.119105\n",
      "PC17        -0.019037   0.017535   -0.136340          -0.011186                 0.019812                 -0.072181                   -0.427368     -0.031942                   0.102545                          0.411955                       0.283107            -0.203411             0.570061               -0.034767                   0.014173               -0.000353                         -0.294713                                 0.243943  0.129843\n",
      "PC18        -0.010127  -0.009166    0.171892           0.051368                 0.070674                  0.000134                    0.064191      0.016747                  -0.068535                         -0.664136                       0.034597            -0.318029             0.569565                0.008498                   0.071245                0.004828                          0.256644                                -0.033556  0.116408\n",
      "PC19        -0.012857   0.029885    0.092661          -0.026292                -0.107369                  0.032971                    0.107389     -0.012219                  -0.048859                          0.300347                      -0.824250            -0.089193             0.360207               -0.012917                   0.032814               -0.008267                         -0.040097                                -0.156473 -0.168154\n"
     ]
    }
   ],
   "source": [
    "# PCA Analysis\n",
    "# fit PCA\n",
    "pca = PCA()\n",
    "pca.fit(customer_info)\n",
    "\n",
    "# explained variance ratio\n",
    "explained_variance = pca.explained_variance_ratio_\n",
    "\n",
    "# plot cumulative explained variance\n",
    "plt.figure(figsize=(8,5))\n",
    "plt.plot(np.cumsum(explained_variance), marker='o')\n",
    "plt.xlabel('Number of Components')\n",
    "plt.ylabel('Cumulative Explained Variance')\n",
    "plt.title('Explained Variance by PCA Components')\n",
    "plt.grid(True)\n",
    "plt.show()\n",
    "\n",
    "# print explained variance\n",
    "for i, var in enumerate(explained_variance):\n",
    "    print(f\"PC{i+1}: {var:.4f} ({np.cumsum(explained_variance)[i]:.4f} cumulative)\")\n",
    "\n",
    "# get loadings\n",
    "loadings = pca.components_\n",
    "\n",
    "# create loadings dataframe for easier interpretation\n",
    "loadings_df = pd.DataFrame(loadings, columns=customer_info.columns, \n",
    "                            index=[f'PC{i+1}' for i in range(loadings.shape[0])])\n",
    "print(\"\\nPCA Loadings:\")\n",
    "print(loadings_df)\n"
   ]
  },
  {
   "cell_type": "markdown",
   "id": "045e45f6",
   "metadata": {},
   "source": [
    "To assess which features are most important, we used the PCA loadings, which measure how strongly each original feature contributes to each principal component. Since some components explain more variance than others, we first squared the loadings (to focus on their strength regardless of sign), then multiplied them by the proportion of variance each component explains. Finally, we summed these values across all components. This gives an overall score showing how much each feature contributes to the total variability in the dataset."
   ]
  },
  {
   "cell_type": "code",
   "execution_count": 234,
   "id": "90d41154",
   "metadata": {},
   "outputs": [
    {
     "data": {
      "image/png": "[encoded data removed]",
      "text/plain": [
       "<Figure size 1000x600 with 1 Axes>"
      ]
     },
     "metadata": {},
     "output_type": "display_data"
    }
   ],
   "source": [
    "# after fitting PCA\n",
    "loadings = pca.components_\n",
    "\n",
    "# square loadings\n",
    "squared_loadings = loadings**2\n",
    "\n",
    "# multiply each squared loading by variance explained\n",
    "weighted_contributions = squared_loadings * explained_variance[:, np.newaxis] # newaxis to convert the vector to a column vector\n",
    "\n",
    "# sum over components to get total weighted contribution per feature\n",
    "feature_importance = weighted_contributions.sum(axis=0)\n",
    "\n",
    "# build dataframe\n",
    "importance_df = pd.DataFrame({\n",
    "    'Feature': customer_info.columns,\n",
    "    'Weighted Contribution': feature_importance\n",
    "}).sort_values(by='Weighted Contribution', ascending=False)\n",
    "\n",
    "# plot the importance df\n",
    "plt.figure(figsize=(10,6))\n",
    "plt.barh(importance_df['Feature'], importance_df['Weighted Contribution'])\n",
    "plt.xlabel('Weighted Contribution')\n",
    "plt.title('Feature Importance from PCA (Weighted)')\n",
    "plt.gca().invert_yaxis()\n",
    "plt.show()"
   ]
  },
  {
   "cell_type": "markdown",
   "id": "3c870d04",
   "metadata": {},
   "source": [
    "**PCA Analysis and Feature Retention Decision**\n",
    "\n",
    "To assess potential redundancy and feature importance within the customer_info dataset, we applied Principal Component Analysis (PCA). The goal was to evaluate whether some features could be removed prior to clustering, while preserving as much relevant information as possible.\n",
    "\n",
    "The cumulative explained variance plot shows that the first principal component (PC1) explains approximately 23% of the total variance, with diminishing contributions from subsequent components. In total, 10 components are required to explain roughly 82% of the variance, and all 19 components are necessary to reach 100% of explained variance. This indicates that the variance is relatively spread across many components, suggesting no overwhelming dominance of a small subset of features.\n",
    "\n",
    "The loadings matrix further confirms that multiple features contribute significantly to different principal components. While certain variables such as kids_home, lifetime_spend_videogames, lifetime_spend_groceries, and lifetime_spend_electronics show higher weighted contributions, the remaining features also provide relevant information. Importantly, no feature shows an extremely low or negligible contribution that would justify its removal based solely on PCA results.\n",
    "\n",
    "As a result, we conclude that all features contribute valuable information for characterizing customer profiles. Therefore, we will retain all variables for the clustering phase, ensuring that the full multidimensional structure of the data is preserved to capture potentially meaningful customer segments."
   ]
  },
  {
   "cell_type": "markdown",
   "id": "7389ef78",
   "metadata": {},
   "source": [
    "### 9. Data Exportation"
   ]
  },
  {
   "cell_type": "code",
   "execution_count": 235,
   "id": "035d8810",
   "metadata": {},
   "outputs": [
    {
     "name": "stdout",
     "output_type": "stream",
     "text": [
      "File exported successfully to ../data/raw/cleanerer_customer_info.csv\n"
     ]
    }
   ],
   "source": [
    "export_path = '../data/raw/cleanerer_customer_info.csv'\n",
    "customer_info.to_csv(export_path, index=True)\n",
    "\n",
    "print(f\"File exported successfully to {export_path}\")"
   ]
  },
  {
   "cell_type": "code",
   "execution_count": 236,
   "id": "0cdab093",
   "metadata": {},
   "outputs": [
    {
     "data": {
      "text/html": [
       "<div>\n",
       "<style scoped>\n",
       "    .dataframe tbody tr th:only-of-type {\n",
       "        vertical-align: middle;\n",
       "    }\n",
       "\n",
       "    .dataframe tbody tr th {\n",
       "        vertical-align: top;\n",
       "    }\n",
       "\n",
       "    .dataframe thead th {\n",
       "        text-align: right;\n",
       "    }\n",
       "</style>\n",
       "<table border=\"1\" class=\"dataframe\">\n",
       "  <thead>\n",
       "    <tr style=\"text-align: right;\">\n",
       "      <th></th>\n",
       "      <th>customer_gender</th>\n",
       "      <th>kids_home</th>\n",
       "      <th>teens_home</th>\n",
       "      <th>number_complaints</th>\n",
       "      <th>distinct_stores_visited</th>\n",
       "      <th>lifetime_spend_groceries</th>\n",
       "      <th>lifetime_spend_electronics</th>\n",
       "      <th>typical_hour</th>\n",
       "      <th>lifetime_spend_vegetables</th>\n",
       "      <th>lifetime_spend_nonalcohol_drinks</th>\n",
       "      <th>lifetime_spend_alcohol_drinks</th>\n",
       "      <th>lifetime_spend_meat</th>\n",
       "      <th>lifetime_spend_fish</th>\n",
       "      <th>lifetime_spend_hygiene</th>\n",
       "      <th>lifetime_spend_videogames</th>\n",
       "      <th>lifetime_spend_petfood</th>\n",
       "      <th>lifetime_total_distinct_products</th>\n",
       "      <th>percentage_of_products_bought_promotion</th>\n",
       "      <th>age</th>\n",
       "    </tr>\n",
       "    <tr>\n",
       "      <th>customer_id</th>\n",
       "      <th></th>\n",
       "      <th></th>\n",
       "      <th></th>\n",
       "      <th></th>\n",
       "      <th></th>\n",
       "      <th></th>\n",
       "      <th></th>\n",
       "      <th></th>\n",
       "      <th></th>\n",
       "      <th></th>\n",
       "      <th></th>\n",
       "      <th></th>\n",
       "      <th></th>\n",
       "      <th></th>\n",
       "      <th></th>\n",
       "      <th></th>\n",
       "      <th></th>\n",
       "      <th></th>\n",
       "      <th></th>\n",
       "    </tr>\n",
       "  </thead>\n",
       "  <tbody>\n",
       "    <tr>\n",
       "      <th>29930</th>\n",
       "      <td>-1.0</td>\n",
       "      <td>1.0</td>\n",
       "      <td>1.0</td>\n",
       "      <td>0.0</td>\n",
       "      <td>0.5</td>\n",
       "      <td>-0.603317</td>\n",
       "      <td>0.350843</td>\n",
       "      <td>0.000000</td>\n",
       "      <td>0.298334</td>\n",
       "      <td>0.717154</td>\n",
       "      <td>0.412322</td>\n",
       "      <td>0.716551</td>\n",
       "      <td>0.633511</td>\n",
       "      <td>-0.301504</td>\n",
       "      <td>0.254423</td>\n",
       "      <td>0.467872</td>\n",
       "      <td>0.867906</td>\n",
       "      <td>-0.203400</td>\n",
       "      <td>-0.032258</td>\n",
       "    </tr>\n",
       "    <tr>\n",
       "      <th>6813</th>\n",
       "      <td>0.0</td>\n",
       "      <td>-1.0</td>\n",
       "      <td>0.0</td>\n",
       "      <td>-1.0</td>\n",
       "      <td>0.5</td>\n",
       "      <td>-0.514208</td>\n",
       "      <td>-2.423571</td>\n",
       "      <td>0.142857</td>\n",
       "      <td>0.353913</td>\n",
       "      <td>-1.414715</td>\n",
       "      <td>-1.459316</td>\n",
       "      <td>-0.272893</td>\n",
       "      <td>-0.484239</td>\n",
       "      <td>-0.438051</td>\n",
       "      <td>-1.433625</td>\n",
       "      <td>-0.486431</td>\n",
       "      <td>-0.384736</td>\n",
       "      <td>2.460565</td>\n",
       "      <td>0.838710</td>\n",
       "    </tr>\n",
       "    <tr>\n",
       "      <th>39451</th>\n",
       "      <td>-1.0</td>\n",
       "      <td>1.0</td>\n",
       "      <td>2.0</td>\n",
       "      <td>-1.0</td>\n",
       "      <td>2.0</td>\n",
       "      <td>-0.014666</td>\n",
       "      <td>0.202372</td>\n",
       "      <td>0.142857</td>\n",
       "      <td>0.797254</td>\n",
       "      <td>0.734816</td>\n",
       "      <td>0.743888</td>\n",
       "      <td>0.473346</td>\n",
       "      <td>0.659735</td>\n",
       "      <td>0.343099</td>\n",
       "      <td>0.048656</td>\n",
       "      <td>-0.729704</td>\n",
       "      <td>0.723964</td>\n",
       "      <td>-0.345781</td>\n",
       "      <td>-0.612903</td>\n",
       "    </tr>\n",
       "    <tr>\n",
       "      <th>21557</th>\n",
       "      <td>0.0</td>\n",
       "      <td>-1.0</td>\n",
       "      <td>-1.0</td>\n",
       "      <td>0.0</td>\n",
       "      <td>-1.0</td>\n",
       "      <td>-0.141192</td>\n",
       "      <td>0.940175</td>\n",
       "      <td>0.142857</td>\n",
       "      <td>-1.762240</td>\n",
       "      <td>-0.495624</td>\n",
       "      <td>0.736917</td>\n",
       "      <td>0.031924</td>\n",
       "      <td>0.054099</td>\n",
       "      <td>-1.395136</td>\n",
       "      <td>0.751694</td>\n",
       "      <td>-0.220805</td>\n",
       "      <td>0.447107</td>\n",
       "      <td>0.048761</td>\n",
       "      <td>-0.193548</td>\n",
       "    </tr>\n",
       "    <tr>\n",
       "      <th>16415</th>\n",
       "      <td>0.0</td>\n",
       "      <td>0.0</td>\n",
       "      <td>0.0</td>\n",
       "      <td>0.0</td>\n",
       "      <td>1.0</td>\n",
       "      <td>0.959008</td>\n",
       "      <td>0.042696</td>\n",
       "      <td>0.142857</td>\n",
       "      <td>-0.361802</td>\n",
       "      <td>0.449038</td>\n",
       "      <td>-0.195879</td>\n",
       "      <td>0.090877</td>\n",
       "      <td>0.476525</td>\n",
       "      <td>0.461414</td>\n",
       "      <td>-1.038064</td>\n",
       "      <td>-1.158433</td>\n",
       "      <td>0.521750</td>\n",
       "      <td>0.192977</td>\n",
       "      <td>0.129032</td>\n",
       "    </tr>\n",
       "  </tbody>\n",
       "</table>\n",
       "</div>"
      ],
      "text/plain": [
       "             customer_gender  kids_home  teens_home  number_complaints  distinct_stores_visited  lifetime_spend_groceries  lifetime_spend_electronics  typical_hour  lifetime_spend_vegetables  lifetime_spend_nonalcohol_drinks  lifetime_spend_alcohol_drinks  lifetime_spend_meat  lifetime_spend_fish  lifetime_spend_hygiene  lifetime_spend_videogames  lifetime_spend_petfood  lifetime_total_distinct_products  percentage_of_products_bought_promotion       age\n",
       "customer_id                                                                                                                                                                                                                                                                                                                                                                                                                                                              \n",
       "29930                   -1.0        1.0         1.0                0.0                      0.5                 -0.603317                    0.350843      0.000000                   0.298334                          0.717154                       0.412322             0.716551             0.633511               -0.301504                   0.254423                0.467872                          0.867906                                -0.203400 -0.032258\n",
       "6813                     0.0       -1.0         0.0               -1.0                      0.5                 -0.514208                   -2.423571      0.142857                   0.353913                         -1.414715                      -1.459316            -0.272893            -0.484239               -0.438051                  -1.433625               -0.486431                         -0.384736                                 2.460565  0.838710\n",
       "39451                   -1.0        1.0         2.0               -1.0                      2.0                 -0.014666                    0.202372      0.142857                   0.797254                          0.734816                       0.743888             0.473346             0.659735                0.343099                   0.048656               -0.729704                          0.723964                                -0.345781 -0.612903\n",
       "21557                    0.0       -1.0        -1.0                0.0                     -1.0                 -0.141192                    0.940175      0.142857                  -1.762240                         -0.495624                       0.736917             0.031924             0.054099               -1.395136                   0.751694               -0.220805                          0.447107                                 0.048761 -0.193548\n",
       "16415                    0.0        0.0         0.0                0.0                      1.0                  0.959008                    0.042696      0.142857                  -0.361802                          0.449038                      -0.195879             0.090877             0.476525                0.461414                  -1.038064               -1.158433                          0.521750                                 0.192977  0.129032"
      ]
     },
     "execution_count": 236,
     "metadata": {},
     "output_type": "execute_result"
    }
   ],
   "source": [
    "customer_info.head()"
   ]
  }
 ],
 "metadata": {
  "kernelspec": {
   "display_name": "base",
   "language": "python",
   "name": "python3"
  },
  "language_info": {
   "codemirror_mode": {
    "name": "ipython",
    "version": 3
   },
   "file_extension": ".py",
   "mimetype": "text/x-python",
   "name": "python",
   "nbconvert_exporter": "python",
   "pygments_lexer": "ipython3",
   "version": "3.11.4"
  }
 },
 "nbformat": 4,
 "nbformat_minor": 5
}
